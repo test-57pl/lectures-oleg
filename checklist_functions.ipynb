{
 "cells": [
  {
   "cell_type": "markdown",
   "metadata": {},
   "source": [
    "## Это небольшая шпаргалка по функциям и аннотациям типов"
   ]
  },
  {
   "cell_type": "markdown",
   "metadata": {},
   "source": [
    "**Как выглядит инициализация функции?**\n",
    "\n",
    "`def название_функции (переменная: ее_тип, еще_переменная: ее тип, ...) -> тип_данных_возвращаемых_функцией:`"
   ]
  },
  {
   "cell_type": "markdown",
   "metadata": {},
   "source": [
    "**Как можно обращаться к функции?**\n",
    "\n",
    "Например, у нас есть такая функция:"
   ]
  },
  {
   "cell_type": "code",
   "execution_count": 6,
   "metadata": {},
   "outputs": [],
   "source": [
    "def get_sum_of_two_numbers(first_number: int, second_number: int) -> int:\n",
    "    print(first_number + second_number)\n",
    "    return first_number + second_number"
   ]
  },
  {
   "cell_type": "markdown",
   "metadata": {},
   "source": [
    "\\- Мы можем обратиться к ней так (функция просто выведет в консоль сумму чисел)\n",
    "\n",
    "`get_sum_of_two_numbers(10, 50)`"
   ]
  },
  {
   "cell_type": "markdown",
   "metadata": {},
   "source": [
    "\\- Или мы можем записать результат работы функции в переменную (функция выведет сумму чисел в консоль и запишет значение в переменную `sum_numbers`)\n",
    "\n",
    "`sum_numbers = get_sum_of_two_numbers(10, 50)`"
   ]
  },
  {
   "cell_type": "markdown",
   "metadata": {},
   "source": [
    "**Еще один пример:**\\\n",
    "Мы хотим найти сумму квадратов двух чисел, и у нас есть две функции: одна возводит число в квадрат, другая складывает два числа. Тогда вот решение нашей задачи:"
   ]
  },
  {
   "cell_type": "code",
   "execution_count": 3,
   "metadata": {},
   "outputs": [],
   "source": [
    "def number_square(number: int) -> int:\n",
    "    return number ** 2\n",
    "\n",
    "def sum_squares(first_number: int, second_number: int) -> int:\n",
    "    return number_square(first_number) + number_square(second_number)"
   ]
  },
  {
   "cell_type": "markdown",
   "metadata": {},
   "source": [
    "А вот пример задачи на **рекурсию** - нахождение n-нного члена последовательности Фибоначчи."
   ]
  },
  {
   "cell_type": "code",
   "execution_count": 5,
   "metadata": {},
   "outputs": [],
   "source": [
    "def fib(n: int) -> int:\n",
    "    return n if n < 2 else fib(n - 1) + fib(n - 2)"
   ]
  },
  {
   "cell_type": "markdown",
   "metadata": {},
   "source": [
    "### Теперь про аннотации типов"
   ]
  },
  {
   "cell_type": "markdown",
   "metadata": {},
   "source": [
    "Мы условно можем поделить типы переменных на 2 группы:\n",
    "\n",
    "1. `str`, `int`, `float`, `bool`, `None`\n",
    "\n",
    "2. Всякие массивы, словари и тп. То есть такие объекты, внутри которых лежат другие объекты (у которых тоже есть свои типы!)"
   ]
  },
  {
   "cell_type": "markdown",
   "metadata": {},
   "source": [
    "Что делаем при аннотации параметров функции?\n",
    "\n",
    "- Если нужный нам тип относится к первой группе, то ничего не делаем, просто пишем нужный тип\n",
    "\n",
    "- А если ко второй, то мы используем библиотеку *typing*. Из нее нам нужно импортировать нужные типы, например:\n",
    "\n",
    "    `from typing import List, Set, Any`\n",
    "\n",
    "    C названиями тут все вполне логично, просто они пишутся с большой буквы.\n",
    "\n",
    "    *пысы: с Python 3.10 можно делать не только так, и мы в какой-то момент начнём, но в Classroom-е Python 3.8, поэтому пока только так :(*"
   ]
  },
  {
   "cell_type": "markdown",
   "metadata": {},
   "source": [
    "Если наш тип относится ко второй группе, нам обязательно нужно указывать тип объектов, которые хранятся внутри нашего списка/словаря/кортежа. \n",
    "\n",
    "Например, если мы передаем как аргумент функции переменную `a` - список из строк, мы запишем это так:  `a: List[str]`.\n",
    " \n",
    "То есть мы сначала пишем тип самой переменной, а затем в квадратных скобках тип объектов, которые лежат внутри нашего кортежа/списка/..."
   ]
  },
  {
   "cell_type": "markdown",
   "metadata": {},
   "source": [
    "Вот еще пример посложнее (для осознания того, что внутри массива может быть еще один массив/словарь/множество)\n",
    "\n",
    "Например, у нас есть массив, внутри которого сначала int, а потом список из строк: `List[int, List[str]]`"
   ]
  },
  {
   "cell_type": "markdown",
   "metadata": {},
   "source": [
    "**Когда приходится использовать `Any`? (заметьте, что именно приходится, потому что без необходимости его использовать не надо)**\n",
    "\n",
    "Без `Any` не обойтись, когда мы совсем ничего не знаем про переменную. Например, от пользователя может прилететь какой угодно тип данных. Еще `Any` нужен, когда у нас есть массив, который может быть любой степени вложенности."
   ]
  },
  {
   "cell_type": "markdown",
   "metadata": {},
   "source": [
    "**Антипаттерн (=плохой тон)**: возвращать из функции аргументы разных типов (например, int или float, int или строку, int или ничего не возвращать – это не то же самое, что int или None)\n",
    "\n",
    "В случаях, когда у функции есть какое-то крайнее поведение, обычно либо возвращается None (например, найти максимум в массиве – массив может быть пустым), либо кидается ошибка (в будильник подано неправильное время) – зависит от контекста"
   ]
  },
  {
   "cell_type": "markdown",
   "metadata": {},
   "source": [
    "**Нужна еще информация?**\n",
    "\n",
    "Рекомендую почитать [документацию библиотеки typing для Python 3.10](https://docs.python.org/3/library/typing.html) и [ее же для Python 3.8](https://docs.python.org/3.8/library/typing.html)\n",
    "\n",
    "Ну и, конечно же, если есть вопросы, вы всегда можете писать [мне](https://t.me/oil_go)"
   ]
  }
 ],
 "metadata": {
  "kernelspec": {
   "display_name": "Python 3.10.2 64-bit",
   "language": "python",
   "name": "python3"
  },
  "language_info": {
   "codemirror_mode": {
    "name": "ipython",
    "version": 3
   },
   "file_extension": ".py",
   "mimetype": "text/x-python",
   "name": "python",
   "nbconvert_exporter": "python",
   "pygments_lexer": "ipython3",
   "version": "3.10.2"
  },
  "orig_nbformat": 4,
  "vscode": {
   "interpreter": {
    "hash": "26de051ba29f2982a8de78e945f0abaf191376122a1563185a90213a26c5da77"
   }
  }
 },
 "nbformat": 4,
 "nbformat_minor": 2
}
