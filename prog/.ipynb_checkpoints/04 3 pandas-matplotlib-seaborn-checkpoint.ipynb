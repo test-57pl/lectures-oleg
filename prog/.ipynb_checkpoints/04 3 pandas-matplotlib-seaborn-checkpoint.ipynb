{
 "cells": [
  {
   "cell_type": "markdown",
   "id": "ce8f052b-b317-4057-8d9f-b4c0193cfe2d",
   "metadata": {
    "tags": []
   },
   "source": [
    "# Введение в Pandas\n",
    "\n",
    "Документация: https://pandas.pydata.org/pandas-docs/stable/reference/io.html"
   ]
  },
  {
   "cell_type": "code",
   "execution_count": 3,
   "id": "a4c0a2b9-7861-404f-afdd-11f03a6cd09d",
   "metadata": {},
   "outputs": [],
   "source": [
    "import pandas as pd"
   ]
  },
  {
   "cell_type": "markdown",
   "id": "4de27ea9-7822-409f-a38c-3af7bc523d73",
   "metadata": {},
   "source": [
    "**Создаём датафрейм (таблицу)**"
   ]
  },
  {
   "cell_type": "code",
   "execution_count": 29,
   "id": "db9284f2-9ab9-4d88-81f0-6c4d14e920ea",
   "metadata": {},
   "outputs": [],
   "source": [
    "df = pd.DataFrame()"
   ]
  },
  {
   "cell_type": "code",
   "execution_count": 30,
   "id": "d9bf22da-be49-4d1c-978c-0990b5e1cbdc",
   "metadata": {},
   "outputs": [
    {
     "data": {
      "text/html": [
       "<div>\n",
       "<style scoped>\n",
       "    .dataframe tbody tr th:only-of-type {\n",
       "        vertical-align: middle;\n",
       "    }\n",
       "\n",
       "    .dataframe tbody tr th {\n",
       "        vertical-align: top;\n",
       "    }\n",
       "\n",
       "    .dataframe thead th {\n",
       "        text-align: right;\n",
       "    }\n",
       "</style>\n",
       "<table border=\"1\" class=\"dataframe\">\n",
       "  <thead>\n",
       "    <tr style=\"text-align: right;\">\n",
       "      <th></th>\n",
       "    </tr>\n",
       "  </thead>\n",
       "  <tbody>\n",
       "  </tbody>\n",
       "</table>\n",
       "</div>"
      ],
      "text/plain": [
       "Empty DataFrame\n",
       "Columns: []\n",
       "Index: []"
      ]
     },
     "execution_count": 30,
     "metadata": {},
     "output_type": "execute_result"
    }
   ],
   "source": [
    "df"
   ]
  },
  {
   "cell_type": "markdown",
   "id": "ed576b15-e8e9-4718-9502-0949d93c43df",
   "metadata": {},
   "source": [
    "Добавим колонок. Похоже на синтаксис словарей."
   ]
  },
  {
   "cell_type": "code",
   "execution_count": 31,
   "id": "79ad8ceb-a7da-48a6-a623-e4a1ecc1d4a3",
   "metadata": {},
   "outputs": [
    {
     "data": {
      "text/html": [
       "<div>\n",
       "<style scoped>\n",
       "    .dataframe tbody tr th:only-of-type {\n",
       "        vertical-align: middle;\n",
       "    }\n",
       "\n",
       "    .dataframe tbody tr th {\n",
       "        vertical-align: top;\n",
       "    }\n",
       "\n",
       "    .dataframe thead th {\n",
       "        text-align: right;\n",
       "    }\n",
       "</style>\n",
       "<table border=\"1\" class=\"dataframe\">\n",
       "  <thead>\n",
       "    <tr style=\"text-align: right;\">\n",
       "      <th></th>\n",
       "      <th>PROG</th>\n",
       "    </tr>\n",
       "  </thead>\n",
       "  <tbody>\n",
       "    <tr>\n",
       "      <th>0</th>\n",
       "      <td>10</td>\n",
       "    </tr>\n",
       "    <tr>\n",
       "      <th>1</th>\n",
       "      <td>7</td>\n",
       "    </tr>\n",
       "    <tr>\n",
       "      <th>2</th>\n",
       "      <td>9</td>\n",
       "    </tr>\n",
       "    <tr>\n",
       "      <th>3</th>\n",
       "      <td>6</td>\n",
       "    </tr>\n",
       "  </tbody>\n",
       "</table>\n",
       "</div>"
      ],
      "text/plain": [
       "   PROG\n",
       "0    10\n",
       "1     7\n",
       "2     9\n",
       "3     6"
      ]
     },
     "execution_count": 31,
     "metadata": {},
     "output_type": "execute_result"
    }
   ],
   "source": [
    "df['PROG'] = [10, 7, 9, 6]\n",
    "df"
   ]
  },
  {
   "cell_type": "code",
   "execution_count": 32,
   "id": "0ee36f85-2667-4fbc-8e23-1df8a5259625",
   "metadata": {},
   "outputs": [
    {
     "data": {
      "text/html": [
       "<div>\n",
       "<style scoped>\n",
       "    .dataframe tbody tr th:only-of-type {\n",
       "        vertical-align: middle;\n",
       "    }\n",
       "\n",
       "    .dataframe tbody tr th {\n",
       "        vertical-align: top;\n",
       "    }\n",
       "\n",
       "    .dataframe thead th {\n",
       "        text-align: right;\n",
       "    }\n",
       "</style>\n",
       "<table border=\"1\" class=\"dataframe\">\n",
       "  <thead>\n",
       "    <tr style=\"text-align: right;\">\n",
       "      <th></th>\n",
       "      <th>PROG</th>\n",
       "      <th>ANDAN</th>\n",
       "    </tr>\n",
       "  </thead>\n",
       "  <tbody>\n",
       "    <tr>\n",
       "      <th>0</th>\n",
       "      <td>10</td>\n",
       "      <td>9</td>\n",
       "    </tr>\n",
       "    <tr>\n",
       "      <th>1</th>\n",
       "      <td>7</td>\n",
       "      <td>8</td>\n",
       "    </tr>\n",
       "    <tr>\n",
       "      <th>2</th>\n",
       "      <td>9</td>\n",
       "      <td>10</td>\n",
       "    </tr>\n",
       "    <tr>\n",
       "      <th>3</th>\n",
       "      <td>6</td>\n",
       "      <td>7</td>\n",
       "    </tr>\n",
       "  </tbody>\n",
       "</table>\n",
       "</div>"
      ],
      "text/plain": [
       "   PROG  ANDAN\n",
       "0    10      9\n",
       "1     7      8\n",
       "2     9     10\n",
       "3     6      7"
      ]
     },
     "execution_count": 32,
     "metadata": {},
     "output_type": "execute_result"
    }
   ],
   "source": [
    "df['ANDAN'] = [9, 8, 10, 7]\n",
    "df"
   ]
  },
  {
   "cell_type": "code",
   "execution_count": 33,
   "id": "75c9dd4e-8d39-4b0d-a2d8-ab03dfd8fb34",
   "metadata": {},
   "outputs": [
    {
     "name": "stdout",
     "output_type": "stream",
     "text": [
      "   PROG  ANDAN\n",
      "0    10      9\n",
      "1     7      8\n",
      "2     9     10\n",
      "3     6      7\n"
     ]
    }
   ],
   "source": [
    "print(df)"
   ]
  },
  {
   "cell_type": "code",
   "execution_count": 9,
   "id": "d6f9635e-196d-4ecc-b630-8980cf49a818",
   "metadata": {},
   "outputs": [
    {
     "data": {
      "text/html": [
       "<div>\n",
       "<style scoped>\n",
       "    .dataframe tbody tr th:only-of-type {\n",
       "        vertical-align: middle;\n",
       "    }\n",
       "\n",
       "    .dataframe tbody tr th {\n",
       "        vertical-align: top;\n",
       "    }\n",
       "\n",
       "    .dataframe thead th {\n",
       "        text-align: right;\n",
       "    }\n",
       "</style>\n",
       "<table border=\"1\" class=\"dataframe\">\n",
       "  <thead>\n",
       "    <tr style=\"text-align: right;\">\n",
       "      <th></th>\n",
       "      <th>PROG</th>\n",
       "      <th>ANDAN</th>\n",
       "    </tr>\n",
       "  </thead>\n",
       "  <tbody>\n",
       "    <tr>\n",
       "      <th>0</th>\n",
       "      <td>10</td>\n",
       "      <td>9</td>\n",
       "    </tr>\n",
       "    <tr>\n",
       "      <th>1</th>\n",
       "      <td>7</td>\n",
       "      <td>8</td>\n",
       "    </tr>\n",
       "    <tr>\n",
       "      <th>2</th>\n",
       "      <td>9</td>\n",
       "      <td>10</td>\n",
       "    </tr>\n",
       "    <tr>\n",
       "      <th>3</th>\n",
       "      <td>6</td>\n",
       "      <td>7</td>\n",
       "    </tr>\n",
       "  </tbody>\n",
       "</table>\n",
       "</div>"
      ],
      "text/plain": [
       "   PROG  ANDAN\n",
       "0    10      9\n",
       "1     7      8\n",
       "2     9     10\n",
       "3     6      7"
      ]
     },
     "execution_count": 9,
     "metadata": {},
     "output_type": "execute_result"
    }
   ],
   "source": [
    "df"
   ]
  },
  {
   "cell_type": "code",
   "execution_count": 142,
   "id": "f8e44e63-0b4c-4efa-b793-fe419d5e0a03",
   "metadata": {},
   "outputs": [
    {
     "name": "stdout",
     "output_type": "stream",
     "text": [
      "<class 'pandas.core.frame.DataFrame'>\n",
      "RangeIndex: 4 entries, 0 to 3\n",
      "Data columns (total 2 columns):\n",
      " #   Column  Non-Null Count  Dtype\n",
      "---  ------  --------------  -----\n",
      " 0   PROG    4 non-null      int64\n",
      " 1   ANDAN   4 non-null      int64\n",
      "dtypes: int64(2)\n",
      "memory usage: 192.0 bytes\n"
     ]
    }
   ],
   "source": [
    "df.info()"
   ]
  },
  {
   "cell_type": "markdown",
   "id": "ddd2a392-9af4-4328-861b-e02311cb305e",
   "metadata": {},
   "source": [
    "Ниже метод `.describe()`, он даёт общее представление о числовых колонках"
   ]
  },
  {
   "cell_type": "markdown",
   "id": "7c462abd-bf6a-4edc-8f29-e96785f60510",
   "metadata": {},
   "source": [
    "Немного про медиану (середину в упорядоченных данных):\n",
    "\n",
    "prog:\n",
    "\n",
    "     6 7 9 10  \n",
    "        8\n",
    "    \n",
    "andan:\n",
    "\n",
    "     7 8   9 10  \n",
    "        8,5\n",
    " \n",
    " \n",
    "И квантили (например, первый это медиана первой половины данных):  \n",
    " \n",
    "prog 25%:\n",
    "\n",
    "    6        7 9 10  \n",
    "         6,75\n",
    "     \n",
    "andan 25%:\n",
    "\n",
    "    7        8 9 10  \n",
    "      7, 75"
   ]
  },
  {
   "cell_type": "code",
   "execution_count": 10,
   "id": "8c55278d-0676-4296-81df-c267400d76d5",
   "metadata": {},
   "outputs": [
    {
     "data": {
      "text/html": [
       "<div>\n",
       "<style scoped>\n",
       "    .dataframe tbody tr th:only-of-type {\n",
       "        vertical-align: middle;\n",
       "    }\n",
       "\n",
       "    .dataframe tbody tr th {\n",
       "        vertical-align: top;\n",
       "    }\n",
       "\n",
       "    .dataframe thead th {\n",
       "        text-align: right;\n",
       "    }\n",
       "</style>\n",
       "<table border=\"1\" class=\"dataframe\">\n",
       "  <thead>\n",
       "    <tr style=\"text-align: right;\">\n",
       "      <th></th>\n",
       "      <th>PROG</th>\n",
       "      <th>ANDAN</th>\n",
       "    </tr>\n",
       "  </thead>\n",
       "  <tbody>\n",
       "    <tr>\n",
       "      <th>count</th>\n",
       "      <td>4.000000</td>\n",
       "      <td>4.000000</td>\n",
       "    </tr>\n",
       "    <tr>\n",
       "      <th>mean</th>\n",
       "      <td>8.000000</td>\n",
       "      <td>8.500000</td>\n",
       "    </tr>\n",
       "    <tr>\n",
       "      <th>std</th>\n",
       "      <td>1.825742</td>\n",
       "      <td>1.290994</td>\n",
       "    </tr>\n",
       "    <tr>\n",
       "      <th>min</th>\n",
       "      <td>6.000000</td>\n",
       "      <td>7.000000</td>\n",
       "    </tr>\n",
       "    <tr>\n",
       "      <th>25%</th>\n",
       "      <td>6.750000</td>\n",
       "      <td>7.750000</td>\n",
       "    </tr>\n",
       "    <tr>\n",
       "      <th>50%</th>\n",
       "      <td>8.000000</td>\n",
       "      <td>8.500000</td>\n",
       "    </tr>\n",
       "    <tr>\n",
       "      <th>75%</th>\n",
       "      <td>9.250000</td>\n",
       "      <td>9.250000</td>\n",
       "    </tr>\n",
       "    <tr>\n",
       "      <th>max</th>\n",
       "      <td>10.000000</td>\n",
       "      <td>10.000000</td>\n",
       "    </tr>\n",
       "  </tbody>\n",
       "</table>\n",
       "</div>"
      ],
      "text/plain": [
       "            PROG      ANDAN\n",
       "count   4.000000   4.000000\n",
       "mean    8.000000   8.500000\n",
       "std     1.825742   1.290994\n",
       "min     6.000000   7.000000\n",
       "25%     6.750000   7.750000\n",
       "50%     8.000000   8.500000\n",
       "75%     9.250000   9.250000\n",
       "max    10.000000  10.000000"
      ]
     },
     "execution_count": 10,
     "metadata": {},
     "output_type": "execute_result"
    }
   ],
   "source": [
    "df.describe()"
   ]
  },
  {
   "cell_type": "code",
   "execution_count": 12,
   "id": "e94e7e3b-abe4-4e84-8979-21f42adb4a41",
   "metadata": {},
   "outputs": [
    {
     "data": {
      "text/plain": [
       "6.75"
      ]
     },
     "execution_count": 12,
     "metadata": {},
     "output_type": "execute_result"
    }
   ],
   "source": [
    "df[\"PROG\"].quantile(q=0.25)"
   ]
  },
  {
   "cell_type": "markdown",
   "id": "9cc3bd62-5c4a-4a05-b1cc-6c35ae5b830e",
   "metadata": {},
   "source": [
    "Почему медиана и квантили а не среднее?\n",
    "\n",
    "Они могут более удачно описывать, как распределены данные, чем среднее!"
   ]
  },
  {
   "cell_type": "code",
   "execution_count": 35,
   "id": "1a9fb3e6-b29c-4a85-9bcc-66ebddfe8e83",
   "metadata": {},
   "outputs": [],
   "source": [
    "import numpy as np"
   ]
  },
  {
   "cell_type": "code",
   "execution_count": 36,
   "id": "83a07bd7-0cc5-4154-a5b3-1e560c1a3238",
   "metadata": {},
   "outputs": [],
   "source": [
    "data = [10_000] * 10 + [10_000_000]"
   ]
  },
  {
   "cell_type": "code",
   "execution_count": 37,
   "id": "7df7a9ce-b236-434b-bdfd-dd2c71bbf1ae",
   "metadata": {},
   "outputs": [],
   "source": [
    "d = np.array(data)"
   ]
  },
  {
   "cell_type": "code",
   "execution_count": 38,
   "id": "965873e1-9a35-4824-90f0-89a9be758db9",
   "metadata": {},
   "outputs": [
    {
     "data": {
      "text/plain": [
       "918181.8181818182"
      ]
     },
     "execution_count": 38,
     "metadata": {},
     "output_type": "execute_result"
    }
   ],
   "source": [
    "d.mean()"
   ]
  },
  {
   "cell_type": "code",
   "execution_count": 40,
   "id": "58565365-23ed-42a8-aac2-ff07dd557cb8",
   "metadata": {},
   "outputs": [],
   "source": [
    "df1 = pd.DataFrame()\n",
    "df1[\"data\"] = d"
   ]
  },
  {
   "cell_type": "code",
   "execution_count": 43,
   "id": "70109b7e-b1c1-4e33-915e-a8df832620cb",
   "metadata": {},
   "outputs": [
    {
     "name": "stdout",
     "output_type": "stream",
     "text": [
      "10000 10000 10000 10000 10000 10000 10000 10000 10000 10000 10000000\n"
     ]
    }
   ],
   "source": [
    "print(*d)"
   ]
  },
  {
   "cell_type": "code",
   "execution_count": 44,
   "id": "1e99dcc4-53ab-43ca-988e-fff4cefadab0",
   "metadata": {},
   "outputs": [
    {
     "data": {
      "text/html": [
       "<div>\n",
       "<style scoped>\n",
       "    .dataframe tbody tr th:only-of-type {\n",
       "        vertical-align: middle;\n",
       "    }\n",
       "\n",
       "    .dataframe tbody tr th {\n",
       "        vertical-align: top;\n",
       "    }\n",
       "\n",
       "    .dataframe thead th {\n",
       "        text-align: right;\n",
       "    }\n",
       "</style>\n",
       "<table border=\"1\" class=\"dataframe\">\n",
       "  <thead>\n",
       "    <tr style=\"text-align: right;\">\n",
       "      <th></th>\n",
       "      <th>data</th>\n",
       "    </tr>\n",
       "  </thead>\n",
       "  <tbody>\n",
       "    <tr>\n",
       "      <th>count</th>\n",
       "      <td>1.100000e+01</td>\n",
       "    </tr>\n",
       "    <tr>\n",
       "      <th>mean</th>\n",
       "      <td>9.181818e+05</td>\n",
       "    </tr>\n",
       "    <tr>\n",
       "      <th>std</th>\n",
       "      <td>3.012098e+06</td>\n",
       "    </tr>\n",
       "    <tr>\n",
       "      <th>min</th>\n",
       "      <td>1.000000e+04</td>\n",
       "    </tr>\n",
       "    <tr>\n",
       "      <th>25%</th>\n",
       "      <td>1.000000e+04</td>\n",
       "    </tr>\n",
       "    <tr>\n",
       "      <th>50%</th>\n",
       "      <td>1.000000e+04</td>\n",
       "    </tr>\n",
       "    <tr>\n",
       "      <th>75%</th>\n",
       "      <td>1.000000e+04</td>\n",
       "    </tr>\n",
       "    <tr>\n",
       "      <th>max</th>\n",
       "      <td>1.000000e+07</td>\n",
       "    </tr>\n",
       "  </tbody>\n",
       "</table>\n",
       "</div>"
      ],
      "text/plain": [
       "               data\n",
       "count  1.100000e+01\n",
       "mean   9.181818e+05\n",
       "std    3.012098e+06\n",
       "min    1.000000e+04\n",
       "25%    1.000000e+04\n",
       "50%    1.000000e+04\n",
       "75%    1.000000e+04\n",
       "max    1.000000e+07"
      ]
     },
     "execution_count": 44,
     "metadata": {},
     "output_type": "execute_result"
    }
   ],
   "source": [
    "df1.describe()"
   ]
  },
  {
   "cell_type": "markdown",
   "id": "9096fecb-478a-4a36-b5ec-83c5445c9fc3",
   "metadata": {},
   "source": [
    "Для красивого интерактивного вывода воспользуйтесь функцией `display()` Юпитера."
   ]
  },
  {
   "cell_type": "code",
   "execution_count": 150,
   "id": "2aad9e87-e154-421a-9e22-356276d56255",
   "metadata": {},
   "outputs": [
    {
     "data": {
      "text/html": [
       "<div>\n",
       "<style scoped>\n",
       "    .dataframe tbody tr th:only-of-type {\n",
       "        vertical-align: middle;\n",
       "    }\n",
       "\n",
       "    .dataframe tbody tr th {\n",
       "        vertical-align: top;\n",
       "    }\n",
       "\n",
       "    .dataframe thead th {\n",
       "        text-align: right;\n",
       "    }\n",
       "</style>\n",
       "<table border=\"1\" class=\"dataframe\">\n",
       "  <thead>\n",
       "    <tr style=\"text-align: right;\">\n",
       "      <th></th>\n",
       "      <th>PROG</th>\n",
       "      <th>ANDAN</th>\n",
       "    </tr>\n",
       "  </thead>\n",
       "  <tbody>\n",
       "    <tr>\n",
       "      <th>0</th>\n",
       "      <td>10</td>\n",
       "      <td>9</td>\n",
       "    </tr>\n",
       "    <tr>\n",
       "      <th>1</th>\n",
       "      <td>7</td>\n",
       "      <td>8</td>\n",
       "    </tr>\n",
       "    <tr>\n",
       "      <th>2</th>\n",
       "      <td>9</td>\n",
       "      <td>10</td>\n",
       "    </tr>\n",
       "    <tr>\n",
       "      <th>3</th>\n",
       "      <td>6</td>\n",
       "      <td>7</td>\n",
       "    </tr>\n",
       "  </tbody>\n",
       "</table>\n",
       "</div>"
      ],
      "text/plain": [
       "   PROG  ANDAN\n",
       "0    10      9\n",
       "1     7      8\n",
       "2     9     10\n",
       "3     6      7"
      ]
     },
     "metadata": {},
     "output_type": "display_data"
    }
   ],
   "source": [
    "display(df)"
   ]
  },
  {
   "cell_type": "markdown",
   "id": "a6257e89-8fad-4c30-b299-4d14baaceef2",
   "metadata": {},
   "source": [
    "(а можно просто написать название таблички, когда мы в тетрадке)"
   ]
  },
  {
   "cell_type": "code",
   "execution_count": 151,
   "id": "450368b3-1f6d-4fa5-a550-f2ccc9079c78",
   "metadata": {},
   "outputs": [
    {
     "data": {
      "text/html": [
       "<div>\n",
       "<style scoped>\n",
       "    .dataframe tbody tr th:only-of-type {\n",
       "        vertical-align: middle;\n",
       "    }\n",
       "\n",
       "    .dataframe tbody tr th {\n",
       "        vertical-align: top;\n",
       "    }\n",
       "\n",
       "    .dataframe thead th {\n",
       "        text-align: right;\n",
       "    }\n",
       "</style>\n",
       "<table border=\"1\" class=\"dataframe\">\n",
       "  <thead>\n",
       "    <tr style=\"text-align: right;\">\n",
       "      <th></th>\n",
       "      <th>PROG</th>\n",
       "      <th>ANDAN</th>\n",
       "    </tr>\n",
       "  </thead>\n",
       "  <tbody>\n",
       "    <tr>\n",
       "      <th>0</th>\n",
       "      <td>10</td>\n",
       "      <td>9</td>\n",
       "    </tr>\n",
       "    <tr>\n",
       "      <th>1</th>\n",
       "      <td>7</td>\n",
       "      <td>8</td>\n",
       "    </tr>\n",
       "    <tr>\n",
       "      <th>2</th>\n",
       "      <td>9</td>\n",
       "      <td>10</td>\n",
       "    </tr>\n",
       "    <tr>\n",
       "      <th>3</th>\n",
       "      <td>6</td>\n",
       "      <td>7</td>\n",
       "    </tr>\n",
       "  </tbody>\n",
       "</table>\n",
       "</div>"
      ],
      "text/plain": [
       "   PROG  ANDAN\n",
       "0    10      9\n",
       "1     7      8\n",
       "2     9     10\n",
       "3     6      7"
      ]
     },
     "execution_count": 151,
     "metadata": {},
     "output_type": "execute_result"
    }
   ],
   "source": [
    "df"
   ]
  },
  {
   "cell_type": "markdown",
   "id": "ff8680f7-531b-4dca-b8e8-1097e57d7605",
   "metadata": {},
   "source": [
    "Добавьте оценки ещё по одному предмету"
   ]
  },
  {
   "cell_type": "code",
   "execution_count": 45,
   "id": "799747cf-b5c1-4e31-986f-c85caaa4e802",
   "metadata": {},
   "outputs": [],
   "source": [
    "df[\"PhilIntro\"] = [6, 9, 5, 10]"
   ]
  },
  {
   "cell_type": "code",
   "execution_count": 46,
   "id": "b8da4bf2-b2f6-48bc-978a-fabd733de910",
   "metadata": {},
   "outputs": [
    {
     "data": {
      "text/html": [
       "<div>\n",
       "<style scoped>\n",
       "    .dataframe tbody tr th:only-of-type {\n",
       "        vertical-align: middle;\n",
       "    }\n",
       "\n",
       "    .dataframe tbody tr th {\n",
       "        vertical-align: top;\n",
       "    }\n",
       "\n",
       "    .dataframe thead th {\n",
       "        text-align: right;\n",
       "    }\n",
       "</style>\n",
       "<table border=\"1\" class=\"dataframe\">\n",
       "  <thead>\n",
       "    <tr style=\"text-align: right;\">\n",
       "      <th></th>\n",
       "      <th>PROG</th>\n",
       "      <th>ANDAN</th>\n",
       "      <th>PhilIntro</th>\n",
       "    </tr>\n",
       "  </thead>\n",
       "  <tbody>\n",
       "    <tr>\n",
       "      <th>0</th>\n",
       "      <td>10</td>\n",
       "      <td>9</td>\n",
       "      <td>6</td>\n",
       "    </tr>\n",
       "    <tr>\n",
       "      <th>1</th>\n",
       "      <td>7</td>\n",
       "      <td>8</td>\n",
       "      <td>9</td>\n",
       "    </tr>\n",
       "    <tr>\n",
       "      <th>2</th>\n",
       "      <td>9</td>\n",
       "      <td>10</td>\n",
       "      <td>5</td>\n",
       "    </tr>\n",
       "    <tr>\n",
       "      <th>3</th>\n",
       "      <td>6</td>\n",
       "      <td>7</td>\n",
       "      <td>10</td>\n",
       "    </tr>\n",
       "  </tbody>\n",
       "</table>\n",
       "</div>"
      ],
      "text/plain": [
       "   PROG  ANDAN  PhilIntro\n",
       "0    10      9          6\n",
       "1     7      8          9\n",
       "2     9     10          5\n",
       "3     6      7         10"
      ]
     },
     "execution_count": 46,
     "metadata": {},
     "output_type": "execute_result"
    }
   ],
   "source": [
    "df"
   ]
  },
  {
   "cell_type": "code",
   "execution_count": 104,
   "id": "6f63a75d-3da2-4e00-859a-2a6e1d30338e",
   "metadata": {},
   "outputs": [],
   "source": [
    "# ваш код"
   ]
  },
  {
   "cell_type": "markdown",
   "id": "290e9390-1e52-4cb8-a070-cb75bcdb3e7c",
   "metadata": {},
   "source": [
    "Как добавить строку в df? Пройдём позже."
   ]
  },
  {
   "cell_type": "markdown",
   "id": "ab339f22-c9c5-4338-8183-f563018c0baf",
   "metadata": {},
   "source": [
    "**Действия с df**\n",
    "\n",
    "(потом ещё пройдём)"
   ]
  },
  {
   "cell_type": "code",
   "execution_count": 47,
   "id": "cf72fed6-d4e7-4e3e-bde0-61d5aaef1d40",
   "metadata": {},
   "outputs": [
    {
     "data": {
      "text/html": [
       "<div>\n",
       "<style scoped>\n",
       "    .dataframe tbody tr th:only-of-type {\n",
       "        vertical-align: middle;\n",
       "    }\n",
       "\n",
       "    .dataframe tbody tr th {\n",
       "        vertical-align: top;\n",
       "    }\n",
       "\n",
       "    .dataframe thead th {\n",
       "        text-align: right;\n",
       "    }\n",
       "</style>\n",
       "<table border=\"1\" class=\"dataframe\">\n",
       "  <thead>\n",
       "    <tr style=\"text-align: right;\">\n",
       "      <th></th>\n",
       "      <th>PROG</th>\n",
       "      <th>ANDAN</th>\n",
       "      <th>PhilIntro</th>\n",
       "      <th>AVERAGE</th>\n",
       "    </tr>\n",
       "  </thead>\n",
       "  <tbody>\n",
       "    <tr>\n",
       "      <th>0</th>\n",
       "      <td>10</td>\n",
       "      <td>9</td>\n",
       "      <td>6</td>\n",
       "      <td>9.5</td>\n",
       "    </tr>\n",
       "    <tr>\n",
       "      <th>1</th>\n",
       "      <td>7</td>\n",
       "      <td>8</td>\n",
       "      <td>9</td>\n",
       "      <td>7.5</td>\n",
       "    </tr>\n",
       "    <tr>\n",
       "      <th>2</th>\n",
       "      <td>9</td>\n",
       "      <td>10</td>\n",
       "      <td>5</td>\n",
       "      <td>9.5</td>\n",
       "    </tr>\n",
       "    <tr>\n",
       "      <th>3</th>\n",
       "      <td>6</td>\n",
       "      <td>7</td>\n",
       "      <td>10</td>\n",
       "      <td>6.5</td>\n",
       "    </tr>\n",
       "  </tbody>\n",
       "</table>\n",
       "</div>"
      ],
      "text/plain": [
       "   PROG  ANDAN  PhilIntro  AVERAGE\n",
       "0    10      9          6      9.5\n",
       "1     7      8          9      7.5\n",
       "2     9     10          5      9.5\n",
       "3     6      7         10      6.5"
      ]
     },
     "execution_count": 47,
     "metadata": {},
     "output_type": "execute_result"
    }
   ],
   "source": [
    "df['AVERAGE'] = (df['PROG'] + df['ANDAN']) / 2\n",
    "df"
   ]
  },
  {
   "cell_type": "code",
   "execution_count": 49,
   "id": "1cb06a0e-5c3f-41a6-8948-2d41ead60dd6",
   "metadata": {},
   "outputs": [
    {
     "data": {
      "text/plain": [
       "0    10\n",
       "1     7\n",
       "2     9\n",
       "3     6\n",
       "Name: PROG, dtype: int64"
      ]
     },
     "execution_count": 49,
     "metadata": {},
     "output_type": "execute_result"
    }
   ],
   "source": [
    "df[\"PROG\"]"
   ]
  },
  {
   "cell_type": "code",
   "execution_count": 48,
   "id": "83f59c85-9c5c-4fa9-90c4-90b0a54446ce",
   "metadata": {
    "tags": []
   },
   "outputs": [
    {
     "data": {
      "text/html": [
       "<div>\n",
       "<style scoped>\n",
       "    .dataframe tbody tr th:only-of-type {\n",
       "        vertical-align: middle;\n",
       "    }\n",
       "\n",
       "    .dataframe tbody tr th {\n",
       "        vertical-align: top;\n",
       "    }\n",
       "\n",
       "    .dataframe thead th {\n",
       "        text-align: right;\n",
       "    }\n",
       "</style>\n",
       "<table border=\"1\" class=\"dataframe\">\n",
       "  <thead>\n",
       "    <tr style=\"text-align: right;\">\n",
       "      <th></th>\n",
       "      <th>PROG</th>\n",
       "      <th>ANDAN</th>\n",
       "    </tr>\n",
       "  </thead>\n",
       "  <tbody>\n",
       "    <tr>\n",
       "      <th>0</th>\n",
       "      <td>10</td>\n",
       "      <td>9</td>\n",
       "    </tr>\n",
       "    <tr>\n",
       "      <th>1</th>\n",
       "      <td>7</td>\n",
       "      <td>8</td>\n",
       "    </tr>\n",
       "    <tr>\n",
       "      <th>2</th>\n",
       "      <td>9</td>\n",
       "      <td>10</td>\n",
       "    </tr>\n",
       "    <tr>\n",
       "      <th>3</th>\n",
       "      <td>6</td>\n",
       "      <td>7</td>\n",
       "    </tr>\n",
       "  </tbody>\n",
       "</table>\n",
       "</div>"
      ],
      "text/plain": [
       "   PROG  ANDAN\n",
       "0    10      9\n",
       "1     7      8\n",
       "2     9     10\n",
       "3     6      7"
      ]
     },
     "execution_count": 48,
     "metadata": {},
     "output_type": "execute_result"
    }
   ],
   "source": [
    "df[[\"PROG\", \"ANDAN\"]]"
   ]
  },
  {
   "cell_type": "code",
   "execution_count": 51,
   "id": "58174249-ac62-44ee-bfcc-50fdc4dbb704",
   "metadata": {},
   "outputs": [
    {
     "data": {
      "text/html": [
       "<div>\n",
       "<style scoped>\n",
       "    .dataframe tbody tr th:only-of-type {\n",
       "        vertical-align: middle;\n",
       "    }\n",
       "\n",
       "    .dataframe tbody tr th {\n",
       "        vertical-align: top;\n",
       "    }\n",
       "\n",
       "    .dataframe thead th {\n",
       "        text-align: right;\n",
       "    }\n",
       "</style>\n",
       "<table border=\"1\" class=\"dataframe\">\n",
       "  <thead>\n",
       "    <tr style=\"text-align: right;\">\n",
       "      <th></th>\n",
       "      <th>PROG</th>\n",
       "      <th>ANDAN</th>\n",
       "      <th>PhilIntro</th>\n",
       "      <th>AVERAGE</th>\n",
       "      <th>avg2</th>\n",
       "    </tr>\n",
       "  </thead>\n",
       "  <tbody>\n",
       "    <tr>\n",
       "      <th>0</th>\n",
       "      <td>10</td>\n",
       "      <td>9</td>\n",
       "      <td>6</td>\n",
       "      <td>9.5</td>\n",
       "      <td>9.5</td>\n",
       "    </tr>\n",
       "    <tr>\n",
       "      <th>1</th>\n",
       "      <td>7</td>\n",
       "      <td>8</td>\n",
       "      <td>9</td>\n",
       "      <td>7.5</td>\n",
       "      <td>7.5</td>\n",
       "    </tr>\n",
       "    <tr>\n",
       "      <th>2</th>\n",
       "      <td>9</td>\n",
       "      <td>10</td>\n",
       "      <td>5</td>\n",
       "      <td>9.5</td>\n",
       "      <td>9.5</td>\n",
       "    </tr>\n",
       "    <tr>\n",
       "      <th>3</th>\n",
       "      <td>6</td>\n",
       "      <td>7</td>\n",
       "      <td>10</td>\n",
       "      <td>6.5</td>\n",
       "      <td>6.5</td>\n",
       "    </tr>\n",
       "  </tbody>\n",
       "</table>\n",
       "</div>"
      ],
      "text/plain": [
       "   PROG  ANDAN  PhilIntro  AVERAGE  avg2\n",
       "0    10      9          6      9.5   9.5\n",
       "1     7      8          9      7.5   7.5\n",
       "2     9     10          5      9.5   9.5\n",
       "3     6      7         10      6.5   6.5"
      ]
     },
     "execution_count": 51,
     "metadata": {},
     "output_type": "execute_result"
    }
   ],
   "source": [
    "df[\"avg2\"] = df[[\"PROG\", \"ANDAN\"]].mean(axis=1)\n",
    "\n",
    "df"
   ]
  },
  {
   "cell_type": "code",
   "execution_count": 52,
   "id": "7195c600-5d15-4e71-8e3f-e628878c6559",
   "metadata": {},
   "outputs": [
    {
     "data": {
      "text/plain": [
       "(4, 5)"
      ]
     },
     "execution_count": 52,
     "metadata": {},
     "output_type": "execute_result"
    }
   ],
   "source": [
    "df.shape"
   ]
  },
  {
   "cell_type": "code",
   "execution_count": 43,
   "id": "3918d746-5664-4a45-8db0-72d2ab198788",
   "metadata": {},
   "outputs": [
    {
     "data": {
      "text/plain": [
       "5"
      ]
     },
     "execution_count": 43,
     "metadata": {},
     "output_type": "execute_result"
    }
   ],
   "source": [
    "df.shape[1]"
   ]
  },
  {
   "cell_type": "code",
   "execution_count": 53,
   "id": "c36ccb37-a338-4ff5-84a0-260405e782a8",
   "metadata": {},
   "outputs": [
    {
     "data": {
      "text/plain": [
       "PROG         8.00\n",
       "ANDAN        8.50\n",
       "PhilIntro    7.50\n",
       "AVERAGE      8.25\n",
       "avg2         8.25\n",
       "dtype: float64"
      ]
     },
     "execution_count": 53,
     "metadata": {},
     "output_type": "execute_result"
    }
   ],
   "source": [
    "df.mean()"
   ]
  },
  {
   "cell_type": "code",
   "execution_count": 40,
   "id": "b03c6b6c-16c5-49da-b283-30dd3c8f33d0",
   "metadata": {},
   "outputs": [
    {
     "data": {
      "text/plain": [
       "PROG         8.00\n",
       "ANDAN        8.50\n",
       "PhilIntro    7.50\n",
       "AVERAGE      8.25\n",
       "avg2         8.25\n",
       "dtype: float64"
      ]
     },
     "execution_count": 40,
     "metadata": {},
     "output_type": "execute_result"
    }
   ],
   "source": [
    "df.mean(axis=0)"
   ]
  },
  {
   "cell_type": "code",
   "execution_count": 159,
   "id": "24965173-edaf-4a1f-b5ab-1b41b9e10b1a",
   "metadata": {},
   "outputs": [
    {
     "data": {
      "text/plain": [
       "0    43.125\n",
       "1    39.375\n",
       "2    41.875\n",
       "3    36.875\n",
       "dtype: float64"
      ]
     },
     "execution_count": 159,
     "metadata": {},
     "output_type": "execute_result"
    }
   ],
   "source": [
    "df.sum(axis=1)"
   ]
  },
  {
   "cell_type": "code",
   "execution_count": 160,
   "id": "469f0bed-9064-47f8-ab16-2741255e09dd",
   "metadata": {},
   "outputs": [
    {
     "name": "stdout",
     "output_type": "stream",
     "text": [
      "<class 'pandas.core.frame.DataFrame'>\n",
      "RangeIndex: 4 entries, 0 to 3\n",
      "Data columns (total 5 columns):\n",
      " #   Column     Non-Null Count  Dtype  \n",
      "---  ------     --------------  -----  \n",
      " 0   PROG       4 non-null      int64  \n",
      " 1   ANDAN      4 non-null      int64  \n",
      " 2   PhilIntro  4 non-null      int64  \n",
      " 3   AVERAGE    4 non-null      float64\n",
      " 4   avg2       4 non-null      float64\n",
      "dtypes: float64(2), int64(3)\n",
      "memory usage: 288.0 bytes\n"
     ]
    }
   ],
   "source": [
    "df.info()"
   ]
  },
  {
   "cell_type": "markdown",
   "id": "53fcaedb-38e3-4647-b25a-9f4f6b1ede08",
   "metadata": {},
   "source": [
    "**Работаем с колонкой**"
   ]
  },
  {
   "cell_type": "code",
   "execution_count": 54,
   "id": "9437dbfb-14b9-4b81-b5b4-9a87df717531",
   "metadata": {},
   "outputs": [
    {
     "data": {
      "text/plain": [
       "0    10\n",
       "1     7\n",
       "2     9\n",
       "3     6\n",
       "Name: PROG, dtype: int64"
      ]
     },
     "execution_count": 54,
     "metadata": {},
     "output_type": "execute_result"
    }
   ],
   "source": [
    "df['PROG']"
   ]
  },
  {
   "cell_type": "code",
   "execution_count": 60,
   "id": "9b74e0db-92b8-4f49-96c1-c9f5aa02c6cd",
   "metadata": {
    "jupyter": {
     "source_hidden": true
    },
    "tags": []
   },
   "outputs": [
    {
     "data": {
      "text/plain": [
       "[10, 7, 9, 1]"
      ]
     },
     "execution_count": 60,
     "metadata": {},
     "output_type": "execute_result"
    }
   ],
   "source": [
    "list(df['PROG'])"
   ]
  },
  {
   "cell_type": "markdown",
   "id": "8be1ddb0-95ae-4787-b110-b29e1528f374",
   "metadata": {},
   "source": [
    "Значения в виде массива"
   ]
  },
  {
   "cell_type": "code",
   "execution_count": 55,
   "id": "459e5fb1-82f8-4d7a-baca-0b405348ec17",
   "metadata": {},
   "outputs": [
    {
     "data": {
      "text/plain": [
       "array([10,  7,  9,  6], dtype=int64)"
      ]
     },
     "execution_count": 55,
     "metadata": {},
     "output_type": "execute_result"
    }
   ],
   "source": [
    "df['PROG'].values"
   ]
  },
  {
   "cell_type": "code",
   "execution_count": 56,
   "id": "d1a0d1f1-1c5a-456a-9cee-d96252d46315",
   "metadata": {},
   "outputs": [
    {
     "data": {
      "text/plain": [
       "dtype('int64')"
      ]
     },
     "execution_count": 56,
     "metadata": {},
     "output_type": "execute_result"
    }
   ],
   "source": [
    "df['PROG'].dtype"
   ]
  },
  {
   "cell_type": "code",
   "execution_count": 57,
   "id": "e93b97d9-920f-45af-9fee-2c3b79b81aee",
   "metadata": {},
   "outputs": [
    {
     "data": {
      "text/plain": [
       "'PROG'"
      ]
     },
     "execution_count": 57,
     "metadata": {},
     "output_type": "execute_result"
    }
   ],
   "source": [
    "df['PROG'].name"
   ]
  },
  {
   "cell_type": "code",
   "execution_count": 165,
   "id": "06765c03-2926-45cf-a568-37d411a09d4b",
   "metadata": {},
   "outputs": [
    {
     "data": {
      "text/plain": [
       "numpy.ndarray"
      ]
     },
     "execution_count": 165,
     "metadata": {},
     "output_type": "execute_result"
    }
   ],
   "source": [
    "type(df['PROG'].values)"
   ]
  },
  {
   "cell_type": "markdown",
   "id": "cbc21de6-24fb-4158-97ae-bb792356c9c2",
   "metadata": {},
   "source": [
    "**Несколько колонок**"
   ]
  },
  {
   "cell_type": "code",
   "execution_count": 166,
   "id": "d0a20fc3-418f-480e-8a04-56afc1bd00b3",
   "metadata": {},
   "outputs": [
    {
     "data": {
      "text/plain": [
       "0    10\n",
       "1     7\n",
       "2     9\n",
       "3     6\n",
       "Name: PROG, dtype: int64"
      ]
     },
     "execution_count": 166,
     "metadata": {},
     "output_type": "execute_result"
    }
   ],
   "source": [
    "df[\"PROG\"]"
   ]
  },
  {
   "cell_type": "code",
   "execution_count": 45,
   "id": "1b8c9132-0720-4591-a0c4-f75f7cce90c5",
   "metadata": {},
   "outputs": [
    {
     "data": {
      "text/html": [
       "<div>\n",
       "<style scoped>\n",
       "    .dataframe tbody tr th:only-of-type {\n",
       "        vertical-align: middle;\n",
       "    }\n",
       "\n",
       "    .dataframe tbody tr th {\n",
       "        vertical-align: top;\n",
       "    }\n",
       "\n",
       "    .dataframe thead th {\n",
       "        text-align: right;\n",
       "    }\n",
       "</style>\n",
       "<table border=\"1\" class=\"dataframe\">\n",
       "  <thead>\n",
       "    <tr style=\"text-align: right;\">\n",
       "      <th></th>\n",
       "      <th>PROG</th>\n",
       "      <th>ANDAN</th>\n",
       "    </tr>\n",
       "  </thead>\n",
       "  <tbody>\n",
       "    <tr>\n",
       "      <th>0</th>\n",
       "      <td>10</td>\n",
       "      <td>9</td>\n",
       "    </tr>\n",
       "    <tr>\n",
       "      <th>1</th>\n",
       "      <td>7</td>\n",
       "      <td>8</td>\n",
       "    </tr>\n",
       "    <tr>\n",
       "      <th>2</th>\n",
       "      <td>9</td>\n",
       "      <td>10</td>\n",
       "    </tr>\n",
       "    <tr>\n",
       "      <th>3</th>\n",
       "      <td>6</td>\n",
       "      <td>7</td>\n",
       "    </tr>\n",
       "  </tbody>\n",
       "</table>\n",
       "</div>"
      ],
      "text/plain": [
       "   PROG  ANDAN\n",
       "0    10      9\n",
       "1     7      8\n",
       "2     9     10\n",
       "3     6      7"
      ]
     },
     "execution_count": 45,
     "metadata": {},
     "output_type": "execute_result"
    }
   ],
   "source": [
    "df[['PROG', 'ANDAN']]"
   ]
  },
  {
   "cell_type": "code",
   "execution_count": 46,
   "id": "be9f0f29-b255-4668-94bf-4c48cd9035e6",
   "metadata": {},
   "outputs": [
    {
     "data": {
      "text/html": [
       "<div>\n",
       "<style scoped>\n",
       "    .dataframe tbody tr th:only-of-type {\n",
       "        vertical-align: middle;\n",
       "    }\n",
       "\n",
       "    .dataframe tbody tr th {\n",
       "        vertical-align: top;\n",
       "    }\n",
       "\n",
       "    .dataframe thead th {\n",
       "        text-align: right;\n",
       "    }\n",
       "</style>\n",
       "<table border=\"1\" class=\"dataframe\">\n",
       "  <thead>\n",
       "    <tr style=\"text-align: right;\">\n",
       "      <th></th>\n",
       "      <th>AVERAGE</th>\n",
       "      <th>PROG</th>\n",
       "    </tr>\n",
       "  </thead>\n",
       "  <tbody>\n",
       "    <tr>\n",
       "      <th>0</th>\n",
       "      <td>9.5</td>\n",
       "      <td>10</td>\n",
       "    </tr>\n",
       "    <tr>\n",
       "      <th>1</th>\n",
       "      <td>7.5</td>\n",
       "      <td>7</td>\n",
       "    </tr>\n",
       "    <tr>\n",
       "      <th>2</th>\n",
       "      <td>9.5</td>\n",
       "      <td>9</td>\n",
       "    </tr>\n",
       "    <tr>\n",
       "      <th>3</th>\n",
       "      <td>6.5</td>\n",
       "      <td>6</td>\n",
       "    </tr>\n",
       "  </tbody>\n",
       "</table>\n",
       "</div>"
      ],
      "text/plain": [
       "   AVERAGE  PROG\n",
       "0      9.5    10\n",
       "1      7.5     7\n",
       "2      9.5     9\n",
       "3      6.5     6"
      ]
     },
     "execution_count": 46,
     "metadata": {},
     "output_type": "execute_result"
    }
   ],
   "source": [
    "df[['AVERAGE', 'PROG']]"
   ]
  },
  {
   "cell_type": "code",
   "execution_count": 47,
   "id": "48196bb2-36b8-470d-8bbb-2ab753a0f56f",
   "metadata": {},
   "outputs": [
    {
     "data": {
      "text/html": [
       "<div>\n",
       "<style scoped>\n",
       "    .dataframe tbody tr th:only-of-type {\n",
       "        vertical-align: middle;\n",
       "    }\n",
       "\n",
       "    .dataframe tbody tr th {\n",
       "        vertical-align: top;\n",
       "    }\n",
       "\n",
       "    .dataframe thead th {\n",
       "        text-align: right;\n",
       "    }\n",
       "</style>\n",
       "<table border=\"1\" class=\"dataframe\">\n",
       "  <thead>\n",
       "    <tr style=\"text-align: right;\">\n",
       "      <th></th>\n",
       "      <th>PROG</th>\n",
       "      <th>ANDAN</th>\n",
       "      <th>PhilIntro</th>\n",
       "      <th>AVERAGE</th>\n",
       "      <th>avg2</th>\n",
       "    </tr>\n",
       "  </thead>\n",
       "  <tbody>\n",
       "    <tr>\n",
       "      <th>0</th>\n",
       "      <td>10</td>\n",
       "      <td>9</td>\n",
       "      <td>6</td>\n",
       "      <td>9.5</td>\n",
       "      <td>9.5</td>\n",
       "    </tr>\n",
       "    <tr>\n",
       "      <th>1</th>\n",
       "      <td>7</td>\n",
       "      <td>8</td>\n",
       "      <td>9</td>\n",
       "      <td>7.5</td>\n",
       "      <td>7.5</td>\n",
       "    </tr>\n",
       "    <tr>\n",
       "      <th>2</th>\n",
       "      <td>9</td>\n",
       "      <td>10</td>\n",
       "      <td>5</td>\n",
       "      <td>9.5</td>\n",
       "      <td>9.5</td>\n",
       "    </tr>\n",
       "    <tr>\n",
       "      <th>3</th>\n",
       "      <td>6</td>\n",
       "      <td>7</td>\n",
       "      <td>10</td>\n",
       "      <td>6.5</td>\n",
       "      <td>6.5</td>\n",
       "    </tr>\n",
       "  </tbody>\n",
       "</table>\n",
       "</div>"
      ],
      "text/plain": [
       "   PROG  ANDAN  PhilIntro  AVERAGE  avg2\n",
       "0    10      9          6      9.5   9.5\n",
       "1     7      8          9      7.5   7.5\n",
       "2     9     10          5      9.5   9.5\n",
       "3     6      7         10      6.5   6.5"
      ]
     },
     "execution_count": 47,
     "metadata": {},
     "output_type": "execute_result"
    }
   ],
   "source": [
    "df"
   ]
  },
  {
   "cell_type": "markdown",
   "id": "18df170a-db8b-410f-874c-c85800755a1a",
   "metadata": {},
   "source": [
    "# Нахождение в таблице"
   ]
  },
  {
   "cell_type": "markdown",
   "id": "8b8c42e6-fcc8-431e-97de-7603a9fd0902",
   "metadata": {},
   "source": [
    "Колонки"
   ]
  },
  {
   "cell_type": "code",
   "execution_count": 58,
   "id": "00d63de5-47a4-40d7-ae95-340014c64616",
   "metadata": {},
   "outputs": [
    {
     "data": {
      "text/plain": [
       "Index(['PROG', 'ANDAN', 'PhilIntro', 'AVERAGE', 'avg2'], dtype='object')"
      ]
     },
     "execution_count": 58,
     "metadata": {},
     "output_type": "execute_result"
    }
   ],
   "source": [
    "df.columns"
   ]
  },
  {
   "cell_type": "code",
   "execution_count": 59,
   "id": "aaedf232-d75a-4af9-a7ef-eb2082dc66e9",
   "metadata": {},
   "outputs": [],
   "source": [
    "del df[\"avg2\"]"
   ]
  },
  {
   "cell_type": "code",
   "execution_count": 60,
   "id": "2c9af670-51c3-484b-b070-779739a9e8ff",
   "metadata": {},
   "outputs": [
    {
     "data": {
      "text/html": [
       "<div>\n",
       "<style scoped>\n",
       "    .dataframe tbody tr th:only-of-type {\n",
       "        vertical-align: middle;\n",
       "    }\n",
       "\n",
       "    .dataframe tbody tr th {\n",
       "        vertical-align: top;\n",
       "    }\n",
       "\n",
       "    .dataframe thead th {\n",
       "        text-align: right;\n",
       "    }\n",
       "</style>\n",
       "<table border=\"1\" class=\"dataframe\">\n",
       "  <thead>\n",
       "    <tr style=\"text-align: right;\">\n",
       "      <th></th>\n",
       "      <th>PROG</th>\n",
       "      <th>ANDAN</th>\n",
       "      <th>PhilIntro</th>\n",
       "      <th>AVERAGE</th>\n",
       "    </tr>\n",
       "  </thead>\n",
       "  <tbody>\n",
       "    <tr>\n",
       "      <th>0</th>\n",
       "      <td>10</td>\n",
       "      <td>9</td>\n",
       "      <td>6</td>\n",
       "      <td>9.5</td>\n",
       "    </tr>\n",
       "    <tr>\n",
       "      <th>1</th>\n",
       "      <td>7</td>\n",
       "      <td>8</td>\n",
       "      <td>9</td>\n",
       "      <td>7.5</td>\n",
       "    </tr>\n",
       "    <tr>\n",
       "      <th>2</th>\n",
       "      <td>9</td>\n",
       "      <td>10</td>\n",
       "      <td>5</td>\n",
       "      <td>9.5</td>\n",
       "    </tr>\n",
       "    <tr>\n",
       "      <th>3</th>\n",
       "      <td>6</td>\n",
       "      <td>7</td>\n",
       "      <td>10</td>\n",
       "      <td>6.5</td>\n",
       "    </tr>\n",
       "  </tbody>\n",
       "</table>\n",
       "</div>"
      ],
      "text/plain": [
       "   PROG  ANDAN  PhilIntro  AVERAGE\n",
       "0    10      9          6      9.5\n",
       "1     7      8          9      7.5\n",
       "2     9     10          5      9.5\n",
       "3     6      7         10      6.5"
      ]
     },
     "execution_count": 60,
     "metadata": {},
     "output_type": "execute_result"
    }
   ],
   "source": [
    "df"
   ]
  },
  {
   "cell_type": "code",
   "execution_count": 61,
   "id": "39cb4817-ed79-407f-b57a-a358e8524c66",
   "metadata": {},
   "outputs": [],
   "source": [
    "df.columns = ['PYTHON', 'STATS', 'INTRO', 'AVERAGE']"
   ]
  },
  {
   "cell_type": "code",
   "execution_count": 62,
   "id": "c5353213-4110-4547-8ac9-50f71c33e6bf",
   "metadata": {},
   "outputs": [
    {
     "data": {
      "text/plain": [
       "Index(['PYTHON', 'STATS', 'INTRO', 'AVERAGE'], dtype='object')"
      ]
     },
     "execution_count": 62,
     "metadata": {},
     "output_type": "execute_result"
    }
   ],
   "source": [
    "df.columns"
   ]
  },
  {
   "cell_type": "code",
   "execution_count": 63,
   "id": "f1ab9067-141a-4ab0-89f6-8da897e7d737",
   "metadata": {},
   "outputs": [
    {
     "data": {
      "text/html": [
       "<div>\n",
       "<style scoped>\n",
       "    .dataframe tbody tr th:only-of-type {\n",
       "        vertical-align: middle;\n",
       "    }\n",
       "\n",
       "    .dataframe tbody tr th {\n",
       "        vertical-align: top;\n",
       "    }\n",
       "\n",
       "    .dataframe thead th {\n",
       "        text-align: right;\n",
       "    }\n",
       "</style>\n",
       "<table border=\"1\" class=\"dataframe\">\n",
       "  <thead>\n",
       "    <tr style=\"text-align: right;\">\n",
       "      <th></th>\n",
       "      <th>PYTHON</th>\n",
       "      <th>STATS</th>\n",
       "      <th>INTRO</th>\n",
       "      <th>AVERAGE</th>\n",
       "    </tr>\n",
       "  </thead>\n",
       "  <tbody>\n",
       "    <tr>\n",
       "      <th>0</th>\n",
       "      <td>10</td>\n",
       "      <td>9</td>\n",
       "      <td>6</td>\n",
       "      <td>9.5</td>\n",
       "    </tr>\n",
       "    <tr>\n",
       "      <th>1</th>\n",
       "      <td>7</td>\n",
       "      <td>8</td>\n",
       "      <td>9</td>\n",
       "      <td>7.5</td>\n",
       "    </tr>\n",
       "    <tr>\n",
       "      <th>2</th>\n",
       "      <td>9</td>\n",
       "      <td>10</td>\n",
       "      <td>5</td>\n",
       "      <td>9.5</td>\n",
       "    </tr>\n",
       "    <tr>\n",
       "      <th>3</th>\n",
       "      <td>6</td>\n",
       "      <td>7</td>\n",
       "      <td>10</td>\n",
       "      <td>6.5</td>\n",
       "    </tr>\n",
       "  </tbody>\n",
       "</table>\n",
       "</div>"
      ],
      "text/plain": [
       "   PYTHON  STATS  INTRO  AVERAGE\n",
       "0      10      9      6      9.5\n",
       "1       7      8      9      7.5\n",
       "2       9     10      5      9.5\n",
       "3       6      7     10      6.5"
      ]
     },
     "execution_count": 63,
     "metadata": {},
     "output_type": "execute_result"
    }
   ],
   "source": [
    "df"
   ]
  },
  {
   "cell_type": "markdown",
   "id": "d1bf9d3f-644d-45c9-9059-44f3633feaf8",
   "metadata": {},
   "source": [
    "Строки должны быть про*индексированы*. Сейчас они пронумерованы, индекс - диапазон целых чисел"
   ]
  },
  {
   "cell_type": "code",
   "execution_count": 64,
   "id": "25464d3e-2650-4dde-940a-065322d9c683",
   "metadata": {},
   "outputs": [
    {
     "data": {
      "text/plain": [
       "RangeIndex(start=0, stop=4, step=1)"
      ]
     },
     "execution_count": 64,
     "metadata": {},
     "output_type": "execute_result"
    }
   ],
   "source": [
    "df.index"
   ]
  },
  {
   "cell_type": "code",
   "execution_count": 65,
   "id": "d0d69479-696e-4c87-afde-081f9a141bef",
   "metadata": {},
   "outputs": [
    {
     "data": {
      "text/plain": [
       "PYTHON     10.0\n",
       "STATS       9.0\n",
       "INTRO       6.0\n",
       "AVERAGE     9.5\n",
       "Name: 0, dtype: float64"
      ]
     },
     "execution_count": 65,
     "metadata": {},
     "output_type": "execute_result"
    }
   ],
   "source": [
    "df.iloc[0]  # это нулевая строка"
   ]
  },
  {
   "cell_type": "code",
   "execution_count": 67,
   "id": "9cdcdbeb-cc74-4fa1-aea2-f0e9158cfec7",
   "metadata": {},
   "outputs": [
    {
     "data": {
      "text/plain": [
       "PYTHON     10.0\n",
       "STATS       9.0\n",
       "INTRO       6.0\n",
       "AVERAGE     9.5\n",
       "Name: 0, dtype: float64"
      ]
     },
     "execution_count": 67,
     "metadata": {},
     "output_type": "execute_result"
    }
   ],
   "source": [
    "df.loc[0]  # это строка с индексом ноль"
   ]
  },
  {
   "cell_type": "markdown",
   "id": "a7ac7439-28f1-4eaa-afe8-e381da517676",
   "metadata": {},
   "source": [
    "В чём разница между `.loc()` и `.iloc()`?"
   ]
  },
  {
   "cell_type": "code",
   "execution_count": 72,
   "id": "dc871b4e-0006-400d-ae8f-e93e6e1d4568",
   "metadata": {},
   "outputs": [],
   "source": [
    "df.index = ['Mark', 'Alice', 'Shura', 'Maxim']"
   ]
  },
  {
   "cell_type": "code",
   "execution_count": 73,
   "id": "b9729d57-7b59-4523-9d74-83d56972842d",
   "metadata": {},
   "outputs": [
    {
     "data": {
      "text/html": [
       "<div>\n",
       "<style scoped>\n",
       "    .dataframe tbody tr th:only-of-type {\n",
       "        vertical-align: middle;\n",
       "    }\n",
       "\n",
       "    .dataframe tbody tr th {\n",
       "        vertical-align: top;\n",
       "    }\n",
       "\n",
       "    .dataframe thead th {\n",
       "        text-align: right;\n",
       "    }\n",
       "</style>\n",
       "<table border=\"1\" class=\"dataframe\">\n",
       "  <thead>\n",
       "    <tr style=\"text-align: right;\">\n",
       "      <th></th>\n",
       "      <th>PYTHON</th>\n",
       "      <th>STATS</th>\n",
       "      <th>INTRO</th>\n",
       "      <th>AVERAGE</th>\n",
       "    </tr>\n",
       "  </thead>\n",
       "  <tbody>\n",
       "    <tr>\n",
       "      <th>Mark</th>\n",
       "      <td>10</td>\n",
       "      <td>9</td>\n",
       "      <td>6</td>\n",
       "      <td>9.5</td>\n",
       "    </tr>\n",
       "    <tr>\n",
       "      <th>Alice</th>\n",
       "      <td>7</td>\n",
       "      <td>8</td>\n",
       "      <td>9</td>\n",
       "      <td>7.5</td>\n",
       "    </tr>\n",
       "    <tr>\n",
       "      <th>Shura</th>\n",
       "      <td>9</td>\n",
       "      <td>10</td>\n",
       "      <td>5</td>\n",
       "      <td>9.5</td>\n",
       "    </tr>\n",
       "    <tr>\n",
       "      <th>Maxim</th>\n",
       "      <td>6</td>\n",
       "      <td>7</td>\n",
       "      <td>10</td>\n",
       "      <td>6.5</td>\n",
       "    </tr>\n",
       "  </tbody>\n",
       "</table>\n",
       "</div>"
      ],
      "text/plain": [
       "       PYTHON  STATS  INTRO  AVERAGE\n",
       "Mark       10      9      6      9.5\n",
       "Alice       7      8      9      7.5\n",
       "Shura       9     10      5      9.5\n",
       "Maxim       6      7     10      6.5"
      ]
     },
     "execution_count": 73,
     "metadata": {},
     "output_type": "execute_result"
    }
   ],
   "source": [
    "df"
   ]
  },
  {
   "cell_type": "code",
   "execution_count": 74,
   "id": "fecb88db-1383-4167-9a79-bdb24ab714cb",
   "metadata": {},
   "outputs": [
    {
     "data": {
      "text/plain": [
       "PYTHON     10.0\n",
       "STATS       9.0\n",
       "INTRO       6.0\n",
       "AVERAGE     9.5\n",
       "Name: Mark, dtype: float64"
      ]
     },
     "execution_count": 74,
     "metadata": {},
     "output_type": "execute_result"
    }
   ],
   "source": [
    "df.iloc[0]"
   ]
  },
  {
   "cell_type": "code",
   "execution_count": 75,
   "id": "dfc52f64-22fb-48ba-8dd8-e92e32081ddc",
   "metadata": {},
   "outputs": [
    {
     "data": {
      "text/plain": [
       "PYTHON      6.0\n",
       "STATS       7.0\n",
       "INTRO      10.0\n",
       "AVERAGE     6.5\n",
       "Name: Maxim, dtype: float64"
      ]
     },
     "execution_count": 75,
     "metadata": {},
     "output_type": "execute_result"
    }
   ],
   "source": [
    "df.iloc[-1]"
   ]
  },
  {
   "cell_type": "code",
   "execution_count": 76,
   "id": "00bbd56d-40cf-47c6-a1b0-4425b9442fe8",
   "metadata": {
    "scrolled": true
   },
   "outputs": [
    {
     "data": {
      "text/plain": [
       "PYTHON     10.0\n",
       "STATS       9.0\n",
       "INTRO       6.0\n",
       "AVERAGE     9.5\n",
       "Name: Mark, dtype: float64"
      ]
     },
     "execution_count": 76,
     "metadata": {},
     "output_type": "execute_result"
    }
   ],
   "source": [
    "# df.loc[0]\n",
    "df.loc['Mark']"
   ]
  },
  {
   "cell_type": "code",
   "execution_count": 77,
   "id": "2e4270d0-6d04-44ac-bf1f-a3307ec97317",
   "metadata": {},
   "outputs": [
    {
     "data": {
      "text/plain": [
       "PYTHON      6.0\n",
       "STATS       7.0\n",
       "INTRO      10.0\n",
       "AVERAGE     6.5\n",
       "Name: Maxim, dtype: float64"
      ]
     },
     "execution_count": 77,
     "metadata": {},
     "output_type": "execute_result"
    }
   ],
   "source": [
    "df.loc[\"Maxim\"]"
   ]
  },
  {
   "cell_type": "markdown",
   "id": "1a1c4bec-705b-4272-806e-d674402a02fd",
   "metadata": {},
   "source": [
    "Теперь, когда индекс это строки, `.loc[]` с числом сломается:"
   ]
  },
  {
   "cell_type": "code",
   "execution_count": 78,
   "id": "40fecb3d-0e82-49c8-8424-9c648027bb26",
   "metadata": {},
   "outputs": [
    {
     "ename": "KeyError",
     "evalue": "0",
     "output_type": "error",
     "traceback": [
      "\u001b[1;31m---------------------------------------------------------------------------\u001b[0m",
      "\u001b[1;31mKeyError\u001b[0m                                  Traceback (most recent call last)",
      "File \u001b[1;32m~\\AppData\\Roaming\\Python\\Python39\\site-packages\\pandas\\core\\indexes\\base.py:3621\u001b[0m, in \u001b[0;36mIndex.get_loc\u001b[1;34m(self, key, method, tolerance)\u001b[0m\n\u001b[0;32m   3620\u001b[0m \u001b[38;5;28;01mtry\u001b[39;00m:\n\u001b[1;32m-> 3621\u001b[0m     \u001b[38;5;28;01mreturn\u001b[39;00m \u001b[38;5;28;43mself\u001b[39;49m\u001b[38;5;241;43m.\u001b[39;49m\u001b[43m_engine\u001b[49m\u001b[38;5;241;43m.\u001b[39;49m\u001b[43mget_loc\u001b[49m\u001b[43m(\u001b[49m\u001b[43mcasted_key\u001b[49m\u001b[43m)\u001b[49m\n\u001b[0;32m   3622\u001b[0m \u001b[38;5;28;01mexcept\u001b[39;00m \u001b[38;5;167;01mKeyError\u001b[39;00m \u001b[38;5;28;01mas\u001b[39;00m err:\n",
      "File \u001b[1;32m~\\AppData\\Roaming\\Python\\Python39\\site-packages\\pandas\\_libs\\index.pyx:136\u001b[0m, in \u001b[0;36mpandas._libs.index.IndexEngine.get_loc\u001b[1;34m()\u001b[0m\n",
      "File \u001b[1;32m~\\AppData\\Roaming\\Python\\Python39\\site-packages\\pandas\\_libs\\index.pyx:163\u001b[0m, in \u001b[0;36mpandas._libs.index.IndexEngine.get_loc\u001b[1;34m()\u001b[0m\n",
      "File \u001b[1;32mpandas\\_libs\\hashtable_class_helper.pxi:5198\u001b[0m, in \u001b[0;36mpandas._libs.hashtable.PyObjectHashTable.get_item\u001b[1;34m()\u001b[0m\n",
      "File \u001b[1;32mpandas\\_libs\\hashtable_class_helper.pxi:5206\u001b[0m, in \u001b[0;36mpandas._libs.hashtable.PyObjectHashTable.get_item\u001b[1;34m()\u001b[0m\n",
      "\u001b[1;31mKeyError\u001b[0m: 0",
      "\nThe above exception was the direct cause of the following exception:\n",
      "\u001b[1;31mKeyError\u001b[0m                                  Traceback (most recent call last)",
      "Cell \u001b[1;32mIn [78], line 1\u001b[0m\n\u001b[1;32m----> 1\u001b[0m \u001b[43mdf\u001b[49m\u001b[38;5;241;43m.\u001b[39;49m\u001b[43mloc\u001b[49m\u001b[43m[\u001b[49m\u001b[38;5;241;43m0\u001b[39;49m\u001b[43m]\u001b[49m\n",
      "File \u001b[1;32m~\\AppData\\Roaming\\Python\\Python39\\site-packages\\pandas\\core\\indexing.py:967\u001b[0m, in \u001b[0;36m_LocationIndexer.__getitem__\u001b[1;34m(self, key)\u001b[0m\n\u001b[0;32m    964\u001b[0m axis \u001b[38;5;241m=\u001b[39m \u001b[38;5;28mself\u001b[39m\u001b[38;5;241m.\u001b[39maxis \u001b[38;5;129;01mor\u001b[39;00m \u001b[38;5;241m0\u001b[39m\n\u001b[0;32m    966\u001b[0m maybe_callable \u001b[38;5;241m=\u001b[39m com\u001b[38;5;241m.\u001b[39mapply_if_callable(key, \u001b[38;5;28mself\u001b[39m\u001b[38;5;241m.\u001b[39mobj)\n\u001b[1;32m--> 967\u001b[0m \u001b[38;5;28;01mreturn\u001b[39;00m \u001b[38;5;28;43mself\u001b[39;49m\u001b[38;5;241;43m.\u001b[39;49m\u001b[43m_getitem_axis\u001b[49m\u001b[43m(\u001b[49m\u001b[43mmaybe_callable\u001b[49m\u001b[43m,\u001b[49m\u001b[43m \u001b[49m\u001b[43maxis\u001b[49m\u001b[38;5;241;43m=\u001b[39;49m\u001b[43maxis\u001b[49m\u001b[43m)\u001b[49m\n",
      "File \u001b[1;32m~\\AppData\\Roaming\\Python\\Python39\\site-packages\\pandas\\core\\indexing.py:1202\u001b[0m, in \u001b[0;36m_LocIndexer._getitem_axis\u001b[1;34m(self, key, axis)\u001b[0m\n\u001b[0;32m   1200\u001b[0m \u001b[38;5;66;03m# fall thru to straight lookup\u001b[39;00m\n\u001b[0;32m   1201\u001b[0m \u001b[38;5;28mself\u001b[39m\u001b[38;5;241m.\u001b[39m_validate_key(key, axis)\n\u001b[1;32m-> 1202\u001b[0m \u001b[38;5;28;01mreturn\u001b[39;00m \u001b[38;5;28;43mself\u001b[39;49m\u001b[38;5;241;43m.\u001b[39;49m\u001b[43m_get_label\u001b[49m\u001b[43m(\u001b[49m\u001b[43mkey\u001b[49m\u001b[43m,\u001b[49m\u001b[43m \u001b[49m\u001b[43maxis\u001b[49m\u001b[38;5;241;43m=\u001b[39;49m\u001b[43maxis\u001b[49m\u001b[43m)\u001b[49m\n",
      "File \u001b[1;32m~\\AppData\\Roaming\\Python\\Python39\\site-packages\\pandas\\core\\indexing.py:1153\u001b[0m, in \u001b[0;36m_LocIndexer._get_label\u001b[1;34m(self, label, axis)\u001b[0m\n\u001b[0;32m   1151\u001b[0m \u001b[38;5;28;01mdef\u001b[39;00m \u001b[38;5;21m_get_label\u001b[39m(\u001b[38;5;28mself\u001b[39m, label, axis: \u001b[38;5;28mint\u001b[39m):\n\u001b[0;32m   1152\u001b[0m     \u001b[38;5;66;03m# GH#5667 this will fail if the label is not present in the axis.\u001b[39;00m\n\u001b[1;32m-> 1153\u001b[0m     \u001b[38;5;28;01mreturn\u001b[39;00m \u001b[38;5;28;43mself\u001b[39;49m\u001b[38;5;241;43m.\u001b[39;49m\u001b[43mobj\u001b[49m\u001b[38;5;241;43m.\u001b[39;49m\u001b[43mxs\u001b[49m\u001b[43m(\u001b[49m\u001b[43mlabel\u001b[49m\u001b[43m,\u001b[49m\u001b[43m \u001b[49m\u001b[43maxis\u001b[49m\u001b[38;5;241;43m=\u001b[39;49m\u001b[43maxis\u001b[49m\u001b[43m)\u001b[49m\n",
      "File \u001b[1;32m~\\AppData\\Roaming\\Python\\Python39\\site-packages\\pandas\\core\\generic.py:3864\u001b[0m, in \u001b[0;36mNDFrame.xs\u001b[1;34m(self, key, axis, level, drop_level)\u001b[0m\n\u001b[0;32m   3862\u001b[0m             new_index \u001b[38;5;241m=\u001b[39m index[loc]\n\u001b[0;32m   3863\u001b[0m \u001b[38;5;28;01melse\u001b[39;00m:\n\u001b[1;32m-> 3864\u001b[0m     loc \u001b[38;5;241m=\u001b[39m \u001b[43mindex\u001b[49m\u001b[38;5;241;43m.\u001b[39;49m\u001b[43mget_loc\u001b[49m\u001b[43m(\u001b[49m\u001b[43mkey\u001b[49m\u001b[43m)\u001b[49m\n\u001b[0;32m   3866\u001b[0m     \u001b[38;5;28;01mif\u001b[39;00m \u001b[38;5;28misinstance\u001b[39m(loc, np\u001b[38;5;241m.\u001b[39mndarray):\n\u001b[0;32m   3867\u001b[0m         \u001b[38;5;28;01mif\u001b[39;00m loc\u001b[38;5;241m.\u001b[39mdtype \u001b[38;5;241m==\u001b[39m np\u001b[38;5;241m.\u001b[39mbool_:\n",
      "File \u001b[1;32m~\\AppData\\Roaming\\Python\\Python39\\site-packages\\pandas\\core\\indexes\\base.py:3623\u001b[0m, in \u001b[0;36mIndex.get_loc\u001b[1;34m(self, key, method, tolerance)\u001b[0m\n\u001b[0;32m   3621\u001b[0m     \u001b[38;5;28;01mreturn\u001b[39;00m \u001b[38;5;28mself\u001b[39m\u001b[38;5;241m.\u001b[39m_engine\u001b[38;5;241m.\u001b[39mget_loc(casted_key)\n\u001b[0;32m   3622\u001b[0m \u001b[38;5;28;01mexcept\u001b[39;00m \u001b[38;5;167;01mKeyError\u001b[39;00m \u001b[38;5;28;01mas\u001b[39;00m err:\n\u001b[1;32m-> 3623\u001b[0m     \u001b[38;5;28;01mraise\u001b[39;00m \u001b[38;5;167;01mKeyError\u001b[39;00m(key) \u001b[38;5;28;01mfrom\u001b[39;00m \u001b[38;5;21;01merr\u001b[39;00m\n\u001b[0;32m   3624\u001b[0m \u001b[38;5;28;01mexcept\u001b[39;00m \u001b[38;5;167;01mTypeError\u001b[39;00m:\n\u001b[0;32m   3625\u001b[0m     \u001b[38;5;66;03m# If we have a listlike key, _check_indexing_error will raise\u001b[39;00m\n\u001b[0;32m   3626\u001b[0m     \u001b[38;5;66;03m#  InvalidIndexError. Otherwise we fall through and re-raise\u001b[39;00m\n\u001b[0;32m   3627\u001b[0m     \u001b[38;5;66;03m#  the TypeError.\u001b[39;00m\n\u001b[0;32m   3628\u001b[0m     \u001b[38;5;28mself\u001b[39m\u001b[38;5;241m.\u001b[39m_check_indexing_error(key)\n",
      "\u001b[1;31mKeyError\u001b[0m: 0"
     ]
    }
   ],
   "source": [
    "df.loc[0]"
   ]
  },
  {
   "cell_type": "markdown",
   "id": "d66c0e46-10dd-4200-b8d4-bd0a6a74b904",
   "metadata": {},
   "source": [
    "Итого: `.iloc()` - для числовых индексов, `.loc()` - для индексов таблицы, выделенных жирным"
   ]
  },
  {
   "cell_type": "markdown",
   "id": "d10ac8e0-9abe-4ce7-966d-8f6e3adc721b",
   "metadata": {},
   "source": [
    "### Тренировка\n",
    "\n",
    "Что у Шуры по питону?"
   ]
  },
  {
   "cell_type": "code",
   "execution_count": 193,
   "id": "08f08afc-a720-46fa-ab05-09fd198f2755",
   "metadata": {},
   "outputs": [
    {
     "data": {
      "text/html": [
       "<div>\n",
       "<style scoped>\n",
       "    .dataframe tbody tr th:only-of-type {\n",
       "        vertical-align: middle;\n",
       "    }\n",
       "\n",
       "    .dataframe tbody tr th {\n",
       "        vertical-align: top;\n",
       "    }\n",
       "\n",
       "    .dataframe thead th {\n",
       "        text-align: right;\n",
       "    }\n",
       "</style>\n",
       "<table border=\"1\" class=\"dataframe\">\n",
       "  <thead>\n",
       "    <tr style=\"text-align: right;\">\n",
       "      <th></th>\n",
       "      <th>PYTHON</th>\n",
       "      <th>STATS</th>\n",
       "      <th>INTRO</th>\n",
       "      <th>AVERAGE</th>\n",
       "    </tr>\n",
       "  </thead>\n",
       "  <tbody>\n",
       "    <tr>\n",
       "      <th>Mark</th>\n",
       "      <td>10</td>\n",
       "      <td>9</td>\n",
       "      <td>6</td>\n",
       "      <td>9.5</td>\n",
       "    </tr>\n",
       "    <tr>\n",
       "      <th>Alice</th>\n",
       "      <td>7</td>\n",
       "      <td>8</td>\n",
       "      <td>9</td>\n",
       "      <td>7.5</td>\n",
       "    </tr>\n",
       "    <tr>\n",
       "      <th>Shura</th>\n",
       "      <td>9</td>\n",
       "      <td>10</td>\n",
       "      <td>5</td>\n",
       "      <td>9.5</td>\n",
       "    </tr>\n",
       "    <tr>\n",
       "      <th>Maxim</th>\n",
       "      <td>6</td>\n",
       "      <td>7</td>\n",
       "      <td>10</td>\n",
       "      <td>6.5</td>\n",
       "    </tr>\n",
       "  </tbody>\n",
       "</table>\n",
       "</div>"
      ],
      "text/plain": [
       "       PYTHON  STATS  INTRO  AVERAGE\n",
       "Mark       10      9      6      9.5\n",
       "Alice       7      8      9      7.5\n",
       "Shura       9     10      5      9.5\n",
       "Maxim       6      7     10      6.5"
      ]
     },
     "execution_count": 193,
     "metadata": {},
     "output_type": "execute_result"
    }
   ],
   "source": [
    "df"
   ]
  },
  {
   "cell_type": "code",
   "execution_count": null,
   "id": "8ea35251-692b-46c8-8d99-3c44cc23652b",
   "metadata": {},
   "outputs": [],
   "source": []
  },
  {
   "cell_type": "markdown",
   "id": "1db81fb5-bec4-4148-95f6-8f05fb32df00",
   "metadata": {},
   "source": [
    "В `.loc[]` как в Numpy, сперва выбираются строки, затем через запятую `,` столбцы\n",
    "\n",
    "И как в Numpy, можно использовать список True и False, чтобы брать элементы на определённых (где `True`) позициях.\n",
    "\n",
    "Такие списки порождаются, когда мы используем условия, и поэтому мы можем эти условия использовать внутри `.loc`"
   ]
  },
  {
   "cell_type": "code",
   "execution_count": 136,
   "id": "7d00b115-7057-478b-b729-93cbfcb24a1b",
   "metadata": {},
   "outputs": [
    {
     "data": {
      "text/html": [
       "<div>\n",
       "<style scoped>\n",
       "    .dataframe tbody tr th:only-of-type {\n",
       "        vertical-align: middle;\n",
       "    }\n",
       "\n",
       "    .dataframe tbody tr th {\n",
       "        vertical-align: top;\n",
       "    }\n",
       "\n",
       "    .dataframe thead th {\n",
       "        text-align: right;\n",
       "    }\n",
       "</style>\n",
       "<table border=\"1\" class=\"dataframe\">\n",
       "  <thead>\n",
       "    <tr style=\"text-align: right;\">\n",
       "      <th></th>\n",
       "      <th>PYTHON</th>\n",
       "      <th>STATS</th>\n",
       "      <th>INTRO</th>\n",
       "      <th>AVERAGE</th>\n",
       "    </tr>\n",
       "  </thead>\n",
       "  <tbody>\n",
       "    <tr>\n",
       "      <th>Mark</th>\n",
       "      <td>10</td>\n",
       "      <td>9</td>\n",
       "      <td>6</td>\n",
       "      <td>9.5</td>\n",
       "    </tr>\n",
       "    <tr>\n",
       "      <th>Maxim</th>\n",
       "      <td>6</td>\n",
       "      <td>7</td>\n",
       "      <td>10</td>\n",
       "      <td>6.5</td>\n",
       "    </tr>\n",
       "  </tbody>\n",
       "</table>\n",
       "</div>"
      ],
      "text/plain": [
       "       PYTHON  STATS  INTRO  AVERAGE\n",
       "Mark       10      9      6      9.5\n",
       "Maxim       6      7     10      6.5"
      ]
     },
     "execution_count": 136,
     "metadata": {},
     "output_type": "execute_result"
    }
   ],
   "source": [
    "df.loc[[True, False, False, True]]"
   ]
  },
  {
   "cell_type": "code",
   "execution_count": 137,
   "id": "6f56508e-abdb-4581-923a-3e1d4fa22ff7",
   "metadata": {},
   "outputs": [
    {
     "data": {
      "text/html": [
       "<div>\n",
       "<style scoped>\n",
       "    .dataframe tbody tr th:only-of-type {\n",
       "        vertical-align: middle;\n",
       "    }\n",
       "\n",
       "    .dataframe tbody tr th {\n",
       "        vertical-align: top;\n",
       "    }\n",
       "\n",
       "    .dataframe thead th {\n",
       "        text-align: right;\n",
       "    }\n",
       "</style>\n",
       "<table border=\"1\" class=\"dataframe\">\n",
       "  <thead>\n",
       "    <tr style=\"text-align: right;\">\n",
       "      <th></th>\n",
       "      <th>PYTHON</th>\n",
       "      <th>STATS</th>\n",
       "      <th>INTRO</th>\n",
       "      <th>AVERAGE</th>\n",
       "    </tr>\n",
       "  </thead>\n",
       "  <tbody>\n",
       "    <tr>\n",
       "      <th>Mark</th>\n",
       "      <td>10</td>\n",
       "      <td>9</td>\n",
       "      <td>6</td>\n",
       "      <td>9.5</td>\n",
       "    </tr>\n",
       "    <tr>\n",
       "      <th>Alice</th>\n",
       "      <td>7</td>\n",
       "      <td>8</td>\n",
       "      <td>9</td>\n",
       "      <td>7.5</td>\n",
       "    </tr>\n",
       "  </tbody>\n",
       "</table>\n",
       "</div>"
      ],
      "text/plain": [
       "       PYTHON  STATS  INTRO  AVERAGE\n",
       "Mark       10      9      6      9.5\n",
       "Alice       7      8      9      7.5"
      ]
     },
     "execution_count": 137,
     "metadata": {},
     "output_type": "execute_result"
    }
   ],
   "source": [
    "df.loc[[True, True, False, False]]"
   ]
  },
  {
   "cell_type": "markdown",
   "id": "dec029c2-cfec-4067-bc5a-cbd355c0a205",
   "metadata": {},
   "source": [
    "Оценки Алисы и Шуры по питону и статистике\n"
   ]
  },
  {
   "cell_type": "code",
   "execution_count": 95,
   "id": "d6fc3725-908e-4228-8654-33224d763f06",
   "metadata": {},
   "outputs": [
    {
     "data": {
      "text/html": [
       "<div>\n",
       "<style scoped>\n",
       "    .dataframe tbody tr th:only-of-type {\n",
       "        vertical-align: middle;\n",
       "    }\n",
       "\n",
       "    .dataframe tbody tr th {\n",
       "        vertical-align: top;\n",
       "    }\n",
       "\n",
       "    .dataframe thead th {\n",
       "        text-align: right;\n",
       "    }\n",
       "</style>\n",
       "<table border=\"1\" class=\"dataframe\">\n",
       "  <thead>\n",
       "    <tr style=\"text-align: right;\">\n",
       "      <th></th>\n",
       "      <th>PYTHON</th>\n",
       "      <th>STATS</th>\n",
       "    </tr>\n",
       "  </thead>\n",
       "  <tbody>\n",
       "    <tr>\n",
       "      <th>Alice</th>\n",
       "      <td>7</td>\n",
       "      <td>8</td>\n",
       "    </tr>\n",
       "    <tr>\n",
       "      <th>Shura</th>\n",
       "      <td>9</td>\n",
       "      <td>10</td>\n",
       "    </tr>\n",
       "  </tbody>\n",
       "</table>\n",
       "</div>"
      ],
      "text/plain": [
       "       PYTHON  STATS\n",
       "Alice       7      8\n",
       "Shura       9     10"
      ]
     },
     "execution_count": 95,
     "metadata": {},
     "output_type": "execute_result"
    }
   ],
   "source": [
    "df.loc[[\"Alice\", \"Shura\"], [\"PYTHON\", \"STATS\"]]"
   ]
  },
  {
   "cell_type": "markdown",
   "id": "0d61cf12-53ac-482d-a337-5f64f6d82e64",
   "metadata": {},
   "source": [
    "Если обращаться к таблице с целыми числами или срезами, то фильтруются строки таблицы, если текстовым значением, то фильтруются столбцы.\n",
    "\n",
    "Здесь взято всё до второй строки (по сути, первая) и столбцы `\"INTRO\"`, `\"AVERAGE\"`"
   ]
  },
  {
   "cell_type": "code",
   "execution_count": 94,
   "id": "8039f9cc-9f1c-461b-8174-f670565159ca",
   "metadata": {},
   "outputs": [
    {
     "data": {
      "text/html": [
       "<div>\n",
       "<style scoped>\n",
       "    .dataframe tbody tr th:only-of-type {\n",
       "        vertical-align: middle;\n",
       "    }\n",
       "\n",
       "    .dataframe tbody tr th {\n",
       "        vertical-align: top;\n",
       "    }\n",
       "\n",
       "    .dataframe thead th {\n",
       "        text-align: right;\n",
       "    }\n",
       "</style>\n",
       "<table border=\"1\" class=\"dataframe\">\n",
       "  <thead>\n",
       "    <tr style=\"text-align: right;\">\n",
       "      <th></th>\n",
       "      <th>INTRO</th>\n",
       "      <th>AVERAGE</th>\n",
       "    </tr>\n",
       "  </thead>\n",
       "  <tbody>\n",
       "    <tr>\n",
       "      <th>Mark</th>\n",
       "      <td>6</td>\n",
       "      <td>9.5</td>\n",
       "    </tr>\n",
       "  </tbody>\n",
       "</table>\n",
       "</div>"
      ],
      "text/plain": [
       "      INTRO  AVERAGE\n",
       "Mark      6      9.5"
      ]
     },
     "execution_count": 94,
     "metadata": {},
     "output_type": "execute_result"
    }
   ],
   "source": [
    "df[:1][[\"INTRO\", \"AVERAGE\"]]"
   ]
  },
  {
   "cell_type": "code",
   "execution_count": 86,
   "id": "fbf7508c-40b8-45e9-a65c-e2ae151e57ca",
   "metadata": {},
   "outputs": [
    {
     "data": {
      "text/plain": [
       "INTRO      6.0\n",
       "AVERAGE    9.5\n",
       "Name: Mark, dtype: float64"
      ]
     },
     "execution_count": 86,
     "metadata": {},
     "output_type": "execute_result"
    }
   ],
   "source": [
    "df.loc[\"Mark\", [\"INTRO\", \"AVERAGE\"]]"
   ]
  },
  {
   "cell_type": "code",
   "execution_count": 191,
   "id": "6628dec5-8021-4dd4-89eb-2fc4269247ae",
   "metadata": {},
   "outputs": [
    {
     "data": {
      "text/plain": [
       "9"
      ]
     },
     "execution_count": 191,
     "metadata": {},
     "output_type": "execute_result"
    }
   ],
   "source": [
    "df.loc['Shura', 'PYTHON']"
   ]
  },
  {
   "cell_type": "code",
   "execution_count": 80,
   "id": "809bf0e1-c1ce-47b0-848a-6f88f2391a50",
   "metadata": {},
   "outputs": [
    {
     "data": {
      "text/plain": [
       "9"
      ]
     },
     "execution_count": 80,
     "metadata": {},
     "output_type": "execute_result"
    }
   ],
   "source": [
    "df['PYTHON'][\"Shura\"]"
   ]
  },
  {
   "cell_type": "code",
   "execution_count": 94,
   "id": "3064ffd8-c12e-49ac-86d7-efe5e6bfbe4b",
   "metadata": {},
   "outputs": [
    {
     "data": {
      "text/plain": [
       "9"
      ]
     },
     "execution_count": 94,
     "metadata": {},
     "output_type": "execute_result"
    }
   ],
   "source": [
    "df.iloc[2, 0]"
   ]
  },
  {
   "cell_type": "code",
   "execution_count": 68,
   "id": "53b1419e-759d-493d-8bcf-f543ba774f92",
   "metadata": {},
   "outputs": [
    {
     "data": {
      "text/plain": [
       "PYTHON      9.0\n",
       "STATS      10.0\n",
       "INTRO       5.0\n",
       "AVERAGE     9.5\n",
       "Name: Shura, dtype: float64"
      ]
     },
     "execution_count": 68,
     "metadata": {},
     "output_type": "execute_result"
    }
   ],
   "source": [
    "df.iloc[2, :]"
   ]
  },
  {
   "cell_type": "markdown",
   "id": "35a75069-bb36-4fbb-9273-f769e3e84761",
   "metadata": {},
   "source": [
    "Средняя оценка Максима? "
   ]
  },
  {
   "cell_type": "code",
   "execution_count": 84,
   "id": "622f9560-82e7-41e9-8aac-e5f026d71164",
   "metadata": {},
   "outputs": [
    {
     "data": {
      "text/plain": [
       "6.5"
      ]
     },
     "execution_count": 84,
     "metadata": {},
     "output_type": "execute_result"
    }
   ],
   "source": [
    "df.loc[\"Maxim\", \"AVERAGE\"]"
   ]
  },
  {
   "cell_type": "code",
   "execution_count": null,
   "id": "27d088d2-1d9f-4d70-b448-2045f7e477b4",
   "metadata": {},
   "outputs": [],
   "source": [
    "# здесь запишите ваш код"
   ]
  },
  {
   "cell_type": "markdown",
   "id": "b725c50a-0e90-4aa5-bdc4-f81b9c0aeb87",
   "metadata": {},
   "source": [
    "У Марка оценку за введение и среднюю за андан и питон?\n"
   ]
  },
  {
   "cell_type": "code",
   "execution_count": null,
   "id": "56d22815-0417-4706-934f-27739b4398f6",
   "metadata": {},
   "outputs": [],
   "source": []
  },
  {
   "cell_type": "code",
   "execution_count": null,
   "id": "5e2461c0-d758-4510-b508-6f4aa4b0ad99",
   "metadata": {},
   "outputs": [],
   "source": [
    "# здесь запишите ваш код"
   ]
  },
  {
   "cell_type": "markdown",
   "id": "e99fad12-94d4-4349-9774-d92e1babc2ea",
   "metadata": {},
   "source": [
    "Для алисы и шуры за питон и статс?"
   ]
  },
  {
   "cell_type": "code",
   "execution_count": null,
   "id": "dcd54f93-a1ba-44d1-8f36-0b99fbf33cf7",
   "metadata": {},
   "outputs": [],
   "source": [
    "# здесь запишите ваш код"
   ]
  },
  {
   "cell_type": "markdown",
   "id": "78bbfb5c-3e82-43cc-b8f5-849fd6ec55a1",
   "metadata": {},
   "source": [
    "Что у Алисы по статистике?"
   ]
  },
  {
   "cell_type": "code",
   "execution_count": 95,
   "id": "5b9e5d1c-960a-49a7-934a-e0955a231764",
   "metadata": {},
   "outputs": [
    {
     "data": {
      "text/plain": [
       "8"
      ]
     },
     "execution_count": 95,
     "metadata": {},
     "output_type": "execute_result"
    }
   ],
   "source": [
    "df['STATS'][1]"
   ]
  },
  {
   "cell_type": "code",
   "execution_count": 96,
   "id": "f8154b5a-06b9-43d9-ad74-b1fd6a510978",
   "metadata": {},
   "outputs": [
    {
     "data": {
      "text/plain": [
       "8.0"
      ]
     },
     "execution_count": 96,
     "metadata": {},
     "output_type": "execute_result"
    }
   ],
   "source": [
    "df.iloc[1]['STATS']"
   ]
  },
  {
   "cell_type": "code",
   "execution_count": 97,
   "id": "486dcba7-1fb9-44b7-bcf3-15199c5cd24f",
   "metadata": {},
   "outputs": [
    {
     "data": {
      "text/plain": [
       "8"
      ]
     },
     "execution_count": 97,
     "metadata": {},
     "output_type": "execute_result"
    }
   ],
   "source": [
    "df.iloc[1,1]"
   ]
  },
  {
   "cell_type": "code",
   "execution_count": 98,
   "id": "bad8fd84-c4c6-4eb9-ac16-546efda3fd4a",
   "metadata": {},
   "outputs": [
    {
     "data": {
      "text/plain": [
       "8"
      ]
     },
     "execution_count": 98,
     "metadata": {},
     "output_type": "execute_result"
    }
   ],
   "source": [
    "df.loc['Alice', 'STATS']"
   ]
  },
  {
   "cell_type": "markdown",
   "id": "d6d7847d-cb0a-47ee-b8d0-c72f0d3842da",
   "metadata": {},
   "source": [
    "# Загрузка данных в pandas"
   ]
  },
  {
   "cell_type": "markdown",
   "id": "d9242f9c-5d91-408a-a0f9-9368fe883c11",
   "metadata": {},
   "source": [
    "`pandas` очень упрощает обработку файлов с разделителями!\n",
    "\n",
    "Нужно просто указать разделитель, если это не `,`"
   ]
  },
  {
   "cell_type": "code",
   "execution_count": 1,
   "id": "653fdb7b-1f95-4399-ae13-4679b4665890",
   "metadata": {},
   "outputs": [],
   "source": [
    "import pandas as pd"
   ]
  },
  {
   "cell_type": "code",
   "execution_count": 109,
   "id": "e4f2717d-259c-4c85-8c08-ceec72532297",
   "metadata": {
    "collapsed": true,
    "jupyter": {
     "outputs_hidden": true
    },
    "tags": []
   },
   "outputs": [
    {
     "data": {
      "text/html": [
       "<div>\n",
       "<style scoped>\n",
       "    .dataframe tbody tr th:only-of-type {\n",
       "        vertical-align: middle;\n",
       "    }\n",
       "\n",
       "    .dataframe tbody tr th {\n",
       "        vertical-align: top;\n",
       "    }\n",
       "\n",
       "    .dataframe thead th {\n",
       "        text-align: right;\n",
       "    }\n",
       "</style>\n",
       "<table border=\"1\" class=\"dataframe\">\n",
       "  <thead>\n",
       "    <tr style=\"text-align: right;\">\n",
       "      <th></th>\n",
       "      <th>Имя Фамилия</th>\n",
       "      <th>EMAIL</th>\n",
       "      <th>КР</th>\n",
       "      <th>ИТОГ</th>\n",
       "    </tr>\n",
       "  </thead>\n",
       "  <tbody>\n",
       "    <tr>\n",
       "      <th>0</th>\n",
       "      <td>Иван Иванов</td>\n",
       "      <td>ivanov@hse.ru</td>\n",
       "      <td>5</td>\n",
       "      <td>6</td>\n",
       "    </tr>\n",
       "    <tr>\n",
       "      <th>1</th>\n",
       "      <td>Петр Петров</td>\n",
       "      <td>petrov@hse.ru</td>\n",
       "      <td>8</td>\n",
       "      <td>10</td>\n",
       "    </tr>\n",
       "    <tr>\n",
       "      <th>2</th>\n",
       "      <td>Мария Кузнецова</td>\n",
       "      <td>kuznetsova@hse.ru</td>\n",
       "      <td>7</td>\n",
       "      <td>8</td>\n",
       "    </tr>\n",
       "    <tr>\n",
       "      <th>3</th>\n",
       "      <td>Татьяна Смирнова</td>\n",
       "      <td>smirnova@hse.ru</td>\n",
       "      <td>3</td>\n",
       "      <td>9</td>\n",
       "    </tr>\n",
       "    <tr>\n",
       "      <th>4</th>\n",
       "      <td>Камиль Ахметов</td>\n",
       "      <td>akhmetov@hse.ru</td>\n",
       "      <td>8</td>\n",
       "      <td>6</td>\n",
       "    </tr>\n",
       "    <tr>\n",
       "      <th>5</th>\n",
       "      <td>Софья Сонина</td>\n",
       "      <td>sonina@hse.ru</td>\n",
       "      <td>10</td>\n",
       "      <td>10</td>\n",
       "    </tr>\n",
       "    <tr>\n",
       "      <th>6</th>\n",
       "      <td>Андрей Андреев</td>\n",
       "      <td>andreev@hse.ru</td>\n",
       "      <td>2</td>\n",
       "      <td>4</td>\n",
       "    </tr>\n",
       "    <tr>\n",
       "      <th>7</th>\n",
       "      <td>Алина Хисматуллина</td>\n",
       "      <td>khismatullina@hse.ru</td>\n",
       "      <td>3</td>\n",
       "      <td>3</td>\n",
       "    </tr>\n",
       "    <tr>\n",
       "      <th>8</th>\n",
       "      <td>Семен Семенов</td>\n",
       "      <td>semenov@hse.ru</td>\n",
       "      <td>5</td>\n",
       "      <td>8</td>\n",
       "    </tr>\n",
       "    <tr>\n",
       "      <th>9</th>\n",
       "      <td>Макар Макаров</td>\n",
       "      <td>makarov@hse.ru</td>\n",
       "      <td>9</td>\n",
       "      <td>6</td>\n",
       "    </tr>\n",
       "    <tr>\n",
       "      <th>10</th>\n",
       "      <td>Василиса Васильева</td>\n",
       "      <td>vasilieva@hse.ru</td>\n",
       "      <td>5</td>\n",
       "      <td>7</td>\n",
       "    </tr>\n",
       "    <tr>\n",
       "      <th>11</th>\n",
       "      <td>Корней Корнеев</td>\n",
       "      <td>korneev@hse.ru</td>\n",
       "      <td>4</td>\n",
       "      <td>1</td>\n",
       "    </tr>\n",
       "    <tr>\n",
       "      <th>12</th>\n",
       "      <td>Тимофей Тимофеев</td>\n",
       "      <td>timofeev@hse.ru</td>\n",
       "      <td>8</td>\n",
       "      <td>9</td>\n",
       "    </tr>\n",
       "    <tr>\n",
       "      <th>13</th>\n",
       "      <td>Екатерина Катина</td>\n",
       "      <td>katina@hse.ru</td>\n",
       "      <td>5</td>\n",
       "      <td>4</td>\n",
       "    </tr>\n",
       "    <tr>\n",
       "      <th>14</th>\n",
       "      <td>Елена Ленина</td>\n",
       "      <td>lenina@hse.ru</td>\n",
       "      <td>6</td>\n",
       "      <td>6</td>\n",
       "    </tr>\n",
       "  </tbody>\n",
       "</table>\n",
       "</div>"
      ],
      "text/plain": [
       "           Имя Фамилия                 EMAIL  КР  ИТОГ\n",
       "0          Иван Иванов         ivanov@hse.ru   5     6\n",
       "1          Петр Петров         petrov@hse.ru   8    10\n",
       "2      Мария Кузнецова     kuznetsova@hse.ru   7     8\n",
       "3     Татьяна Смирнова       smirnova@hse.ru   3     9\n",
       "4       Камиль Ахметов       akhmetov@hse.ru   8     6\n",
       "5         Софья Сонина         sonina@hse.ru  10    10\n",
       "6       Андрей Андреев        andreev@hse.ru   2     4\n",
       "7   Алина Хисматуллина  khismatullina@hse.ru   3     3\n",
       "8        Семен Семенов        semenov@hse.ru   5     8\n",
       "9        Макар Макаров        makarov@hse.ru   9     6\n",
       "10  Василиса Васильева      vasilieva@hse.ru   5     7\n",
       "11      Корней Корнеев        korneev@hse.ru   4     1\n",
       "12    Тимофей Тимофеев       timofeev@hse.ru   8     9\n",
       "13    Екатерина Катина         katina@hse.ru   5     4\n",
       "14        Елена Ленина         lenina@hse.ru   6     6"
      ]
     },
     "execution_count": 109,
     "metadata": {},
     "output_type": "execute_result"
    }
   ],
   "source": [
    "with open(\"data/students.csv\", 'r', encoding='utf-8') as f:\n",
    "    _ = pd.read_csv(f)\n",
    "_"
   ]
  },
  {
   "cell_type": "code",
   "execution_count": 105,
   "id": "c97c0015-ee57-48a7-b9f6-fcf569860b1b",
   "metadata": {},
   "outputs": [
    {
     "data": {
      "text/html": [
       "<div>\n",
       "<style scoped>\n",
       "    .dataframe tbody tr th:only-of-type {\n",
       "        vertical-align: middle;\n",
       "    }\n",
       "\n",
       "    .dataframe tbody tr th {\n",
       "        vertical-align: top;\n",
       "    }\n",
       "\n",
       "    .dataframe thead th {\n",
       "        text-align: right;\n",
       "    }\n",
       "</style>\n",
       "<table border=\"1\" class=\"dataframe\">\n",
       "  <thead>\n",
       "    <tr style=\"text-align: right;\">\n",
       "      <th></th>\n",
       "      <th>Имя Фамилия</th>\n",
       "      <th>EMAIL</th>\n",
       "      <th>КР</th>\n",
       "      <th>ИТОГ</th>\n",
       "    </tr>\n",
       "  </thead>\n",
       "  <tbody>\n",
       "    <tr>\n",
       "      <th>0</th>\n",
       "      <td>Иван Иванов</td>\n",
       "      <td>ivanov@hse.ru</td>\n",
       "      <td>5</td>\n",
       "      <td>6</td>\n",
       "    </tr>\n",
       "    <tr>\n",
       "      <th>1</th>\n",
       "      <td>Петр Петров</td>\n",
       "      <td>petrov@hse.ru</td>\n",
       "      <td>8</td>\n",
       "      <td>10</td>\n",
       "    </tr>\n",
       "    <tr>\n",
       "      <th>2</th>\n",
       "      <td>Мария Кузнецова</td>\n",
       "      <td>kuznetsova@hse.ru</td>\n",
       "      <td>7</td>\n",
       "      <td>8</td>\n",
       "    </tr>\n",
       "    <tr>\n",
       "      <th>3</th>\n",
       "      <td>Татьяна Смирнова</td>\n",
       "      <td>smirnova@hse.ru</td>\n",
       "      <td>3</td>\n",
       "      <td>9</td>\n",
       "    </tr>\n",
       "    <tr>\n",
       "      <th>4</th>\n",
       "      <td>Камиль Ахметов</td>\n",
       "      <td>akhmetov@hse.ru</td>\n",
       "      <td>8</td>\n",
       "      <td>6</td>\n",
       "    </tr>\n",
       "    <tr>\n",
       "      <th>5</th>\n",
       "      <td>Софья Сонина</td>\n",
       "      <td>sonina@hse.ru</td>\n",
       "      <td>10</td>\n",
       "      <td>10</td>\n",
       "    </tr>\n",
       "    <tr>\n",
       "      <th>6</th>\n",
       "      <td>Андрей Андреев</td>\n",
       "      <td>andreev@hse.ru</td>\n",
       "      <td>2</td>\n",
       "      <td>4</td>\n",
       "    </tr>\n",
       "    <tr>\n",
       "      <th>7</th>\n",
       "      <td>Алина Хисматуллина</td>\n",
       "      <td>khismatullina@hse.ru</td>\n",
       "      <td>3</td>\n",
       "      <td>3</td>\n",
       "    </tr>\n",
       "    <tr>\n",
       "      <th>8</th>\n",
       "      <td>Семен Семенов</td>\n",
       "      <td>semenov@hse.ru</td>\n",
       "      <td>5</td>\n",
       "      <td>8</td>\n",
       "    </tr>\n",
       "    <tr>\n",
       "      <th>9</th>\n",
       "      <td>Макар Макаров</td>\n",
       "      <td>makarov@hse.ru</td>\n",
       "      <td>9</td>\n",
       "      <td>6</td>\n",
       "    </tr>\n",
       "    <tr>\n",
       "      <th>10</th>\n",
       "      <td>Василиса Васильева</td>\n",
       "      <td>vasilieva@hse.ru</td>\n",
       "      <td>5</td>\n",
       "      <td>7</td>\n",
       "    </tr>\n",
       "    <tr>\n",
       "      <th>11</th>\n",
       "      <td>Корней Корнеев</td>\n",
       "      <td>korneev@hse.ru</td>\n",
       "      <td>4</td>\n",
       "      <td>1</td>\n",
       "    </tr>\n",
       "    <tr>\n",
       "      <th>12</th>\n",
       "      <td>Тимофей Тимофеев</td>\n",
       "      <td>timofeev@hse.ru</td>\n",
       "      <td>8</td>\n",
       "      <td>9</td>\n",
       "    </tr>\n",
       "    <tr>\n",
       "      <th>13</th>\n",
       "      <td>Екатерина Катина</td>\n",
       "      <td>katina@hse.ru</td>\n",
       "      <td>5</td>\n",
       "      <td>4</td>\n",
       "    </tr>\n",
       "    <tr>\n",
       "      <th>14</th>\n",
       "      <td>Елена Ленина</td>\n",
       "      <td>lenina@hse.ru</td>\n",
       "      <td>6</td>\n",
       "      <td>6</td>\n",
       "    </tr>\n",
       "  </tbody>\n",
       "</table>\n",
       "</div>"
      ],
      "text/plain": [
       "           Имя Фамилия                 EMAIL  КР  ИТОГ\n",
       "0          Иван Иванов         ivanov@hse.ru   5     6\n",
       "1          Петр Петров         petrov@hse.ru   8    10\n",
       "2      Мария Кузнецова     kuznetsova@hse.ru   7     8\n",
       "3     Татьяна Смирнова       smirnova@hse.ru   3     9\n",
       "4       Камиль Ахметов       akhmetov@hse.ru   8     6\n",
       "5         Софья Сонина         sonina@hse.ru  10    10\n",
       "6       Андрей Андреев        andreev@hse.ru   2     4\n",
       "7   Алина Хисматуллина  khismatullina@hse.ru   3     3\n",
       "8        Семен Семенов        semenov@hse.ru   5     8\n",
       "9        Макар Макаров        makarov@hse.ru   9     6\n",
       "10  Василиса Васильева      vasilieva@hse.ru   5     7\n",
       "11      Корней Корнеев        korneev@hse.ru   4     1\n",
       "12    Тимофей Тимофеев       timofeev@hse.ru   8     9\n",
       "13    Екатерина Катина         katina@hse.ru   5     4\n",
       "14        Елена Ленина         lenina@hse.ru   6     6"
      ]
     },
     "execution_count": 105,
     "metadata": {},
     "output_type": "execute_result"
    }
   ],
   "source": [
    "df_csv = pd.read_csv('data/students.csv')\n",
    "df_csv"
   ]
  },
  {
   "cell_type": "code",
   "execution_count": 111,
   "id": "38f19b7c-f2d0-48c9-8d5d-70ff87eb9b2c",
   "metadata": {},
   "outputs": [
    {
     "data": {
      "text/html": [
       "<div>\n",
       "<style scoped>\n",
       "    .dataframe tbody tr th:only-of-type {\n",
       "        vertical-align: middle;\n",
       "    }\n",
       "\n",
       "    .dataframe tbody tr th {\n",
       "        vertical-align: top;\n",
       "    }\n",
       "\n",
       "    .dataframe thead th {\n",
       "        text-align: right;\n",
       "    }\n",
       "</style>\n",
       "<table border=\"1\" class=\"dataframe\">\n",
       "  <thead>\n",
       "    <tr style=\"text-align: right;\">\n",
       "      <th></th>\n",
       "      <th>Имя Фамилия</th>\n",
       "      <th>EMAIL</th>\n",
       "      <th>КР</th>\n",
       "      <th>ИТОГ</th>\n",
       "    </tr>\n",
       "  </thead>\n",
       "  <tbody>\n",
       "    <tr>\n",
       "      <th>0</th>\n",
       "      <td>Иван, Иванов</td>\n",
       "      <td>ivanov@hse.ru</td>\n",
       "      <td>5</td>\n",
       "      <td>6</td>\n",
       "    </tr>\n",
       "    <tr>\n",
       "      <th>1</th>\n",
       "      <td>Петр Петров</td>\n",
       "      <td>petrov@hse.ru</td>\n",
       "      <td>8</td>\n",
       "      <td>10</td>\n",
       "    </tr>\n",
       "    <tr>\n",
       "      <th>2</th>\n",
       "      <td>Мария Кузнецова</td>\n",
       "      <td>kuznetsova@hse.ru</td>\n",
       "      <td>7</td>\n",
       "      <td>8</td>\n",
       "    </tr>\n",
       "    <tr>\n",
       "      <th>3</th>\n",
       "      <td>Татьяна Смирнова</td>\n",
       "      <td>smirnova@hse.ru</td>\n",
       "      <td>3</td>\n",
       "      <td>9</td>\n",
       "    </tr>\n",
       "    <tr>\n",
       "      <th>4</th>\n",
       "      <td>Камиль Ахметов</td>\n",
       "      <td>akhmetov@hse.ru</td>\n",
       "      <td>8</td>\n",
       "      <td>6</td>\n",
       "    </tr>\n",
       "    <tr>\n",
       "      <th>5</th>\n",
       "      <td>Софья Сонина</td>\n",
       "      <td>sonina@hse.ru</td>\n",
       "      <td>10</td>\n",
       "      <td>10</td>\n",
       "    </tr>\n",
       "    <tr>\n",
       "      <th>6</th>\n",
       "      <td>Андрей Андреев</td>\n",
       "      <td>andreev@hse.ru</td>\n",
       "      <td>2</td>\n",
       "      <td>4</td>\n",
       "    </tr>\n",
       "    <tr>\n",
       "      <th>7</th>\n",
       "      <td>Алина Хисматуллина</td>\n",
       "      <td>khismatullina@hse.ru</td>\n",
       "      <td>3</td>\n",
       "      <td>3</td>\n",
       "    </tr>\n",
       "    <tr>\n",
       "      <th>8</th>\n",
       "      <td>Семен Семенов</td>\n",
       "      <td>semenov@hse.ru</td>\n",
       "      <td>5</td>\n",
       "      <td>8</td>\n",
       "    </tr>\n",
       "    <tr>\n",
       "      <th>9</th>\n",
       "      <td>Макар Макаров</td>\n",
       "      <td>makarov@hse.ru</td>\n",
       "      <td>9</td>\n",
       "      <td>6</td>\n",
       "    </tr>\n",
       "    <tr>\n",
       "      <th>10</th>\n",
       "      <td>Василиса Васильева</td>\n",
       "      <td>vasilieva@hse.ru</td>\n",
       "      <td>5</td>\n",
       "      <td>7</td>\n",
       "    </tr>\n",
       "    <tr>\n",
       "      <th>11</th>\n",
       "      <td>Корней Корнеев</td>\n",
       "      <td>korneev@hse.ru</td>\n",
       "      <td>4</td>\n",
       "      <td>1</td>\n",
       "    </tr>\n",
       "    <tr>\n",
       "      <th>12</th>\n",
       "      <td>Тимофей Тимофеев</td>\n",
       "      <td>timofeev@hse.ru</td>\n",
       "      <td>8</td>\n",
       "      <td>9</td>\n",
       "    </tr>\n",
       "    <tr>\n",
       "      <th>13</th>\n",
       "      <td>Екатерина Катина</td>\n",
       "      <td>katina@hse.ru</td>\n",
       "      <td>5</td>\n",
       "      <td>4</td>\n",
       "    </tr>\n",
       "    <tr>\n",
       "      <th>14</th>\n",
       "      <td>Елена Ленина</td>\n",
       "      <td>lenina@hse.ru</td>\n",
       "      <td>6</td>\n",
       "      <td>6</td>\n",
       "    </tr>\n",
       "  </tbody>\n",
       "</table>\n",
       "</div>"
      ],
      "text/plain": [
       "           Имя Фамилия                 EMAIL  КР  ИТОГ\n",
       "0         Иван, Иванов         ivanov@hse.ru   5     6\n",
       "1          Петр Петров         petrov@hse.ru   8    10\n",
       "2      Мария Кузнецова     kuznetsova@hse.ru   7     8\n",
       "3     Татьяна Смирнова       smirnova@hse.ru   3     9\n",
       "4       Камиль Ахметов       akhmetov@hse.ru   8     6\n",
       "5         Софья Сонина         sonina@hse.ru  10    10\n",
       "6       Андрей Андреев        andreev@hse.ru   2     4\n",
       "7   Алина Хисматуллина  khismatullina@hse.ru   3     3\n",
       "8        Семен Семенов        semenov@hse.ru   5     8\n",
       "9        Макар Макаров        makarov@hse.ru   9     6\n",
       "10  Василиса Васильева      vasilieva@hse.ru   5     7\n",
       "11      Корней Корнеев        korneev@hse.ru   4     1\n",
       "12    Тимофей Тимофеев       timofeev@hse.ru   8     9\n",
       "13    Екатерина Катина         katina@hse.ru   5     4\n",
       "14        Елена Ленина         lenina@hse.ru   6     6"
      ]
     },
     "execution_count": 111,
     "metadata": {},
     "output_type": "execute_result"
    }
   ],
   "source": [
    "df_csv.iloc[0, 0] = 'Иван, Иванов'\n",
    "\n",
    "df_csv"
   ]
  },
  {
   "cell_type": "code",
   "execution_count": 113,
   "id": "06aecac7-571b-4595-bcd6-896666566c69",
   "metadata": {},
   "outputs": [],
   "source": [
    "df_csv.to_csv(\"data/students2.csv\")"
   ]
  },
  {
   "cell_type": "code",
   "execution_count": 114,
   "id": "13b1d763-8d73-4d75-bf14-8eb3eb5e8587",
   "metadata": {},
   "outputs": [
    {
     "data": {
      "text/html": [
       "<div>\n",
       "<style scoped>\n",
       "    .dataframe tbody tr th:only-of-type {\n",
       "        vertical-align: middle;\n",
       "    }\n",
       "\n",
       "    .dataframe tbody tr th {\n",
       "        vertical-align: top;\n",
       "    }\n",
       "\n",
       "    .dataframe thead th {\n",
       "        text-align: right;\n",
       "    }\n",
       "</style>\n",
       "<table border=\"1\" class=\"dataframe\">\n",
       "  <thead>\n",
       "    <tr style=\"text-align: right;\">\n",
       "      <th></th>\n",
       "      <th>Unnamed: 0</th>\n",
       "      <th>Имя Фамилия</th>\n",
       "      <th>EMAIL</th>\n",
       "      <th>КР</th>\n",
       "      <th>ИТОГ</th>\n",
       "    </tr>\n",
       "  </thead>\n",
       "  <tbody>\n",
       "    <tr>\n",
       "      <th>0</th>\n",
       "      <td>0</td>\n",
       "      <td>Иван, Иванов</td>\n",
       "      <td>ivanov@hse.ru</td>\n",
       "      <td>5</td>\n",
       "      <td>6</td>\n",
       "    </tr>\n",
       "    <tr>\n",
       "      <th>1</th>\n",
       "      <td>1</td>\n",
       "      <td>Петр Петров</td>\n",
       "      <td>petrov@hse.ru</td>\n",
       "      <td>8</td>\n",
       "      <td>10</td>\n",
       "    </tr>\n",
       "    <tr>\n",
       "      <th>2</th>\n",
       "      <td>2</td>\n",
       "      <td>Мария Кузнецова</td>\n",
       "      <td>kuznetsova@hse.ru</td>\n",
       "      <td>7</td>\n",
       "      <td>8</td>\n",
       "    </tr>\n",
       "    <tr>\n",
       "      <th>3</th>\n",
       "      <td>3</td>\n",
       "      <td>Татьяна Смирнова</td>\n",
       "      <td>smirnova@hse.ru</td>\n",
       "      <td>3</td>\n",
       "      <td>9</td>\n",
       "    </tr>\n",
       "    <tr>\n",
       "      <th>4</th>\n",
       "      <td>4</td>\n",
       "      <td>Камиль Ахметов</td>\n",
       "      <td>akhmetov@hse.ru</td>\n",
       "      <td>8</td>\n",
       "      <td>6</td>\n",
       "    </tr>\n",
       "    <tr>\n",
       "      <th>5</th>\n",
       "      <td>5</td>\n",
       "      <td>Софья Сонина</td>\n",
       "      <td>sonina@hse.ru</td>\n",
       "      <td>10</td>\n",
       "      <td>10</td>\n",
       "    </tr>\n",
       "    <tr>\n",
       "      <th>6</th>\n",
       "      <td>6</td>\n",
       "      <td>Андрей Андреев</td>\n",
       "      <td>andreev@hse.ru</td>\n",
       "      <td>2</td>\n",
       "      <td>4</td>\n",
       "    </tr>\n",
       "    <tr>\n",
       "      <th>7</th>\n",
       "      <td>7</td>\n",
       "      <td>Алина Хисматуллина</td>\n",
       "      <td>khismatullina@hse.ru</td>\n",
       "      <td>3</td>\n",
       "      <td>3</td>\n",
       "    </tr>\n",
       "    <tr>\n",
       "      <th>8</th>\n",
       "      <td>8</td>\n",
       "      <td>Семен Семенов</td>\n",
       "      <td>semenov@hse.ru</td>\n",
       "      <td>5</td>\n",
       "      <td>8</td>\n",
       "    </tr>\n",
       "    <tr>\n",
       "      <th>9</th>\n",
       "      <td>9</td>\n",
       "      <td>Макар Макаров</td>\n",
       "      <td>makarov@hse.ru</td>\n",
       "      <td>9</td>\n",
       "      <td>6</td>\n",
       "    </tr>\n",
       "    <tr>\n",
       "      <th>10</th>\n",
       "      <td>10</td>\n",
       "      <td>Василиса Васильева</td>\n",
       "      <td>vasilieva@hse.ru</td>\n",
       "      <td>5</td>\n",
       "      <td>7</td>\n",
       "    </tr>\n",
       "    <tr>\n",
       "      <th>11</th>\n",
       "      <td>11</td>\n",
       "      <td>Корней Корнеев</td>\n",
       "      <td>korneev@hse.ru</td>\n",
       "      <td>4</td>\n",
       "      <td>1</td>\n",
       "    </tr>\n",
       "    <tr>\n",
       "      <th>12</th>\n",
       "      <td>12</td>\n",
       "      <td>Тимофей Тимофеев</td>\n",
       "      <td>timofeev@hse.ru</td>\n",
       "      <td>8</td>\n",
       "      <td>9</td>\n",
       "    </tr>\n",
       "    <tr>\n",
       "      <th>13</th>\n",
       "      <td>13</td>\n",
       "      <td>Екатерина Катина</td>\n",
       "      <td>katina@hse.ru</td>\n",
       "      <td>5</td>\n",
       "      <td>4</td>\n",
       "    </tr>\n",
       "    <tr>\n",
       "      <th>14</th>\n",
       "      <td>14</td>\n",
       "      <td>Елена Ленина</td>\n",
       "      <td>lenina@hse.ru</td>\n",
       "      <td>6</td>\n",
       "      <td>6</td>\n",
       "    </tr>\n",
       "  </tbody>\n",
       "</table>\n",
       "</div>"
      ],
      "text/plain": [
       "    Unnamed: 0         Имя Фамилия                 EMAIL  КР  ИТОГ\n",
       "0            0        Иван, Иванов         ivanov@hse.ru   5     6\n",
       "1            1         Петр Петров         petrov@hse.ru   8    10\n",
       "2            2     Мария Кузнецова     kuznetsova@hse.ru   7     8\n",
       "3            3    Татьяна Смирнова       smirnova@hse.ru   3     9\n",
       "4            4      Камиль Ахметов       akhmetov@hse.ru   8     6\n",
       "5            5        Софья Сонина         sonina@hse.ru  10    10\n",
       "6            6      Андрей Андреев        andreev@hse.ru   2     4\n",
       "7            7  Алина Хисматуллина  khismatullina@hse.ru   3     3\n",
       "8            8       Семен Семенов        semenov@hse.ru   5     8\n",
       "9            9       Макар Макаров        makarov@hse.ru   9     6\n",
       "10          10  Василиса Васильева      vasilieva@hse.ru   5     7\n",
       "11          11      Корней Корнеев        korneev@hse.ru   4     1\n",
       "12          12    Тимофей Тимофеев       timofeev@hse.ru   8     9\n",
       "13          13    Екатерина Катина         katina@hse.ru   5     4\n",
       "14          14        Елена Ленина         lenina@hse.ru   6     6"
      ]
     },
     "execution_count": 114,
     "metadata": {},
     "output_type": "execute_result"
    }
   ],
   "source": [
    "df_csv2 = pd.read_csv(\"data/students2.csv\") \n",
    "\n",
    "df_csv2"
   ]
  },
  {
   "cell_type": "markdown",
   "id": "de7c1fb7-4537-4eeb-becd-d8fd21b54c27",
   "metadata": {},
   "source": [
    "Эксперименты:\n",
    "\n",
    "не сломает ли наличие кавычек и запятых в значении ячейки наш формат записи `.csv` с разделителем запятой (и обрамлением в кавычки значений, содержащих запятую)?"
   ]
  },
  {
   "cell_type": "code",
   "execution_count": 115,
   "id": "6ed0331b-fac2-421e-a4fc-24a8ad94aea7",
   "metadata": {},
   "outputs": [
    {
     "data": {
      "text/html": [
       "<div>\n",
       "<style scoped>\n",
       "    .dataframe tbody tr th:only-of-type {\n",
       "        vertical-align: middle;\n",
       "    }\n",
       "\n",
       "    .dataframe tbody tr th {\n",
       "        vertical-align: top;\n",
       "    }\n",
       "\n",
       "    .dataframe thead th {\n",
       "        text-align: right;\n",
       "    }\n",
       "</style>\n",
       "<table border=\"1\" class=\"dataframe\">\n",
       "  <thead>\n",
       "    <tr style=\"text-align: right;\">\n",
       "      <th></th>\n",
       "      <th>Имя Фамилия</th>\n",
       "      <th>EMAIL</th>\n",
       "      <th>КР</th>\n",
       "      <th>ИТОГ</th>\n",
       "    </tr>\n",
       "  </thead>\n",
       "  <tbody>\n",
       "    <tr>\n",
       "      <th>0</th>\n",
       "      <td>Иван, \"Хирый лис\" Иванов</td>\n",
       "      <td>ivanov@hse.ru</td>\n",
       "      <td>5</td>\n",
       "      <td>6</td>\n",
       "    </tr>\n",
       "    <tr>\n",
       "      <th>1</th>\n",
       "      <td>Петр Петров</td>\n",
       "      <td>petrov@hse.ru</td>\n",
       "      <td>8</td>\n",
       "      <td>10</td>\n",
       "    </tr>\n",
       "    <tr>\n",
       "      <th>2</th>\n",
       "      <td>Мария Кузнецова</td>\n",
       "      <td>kuznetsova@hse.ru</td>\n",
       "      <td>7</td>\n",
       "      <td>8</td>\n",
       "    </tr>\n",
       "    <tr>\n",
       "      <th>3</th>\n",
       "      <td>Татьяна Смирнова</td>\n",
       "      <td>smirnova@hse.ru</td>\n",
       "      <td>3</td>\n",
       "      <td>9</td>\n",
       "    </tr>\n",
       "    <tr>\n",
       "      <th>4</th>\n",
       "      <td>Камиль Ахметов</td>\n",
       "      <td>akhmetov@hse.ru</td>\n",
       "      <td>8</td>\n",
       "      <td>6</td>\n",
       "    </tr>\n",
       "    <tr>\n",
       "      <th>5</th>\n",
       "      <td>Софья Сонина</td>\n",
       "      <td>sonina@hse.ru</td>\n",
       "      <td>10</td>\n",
       "      <td>10</td>\n",
       "    </tr>\n",
       "    <tr>\n",
       "      <th>6</th>\n",
       "      <td>Андрей Андреев</td>\n",
       "      <td>andreev@hse.ru</td>\n",
       "      <td>2</td>\n",
       "      <td>4</td>\n",
       "    </tr>\n",
       "    <tr>\n",
       "      <th>7</th>\n",
       "      <td>Алина Хисматуллина</td>\n",
       "      <td>khismatullina@hse.ru</td>\n",
       "      <td>3</td>\n",
       "      <td>3</td>\n",
       "    </tr>\n",
       "    <tr>\n",
       "      <th>8</th>\n",
       "      <td>Семен Семенов</td>\n",
       "      <td>semenov@hse.ru</td>\n",
       "      <td>5</td>\n",
       "      <td>8</td>\n",
       "    </tr>\n",
       "    <tr>\n",
       "      <th>9</th>\n",
       "      <td>Макар Макаров</td>\n",
       "      <td>makarov@hse.ru</td>\n",
       "      <td>9</td>\n",
       "      <td>6</td>\n",
       "    </tr>\n",
       "    <tr>\n",
       "      <th>10</th>\n",
       "      <td>Василиса Васильева</td>\n",
       "      <td>vasilieva@hse.ru</td>\n",
       "      <td>5</td>\n",
       "      <td>7</td>\n",
       "    </tr>\n",
       "    <tr>\n",
       "      <th>11</th>\n",
       "      <td>Корней Корнеев</td>\n",
       "      <td>korneev@hse.ru</td>\n",
       "      <td>4</td>\n",
       "      <td>1</td>\n",
       "    </tr>\n",
       "    <tr>\n",
       "      <th>12</th>\n",
       "      <td>Тимофей Тимофеев</td>\n",
       "      <td>timofeev@hse.ru</td>\n",
       "      <td>8</td>\n",
       "      <td>9</td>\n",
       "    </tr>\n",
       "    <tr>\n",
       "      <th>13</th>\n",
       "      <td>Екатерина Катина</td>\n",
       "      <td>katina@hse.ru</td>\n",
       "      <td>5</td>\n",
       "      <td>4</td>\n",
       "    </tr>\n",
       "    <tr>\n",
       "      <th>14</th>\n",
       "      <td>Елена Ленина</td>\n",
       "      <td>lenina@hse.ru</td>\n",
       "      <td>6</td>\n",
       "      <td>6</td>\n",
       "    </tr>\n",
       "  </tbody>\n",
       "</table>\n",
       "</div>"
      ],
      "text/plain": [
       "                 Имя Фамилия                 EMAIL  КР  ИТОГ\n",
       "0   Иван, \"Хирый лис\" Иванов         ivanov@hse.ru   5     6\n",
       "1                Петр Петров         petrov@hse.ru   8    10\n",
       "2            Мария Кузнецова     kuznetsova@hse.ru   7     8\n",
       "3           Татьяна Смирнова       smirnova@hse.ru   3     9\n",
       "4             Камиль Ахметов       akhmetov@hse.ru   8     6\n",
       "5               Софья Сонина         sonina@hse.ru  10    10\n",
       "6             Андрей Андреев        andreev@hse.ru   2     4\n",
       "7         Алина Хисматуллина  khismatullina@hse.ru   3     3\n",
       "8              Семен Семенов        semenov@hse.ru   5     8\n",
       "9              Макар Макаров        makarov@hse.ru   9     6\n",
       "10        Василиса Васильева      vasilieva@hse.ru   5     7\n",
       "11            Корней Корнеев        korneev@hse.ru   4     1\n",
       "12          Тимофей Тимофеев       timofeev@hse.ru   8     9\n",
       "13          Екатерина Катина         katina@hse.ru   5     4\n",
       "14              Елена Ленина         lenina@hse.ru   6     6"
      ]
     },
     "execution_count": 115,
     "metadata": {},
     "output_type": "execute_result"
    }
   ],
   "source": [
    "df_csv.iloc[0, 0] = 'Иван, \"Хирый лис\" Иванов'\n",
    "\n",
    "df_csv"
   ]
  },
  {
   "cell_type": "code",
   "execution_count": 117,
   "id": "982b727f-664d-4a45-a857-7945032a02a6",
   "metadata": {},
   "outputs": [],
   "source": [
    "df_csv.to_csv(\"data/students3.csv\")"
   ]
  },
  {
   "cell_type": "code",
   "execution_count": 118,
   "id": "8efec8e2-e131-40b9-85fa-6bb0a38b28cd",
   "metadata": {},
   "outputs": [],
   "source": [
    "df_csv.iloc[0, 0] = '\"Иван, \\ \"\"\"Хирый лис\"\"\"\" Иванов\\n'\n",
    "\n",
    "df_csv.to_csv(\"data/students4.csv\")"
   ]
  },
  {
   "cell_type": "code",
   "execution_count": 121,
   "id": "683c00ac-56d6-4cf2-ab92-352cb577f580",
   "metadata": {},
   "outputs": [],
   "source": [
    "df_csv3 = pd.read_csv(\"data/students4.csv\")"
   ]
  },
  {
   "cell_type": "code",
   "execution_count": 122,
   "id": "d3edf7fb-df34-4d44-a05d-2cb6ee399fd6",
   "metadata": {},
   "outputs": [
    {
     "data": {
      "text/html": [
       "<div>\n",
       "<style scoped>\n",
       "    .dataframe tbody tr th:only-of-type {\n",
       "        vertical-align: middle;\n",
       "    }\n",
       "\n",
       "    .dataframe tbody tr th {\n",
       "        vertical-align: top;\n",
       "    }\n",
       "\n",
       "    .dataframe thead th {\n",
       "        text-align: right;\n",
       "    }\n",
       "</style>\n",
       "<table border=\"1\" class=\"dataframe\">\n",
       "  <thead>\n",
       "    <tr style=\"text-align: right;\">\n",
       "      <th></th>\n",
       "      <th>Unnamed: 0</th>\n",
       "      <th>Имя Фамилия</th>\n",
       "      <th>EMAIL</th>\n",
       "      <th>КР</th>\n",
       "      <th>ИТОГ</th>\n",
       "    </tr>\n",
       "  </thead>\n",
       "  <tbody>\n",
       "    <tr>\n",
       "      <th>0</th>\n",
       "      <td>0</td>\n",
       "      <td>\"Иван, \\ \"\"\"Хирый лис\"\"\"\" Иванов\\n</td>\n",
       "      <td>ivanov@hse.ru</td>\n",
       "      <td>5</td>\n",
       "      <td>6</td>\n",
       "    </tr>\n",
       "    <tr>\n",
       "      <th>1</th>\n",
       "      <td>1</td>\n",
       "      <td>Петр Петров</td>\n",
       "      <td>petrov@hse.ru</td>\n",
       "      <td>8</td>\n",
       "      <td>10</td>\n",
       "    </tr>\n",
       "    <tr>\n",
       "      <th>2</th>\n",
       "      <td>2</td>\n",
       "      <td>Мария Кузнецова</td>\n",
       "      <td>kuznetsova@hse.ru</td>\n",
       "      <td>7</td>\n",
       "      <td>8</td>\n",
       "    </tr>\n",
       "    <tr>\n",
       "      <th>3</th>\n",
       "      <td>3</td>\n",
       "      <td>Татьяна Смирнова</td>\n",
       "      <td>smirnova@hse.ru</td>\n",
       "      <td>3</td>\n",
       "      <td>9</td>\n",
       "    </tr>\n",
       "    <tr>\n",
       "      <th>4</th>\n",
       "      <td>4</td>\n",
       "      <td>Камиль Ахметов</td>\n",
       "      <td>akhmetov@hse.ru</td>\n",
       "      <td>8</td>\n",
       "      <td>6</td>\n",
       "    </tr>\n",
       "    <tr>\n",
       "      <th>5</th>\n",
       "      <td>5</td>\n",
       "      <td>Софья Сонина</td>\n",
       "      <td>sonina@hse.ru</td>\n",
       "      <td>10</td>\n",
       "      <td>10</td>\n",
       "    </tr>\n",
       "    <tr>\n",
       "      <th>6</th>\n",
       "      <td>6</td>\n",
       "      <td>Андрей Андреев</td>\n",
       "      <td>andreev@hse.ru</td>\n",
       "      <td>2</td>\n",
       "      <td>4</td>\n",
       "    </tr>\n",
       "    <tr>\n",
       "      <th>7</th>\n",
       "      <td>7</td>\n",
       "      <td>Алина Хисматуллина</td>\n",
       "      <td>khismatullina@hse.ru</td>\n",
       "      <td>3</td>\n",
       "      <td>3</td>\n",
       "    </tr>\n",
       "    <tr>\n",
       "      <th>8</th>\n",
       "      <td>8</td>\n",
       "      <td>Семен Семенов</td>\n",
       "      <td>semenov@hse.ru</td>\n",
       "      <td>5</td>\n",
       "      <td>8</td>\n",
       "    </tr>\n",
       "    <tr>\n",
       "      <th>9</th>\n",
       "      <td>9</td>\n",
       "      <td>Макар Макаров</td>\n",
       "      <td>makarov@hse.ru</td>\n",
       "      <td>9</td>\n",
       "      <td>6</td>\n",
       "    </tr>\n",
       "    <tr>\n",
       "      <th>10</th>\n",
       "      <td>10</td>\n",
       "      <td>Василиса Васильева</td>\n",
       "      <td>vasilieva@hse.ru</td>\n",
       "      <td>5</td>\n",
       "      <td>7</td>\n",
       "    </tr>\n",
       "    <tr>\n",
       "      <th>11</th>\n",
       "      <td>11</td>\n",
       "      <td>Корней Корнеев</td>\n",
       "      <td>korneev@hse.ru</td>\n",
       "      <td>4</td>\n",
       "      <td>1</td>\n",
       "    </tr>\n",
       "    <tr>\n",
       "      <th>12</th>\n",
       "      <td>12</td>\n",
       "      <td>Тимофей Тимофеев</td>\n",
       "      <td>timofeev@hse.ru</td>\n",
       "      <td>8</td>\n",
       "      <td>9</td>\n",
       "    </tr>\n",
       "    <tr>\n",
       "      <th>13</th>\n",
       "      <td>13</td>\n",
       "      <td>Екатерина Катина</td>\n",
       "      <td>katina@hse.ru</td>\n",
       "      <td>5</td>\n",
       "      <td>4</td>\n",
       "    </tr>\n",
       "    <tr>\n",
       "      <th>14</th>\n",
       "      <td>14</td>\n",
       "      <td>Елена Ленина</td>\n",
       "      <td>lenina@hse.ru</td>\n",
       "      <td>6</td>\n",
       "      <td>6</td>\n",
       "    </tr>\n",
       "  </tbody>\n",
       "</table>\n",
       "</div>"
      ],
      "text/plain": [
       "    Unnamed: 0                         Имя Фамилия                 EMAIL  КР  \\\n",
       "0            0  \"Иван, \\ \"\"\"Хирый лис\"\"\"\" Иванов\\n         ivanov@hse.ru   5   \n",
       "1            1                         Петр Петров         petrov@hse.ru   8   \n",
       "2            2                     Мария Кузнецова     kuznetsova@hse.ru   7   \n",
       "3            3                    Татьяна Смирнова       smirnova@hse.ru   3   \n",
       "4            4                      Камиль Ахметов       akhmetov@hse.ru   8   \n",
       "5            5                        Софья Сонина         sonina@hse.ru  10   \n",
       "6            6                      Андрей Андреев        andreev@hse.ru   2   \n",
       "7            7                  Алина Хисматуллина  khismatullina@hse.ru   3   \n",
       "8            8                       Семен Семенов        semenov@hse.ru   5   \n",
       "9            9                       Макар Макаров        makarov@hse.ru   9   \n",
       "10          10                  Василиса Васильева      vasilieva@hse.ru   5   \n",
       "11          11                      Корней Корнеев        korneev@hse.ru   4   \n",
       "12          12                    Тимофей Тимофеев       timofeev@hse.ru   8   \n",
       "13          13                    Екатерина Катина         katina@hse.ru   5   \n",
       "14          14                        Елена Ленина         lenina@hse.ru   6   \n",
       "\n",
       "    ИТОГ  \n",
       "0      6  \n",
       "1     10  \n",
       "2      8  \n",
       "3      9  \n",
       "4      6  \n",
       "5     10  \n",
       "6      4  \n",
       "7      3  \n",
       "8      8  \n",
       "9      6  \n",
       "10     7  \n",
       "11     1  \n",
       "12     9  \n",
       "13     4  \n",
       "14     6  "
      ]
     },
     "execution_count": 122,
     "metadata": {},
     "output_type": "execute_result"
    }
   ],
   "source": [
    "df_csv3"
   ]
  },
  {
   "cell_type": "code",
   "execution_count": 102,
   "id": "4b8b0193-14d9-4085-a44b-5c3b63f8ada8",
   "metadata": {},
   "outputs": [],
   "source": [
    "s = \"here is a brace\\\"\""
   ]
  },
  {
   "cell_type": "code",
   "execution_count": 103,
   "id": "8f99783b-401a-4d29-84f0-dd48283e0fae",
   "metadata": {},
   "outputs": [
    {
     "data": {
      "text/plain": [
       "'here is a brace\"'"
      ]
     },
     "execution_count": 103,
     "metadata": {},
     "output_type": "execute_result"
    }
   ],
   "source": [
    "s"
   ]
  },
  {
   "cell_type": "code",
   "execution_count": 123,
   "id": "0e1d70ed-2215-4fde-8b8c-49e123091008",
   "metadata": {},
   "outputs": [
    {
     "data": {
      "text/html": [
       "<div>\n",
       "<style scoped>\n",
       "    .dataframe tbody tr th:only-of-type {\n",
       "        vertical-align: middle;\n",
       "    }\n",
       "\n",
       "    .dataframe tbody tr th {\n",
       "        vertical-align: top;\n",
       "    }\n",
       "\n",
       "    .dataframe thead th {\n",
       "        text-align: right;\n",
       "    }\n",
       "</style>\n",
       "<table border=\"1\" class=\"dataframe\">\n",
       "  <thead>\n",
       "    <tr style=\"text-align: right;\">\n",
       "      <th></th>\n",
       "      <th>Имя Фамилия</th>\n",
       "      <th>EMAIL</th>\n",
       "      <th>КР</th>\n",
       "      <th>ИТОГ</th>\n",
       "    </tr>\n",
       "  </thead>\n",
       "  <tbody>\n",
       "    <tr>\n",
       "      <th>0</th>\n",
       "      <td>\"Иван, \\ \"\"\"Хирый лис\"\"\"\" Иванов\\n</td>\n",
       "      <td>ivanov@hse.ru</td>\n",
       "      <td>5</td>\n",
       "      <td>6</td>\n",
       "    </tr>\n",
       "    <tr>\n",
       "      <th>1</th>\n",
       "      <td>Петр Петров</td>\n",
       "      <td>petrov@hse.ru</td>\n",
       "      <td>8</td>\n",
       "      <td>10</td>\n",
       "    </tr>\n",
       "    <tr>\n",
       "      <th>2</th>\n",
       "      <td>Мария Кузнецова</td>\n",
       "      <td>kuznetsova@hse.ru</td>\n",
       "      <td>7</td>\n",
       "      <td>8</td>\n",
       "    </tr>\n",
       "    <tr>\n",
       "      <th>3</th>\n",
       "      <td>Татьяна Смирнова</td>\n",
       "      <td>smirnova@hse.ru</td>\n",
       "      <td>3</td>\n",
       "      <td>9</td>\n",
       "    </tr>\n",
       "  </tbody>\n",
       "</table>\n",
       "</div>"
      ],
      "text/plain": [
       "                          Имя Фамилия              EMAIL  КР  ИТОГ\n",
       "0  \"Иван, \\ \"\"\"Хирый лис\"\"\"\" Иванов\\n      ivanov@hse.ru   5     6\n",
       "1                         Петр Петров      petrov@hse.ru   8    10\n",
       "2                     Мария Кузнецова  kuznetsova@hse.ru   7     8\n",
       "3                    Татьяна Смирнова    smirnova@hse.ru   3     9"
      ]
     },
     "execution_count": 123,
     "metadata": {},
     "output_type": "execute_result"
    }
   ],
   "source": [
    "df_csv.head(4)"
   ]
  },
  {
   "cell_type": "markdown",
   "id": "89c8164b-59b4-46ce-9d11-c380734f3f83",
   "metadata": {},
   "source": [
    "В общем, ничего не ломается! Хотя использованы очень сложные значения в ячейке, включая перенос строки"
   ]
  },
  {
   "cell_type": "code",
   "execution_count": 102,
   "id": "53c4d8e8-f8a1-4929-81a8-753de46d8c2b",
   "metadata": {},
   "outputs": [
    {
     "data": {
      "text/html": [
       "<div>\n",
       "<style scoped>\n",
       "    .dataframe tbody tr th:only-of-type {\n",
       "        vertical-align: middle;\n",
       "    }\n",
       "\n",
       "    .dataframe tbody tr th {\n",
       "        vertical-align: top;\n",
       "    }\n",
       "\n",
       "    .dataframe thead th {\n",
       "        text-align: right;\n",
       "    }\n",
       "</style>\n",
       "<table border=\"1\" class=\"dataframe\">\n",
       "  <thead>\n",
       "    <tr style=\"text-align: right;\">\n",
       "      <th></th>\n",
       "      <th>Имя Фамилия</th>\n",
       "      <th>EMAIL</th>\n",
       "      <th>КР</th>\n",
       "      <th>ИТОГ</th>\n",
       "    </tr>\n",
       "  </thead>\n",
       "  <tbody>\n",
       "    <tr>\n",
       "      <th>13</th>\n",
       "      <td>Екатерина Катина</td>\n",
       "      <td>katina@hse.ru</td>\n",
       "      <td>5</td>\n",
       "      <td>4</td>\n",
       "    </tr>\n",
       "    <tr>\n",
       "      <th>14</th>\n",
       "      <td>Елена Ленина</td>\n",
       "      <td>lenina@hse.ru</td>\n",
       "      <td>6</td>\n",
       "      <td>6</td>\n",
       "    </tr>\n",
       "  </tbody>\n",
       "</table>\n",
       "</div>"
      ],
      "text/plain": [
       "         Имя Фамилия          EMAIL  КР  ИТОГ\n",
       "13  Екатерина Катина  katina@hse.ru   5     4\n",
       "14      Елена Ленина  lenina@hse.ru   6     6"
      ]
     },
     "execution_count": 102,
     "metadata": {},
     "output_type": "execute_result"
    }
   ],
   "source": [
    "df_csv.tail(2)"
   ]
  },
  {
   "cell_type": "code",
   "execution_count": 125,
   "id": "54d8307f-c352-4ade-a084-3a2dc353851f",
   "metadata": {},
   "outputs": [
    {
     "data": {
      "text/html": [
       "<div>\n",
       "<style scoped>\n",
       "    .dataframe tbody tr th:only-of-type {\n",
       "        vertical-align: middle;\n",
       "    }\n",
       "\n",
       "    .dataframe tbody tr th {\n",
       "        vertical-align: top;\n",
       "    }\n",
       "\n",
       "    .dataframe thead th {\n",
       "        text-align: right;\n",
       "    }\n",
       "</style>\n",
       "<table border=\"1\" class=\"dataframe\">\n",
       "  <thead>\n",
       "    <tr style=\"text-align: right;\">\n",
       "      <th></th>\n",
       "      <th>А. П. Чехов;2</th>\n",
       "    </tr>\n",
       "  </thead>\n",
       "  <tbody>\n",
       "    <tr>\n",
       "      <th>0</th>\n",
       "      <td>А. П. Чехов;13</td>\n",
       "    </tr>\n",
       "    <tr>\n",
       "      <th>1</th>\n",
       "      <td>А. П. Чехов;4</td>\n",
       "    </tr>\n",
       "    <tr>\n",
       "      <th>2</th>\n",
       "      <td>А. П. Чехов;7</td>\n",
       "    </tr>\n",
       "    <tr>\n",
       "      <th>3</th>\n",
       "      <td>А. П. Чехов;11</td>\n",
       "    </tr>\n",
       "    <tr>\n",
       "      <th>4</th>\n",
       "      <td>А. П. Чехов;37</td>\n",
       "    </tr>\n",
       "  </tbody>\n",
       "</table>\n",
       "</div>"
      ],
      "text/plain": [
       "    А. П. Чехов;2\n",
       "0  А. П. Чехов;13\n",
       "1   А. П. Чехов;4\n",
       "2   А. П. Чехов;7\n",
       "3  А. П. Чехов;11\n",
       "4  А. П. Чехов;37"
      ]
     },
     "execution_count": 125,
     "metadata": {},
     "output_type": "execute_result"
    }
   ],
   "source": [
    "# Как открыть файл с разделителем не ',' и без названий колонок?\n",
    "df_csv_sep = pd.read_csv('data/sent_len.csv')\n",
    "df_csv_sep.head()"
   ]
  },
  {
   "cell_type": "code",
   "execution_count": 202,
   "id": "c38b52a8-d44e-43b6-b772-796435fad94c",
   "metadata": {},
   "outputs": [
    {
     "data": {
      "text/html": [
       "<div>\n",
       "<style scoped>\n",
       "    .dataframe tbody tr th:only-of-type {\n",
       "        vertical-align: middle;\n",
       "    }\n",
       "\n",
       "    .dataframe tbody tr th {\n",
       "        vertical-align: top;\n",
       "    }\n",
       "\n",
       "    .dataframe thead th {\n",
       "        text-align: right;\n",
       "    }\n",
       "</style>\n",
       "<table border=\"1\" class=\"dataframe\">\n",
       "  <thead>\n",
       "    <tr style=\"text-align: right;\">\n",
       "      <th></th>\n",
       "      <th>А. П. Чехов</th>\n",
       "      <th>2</th>\n",
       "    </tr>\n",
       "  </thead>\n",
       "  <tbody>\n",
       "    <tr>\n",
       "      <th>885</th>\n",
       "      <td>Л. Н. Толстой</td>\n",
       "      <td>40</td>\n",
       "    </tr>\n",
       "    <tr>\n",
       "      <th>886</th>\n",
       "      <td>Л. Н. Толстой</td>\n",
       "      <td>53</td>\n",
       "    </tr>\n",
       "    <tr>\n",
       "      <th>887</th>\n",
       "      <td>Л. Н. Толстой</td>\n",
       "      <td>70</td>\n",
       "    </tr>\n",
       "    <tr>\n",
       "      <th>888</th>\n",
       "      <td>Л. Н. Толстой</td>\n",
       "      <td>90</td>\n",
       "    </tr>\n",
       "    <tr>\n",
       "      <th>889</th>\n",
       "      <td>Л. Н. Толстой</td>\n",
       "      <td>26</td>\n",
       "    </tr>\n",
       "  </tbody>\n",
       "</table>\n",
       "</div>"
      ],
      "text/plain": [
       "       А. П. Чехов   2\n",
       "885  Л. Н. Толстой  40\n",
       "886  Л. Н. Толстой  53\n",
       "887  Л. Н. Толстой  70\n",
       "888  Л. Н. Толстой  90\n",
       "889  Л. Н. Толстой  26"
      ]
     },
     "execution_count": 202,
     "metadata": {},
     "output_type": "execute_result"
    }
   ],
   "source": [
    "# указали разделитель\n",
    "df_csv_sep = pd.read_csv('data/sent_len.csv', sep=';')\n",
    "df_csv_sep.tail()"
   ]
  },
  {
   "cell_type": "code",
   "execution_count": 126,
   "id": "d398053e-8bf4-4806-a94c-d09a9028ea6b",
   "metadata": {},
   "outputs": [
    {
     "data": {
      "text/html": [
       "<div>\n",
       "<style scoped>\n",
       "    .dataframe tbody tr th:only-of-type {\n",
       "        vertical-align: middle;\n",
       "    }\n",
       "\n",
       "    .dataframe tbody tr th {\n",
       "        vertical-align: top;\n",
       "    }\n",
       "\n",
       "    .dataframe thead th {\n",
       "        text-align: right;\n",
       "    }\n",
       "</style>\n",
       "<table border=\"1\" class=\"dataframe\">\n",
       "  <thead>\n",
       "    <tr style=\"text-align: right;\">\n",
       "      <th></th>\n",
       "      <th>0</th>\n",
       "      <th>1</th>\n",
       "    </tr>\n",
       "  </thead>\n",
       "  <tbody>\n",
       "    <tr>\n",
       "      <th>0</th>\n",
       "      <td>А. П. Чехов</td>\n",
       "      <td>2</td>\n",
       "    </tr>\n",
       "    <tr>\n",
       "      <th>1</th>\n",
       "      <td>А. П. Чехов</td>\n",
       "      <td>13</td>\n",
       "    </tr>\n",
       "    <tr>\n",
       "      <th>2</th>\n",
       "      <td>А. П. Чехов</td>\n",
       "      <td>4</td>\n",
       "    </tr>\n",
       "    <tr>\n",
       "      <th>3</th>\n",
       "      <td>А. П. Чехов</td>\n",
       "      <td>7</td>\n",
       "    </tr>\n",
       "    <tr>\n",
       "      <th>4</th>\n",
       "      <td>А. П. Чехов</td>\n",
       "      <td>11</td>\n",
       "    </tr>\n",
       "  </tbody>\n",
       "</table>\n",
       "</div>"
      ],
      "text/plain": [
       "             0   1\n",
       "0  А. П. Чехов   2\n",
       "1  А. П. Чехов  13\n",
       "2  А. П. Чехов   4\n",
       "3  А. П. Чехов   7\n",
       "4  А. П. Чехов  11"
      ]
     },
     "execution_count": 126,
     "metadata": {},
     "output_type": "execute_result"
    }
   ],
   "source": [
    "# указали, что в первой строке нет названий столбцов\n",
    "df_csv_sep = pd.read_csv('data/sent_len.csv', sep=';', header=None)\n",
    "df_csv_sep.head()"
   ]
  },
  {
   "cell_type": "code",
   "execution_count": 128,
   "id": "b00e04e4-cef5-4432-b501-fe6a41db18f8",
   "metadata": {},
   "outputs": [
    {
     "data": {
      "text/html": [
       "<div>\n",
       "<style scoped>\n",
       "    .dataframe tbody tr th:only-of-type {\n",
       "        vertical-align: middle;\n",
       "    }\n",
       "\n",
       "    .dataframe tbody tr th {\n",
       "        vertical-align: top;\n",
       "    }\n",
       "\n",
       "    .dataframe thead th {\n",
       "        text-align: right;\n",
       "    }\n",
       "</style>\n",
       "<table border=\"1\" class=\"dataframe\">\n",
       "  <thead>\n",
       "    <tr style=\"text-align: right;\">\n",
       "      <th></th>\n",
       "      <th>автор</th>\n",
       "      <th>слова</th>\n",
       "    </tr>\n",
       "  </thead>\n",
       "  <tbody>\n",
       "    <tr>\n",
       "      <th>0</th>\n",
       "      <td>А. П. Чехов</td>\n",
       "      <td>2</td>\n",
       "    </tr>\n",
       "    <tr>\n",
       "      <th>1</th>\n",
       "      <td>А. П. Чехов</td>\n",
       "      <td>13</td>\n",
       "    </tr>\n",
       "    <tr>\n",
       "      <th>2</th>\n",
       "      <td>А. П. Чехов</td>\n",
       "      <td>4</td>\n",
       "    </tr>\n",
       "    <tr>\n",
       "      <th>3</th>\n",
       "      <td>А. П. Чехов</td>\n",
       "      <td>7</td>\n",
       "    </tr>\n",
       "    <tr>\n",
       "      <th>4</th>\n",
       "      <td>А. П. Чехов</td>\n",
       "      <td>11</td>\n",
       "    </tr>\n",
       "  </tbody>\n",
       "</table>\n",
       "</div>"
      ],
      "text/plain": [
       "         автор  слова\n",
       "0  А. П. Чехов      2\n",
       "1  А. П. Чехов     13\n",
       "2  А. П. Чехов      4\n",
       "3  А. П. Чехов      7\n",
       "4  А. П. Чехов     11"
      ]
     },
     "execution_count": 128,
     "metadata": {},
     "output_type": "execute_result"
    }
   ],
   "source": [
    "# добавили названия столбцов\n",
    "df_csv_sep = pd.read_csv('data/sent_len.csv', sep=';',\n",
    "                         header=None, names=['автор', 'слова'])\n",
    "df_csv_sep.head()"
   ]
  },
  {
   "cell_type": "code",
   "execution_count": 129,
   "id": "ad28180f-702a-4856-8f1c-a7bb759bcd3e",
   "metadata": {},
   "outputs": [
    {
     "data": {
      "text/plain": [
       "0       True\n",
       "1       True\n",
       "2       True\n",
       "3       True\n",
       "4       True\n",
       "       ...  \n",
       "886    False\n",
       "887    False\n",
       "888    False\n",
       "889    False\n",
       "890    False\n",
       "Name: автор, Length: 891, dtype: bool"
      ]
     },
     "execution_count": 129,
     "metadata": {},
     "output_type": "execute_result"
    }
   ],
   "source": [
    "df_csv_sep[\"автор\"] == \"А. П. Чехов\""
   ]
  },
  {
   "cell_type": "code",
   "execution_count": 134,
   "id": "438a504e-a497-4584-bda9-9475ae25aa05",
   "metadata": {},
   "outputs": [
    {
     "data": {
      "text/plain": [
       "891"
      ]
     },
     "execution_count": 134,
     "metadata": {},
     "output_type": "execute_result"
    }
   ],
   "source": [
    "len(df_csv_sep)"
   ]
  },
  {
   "cell_type": "code",
   "execution_count": 135,
   "id": "3e68ead5-c00f-4bce-bfd5-8a9d0f53d92e",
   "metadata": {},
   "outputs": [
    {
     "data": {
      "text/plain": [
       "(891, 2)"
      ]
     },
     "execution_count": 135,
     "metadata": {},
     "output_type": "execute_result"
    }
   ],
   "source": [
    "df_csv_sep.shape"
   ]
  },
  {
   "cell_type": "code",
   "execution_count": 132,
   "id": "37aff96c-5687-422e-b84a-845c8b3a698d",
   "metadata": {},
   "outputs": [
    {
     "data": {
      "text/html": [
       "<div>\n",
       "<style scoped>\n",
       "    .dataframe tbody tr th:only-of-type {\n",
       "        vertical-align: middle;\n",
       "    }\n",
       "\n",
       "    .dataframe tbody tr th {\n",
       "        vertical-align: top;\n",
       "    }\n",
       "\n",
       "    .dataframe thead th {\n",
       "        text-align: right;\n",
       "    }\n",
       "</style>\n",
       "<table border=\"1\" class=\"dataframe\">\n",
       "  <thead>\n",
       "    <tr style=\"text-align: right;\">\n",
       "      <th></th>\n",
       "      <th>автор</th>\n",
       "      <th>слова</th>\n",
       "    </tr>\n",
       "  </thead>\n",
       "  <tbody>\n",
       "    <tr>\n",
       "      <th>0</th>\n",
       "      <td>А. П. Чехов</td>\n",
       "      <td>2</td>\n",
       "    </tr>\n",
       "    <tr>\n",
       "      <th>2</th>\n",
       "      <td>А. П. Чехов</td>\n",
       "      <td>4</td>\n",
       "    </tr>\n",
       "    <tr>\n",
       "      <th>4</th>\n",
       "      <td>А. П. Чехов</td>\n",
       "      <td>11</td>\n",
       "    </tr>\n",
       "    <tr>\n",
       "      <th>6</th>\n",
       "      <td>А. П. Чехов</td>\n",
       "      <td>8</td>\n",
       "    </tr>\n",
       "    <tr>\n",
       "      <th>8</th>\n",
       "      <td>А. П. Чехов</td>\n",
       "      <td>5</td>\n",
       "    </tr>\n",
       "    <tr>\n",
       "      <th>...</th>\n",
       "      <td>...</td>\n",
       "      <td>...</td>\n",
       "    </tr>\n",
       "    <tr>\n",
       "      <th>880</th>\n",
       "      <td>Л. Н. Толстой</td>\n",
       "      <td>30</td>\n",
       "    </tr>\n",
       "    <tr>\n",
       "      <th>882</th>\n",
       "      <td>Л. Н. Толстой</td>\n",
       "      <td>127</td>\n",
       "    </tr>\n",
       "    <tr>\n",
       "      <th>884</th>\n",
       "      <td>Л. Н. Толстой</td>\n",
       "      <td>38</td>\n",
       "    </tr>\n",
       "    <tr>\n",
       "      <th>886</th>\n",
       "      <td>Л. Н. Толстой</td>\n",
       "      <td>40</td>\n",
       "    </tr>\n",
       "    <tr>\n",
       "      <th>888</th>\n",
       "      <td>Л. Н. Толстой</td>\n",
       "      <td>70</td>\n",
       "    </tr>\n",
       "  </tbody>\n",
       "</table>\n",
       "<p>445 rows × 2 columns</p>\n",
       "</div>"
      ],
      "text/plain": [
       "             автор  слова\n",
       "0      А. П. Чехов      2\n",
       "2      А. П. Чехов      4\n",
       "4      А. П. Чехов     11\n",
       "6      А. П. Чехов      8\n",
       "8      А. П. Чехов      5\n",
       "..             ...    ...\n",
       "880  Л. Н. Толстой     30\n",
       "882  Л. Н. Толстой    127\n",
       "884  Л. Н. Толстой     38\n",
       "886  Л. Н. Толстой     40\n",
       "888  Л. Н. Толстой     70\n",
       "\n",
       "[445 rows x 2 columns]"
      ]
     },
     "execution_count": 132,
     "metadata": {},
     "output_type": "execute_result"
    }
   ],
   "source": [
    "df_csv_sep[[True, False] * 445 + [False]]"
   ]
  },
  {
   "cell_type": "code",
   "execution_count": 85,
   "id": "edf1c82f-d0b8-4a99-b475-0e22ef20a15f",
   "metadata": {},
   "outputs": [
    {
     "data": {
      "text/html": [
       "<div>\n",
       "<style scoped>\n",
       "    .dataframe tbody tr th:only-of-type {\n",
       "        vertical-align: middle;\n",
       "    }\n",
       "\n",
       "    .dataframe tbody tr th {\n",
       "        vertical-align: top;\n",
       "    }\n",
       "\n",
       "    .dataframe thead th {\n",
       "        text-align: right;\n",
       "    }\n",
       "</style>\n",
       "<table border=\"1\" class=\"dataframe\">\n",
       "  <thead>\n",
       "    <tr style=\"text-align: right;\">\n",
       "      <th></th>\n",
       "      <th>автор</th>\n",
       "      <th>слова</th>\n",
       "    </tr>\n",
       "  </thead>\n",
       "  <tbody>\n",
       "    <tr>\n",
       "      <th>0</th>\n",
       "      <td>А. П. Чехов</td>\n",
       "      <td>2</td>\n",
       "    </tr>\n",
       "    <tr>\n",
       "      <th>1</th>\n",
       "      <td>А. П. Чехов</td>\n",
       "      <td>13</td>\n",
       "    </tr>\n",
       "    <tr>\n",
       "      <th>2</th>\n",
       "      <td>А. П. Чехов</td>\n",
       "      <td>4</td>\n",
       "    </tr>\n",
       "    <tr>\n",
       "      <th>3</th>\n",
       "      <td>А. П. Чехов</td>\n",
       "      <td>7</td>\n",
       "    </tr>\n",
       "    <tr>\n",
       "      <th>4</th>\n",
       "      <td>А. П. Чехов</td>\n",
       "      <td>11</td>\n",
       "    </tr>\n",
       "    <tr>\n",
       "      <th>...</th>\n",
       "      <td>...</td>\n",
       "      <td>...</td>\n",
       "    </tr>\n",
       "    <tr>\n",
       "      <th>695</th>\n",
       "      <td>А. П. Чехов</td>\n",
       "      <td>19</td>\n",
       "    </tr>\n",
       "    <tr>\n",
       "      <th>696</th>\n",
       "      <td>А. П. Чехов</td>\n",
       "      <td>6</td>\n",
       "    </tr>\n",
       "    <tr>\n",
       "      <th>697</th>\n",
       "      <td>А. П. Чехов</td>\n",
       "      <td>7</td>\n",
       "    </tr>\n",
       "    <tr>\n",
       "      <th>698</th>\n",
       "      <td>А. П. Чехов</td>\n",
       "      <td>21</td>\n",
       "    </tr>\n",
       "    <tr>\n",
       "      <th>699</th>\n",
       "      <td>А. П. Чехов</td>\n",
       "      <td>24</td>\n",
       "    </tr>\n",
       "  </tbody>\n",
       "</table>\n",
       "<p>700 rows × 2 columns</p>\n",
       "</div>"
      ],
      "text/plain": [
       "           автор  слова\n",
       "0    А. П. Чехов      2\n",
       "1    А. П. Чехов     13\n",
       "2    А. П. Чехов      4\n",
       "3    А. П. Чехов      7\n",
       "4    А. П. Чехов     11\n",
       "..           ...    ...\n",
       "695  А. П. Чехов     19\n",
       "696  А. П. Чехов      6\n",
       "697  А. П. Чехов      7\n",
       "698  А. П. Чехов     21\n",
       "699  А. П. Чехов     24\n",
       "\n",
       "[700 rows x 2 columns]"
      ]
     },
     "execution_count": 85,
     "metadata": {},
     "output_type": "execute_result"
    }
   ],
   "source": [
    "df_csv_sep[df_csv_sep[\"автор\"] == \"А. П. Чехов\"]"
   ]
  },
  {
   "cell_type": "code",
   "execution_count": 141,
   "id": "549152a4-9f90-4c41-8e5a-b685895c04d7",
   "metadata": {},
   "outputs": [
    {
     "data": {
      "text/html": [
       "<div>\n",
       "<style scoped>\n",
       "    .dataframe tbody tr th:only-of-type {\n",
       "        vertical-align: middle;\n",
       "    }\n",
       "\n",
       "    .dataframe tbody tr th {\n",
       "        vertical-align: top;\n",
       "    }\n",
       "\n",
       "    .dataframe thead th {\n",
       "        text-align: right;\n",
       "    }\n",
       "</style>\n",
       "<table border=\"1\" class=\"dataframe\">\n",
       "  <thead>\n",
       "    <tr style=\"text-align: right;\">\n",
       "      <th></th>\n",
       "      <th>автор</th>\n",
       "      <th>слова</th>\n",
       "    </tr>\n",
       "  </thead>\n",
       "  <tbody>\n",
       "    <tr>\n",
       "      <th>0</th>\n",
       "      <td>А. П. Чехов</td>\n",
       "      <td>2</td>\n",
       "    </tr>\n",
       "    <tr>\n",
       "      <th>1</th>\n",
       "      <td>А. П. Чехов</td>\n",
       "      <td>13</td>\n",
       "    </tr>\n",
       "    <tr>\n",
       "      <th>2</th>\n",
       "      <td>А. П. Чехов</td>\n",
       "      <td>4</td>\n",
       "    </tr>\n",
       "    <tr>\n",
       "      <th>3</th>\n",
       "      <td>А. П. Чехов</td>\n",
       "      <td>7</td>\n",
       "    </tr>\n",
       "    <tr>\n",
       "      <th>4</th>\n",
       "      <td>А. П. Чехов</td>\n",
       "      <td>11</td>\n",
       "    </tr>\n",
       "    <tr>\n",
       "      <th>...</th>\n",
       "      <td>...</td>\n",
       "      <td>...</td>\n",
       "    </tr>\n",
       "    <tr>\n",
       "      <th>886</th>\n",
       "      <td>Л. Н. Толстой</td>\n",
       "      <td>40</td>\n",
       "    </tr>\n",
       "    <tr>\n",
       "      <th>887</th>\n",
       "      <td>Л. Н. Толстой</td>\n",
       "      <td>53</td>\n",
       "    </tr>\n",
       "    <tr>\n",
       "      <th>888</th>\n",
       "      <td>Л. Н. Толстой</td>\n",
       "      <td>70</td>\n",
       "    </tr>\n",
       "    <tr>\n",
       "      <th>889</th>\n",
       "      <td>Л. Н. Толстой</td>\n",
       "      <td>90</td>\n",
       "    </tr>\n",
       "    <tr>\n",
       "      <th>890</th>\n",
       "      <td>Л. Н. Толстой</td>\n",
       "      <td>26</td>\n",
       "    </tr>\n",
       "  </tbody>\n",
       "</table>\n",
       "<p>891 rows × 2 columns</p>\n",
       "</div>"
      ],
      "text/plain": [
       "             автор  слова\n",
       "0      А. П. Чехов      2\n",
       "1      А. П. Чехов     13\n",
       "2      А. П. Чехов      4\n",
       "3      А. П. Чехов      7\n",
       "4      А. П. Чехов     11\n",
       "..             ...    ...\n",
       "886  Л. Н. Толстой     40\n",
       "887  Л. Н. Толстой     53\n",
       "888  Л. Н. Толстой     70\n",
       "889  Л. Н. Толстой     90\n",
       "890  Л. Н. Толстой     26\n",
       "\n",
       "[891 rows x 2 columns]"
      ]
     },
     "execution_count": 141,
     "metadata": {},
     "output_type": "execute_result"
    }
   ],
   "source": [
    "df_csv_sep"
   ]
  },
  {
   "cell_type": "code",
   "execution_count": 144,
   "id": "07786bdf-d5aa-4f25-86e3-770fffafe441",
   "metadata": {},
   "outputs": [
    {
     "data": {
      "text/plain": [
       "слова    16.567143\n",
       "dtype: float64"
      ]
     },
     "execution_count": 144,
     "metadata": {},
     "output_type": "execute_result"
    }
   ],
   "source": [
    "df_csv_sep.loc[\n",
    "    df_csv_sep[\"автор\"] == \"А. П. Чехов\",  # фильтрую строчки\n",
    "    [\"слова\"] # фильтрую столбцы\n",
    "].mean()"
   ]
  },
  {
   "cell_type": "code",
   "execution_count": 146,
   "id": "ee688cdf-5df7-432e-95ad-ddee5b6af4fa",
   "metadata": {},
   "outputs": [
    {
     "data": {
      "text/html": [
       "<div>\n",
       "<style scoped>\n",
       "    .dataframe tbody tr th:only-of-type {\n",
       "        vertical-align: middle;\n",
       "    }\n",
       "\n",
       "    .dataframe tbody tr th {\n",
       "        vertical-align: top;\n",
       "    }\n",
       "\n",
       "    .dataframe thead th {\n",
       "        text-align: right;\n",
       "    }\n",
       "</style>\n",
       "<table border=\"1\" class=\"dataframe\">\n",
       "  <thead>\n",
       "    <tr style=\"text-align: right;\">\n",
       "      <th></th>\n",
       "      <th>автор</th>\n",
       "      <th>слова</th>\n",
       "    </tr>\n",
       "  </thead>\n",
       "  <tbody>\n",
       "    <tr>\n",
       "      <th>700</th>\n",
       "      <td>Л. Н. Толстой</td>\n",
       "      <td>2</td>\n",
       "    </tr>\n",
       "    <tr>\n",
       "      <th>701</th>\n",
       "      <td>Л. Н. Толстой</td>\n",
       "      <td>25</td>\n",
       "    </tr>\n",
       "    <tr>\n",
       "      <th>702</th>\n",
       "      <td>Л. Н. Толстой</td>\n",
       "      <td>2</td>\n",
       "    </tr>\n",
       "    <tr>\n",
       "      <th>703</th>\n",
       "      <td>Л. Н. Толстой</td>\n",
       "      <td>14</td>\n",
       "    </tr>\n",
       "    <tr>\n",
       "      <th>704</th>\n",
       "      <td>Л. Н. Толстой</td>\n",
       "      <td>31</td>\n",
       "    </tr>\n",
       "    <tr>\n",
       "      <th>...</th>\n",
       "      <td>...</td>\n",
       "      <td>...</td>\n",
       "    </tr>\n",
       "    <tr>\n",
       "      <th>886</th>\n",
       "      <td>Л. Н. Толстой</td>\n",
       "      <td>40</td>\n",
       "    </tr>\n",
       "    <tr>\n",
       "      <th>887</th>\n",
       "      <td>Л. Н. Толстой</td>\n",
       "      <td>53</td>\n",
       "    </tr>\n",
       "    <tr>\n",
       "      <th>888</th>\n",
       "      <td>Л. Н. Толстой</td>\n",
       "      <td>70</td>\n",
       "    </tr>\n",
       "    <tr>\n",
       "      <th>889</th>\n",
       "      <td>Л. Н. Толстой</td>\n",
       "      <td>90</td>\n",
       "    </tr>\n",
       "    <tr>\n",
       "      <th>890</th>\n",
       "      <td>Л. Н. Толстой</td>\n",
       "      <td>26</td>\n",
       "    </tr>\n",
       "  </tbody>\n",
       "</table>\n",
       "<p>191 rows × 2 columns</p>\n",
       "</div>"
      ],
      "text/plain": [
       "             автор  слова\n",
       "700  Л. Н. Толстой      2\n",
       "701  Л. Н. Толстой     25\n",
       "702  Л. Н. Толстой      2\n",
       "703  Л. Н. Толстой     14\n",
       "704  Л. Н. Толстой     31\n",
       "..             ...    ...\n",
       "886  Л. Н. Толстой     40\n",
       "887  Л. Н. Толстой     53\n",
       "888  Л. Н. Толстой     70\n",
       "889  Л. Н. Толстой     90\n",
       "890  Л. Н. Толстой     26\n",
       "\n",
       "[191 rows x 2 columns]"
      ]
     },
     "execution_count": 146,
     "metadata": {},
     "output_type": "execute_result"
    }
   ],
   "source": [
    "df_csv_sep.loc[\n",
    "    df_csv_sep[\"автор\"] == \"Л. Н. Толстой\",  # фильтрую строчки\n",
    "]"
   ]
  },
  {
   "cell_type": "code",
   "execution_count": 145,
   "id": "5b7b4c48-5cb9-4832-8c6e-f10712560c72",
   "metadata": {},
   "outputs": [
    {
     "data": {
      "text/plain": [
       "слова    32.08377\n",
       "dtype: float64"
      ]
     },
     "execution_count": 145,
     "metadata": {},
     "output_type": "execute_result"
    }
   ],
   "source": [
    "df_csv_sep.loc[\n",
    "    df_csv_sep[\"автор\"] == \"Л. Н. Толстой\",  # фильтрую строчки\n",
    "    [\"слова\"] # фильтрую столбцы\n",
    "].mean()"
   ]
  },
  {
   "cell_type": "markdown",
   "id": "ec66a57a-309c-4d03-b235-6038ac58d3d1",
   "metadata": {},
   "source": [
    "**Тренировка:** какова средняя длина предложений у Чехова и Толстого? "
   ]
  },
  {
   "cell_type": "code",
   "execution_count": 147,
   "id": "c20d4217-76fb-48cc-91de-83c6a6dc482e",
   "metadata": {},
   "outputs": [
    {
     "data": {
      "text/html": [
       "<div>\n",
       "<style scoped>\n",
       "    .dataframe tbody tr th:only-of-type {\n",
       "        vertical-align: middle;\n",
       "    }\n",
       "\n",
       "    .dataframe tbody tr th {\n",
       "        vertical-align: top;\n",
       "    }\n",
       "\n",
       "    .dataframe thead th {\n",
       "        text-align: right;\n",
       "    }\n",
       "</style>\n",
       "<table border=\"1\" class=\"dataframe\">\n",
       "  <thead>\n",
       "    <tr style=\"text-align: right;\">\n",
       "      <th></th>\n",
       "      <th>pres</th>\n",
       "      <th>V2</th>\n",
       "      <th>V3</th>\n",
       "      <th>russian</th>\n",
       "    </tr>\n",
       "  </thead>\n",
       "  <tbody>\n",
       "    <tr>\n",
       "      <th>0</th>\n",
       "      <td>arise</td>\n",
       "      <td>arose</td>\n",
       "      <td>arisen</td>\n",
       "      <td>подниматься</td>\n",
       "    </tr>\n",
       "    <tr>\n",
       "      <th>1</th>\n",
       "      <td>be</td>\n",
       "      <td>was/were</td>\n",
       "      <td>been</td>\n",
       "      <td>быть</td>\n",
       "    </tr>\n",
       "    <tr>\n",
       "      <th>2</th>\n",
       "      <td>bear</td>\n",
       "      <td>bore</td>\n",
       "      <td>born</td>\n",
       "      <td>родить</td>\n",
       "    </tr>\n",
       "    <tr>\n",
       "      <th>3</th>\n",
       "      <td>become</td>\n",
       "      <td>became</td>\n",
       "      <td>become</td>\n",
       "      <td>сделаться</td>\n",
       "    </tr>\n",
       "    <tr>\n",
       "      <th>4</th>\n",
       "      <td>begin</td>\n",
       "      <td>began</td>\n",
       "      <td>begun</td>\n",
       "      <td>начинать(ся)</td>\n",
       "    </tr>\n",
       "  </tbody>\n",
       "</table>\n",
       "</div>"
      ],
      "text/plain": [
       "     pres        V2      V3       russian\n",
       "0   arise     arose  arisen   подниматься\n",
       "1      be  was/were    been          быть\n",
       "2    bear      bore    born        родить\n",
       "3  become    became  become     сделаться\n",
       "4   begin     began   begun  начинать(ся)"
      ]
     },
     "execution_count": 147,
     "metadata": {},
     "output_type": "execute_result"
    }
   ],
   "source": [
    "# открыли файл 'verbs.txt' с помощью read_csv\n",
    "df_txt = pd.read_csv('data/verbs.txt', sep=';', header=None,\n",
    "                     names=['pres', 'V2', 'V3', 'russian'])\n",
    "df_txt.head()"
   ]
  },
  {
   "cell_type": "code",
   "execution_count": 91,
   "id": "a037060d-68fd-4981-9a58-24146931e3c6",
   "metadata": {},
   "outputs": [
    {
     "data": {
      "text/html": [
       "<div>\n",
       "<style scoped>\n",
       "    .dataframe tbody tr th:only-of-type {\n",
       "        vertical-align: middle;\n",
       "    }\n",
       "\n",
       "    .dataframe tbody tr th {\n",
       "        vertical-align: top;\n",
       "    }\n",
       "\n",
       "    .dataframe thead th {\n",
       "        text-align: right;\n",
       "    }\n",
       "</style>\n",
       "<table border=\"1\" class=\"dataframe\">\n",
       "  <thead>\n",
       "    <tr style=\"text-align: right;\">\n",
       "      <th></th>\n",
       "      <th>pres</th>\n",
       "      <th>V2</th>\n",
       "      <th>V3</th>\n",
       "      <th>russian</th>\n",
       "    </tr>\n",
       "  </thead>\n",
       "  <tbody>\n",
       "    <tr>\n",
       "      <th>0</th>\n",
       "      <td>arise</td>\n",
       "      <td>arose</td>\n",
       "      <td>arisen</td>\n",
       "      <td>подниматься</td>\n",
       "    </tr>\n",
       "    <tr>\n",
       "      <th>1</th>\n",
       "      <td>be</td>\n",
       "      <td>was/were</td>\n",
       "      <td>been</td>\n",
       "      <td>быть</td>\n",
       "    </tr>\n",
       "    <tr>\n",
       "      <th>2</th>\n",
       "      <td>bear</td>\n",
       "      <td>bore</td>\n",
       "      <td>born</td>\n",
       "      <td>родить</td>\n",
       "    </tr>\n",
       "    <tr>\n",
       "      <th>3</th>\n",
       "      <td>become</td>\n",
       "      <td>became</td>\n",
       "      <td>become</td>\n",
       "      <td>сделаться</td>\n",
       "    </tr>\n",
       "    <tr>\n",
       "      <th>4</th>\n",
       "      <td>begin</td>\n",
       "      <td>began</td>\n",
       "      <td>begun</td>\n",
       "      <td>начинать(ся)</td>\n",
       "    </tr>\n",
       "  </tbody>\n",
       "</table>\n",
       "</div>"
      ],
      "text/plain": [
       "     pres        V2      V3       russian\n",
       "0   arise     arose  arisen   подниматься\n",
       "1      be  was/were    been          быть\n",
       "2    bear      bore    born        родить\n",
       "3  become    became  become     сделаться\n",
       "4   begin     began   begun  начинать(ся)"
      ]
     },
     "execution_count": 91,
     "metadata": {},
     "output_type": "execute_result"
    }
   ],
   "source": [
    "# открыли файл 'verbs.txt' с помощью read_csv\n",
    "df_txt = pd.read_csv('data/verbs1.mygreatext', sep=';', header=None,\n",
    "                     names=['pres', 'V2', 'V3', 'russian'])\n",
    "df_txt.head()"
   ]
  },
  {
   "cell_type": "markdown",
   "id": "40f1368f-3a1c-4363-b1a6-841e181a08f1",
   "metadata": {},
   "source": [
    "Откройте `bi_femcorp.tsv`"
   ]
  },
  {
   "cell_type": "code",
   "execution_count": 92,
   "id": "7810655b-3840-4f0a-8dca-50c8e45018a0",
   "metadata": {},
   "outputs": [],
   "source": [
    "# открывая текстовые файлы с разным расширением (.csv, .tsv, .txt), используйте read_csv\n",
    "df_tsv = pd.read_csv('data/bi_femcorp.tsv', sep='\\t')\n",
    "# \\n"
   ]
  },
  {
   "cell_type": "code",
   "execution_count": 93,
   "id": "30a1202e-1bae-4764-9f8f-d47b8819944b",
   "metadata": {},
   "outputs": [
    {
     "data": {
      "text/html": [
       "<div>\n",
       "<style scoped>\n",
       "    .dataframe tbody tr th:only-of-type {\n",
       "        vertical-align: middle;\n",
       "    }\n",
       "\n",
       "    .dataframe tbody tr th {\n",
       "        vertical-align: top;\n",
       "    }\n",
       "\n",
       "    .dataframe thead th {\n",
       "        text-align: right;\n",
       "    }\n",
       "</style>\n",
       "<table border=\"1\" class=\"dataframe\">\n",
       "  <thead>\n",
       "    <tr style=\"text-align: right;\">\n",
       "      <th></th>\n",
       "      <th>bi_token</th>\n",
       "      <th>uni_first_token</th>\n",
       "      <th>uni_first_lemma</th>\n",
       "      <th>uni_first_POS</th>\n",
       "      <th>uni_second_token</th>\n",
       "      <th>uni_second_lemma</th>\n",
       "      <th>uni_second_POS</th>\n",
       "      <th>Sent_ids</th>\n",
       "      <th>Ids</th>\n",
       "    </tr>\n",
       "  </thead>\n",
       "  <tbody>\n",
       "    <tr>\n",
       "      <th>0</th>\n",
       "      <td>('в', 'июне')</td>\n",
       "      <td>в</td>\n",
       "      <td>в</td>\n",
       "      <td>PREP</td>\n",
       "      <td>июне</td>\n",
       "      <td>июнь</td>\n",
       "      <td>NOUN</td>\n",
       "      <td>0 861</td>\n",
       "      <td>['0', '861']</td>\n",
       "    </tr>\n",
       "    <tr>\n",
       "      <th>1</th>\n",
       "      <td>('июне', 'этого')</td>\n",
       "      <td>июне</td>\n",
       "      <td>июнь</td>\n",
       "      <td>NOUN</td>\n",
       "      <td>этого</td>\n",
       "      <td>это</td>\n",
       "      <td>NPRO</td>\n",
       "      <td>0</td>\n",
       "      <td>['0']</td>\n",
       "    </tr>\n",
       "    <tr>\n",
       "      <th>2</th>\n",
       "      <td>('этого', 'года')</td>\n",
       "      <td>этого</td>\n",
       "      <td>это</td>\n",
       "      <td>NPRO</td>\n",
       "      <td>года</td>\n",
       "      <td>год</td>\n",
       "      <td>NOUN</td>\n",
       "      <td>0 473 1169 1672 1756 3155</td>\n",
       "      <td>['0', '473', '1756', '1672', '1169', '3155']</td>\n",
       "    </tr>\n",
       "    <tr>\n",
       "      <th>3</th>\n",
       "      <td>('года', 'девушка')</td>\n",
       "      <td>года</td>\n",
       "      <td>год</td>\n",
       "      <td>NOUN</td>\n",
       "      <td>девушка</td>\n",
       "      <td>девушка</td>\n",
       "      <td>NOUN</td>\n",
       "      <td>0</td>\n",
       "      <td>['0']</td>\n",
       "    </tr>\n",
       "    <tr>\n",
       "      <th>4</th>\n",
       "      <td>('девушка', 'по')</td>\n",
       "      <td>девушка</td>\n",
       "      <td>девушка</td>\n",
       "      <td>NOUN</td>\n",
       "      <td>по</td>\n",
       "      <td>по</td>\n",
       "      <td>PREP</td>\n",
       "      <td>0</td>\n",
       "      <td>['0']</td>\n",
       "    </tr>\n",
       "    <tr>\n",
       "      <th>...</th>\n",
       "      <td>...</td>\n",
       "      <td>...</td>\n",
       "      <td>...</td>\n",
       "      <td>...</td>\n",
       "      <td>...</td>\n",
       "      <td>...</td>\n",
       "      <td>...</td>\n",
       "      <td>...</td>\n",
       "      <td>...</td>\n",
       "    </tr>\n",
       "    <tr>\n",
       "      <th>41739</th>\n",
       "      <td>('устанавливает', 'датчики')</td>\n",
       "      <td>устанавливает</td>\n",
       "      <td>устанавливать</td>\n",
       "      <td>VERB</td>\n",
       "      <td>датчики</td>\n",
       "      <td>датчик</td>\n",
       "      <td>NOUN</td>\n",
       "      <td>3466</td>\n",
       "      <td>['3466']</td>\n",
       "    </tr>\n",
       "    <tr>\n",
       "      <th>41740</th>\n",
       "      <td>('датчики', 'и')</td>\n",
       "      <td>датчики</td>\n",
       "      <td>датчик</td>\n",
       "      <td>NOUN</td>\n",
       "      <td>и</td>\n",
       "      <td>и</td>\n",
       "      <td>CONJ</td>\n",
       "      <td>3466</td>\n",
       "      <td>['3466']</td>\n",
       "    </tr>\n",
       "    <tr>\n",
       "      <th>41741</th>\n",
       "      <td>('затем', 'программирует')</td>\n",
       "      <td>затем</td>\n",
       "      <td>затем</td>\n",
       "      <td>ADVB</td>\n",
       "      <td>программирует</td>\n",
       "      <td>программировать</td>\n",
       "      <td>VERB</td>\n",
       "      <td>3466</td>\n",
       "      <td>['3466']</td>\n",
       "    </tr>\n",
       "    <tr>\n",
       "      <th>41742</th>\n",
       "      <td>('программирует', 'их')</td>\n",
       "      <td>программирует</td>\n",
       "      <td>программировать</td>\n",
       "      <td>VERB</td>\n",
       "      <td>их</td>\n",
       "      <td>они</td>\n",
       "      <td>NPRO</td>\n",
       "      <td>3466</td>\n",
       "      <td>['3466']</td>\n",
       "    </tr>\n",
       "    <tr>\n",
       "      <th>41743</th>\n",
       "      <td>('их', 'работу')</td>\n",
       "      <td>их</td>\n",
       "      <td>они</td>\n",
       "      <td>NPRO</td>\n",
       "      <td>работу</td>\n",
       "      <td>работа</td>\n",
       "      <td>NOUN</td>\n",
       "      <td>3466</td>\n",
       "      <td>['3466']</td>\n",
       "    </tr>\n",
       "  </tbody>\n",
       "</table>\n",
       "<p>41744 rows × 9 columns</p>\n",
       "</div>"
      ],
      "text/plain": [
       "                           bi_token uni_first_token  uni_first_lemma  \\\n",
       "0                     ('в', 'июне')               в                в   \n",
       "1                 ('июне', 'этого')            июне             июнь   \n",
       "2                 ('этого', 'года')           этого              это   \n",
       "3               ('года', 'девушка')            года              год   \n",
       "4                 ('девушка', 'по')         девушка          девушка   \n",
       "...                             ...             ...              ...   \n",
       "41739  ('устанавливает', 'датчики')   устанавливает    устанавливать   \n",
       "41740              ('датчики', 'и')         датчики           датчик   \n",
       "41741    ('затем', 'программирует')           затем            затем   \n",
       "41742       ('программирует', 'их')   программирует  программировать   \n",
       "41743              ('их', 'работу')              их              они   \n",
       "\n",
       "      uni_first_POS uni_second_token uni_second_lemma uni_second_POS  \\\n",
       "0              PREP             июне             июнь           NOUN   \n",
       "1              NOUN            этого              это           NPRO   \n",
       "2              NPRO             года              год           NOUN   \n",
       "3              NOUN          девушка          девушка           NOUN   \n",
       "4              NOUN               по               по           PREP   \n",
       "...             ...              ...              ...            ...   \n",
       "41739          VERB          датчики           датчик           NOUN   \n",
       "41740          NOUN                и                и           CONJ   \n",
       "41741          ADVB    программирует  программировать           VERB   \n",
       "41742          VERB               их              они           NPRO   \n",
       "41743          NPRO           работу           работа           NOUN   \n",
       "\n",
       "                        Sent_ids                                           Ids  \n",
       "0                          0 861                                  ['0', '861']  \n",
       "1                              0                                         ['0']  \n",
       "2      0 473 1169 1672 1756 3155  ['0', '473', '1756', '1672', '1169', '3155']  \n",
       "3                              0                                         ['0']  \n",
       "4                              0                                         ['0']  \n",
       "...                          ...                                           ...  \n",
       "41739                       3466                                      ['3466']  \n",
       "41740                       3466                                      ['3466']  \n",
       "41741                       3466                                      ['3466']  \n",
       "41742                       3466                                      ['3466']  \n",
       "41743                       3466                                      ['3466']  \n",
       "\n",
       "[41744 rows x 9 columns]"
      ]
     },
     "execution_count": 93,
     "metadata": {},
     "output_type": "execute_result"
    }
   ],
   "source": [
    "df_tsv"
   ]
  },
  {
   "cell_type": "code",
   "execution_count": 111,
   "id": "96d65d94-80c2-43e9-a68c-088a67b54a8c",
   "metadata": {
    "collapsed": true,
    "jupyter": {
     "outputs_hidden": true
    },
    "tags": []
   },
   "outputs": [
    {
     "name": "stdout",
     "output_type": "stream",
     "text": [
      "Defaulting to user installation because normal site-packages is not writeable\n",
      "Collecting openpyxl\n",
      "  Using cached openpyxl-3.1.2-py2.py3-none-any.whl (249 kB)\n",
      "Collecting et-xmlfile\n",
      "  Using cached et_xmlfile-1.1.0-py3-none-any.whl (4.7 kB)\n",
      "Installing collected packages: et-xmlfile, openpyxl\n",
      "Successfully installed et-xmlfile-1.1.0 openpyxl-3.1.2\n"
     ]
    },
    {
     "name": "stderr",
     "output_type": "stream",
     "text": [
      "\n",
      "[notice] A new release of pip available: 22.3.1 -> 23.1\n",
      "[notice] To update, run: python.exe -m pip install --upgrade pip\n"
     ]
    }
   ],
   "source": [
    "!pip install openpyxl"
   ]
  },
  {
   "cell_type": "code",
   "execution_count": 94,
   "id": "b9ede43b-36bb-4736-bd21-2dd943136983",
   "metadata": {},
   "outputs": [],
   "source": [
    "# открыть можно и excel\n",
    "df_excel = pd.read_excel('data/coffee_stats.xlsx')"
   ]
  },
  {
   "cell_type": "code",
   "execution_count": 95,
   "id": "ba683509-6e46-42c9-a02f-3797061b7584",
   "metadata": {},
   "outputs": [
    {
     "data": {
      "text/html": [
       "<div>\n",
       "<style scoped>\n",
       "    .dataframe tbody tr th:only-of-type {\n",
       "        vertical-align: middle;\n",
       "    }\n",
       "\n",
       "    .dataframe tbody tr th {\n",
       "        vertical-align: top;\n",
       "    }\n",
       "\n",
       "    .dataframe thead th {\n",
       "        text-align: right;\n",
       "    }\n",
       "</style>\n",
       "<table border=\"1\" class=\"dataframe\">\n",
       "  <thead>\n",
       "    <tr style=\"text-align: right;\">\n",
       "      <th></th>\n",
       "      <th>Тип кофе</th>\n",
       "      <th>Размер</th>\n",
       "      <th>Сироп</th>\n",
       "    </tr>\n",
       "  </thead>\n",
       "  <tbody>\n",
       "    <tr>\n",
       "      <th>0</th>\n",
       "      <td>раф</td>\n",
       "      <td>большой</td>\n",
       "      <td>шоколадный</td>\n",
       "    </tr>\n",
       "    <tr>\n",
       "      <th>1</th>\n",
       "      <td>капучино</td>\n",
       "      <td>большой</td>\n",
       "      <td>ванильный</td>\n",
       "    </tr>\n",
       "    <tr>\n",
       "      <th>2</th>\n",
       "      <td>раф</td>\n",
       "      <td>маленький</td>\n",
       "      <td>розовый</td>\n",
       "    </tr>\n",
       "    <tr>\n",
       "      <th>3</th>\n",
       "      <td>раф</td>\n",
       "      <td>большой</td>\n",
       "      <td>карамельный</td>\n",
       "    </tr>\n",
       "    <tr>\n",
       "      <th>4</th>\n",
       "      <td>латте</td>\n",
       "      <td>маленький</td>\n",
       "      <td>NaN</td>\n",
       "    </tr>\n",
       "    <tr>\n",
       "      <th>...</th>\n",
       "      <td>...</td>\n",
       "      <td>...</td>\n",
       "      <td>...</td>\n",
       "    </tr>\n",
       "    <tr>\n",
       "      <th>144</th>\n",
       "      <td>латте</td>\n",
       "      <td>большой</td>\n",
       "      <td>карамельный</td>\n",
       "    </tr>\n",
       "    <tr>\n",
       "      <th>145</th>\n",
       "      <td>капучино</td>\n",
       "      <td>большой</td>\n",
       "      <td>кленовый</td>\n",
       "    </tr>\n",
       "    <tr>\n",
       "      <th>146</th>\n",
       "      <td>раф</td>\n",
       "      <td>большой</td>\n",
       "      <td>шоколадный</td>\n",
       "    </tr>\n",
       "    <tr>\n",
       "      <th>147</th>\n",
       "      <td>раф</td>\n",
       "      <td>средний</td>\n",
       "      <td>карамельный</td>\n",
       "    </tr>\n",
       "    <tr>\n",
       "      <th>148</th>\n",
       "      <td>капучино</td>\n",
       "      <td>маленький</td>\n",
       "      <td>NaN</td>\n",
       "    </tr>\n",
       "  </tbody>\n",
       "</table>\n",
       "<p>149 rows × 3 columns</p>\n",
       "</div>"
      ],
      "text/plain": [
       "     Тип кофе     Размер        Сироп\n",
       "0         раф    большой   шоколадный\n",
       "1    капучино    большой    ванильный\n",
       "2         раф  маленький      розовый\n",
       "3         раф    большой  карамельный\n",
       "4       латте  маленький          NaN\n",
       "..        ...        ...          ...\n",
       "144     латте    большой  карамельный\n",
       "145  капучино    большой     кленовый\n",
       "146       раф    большой   шоколадный\n",
       "147       раф    средний  карамельный\n",
       "148  капучино  маленький          NaN\n",
       "\n",
       "[149 rows x 3 columns]"
      ]
     },
     "execution_count": 95,
     "metadata": {},
     "output_type": "execute_result"
    }
   ],
   "source": [
    "df_excel"
   ]
  },
  {
   "cell_type": "markdown",
   "id": "091a1a70-fc82-46bb-aab8-114e0eadd073",
   "metadata": {},
   "source": [
    "# Работы с датасетом (начало)"
   ]
  },
  {
   "cell_type": "code",
   "execution_count": 2,
   "id": "5c819703-0fa7-445c-a507-cd8802486c91",
   "metadata": {},
   "outputs": [],
   "source": [
    "import pandas as pd"
   ]
  },
  {
   "cell_type": "markdown",
   "id": "fea9c8e9-ee30-4ad0-a3fd-7b67da5a0e93",
   "metadata": {},
   "source": [
    "Работаем с таблицей о велосипедах"
   ]
  },
  {
   "cell_type": "code",
   "execution_count": 3,
   "id": "3938a9b5-99a4-47ad-b046-33f601d7e1b6",
   "metadata": {},
   "outputs": [
    {
     "name": "stdout",
     "output_type": "stream",
     "text": [
      "(8760, 12)\n"
     ]
    },
    {
     "data": {
      "text/html": [
       "<div>\n",
       "<style scoped>\n",
       "    .dataframe tbody tr th:only-of-type {\n",
       "        vertical-align: middle;\n",
       "    }\n",
       "\n",
       "    .dataframe tbody tr th {\n",
       "        vertical-align: top;\n",
       "    }\n",
       "\n",
       "    .dataframe thead th {\n",
       "        text-align: right;\n",
       "    }\n",
       "</style>\n",
       "<table border=\"1\" class=\"dataframe\">\n",
       "  <thead>\n",
       "    <tr style=\"text-align: right;\">\n",
       "      <th></th>\n",
       "      <th>Date</th>\n",
       "      <th>Hour</th>\n",
       "      <th>Temperature</th>\n",
       "      <th>Humidity</th>\n",
       "      <th>Wind speed</th>\n",
       "      <th>Rainfall</th>\n",
       "      <th>Snowfall</th>\n",
       "      <th>Seasons</th>\n",
       "      <th>Holiday</th>\n",
       "      <th>Functioning Day</th>\n",
       "      <th>Partner 1</th>\n",
       "      <th>Partner 2</th>\n",
       "    </tr>\n",
       "  </thead>\n",
       "  <tbody>\n",
       "    <tr>\n",
       "      <th>0</th>\n",
       "      <td>01/12/2017</td>\n",
       "      <td>0</td>\n",
       "      <td>-5.2</td>\n",
       "      <td>37</td>\n",
       "      <td>2.2</td>\n",
       "      <td>0.0</td>\n",
       "      <td>0.0</td>\n",
       "      <td>Winter</td>\n",
       "      <td>No Holiday</td>\n",
       "      <td>Yes</td>\n",
       "      <td>207</td>\n",
       "      <td>50</td>\n",
       "    </tr>\n",
       "    <tr>\n",
       "      <th>1</th>\n",
       "      <td>01/12/2017</td>\n",
       "      <td>1</td>\n",
       "      <td>-5.5</td>\n",
       "      <td>38</td>\n",
       "      <td>0.8</td>\n",
       "      <td>0.0</td>\n",
       "      <td>0.0</td>\n",
       "      <td>Winter</td>\n",
       "      <td>No Holiday</td>\n",
       "      <td>Yes</td>\n",
       "      <td>139</td>\n",
       "      <td>80</td>\n",
       "    </tr>\n",
       "    <tr>\n",
       "      <th>2</th>\n",
       "      <td>01/12/2017</td>\n",
       "      <td>2</td>\n",
       "      <td>-6.0</td>\n",
       "      <td>39</td>\n",
       "      <td>1.0</td>\n",
       "      <td>0.0</td>\n",
       "      <td>0.0</td>\n",
       "      <td>Winter</td>\n",
       "      <td>No Holiday</td>\n",
       "      <td>Yes</td>\n",
       "      <td>22</td>\n",
       "      <td>140</td>\n",
       "    </tr>\n",
       "    <tr>\n",
       "      <th>3</th>\n",
       "      <td>01/12/2017</td>\n",
       "      <td>3</td>\n",
       "      <td>-6.2</td>\n",
       "      <td>40</td>\n",
       "      <td>0.9</td>\n",
       "      <td>0.0</td>\n",
       "      <td>0.0</td>\n",
       "      <td>Winter</td>\n",
       "      <td>No Holiday</td>\n",
       "      <td>Yes</td>\n",
       "      <td>43</td>\n",
       "      <td>105</td>\n",
       "    </tr>\n",
       "    <tr>\n",
       "      <th>4</th>\n",
       "      <td>01/12/2017</td>\n",
       "      <td>4</td>\n",
       "      <td>-6.0</td>\n",
       "      <td>36</td>\n",
       "      <td>2.3</td>\n",
       "      <td>0.0</td>\n",
       "      <td>0.0</td>\n",
       "      <td>Winter</td>\n",
       "      <td>No Holiday</td>\n",
       "      <td>Yes</td>\n",
       "      <td>59</td>\n",
       "      <td>38</td>\n",
       "    </tr>\n",
       "  </tbody>\n",
       "</table>\n",
       "</div>"
      ],
      "text/plain": [
       "         Date  Hour  Temperature  Humidity  Wind speed  Rainfall  Snowfall  \\\n",
       "0  01/12/2017     0         -5.2        37         2.2       0.0       0.0   \n",
       "1  01/12/2017     1         -5.5        38         0.8       0.0       0.0   \n",
       "2  01/12/2017     2         -6.0        39         1.0       0.0       0.0   \n",
       "3  01/12/2017     3         -6.2        40         0.9       0.0       0.0   \n",
       "4  01/12/2017     4         -6.0        36         2.3       0.0       0.0   \n",
       "\n",
       "  Seasons     Holiday Functioning Day  Partner 1  Partner 2  \n",
       "0  Winter  No Holiday             Yes        207         50  \n",
       "1  Winter  No Holiday             Yes        139         80  \n",
       "2  Winter  No Holiday             Yes         22        140  \n",
       "3  Winter  No Holiday             Yes         43        105  \n",
       "4  Winter  No Holiday             Yes         59         38  "
      ]
     },
     "execution_count": 3,
     "metadata": {},
     "output_type": "execute_result"
    }
   ],
   "source": [
    "bikes = pd.read_csv('data/BikeData.csv')\n",
    "print(bikes.shape)\n",
    "\n",
    "bikes.head()"
   ]
  },
  {
   "cell_type": "code",
   "execution_count": 4,
   "id": "cdd197f1-e4b0-4f0f-b06d-4a191da4ce26",
   "metadata": {},
   "outputs": [
    {
     "name": "stdout",
     "output_type": "stream",
     "text": [
      "<class 'pandas.core.frame.DataFrame'>\n",
      "RangeIndex: 8760 entries, 0 to 8759\n",
      "Data columns (total 12 columns):\n",
      " #   Column           Non-Null Count  Dtype  \n",
      "---  ------           --------------  -----  \n",
      " 0   Date             8760 non-null   object \n",
      " 1   Hour             8760 non-null   int64  \n",
      " 2   Temperature      8581 non-null   float64\n",
      " 3   Humidity         8760 non-null   int64  \n",
      " 4   Wind speed       8760 non-null   float64\n",
      " 5   Rainfall         8760 non-null   float64\n",
      " 6   Snowfall         8760 non-null   float64\n",
      " 7   Seasons          8760 non-null   object \n",
      " 8   Holiday          8760 non-null   object \n",
      " 9   Functioning Day  8760 non-null   object \n",
      " 10  Partner 1        8760 non-null   int64  \n",
      " 11  Partner 2        8760 non-null   int64  \n",
      "dtypes: float64(4), int64(4), object(4)\n",
      "memory usage: 821.4+ KB\n"
     ]
    }
   ],
   "source": [
    "bikes.info()"
   ]
  },
  {
   "cell_type": "markdown",
   "id": "06576780-2673-4848-a6cb-518f3d3c9913",
   "metadata": {},
   "source": [
    "Мы видим, что ненулевых значений в стобце `'Temperature'` не `8760`, а `8581`. Запомним это."
   ]
  },
  {
   "cell_type": "markdown",
   "id": "183ad730-42b1-402f-b4a1-2846c544c4a3",
   "metadata": {},
   "source": [
    "## Фильтрация и сортировка"
   ]
  },
  {
   "cell_type": "code",
   "execution_count": 5,
   "id": "24fd72be-b1a1-4e6e-95db-dd34c6dc12e5",
   "metadata": {},
   "outputs": [
    {
     "data": {
      "text/plain": [
       "0        0\n",
       "1        1\n",
       "2        2\n",
       "3        3\n",
       "4        4\n",
       "        ..\n",
       "8755    19\n",
       "8756    20\n",
       "8757    21\n",
       "8758    22\n",
       "8759    23\n",
       "Name: Hour, Length: 8760, dtype: int64"
      ]
     },
     "execution_count": 5,
     "metadata": {},
     "output_type": "execute_result"
    }
   ],
   "source": [
    "bikes['Hour']"
   ]
  },
  {
   "cell_type": "code",
   "execution_count": 6,
   "id": "68e1dfa3-577a-4de4-98f1-8f49fc408b55",
   "metadata": {},
   "outputs": [
    {
     "data": {
      "text/plain": [
       "array([ 0,  1,  2,  3,  4,  5,  6,  7,  8,  9, 10, 11, 12, 13, 14, 15, 16,\n",
       "       17, 18, 19, 20, 21, 22, 23], dtype=int64)"
      ]
     },
     "execution_count": 6,
     "metadata": {},
     "output_type": "execute_result"
    }
   ],
   "source": [
    "bikes['Hour'].unique()  # посмотреть уникальные значения"
   ]
  },
  {
   "cell_type": "code",
   "execution_count": 7,
   "id": "58274a77-ef59-4eb1-9e3e-fa2bd0af398b",
   "metadata": {},
   "outputs": [
    {
     "data": {
      "text/plain": [
       "array(['Yes', 'No'], dtype=object)"
      ]
     },
     "execution_count": 7,
     "metadata": {},
     "output_type": "execute_result"
    }
   ],
   "source": [
    "bikes['Functioning Day'].unique()"
   ]
  },
  {
   "cell_type": "code",
   "execution_count": 8,
   "id": "355d46cb-4ea4-437f-9abf-f45b9c85f6a0",
   "metadata": {},
   "outputs": [
    {
     "data": {
      "text/html": [
       "<div>\n",
       "<style scoped>\n",
       "    .dataframe tbody tr th:only-of-type {\n",
       "        vertical-align: middle;\n",
       "    }\n",
       "\n",
       "    .dataframe tbody tr th {\n",
       "        vertical-align: top;\n",
       "    }\n",
       "\n",
       "    .dataframe thead th {\n",
       "        text-align: right;\n",
       "    }\n",
       "</style>\n",
       "<table border=\"1\" class=\"dataframe\">\n",
       "  <thead>\n",
       "    <tr style=\"text-align: right;\">\n",
       "      <th></th>\n",
       "      <th>Date</th>\n",
       "      <th>Hour</th>\n",
       "      <th>Temperature</th>\n",
       "      <th>Humidity</th>\n",
       "      <th>Wind speed</th>\n",
       "      <th>Rainfall</th>\n",
       "      <th>Snowfall</th>\n",
       "      <th>Seasons</th>\n",
       "      <th>Holiday</th>\n",
       "      <th>Functioning Day</th>\n",
       "      <th>Partner 1</th>\n",
       "      <th>Partner 2</th>\n",
       "    </tr>\n",
       "  </thead>\n",
       "  <tbody>\n",
       "    <tr>\n",
       "      <th>0</th>\n",
       "      <td>01/12/2017</td>\n",
       "      <td>0</td>\n",
       "      <td>-5.2</td>\n",
       "      <td>37</td>\n",
       "      <td>2.2</td>\n",
       "      <td>0.0</td>\n",
       "      <td>0.0</td>\n",
       "      <td>Winter</td>\n",
       "      <td>No Holiday</td>\n",
       "      <td>Yes</td>\n",
       "      <td>207</td>\n",
       "      <td>50</td>\n",
       "    </tr>\n",
       "    <tr>\n",
       "      <th>1</th>\n",
       "      <td>01/12/2017</td>\n",
       "      <td>1</td>\n",
       "      <td>-5.5</td>\n",
       "      <td>38</td>\n",
       "      <td>0.8</td>\n",
       "      <td>0.0</td>\n",
       "      <td>0.0</td>\n",
       "      <td>Winter</td>\n",
       "      <td>No Holiday</td>\n",
       "      <td>Yes</td>\n",
       "      <td>139</td>\n",
       "      <td>80</td>\n",
       "    </tr>\n",
       "    <tr>\n",
       "      <th>2</th>\n",
       "      <td>01/12/2017</td>\n",
       "      <td>2</td>\n",
       "      <td>-6.0</td>\n",
       "      <td>39</td>\n",
       "      <td>1.0</td>\n",
       "      <td>0.0</td>\n",
       "      <td>0.0</td>\n",
       "      <td>Winter</td>\n",
       "      <td>No Holiday</td>\n",
       "      <td>Yes</td>\n",
       "      <td>22</td>\n",
       "      <td>140</td>\n",
       "    </tr>\n",
       "    <tr>\n",
       "      <th>3</th>\n",
       "      <td>01/12/2017</td>\n",
       "      <td>3</td>\n",
       "      <td>-6.2</td>\n",
       "      <td>40</td>\n",
       "      <td>0.9</td>\n",
       "      <td>0.0</td>\n",
       "      <td>0.0</td>\n",
       "      <td>Winter</td>\n",
       "      <td>No Holiday</td>\n",
       "      <td>Yes</td>\n",
       "      <td>43</td>\n",
       "      <td>105</td>\n",
       "    </tr>\n",
       "    <tr>\n",
       "      <th>4</th>\n",
       "      <td>01/12/2017</td>\n",
       "      <td>4</td>\n",
       "      <td>-6.0</td>\n",
       "      <td>36</td>\n",
       "      <td>2.3</td>\n",
       "      <td>0.0</td>\n",
       "      <td>0.0</td>\n",
       "      <td>Winter</td>\n",
       "      <td>No Holiday</td>\n",
       "      <td>Yes</td>\n",
       "      <td>59</td>\n",
       "      <td>38</td>\n",
       "    </tr>\n",
       "    <tr>\n",
       "      <th>...</th>\n",
       "      <td>...</td>\n",
       "      <td>...</td>\n",
       "      <td>...</td>\n",
       "      <td>...</td>\n",
       "      <td>...</td>\n",
       "      <td>...</td>\n",
       "      <td>...</td>\n",
       "      <td>...</td>\n",
       "      <td>...</td>\n",
       "      <td>...</td>\n",
       "      <td>...</td>\n",
       "      <td>...</td>\n",
       "    </tr>\n",
       "    <tr>\n",
       "      <th>8755</th>\n",
       "      <td>30/11/2018</td>\n",
       "      <td>19</td>\n",
       "      <td>4.2</td>\n",
       "      <td>34</td>\n",
       "      <td>2.6</td>\n",
       "      <td>0.0</td>\n",
       "      <td>0.0</td>\n",
       "      <td>Autumn</td>\n",
       "      <td>No Holiday</td>\n",
       "      <td>Yes</td>\n",
       "      <td>467</td>\n",
       "      <td>177</td>\n",
       "    </tr>\n",
       "    <tr>\n",
       "      <th>8756</th>\n",
       "      <td>30/11/2018</td>\n",
       "      <td>20</td>\n",
       "      <td>3.4</td>\n",
       "      <td>37</td>\n",
       "      <td>2.3</td>\n",
       "      <td>0.0</td>\n",
       "      <td>0.0</td>\n",
       "      <td>Autumn</td>\n",
       "      <td>No Holiday</td>\n",
       "      <td>Yes</td>\n",
       "      <td>296</td>\n",
       "      <td>63</td>\n",
       "    </tr>\n",
       "    <tr>\n",
       "      <th>8757</th>\n",
       "      <td>30/11/2018</td>\n",
       "      <td>21</td>\n",
       "      <td>2.6</td>\n",
       "      <td>39</td>\n",
       "      <td>0.3</td>\n",
       "      <td>0.0</td>\n",
       "      <td>0.0</td>\n",
       "      <td>Autumn</td>\n",
       "      <td>No Holiday</td>\n",
       "      <td>Yes</td>\n",
       "      <td>571</td>\n",
       "      <td>665</td>\n",
       "    </tr>\n",
       "    <tr>\n",
       "      <th>8758</th>\n",
       "      <td>30/11/2018</td>\n",
       "      <td>22</td>\n",
       "      <td>2.1</td>\n",
       "      <td>41</td>\n",
       "      <td>1.0</td>\n",
       "      <td>0.0</td>\n",
       "      <td>0.0</td>\n",
       "      <td>Autumn</td>\n",
       "      <td>No Holiday</td>\n",
       "      <td>Yes</td>\n",
       "      <td>171</td>\n",
       "      <td>457</td>\n",
       "    </tr>\n",
       "    <tr>\n",
       "      <th>8759</th>\n",
       "      <td>30/11/2018</td>\n",
       "      <td>23</td>\n",
       "      <td>1.9</td>\n",
       "      <td>43</td>\n",
       "      <td>1.3</td>\n",
       "      <td>0.0</td>\n",
       "      <td>0.0</td>\n",
       "      <td>Autumn</td>\n",
       "      <td>No Holiday</td>\n",
       "      <td>Yes</td>\n",
       "      <td>442</td>\n",
       "      <td>401</td>\n",
       "    </tr>\n",
       "  </tbody>\n",
       "</table>\n",
       "<p>8465 rows × 12 columns</p>\n",
       "</div>"
      ],
      "text/plain": [
       "            Date  Hour  Temperature  Humidity  Wind speed  Rainfall  Snowfall  \\\n",
       "0     01/12/2017     0         -5.2        37         2.2       0.0       0.0   \n",
       "1     01/12/2017     1         -5.5        38         0.8       0.0       0.0   \n",
       "2     01/12/2017     2         -6.0        39         1.0       0.0       0.0   \n",
       "3     01/12/2017     3         -6.2        40         0.9       0.0       0.0   \n",
       "4     01/12/2017     4         -6.0        36         2.3       0.0       0.0   \n",
       "...          ...   ...          ...       ...         ...       ...       ...   \n",
       "8755  30/11/2018    19          4.2        34         2.6       0.0       0.0   \n",
       "8756  30/11/2018    20          3.4        37         2.3       0.0       0.0   \n",
       "8757  30/11/2018    21          2.6        39         0.3       0.0       0.0   \n",
       "8758  30/11/2018    22          2.1        41         1.0       0.0       0.0   \n",
       "8759  30/11/2018    23          1.9        43         1.3       0.0       0.0   \n",
       "\n",
       "     Seasons     Holiday Functioning Day  Partner 1  Partner 2  \n",
       "0     Winter  No Holiday             Yes        207         50  \n",
       "1     Winter  No Holiday             Yes        139         80  \n",
       "2     Winter  No Holiday             Yes         22        140  \n",
       "3     Winter  No Holiday             Yes         43        105  \n",
       "4     Winter  No Holiday             Yes         59         38  \n",
       "...      ...         ...             ...        ...        ...  \n",
       "8755  Autumn  No Holiday             Yes        467        177  \n",
       "8756  Autumn  No Holiday             Yes        296         63  \n",
       "8757  Autumn  No Holiday             Yes        571        665  \n",
       "8758  Autumn  No Holiday             Yes        171        457  \n",
       "8759  Autumn  No Holiday             Yes        442        401  \n",
       "\n",
       "[8465 rows x 12 columns]"
      ]
     },
     "execution_count": 8,
     "metadata": {},
     "output_type": "execute_result"
    }
   ],
   "source": [
    "bikes[bikes['Functioning Day'] == \"Yes\"]"
   ]
  },
  {
   "cell_type": "code",
   "execution_count": 9,
   "id": "e6efe555-583b-445c-960f-39c0dad340dd",
   "metadata": {},
   "outputs": [
    {
     "data": {
      "text/html": [
       "<div>\n",
       "<style scoped>\n",
       "    .dataframe tbody tr th:only-of-type {\n",
       "        vertical-align: middle;\n",
       "    }\n",
       "\n",
       "    .dataframe tbody tr th {\n",
       "        vertical-align: top;\n",
       "    }\n",
       "\n",
       "    .dataframe thead th {\n",
       "        text-align: right;\n",
       "    }\n",
       "</style>\n",
       "<table border=\"1\" class=\"dataframe\">\n",
       "  <thead>\n",
       "    <tr style=\"text-align: right;\">\n",
       "      <th></th>\n",
       "      <th>Date</th>\n",
       "      <th>Hour</th>\n",
       "      <th>Temperature</th>\n",
       "      <th>Humidity</th>\n",
       "      <th>Wind speed</th>\n",
       "      <th>Rainfall</th>\n",
       "      <th>Snowfall</th>\n",
       "      <th>Seasons</th>\n",
       "      <th>Holiday</th>\n",
       "      <th>Functioning Day</th>\n",
       "      <th>Partner 1</th>\n",
       "      <th>Partner 2</th>\n",
       "    </tr>\n",
       "  </thead>\n",
       "  <tbody>\n",
       "    <tr>\n",
       "      <th>3144</th>\n",
       "      <td>11/04/2018</td>\n",
       "      <td>0</td>\n",
       "      <td>14.4</td>\n",
       "      <td>82</td>\n",
       "      <td>4.6</td>\n",
       "      <td>0.0</td>\n",
       "      <td>0.0</td>\n",
       "      <td>Spring</td>\n",
       "      <td>No Holiday</td>\n",
       "      <td>No</td>\n",
       "      <td>0</td>\n",
       "      <td>0</td>\n",
       "    </tr>\n",
       "    <tr>\n",
       "      <th>3145</th>\n",
       "      <td>11/04/2018</td>\n",
       "      <td>1</td>\n",
       "      <td>13.6</td>\n",
       "      <td>81</td>\n",
       "      <td>3.6</td>\n",
       "      <td>0.0</td>\n",
       "      <td>0.0</td>\n",
       "      <td>Spring</td>\n",
       "      <td>No Holiday</td>\n",
       "      <td>No</td>\n",
       "      <td>0</td>\n",
       "      <td>0</td>\n",
       "    </tr>\n",
       "    <tr>\n",
       "      <th>3146</th>\n",
       "      <td>11/04/2018</td>\n",
       "      <td>2</td>\n",
       "      <td>NaN</td>\n",
       "      <td>80</td>\n",
       "      <td>3.9</td>\n",
       "      <td>0.0</td>\n",
       "      <td>0.0</td>\n",
       "      <td>Spring</td>\n",
       "      <td>No Holiday</td>\n",
       "      <td>No</td>\n",
       "      <td>0</td>\n",
       "      <td>0</td>\n",
       "    </tr>\n",
       "    <tr>\n",
       "      <th>3147</th>\n",
       "      <td>11/04/2018</td>\n",
       "      <td>3</td>\n",
       "      <td>11.6</td>\n",
       "      <td>81</td>\n",
       "      <td>3.1</td>\n",
       "      <td>0.0</td>\n",
       "      <td>0.0</td>\n",
       "      <td>Spring</td>\n",
       "      <td>No Holiday</td>\n",
       "      <td>No</td>\n",
       "      <td>0</td>\n",
       "      <td>0</td>\n",
       "    </tr>\n",
       "    <tr>\n",
       "      <th>3148</th>\n",
       "      <td>11/04/2018</td>\n",
       "      <td>4</td>\n",
       "      <td>10.2</td>\n",
       "      <td>83</td>\n",
       "      <td>3.5</td>\n",
       "      <td>0.0</td>\n",
       "      <td>0.0</td>\n",
       "      <td>Spring</td>\n",
       "      <td>No Holiday</td>\n",
       "      <td>No</td>\n",
       "      <td>0</td>\n",
       "      <td>0</td>\n",
       "    </tr>\n",
       "    <tr>\n",
       "      <th>...</th>\n",
       "      <td>...</td>\n",
       "      <td>...</td>\n",
       "      <td>...</td>\n",
       "      <td>...</td>\n",
       "      <td>...</td>\n",
       "      <td>...</td>\n",
       "      <td>...</td>\n",
       "      <td>...</td>\n",
       "      <td>...</td>\n",
       "      <td>...</td>\n",
       "      <td>...</td>\n",
       "      <td>...</td>\n",
       "    </tr>\n",
       "    <tr>\n",
       "      <th>8251</th>\n",
       "      <td>09/11/2018</td>\n",
       "      <td>19</td>\n",
       "      <td>11.9</td>\n",
       "      <td>71</td>\n",
       "      <td>2.7</td>\n",
       "      <td>0.0</td>\n",
       "      <td>0.0</td>\n",
       "      <td>Autumn</td>\n",
       "      <td>No Holiday</td>\n",
       "      <td>No</td>\n",
       "      <td>0</td>\n",
       "      <td>0</td>\n",
       "    </tr>\n",
       "    <tr>\n",
       "      <th>8252</th>\n",
       "      <td>09/11/2018</td>\n",
       "      <td>20</td>\n",
       "      <td>11.9</td>\n",
       "      <td>72</td>\n",
       "      <td>2.5</td>\n",
       "      <td>0.0</td>\n",
       "      <td>0.0</td>\n",
       "      <td>Autumn</td>\n",
       "      <td>No Holiday</td>\n",
       "      <td>No</td>\n",
       "      <td>0</td>\n",
       "      <td>0</td>\n",
       "    </tr>\n",
       "    <tr>\n",
       "      <th>8253</th>\n",
       "      <td>09/11/2018</td>\n",
       "      <td>21</td>\n",
       "      <td>11.4</td>\n",
       "      <td>74</td>\n",
       "      <td>1.9</td>\n",
       "      <td>0.0</td>\n",
       "      <td>0.0</td>\n",
       "      <td>Autumn</td>\n",
       "      <td>No Holiday</td>\n",
       "      <td>No</td>\n",
       "      <td>0</td>\n",
       "      <td>0</td>\n",
       "    </tr>\n",
       "    <tr>\n",
       "      <th>8254</th>\n",
       "      <td>09/11/2018</td>\n",
       "      <td>22</td>\n",
       "      <td>11.2</td>\n",
       "      <td>75</td>\n",
       "      <td>1.7</td>\n",
       "      <td>0.0</td>\n",
       "      <td>0.0</td>\n",
       "      <td>Autumn</td>\n",
       "      <td>No Holiday</td>\n",
       "      <td>No</td>\n",
       "      <td>0</td>\n",
       "      <td>0</td>\n",
       "    </tr>\n",
       "    <tr>\n",
       "      <th>8255</th>\n",
       "      <td>09/11/2018</td>\n",
       "      <td>23</td>\n",
       "      <td>10.9</td>\n",
       "      <td>76</td>\n",
       "      <td>1.2</td>\n",
       "      <td>0.0</td>\n",
       "      <td>0.0</td>\n",
       "      <td>Autumn</td>\n",
       "      <td>No Holiday</td>\n",
       "      <td>No</td>\n",
       "      <td>0</td>\n",
       "      <td>0</td>\n",
       "    </tr>\n",
       "  </tbody>\n",
       "</table>\n",
       "<p>295 rows × 12 columns</p>\n",
       "</div>"
      ],
      "text/plain": [
       "            Date  Hour  Temperature  Humidity  Wind speed  Rainfall  Snowfall  \\\n",
       "3144  11/04/2018     0         14.4        82         4.6       0.0       0.0   \n",
       "3145  11/04/2018     1         13.6        81         3.6       0.0       0.0   \n",
       "3146  11/04/2018     2          NaN        80         3.9       0.0       0.0   \n",
       "3147  11/04/2018     3         11.6        81         3.1       0.0       0.0   \n",
       "3148  11/04/2018     4         10.2        83         3.5       0.0       0.0   \n",
       "...          ...   ...          ...       ...         ...       ...       ...   \n",
       "8251  09/11/2018    19         11.9        71         2.7       0.0       0.0   \n",
       "8252  09/11/2018    20         11.9        72         2.5       0.0       0.0   \n",
       "8253  09/11/2018    21         11.4        74         1.9       0.0       0.0   \n",
       "8254  09/11/2018    22         11.2        75         1.7       0.0       0.0   \n",
       "8255  09/11/2018    23         10.9        76         1.2       0.0       0.0   \n",
       "\n",
       "     Seasons     Holiday Functioning Day  Partner 1  Partner 2  \n",
       "3144  Spring  No Holiday              No          0          0  \n",
       "3145  Spring  No Holiday              No          0          0  \n",
       "3146  Spring  No Holiday              No          0          0  \n",
       "3147  Spring  No Holiday              No          0          0  \n",
       "3148  Spring  No Holiday              No          0          0  \n",
       "...      ...         ...             ...        ...        ...  \n",
       "8251  Autumn  No Holiday              No          0          0  \n",
       "8252  Autumn  No Holiday              No          0          0  \n",
       "8253  Autumn  No Holiday              No          0          0  \n",
       "8254  Autumn  No Holiday              No          0          0  \n",
       "8255  Autumn  No Holiday              No          0          0  \n",
       "\n",
       "[295 rows x 12 columns]"
      ]
     },
     "execution_count": 9,
     "metadata": {},
     "output_type": "execute_result"
    }
   ],
   "source": [
    "bikes[bikes['Functioning Day'] == \"No\"]"
   ]
  },
  {
   "cell_type": "code",
   "execution_count": 10,
   "id": "a1733570-0ca2-4d7b-baae-3a03fd6eeed3",
   "metadata": {},
   "outputs": [
    {
     "data": {
      "text/html": [
       "<div>\n",
       "<style scoped>\n",
       "    .dataframe tbody tr th:only-of-type {\n",
       "        vertical-align: middle;\n",
       "    }\n",
       "\n",
       "    .dataframe tbody tr th {\n",
       "        vertical-align: top;\n",
       "    }\n",
       "\n",
       "    .dataframe thead th {\n",
       "        text-align: right;\n",
       "    }\n",
       "</style>\n",
       "<table border=\"1\" class=\"dataframe\">\n",
       "  <thead>\n",
       "    <tr style=\"text-align: right;\">\n",
       "      <th></th>\n",
       "      <th>Partner 1</th>\n",
       "      <th>Partner 2</th>\n",
       "    </tr>\n",
       "  </thead>\n",
       "  <tbody>\n",
       "    <tr>\n",
       "      <th>0</th>\n",
       "      <td>207</td>\n",
       "      <td>50</td>\n",
       "    </tr>\n",
       "    <tr>\n",
       "      <th>1</th>\n",
       "      <td>139</td>\n",
       "      <td>80</td>\n",
       "    </tr>\n",
       "    <tr>\n",
       "      <th>2</th>\n",
       "      <td>22</td>\n",
       "      <td>140</td>\n",
       "    </tr>\n",
       "    <tr>\n",
       "      <th>3</th>\n",
       "      <td>43</td>\n",
       "      <td>105</td>\n",
       "    </tr>\n",
       "    <tr>\n",
       "      <th>4</th>\n",
       "      <td>59</td>\n",
       "      <td>38</td>\n",
       "    </tr>\n",
       "    <tr>\n",
       "      <th>...</th>\n",
       "      <td>...</td>\n",
       "      <td>...</td>\n",
       "    </tr>\n",
       "    <tr>\n",
       "      <th>8755</th>\n",
       "      <td>467</td>\n",
       "      <td>177</td>\n",
       "    </tr>\n",
       "    <tr>\n",
       "      <th>8756</th>\n",
       "      <td>296</td>\n",
       "      <td>63</td>\n",
       "    </tr>\n",
       "    <tr>\n",
       "      <th>8757</th>\n",
       "      <td>571</td>\n",
       "      <td>665</td>\n",
       "    </tr>\n",
       "    <tr>\n",
       "      <th>8758</th>\n",
       "      <td>171</td>\n",
       "      <td>457</td>\n",
       "    </tr>\n",
       "    <tr>\n",
       "      <th>8759</th>\n",
       "      <td>442</td>\n",
       "      <td>401</td>\n",
       "    </tr>\n",
       "  </tbody>\n",
       "</table>\n",
       "<p>8760 rows × 2 columns</p>\n",
       "</div>"
      ],
      "text/plain": [
       "      Partner 1  Partner 2\n",
       "0           207         50\n",
       "1           139         80\n",
       "2            22        140\n",
       "3            43        105\n",
       "4            59         38\n",
       "...         ...        ...\n",
       "8755        467        177\n",
       "8756        296         63\n",
       "8757        571        665\n",
       "8758        171        457\n",
       "8759        442        401\n",
       "\n",
       "[8760 rows x 2 columns]"
      ]
     },
     "execution_count": 10,
     "metadata": {},
     "output_type": "execute_result"
    }
   ],
   "source": [
    "bikes[['Partner 1', 'Partner 2']]"
   ]
  },
  {
   "cell_type": "code",
   "execution_count": 11,
   "id": "df5df22e-9fb8-40cd-bbac-34a990a9bd9b",
   "metadata": {},
   "outputs": [
    {
     "data": {
      "text/plain": [
       "Date               06/12/2017\n",
       "Hour                        4\n",
       "Temperature              -3.4\n",
       "Humidity                   75\n",
       "Wind speed                0.0\n",
       "Rainfall                  0.0\n",
       "Snowfall                  0.4\n",
       "Seasons                Winter\n",
       "Holiday            No Holiday\n",
       "Functioning Day           Yes\n",
       "Partner 1                  36\n",
       "Partner 2                   4\n",
       "Name: 124, dtype: object"
      ]
     },
     "execution_count": 11,
     "metadata": {},
     "output_type": "execute_result"
    }
   ],
   "source": [
    "bikes.iloc[124]  # вывести 124ую по счёту строку"
   ]
  },
  {
   "cell_type": "code",
   "execution_count": 12,
   "id": "ac2bb47e-a488-4007-afb0-996789602c97",
   "metadata": {},
   "outputs": [
    {
     "data": {
      "text/plain": [
       "Date               06/12/2017\n",
       "Hour                       14\n",
       "Temperature               5.5\n",
       "Humidity                   34\n",
       "Wind speed                1.0\n",
       "Rainfall                  0.0\n",
       "Snowfall                  0.0\n",
       "Seasons                Winter\n",
       "Holiday            No Holiday\n",
       "Functioning Day           Yes\n",
       "Partner 1                 358\n",
       "Partner 2                 202\n",
       "Name: 134, dtype: object"
      ]
     },
     "execution_count": 12,
     "metadata": {},
     "output_type": "execute_result"
    }
   ],
   "source": [
    "bikes.iloc[134]  # вывести 124ую по счёту строку"
   ]
  },
  {
   "cell_type": "code",
   "execution_count": 9,
   "id": "374f3b6f-755d-4cb9-8004-c384684fc990",
   "metadata": {},
   "outputs": [
    {
     "data": {
      "text/plain": [
       "'No Holiday'"
      ]
     },
     "execution_count": 9,
     "metadata": {},
     "output_type": "execute_result"
    }
   ],
   "source": [
    "bikes.iloc[124]['Holiday']  # это был не выходной"
   ]
  },
  {
   "cell_type": "code",
   "execution_count": 10,
   "id": "418faabc-8caa-4741-a096-ace3be0673d1",
   "metadata": {},
   "outputs": [
    {
     "data": {
      "text/plain": [
       "0       False\n",
       "1       False\n",
       "2       False\n",
       "3       False\n",
       "4       False\n",
       "        ...  \n",
       "8755    False\n",
       "8756    False\n",
       "8757    False\n",
       "8758    False\n",
       "8759    False\n",
       "Name: Holiday, Length: 8760, dtype: bool"
      ]
     },
     "execution_count": 10,
     "metadata": {},
     "output_type": "execute_result"
    }
   ],
   "source": [
    "bikes['Holiday'] == 'Holiday'"
   ]
  },
  {
   "cell_type": "code",
   "execution_count": 11,
   "id": "12bbc0ed-aba5-4b3c-a331-83d0d5051474",
   "metadata": {},
   "outputs": [
    {
     "data": {
      "text/plain": [
       "432"
      ]
     },
     "execution_count": 11,
     "metadata": {},
     "output_type": "execute_result"
    }
   ],
   "source": [
    "(bikes['Holiday'] == 'Holiday').sum()"
   ]
  },
  {
   "cell_type": "markdown",
   "id": "40f09d3f-0271-4b8b-aa2f-677f780711d9",
   "metadata": {},
   "source": [
    "(Сколько это суток?)"
   ]
  },
  {
   "cell_type": "code",
   "execution_count": 14,
   "id": "a27dae45-7a33-42e5-a417-87f8673c291c",
   "metadata": {},
   "outputs": [
    {
     "data": {
      "text/plain": [
       "18"
      ]
     },
     "execution_count": 14,
     "metadata": {},
     "output_type": "execute_result"
    }
   ],
   "source": [
    "432 // 24"
   ]
  },
  {
   "cell_type": "code",
   "execution_count": 12,
   "id": "f58ed3de-8142-46b7-a8e7-40f8204ff9ec",
   "metadata": {},
   "outputs": [
    {
     "data": {
      "text/plain": [
       "0.049315068493150684"
      ]
     },
     "execution_count": 12,
     "metadata": {},
     "output_type": "execute_result"
    }
   ],
   "source": [
    "(bikes['Holiday'] == 'Holiday').mean()"
   ]
  },
  {
   "cell_type": "code",
   "execution_count": 53,
   "id": "0debe98f-77b0-4426-8030-d232ca8337d7",
   "metadata": {},
   "outputs": [
    {
     "data": {
      "text/plain": [
       "(8760, 12)"
      ]
     },
     "execution_count": 53,
     "metadata": {},
     "output_type": "execute_result"
    }
   ],
   "source": [
    "bikes.shape"
   ]
  },
  {
   "cell_type": "code",
   "execution_count": 15,
   "id": "c726a04d-52a6-423f-b36e-3f48e0b69c28",
   "metadata": {},
   "outputs": [
    {
     "data": {
      "text/plain": [
       "0.049315068493150684"
      ]
     },
     "execution_count": 15,
     "metadata": {},
     "output_type": "execute_result"
    }
   ],
   "source": [
    "432 / bikes.shape[0]"
   ]
  },
  {
   "cell_type": "code",
   "execution_count": 10,
   "id": "83419137-c59a-4864-9600-8648ea73b868",
   "metadata": {},
   "outputs": [
    {
     "data": {
      "text/plain": [
       "(432, 12)"
      ]
     },
     "execution_count": 10,
     "metadata": {},
     "output_type": "execute_result"
    }
   ],
   "source": [
    "# Сколько выходных часов?\n",
    "bikes[bikes['Holiday'] == 'Holiday'].shape"
   ]
  },
  {
   "cell_type": "code",
   "execution_count": 16,
   "id": "d4996491-e59f-439d-b4af-a8862c095fa1",
   "metadata": {},
   "outputs": [
    {
     "data": {
      "text/html": [
       "<div>\n",
       "<style scoped>\n",
       "    .dataframe tbody tr th:only-of-type {\n",
       "        vertical-align: middle;\n",
       "    }\n",
       "\n",
       "    .dataframe tbody tr th {\n",
       "        vertical-align: top;\n",
       "    }\n",
       "\n",
       "    .dataframe thead th {\n",
       "        text-align: right;\n",
       "    }\n",
       "</style>\n",
       "<table border=\"1\" class=\"dataframe\">\n",
       "  <thead>\n",
       "    <tr style=\"text-align: right;\">\n",
       "      <th></th>\n",
       "      <th>Date</th>\n",
       "      <th>Hour</th>\n",
       "      <th>Temperature</th>\n",
       "      <th>Humidity</th>\n",
       "      <th>Wind speed</th>\n",
       "      <th>Rainfall</th>\n",
       "      <th>Snowfall</th>\n",
       "      <th>Seasons</th>\n",
       "      <th>Holiday</th>\n",
       "      <th>Functioning Day</th>\n",
       "      <th>Partner 1</th>\n",
       "      <th>Partner 2</th>\n",
       "    </tr>\n",
       "  </thead>\n",
       "  <tbody>\n",
       "    <tr>\n",
       "      <th>504</th>\n",
       "      <td>22/12/2017</td>\n",
       "      <td>0</td>\n",
       "      <td>-1.7</td>\n",
       "      <td>79</td>\n",
       "      <td>0.5</td>\n",
       "      <td>0.0</td>\n",
       "      <td>0.8</td>\n",
       "      <td>Winter</td>\n",
       "      <td>Holiday</td>\n",
       "      <td>Yes</td>\n",
       "      <td>58</td>\n",
       "      <td>38</td>\n",
       "    </tr>\n",
       "    <tr>\n",
       "      <th>505</th>\n",
       "      <td>22/12/2017</td>\n",
       "      <td>1</td>\n",
       "      <td>-1.6</td>\n",
       "      <td>79</td>\n",
       "      <td>0.6</td>\n",
       "      <td>0.0</td>\n",
       "      <td>0.8</td>\n",
       "      <td>Winter</td>\n",
       "      <td>Holiday</td>\n",
       "      <td>Yes</td>\n",
       "      <td>205</td>\n",
       "      <td>203</td>\n",
       "    </tr>\n",
       "    <tr>\n",
       "      <th>506</th>\n",
       "      <td>22/12/2017</td>\n",
       "      <td>2</td>\n",
       "      <td>-1.1</td>\n",
       "      <td>79</td>\n",
       "      <td>0.7</td>\n",
       "      <td>0.0</td>\n",
       "      <td>0.8</td>\n",
       "      <td>Winter</td>\n",
       "      <td>Holiday</td>\n",
       "      <td>Yes</td>\n",
       "      <td>46</td>\n",
       "      <td>86</td>\n",
       "    </tr>\n",
       "    <tr>\n",
       "      <th>507</th>\n",
       "      <td>22/12/2017</td>\n",
       "      <td>3</td>\n",
       "      <td>-0.6</td>\n",
       "      <td>76</td>\n",
       "      <td>0.5</td>\n",
       "      <td>0.0</td>\n",
       "      <td>0.7</td>\n",
       "      <td>Winter</td>\n",
       "      <td>Holiday</td>\n",
       "      <td>Yes</td>\n",
       "      <td>94</td>\n",
       "      <td>41</td>\n",
       "    </tr>\n",
       "    <tr>\n",
       "      <th>508</th>\n",
       "      <td>22/12/2017</td>\n",
       "      <td>4</td>\n",
       "      <td>-0.3</td>\n",
       "      <td>76</td>\n",
       "      <td>0.9</td>\n",
       "      <td>0.0</td>\n",
       "      <td>0.7</td>\n",
       "      <td>Winter</td>\n",
       "      <td>Holiday</td>\n",
       "      <td>Yes</td>\n",
       "      <td>12</td>\n",
       "      <td>27</td>\n",
       "    </tr>\n",
       "    <tr>\n",
       "      <th>...</th>\n",
       "      <td>...</td>\n",
       "      <td>...</td>\n",
       "      <td>...</td>\n",
       "      <td>...</td>\n",
       "      <td>...</td>\n",
       "      <td>...</td>\n",
       "      <td>...</td>\n",
       "      <td>...</td>\n",
       "      <td>...</td>\n",
       "      <td>...</td>\n",
       "      <td>...</td>\n",
       "      <td>...</td>\n",
       "    </tr>\n",
       "    <tr>\n",
       "      <th>7507</th>\n",
       "      <td>09/10/2018</td>\n",
       "      <td>19</td>\n",
       "      <td>17.3</td>\n",
       "      <td>47</td>\n",
       "      <td>2.2</td>\n",
       "      <td>0.0</td>\n",
       "      <td>0.0</td>\n",
       "      <td>Autumn</td>\n",
       "      <td>Holiday</td>\n",
       "      <td>No</td>\n",
       "      <td>0</td>\n",
       "      <td>0</td>\n",
       "    </tr>\n",
       "    <tr>\n",
       "      <th>7508</th>\n",
       "      <td>09/10/2018</td>\n",
       "      <td>20</td>\n",
       "      <td>17.0</td>\n",
       "      <td>49</td>\n",
       "      <td>1.4</td>\n",
       "      <td>0.0</td>\n",
       "      <td>0.0</td>\n",
       "      <td>Autumn</td>\n",
       "      <td>Holiday</td>\n",
       "      <td>No</td>\n",
       "      <td>0</td>\n",
       "      <td>0</td>\n",
       "    </tr>\n",
       "    <tr>\n",
       "      <th>7509</th>\n",
       "      <td>09/10/2018</td>\n",
       "      <td>21</td>\n",
       "      <td>16.8</td>\n",
       "      <td>52</td>\n",
       "      <td>1.6</td>\n",
       "      <td>0.0</td>\n",
       "      <td>0.0</td>\n",
       "      <td>Autumn</td>\n",
       "      <td>Holiday</td>\n",
       "      <td>No</td>\n",
       "      <td>0</td>\n",
       "      <td>0</td>\n",
       "    </tr>\n",
       "    <tr>\n",
       "      <th>7510</th>\n",
       "      <td>09/10/2018</td>\n",
       "      <td>22</td>\n",
       "      <td>16.7</td>\n",
       "      <td>55</td>\n",
       "      <td>1.9</td>\n",
       "      <td>0.0</td>\n",
       "      <td>0.0</td>\n",
       "      <td>Autumn</td>\n",
       "      <td>Holiday</td>\n",
       "      <td>No</td>\n",
       "      <td>0</td>\n",
       "      <td>0</td>\n",
       "    </tr>\n",
       "    <tr>\n",
       "      <th>7511</th>\n",
       "      <td>09/10/2018</td>\n",
       "      <td>23</td>\n",
       "      <td>16.6</td>\n",
       "      <td>53</td>\n",
       "      <td>1.1</td>\n",
       "      <td>0.0</td>\n",
       "      <td>0.0</td>\n",
       "      <td>Autumn</td>\n",
       "      <td>Holiday</td>\n",
       "      <td>No</td>\n",
       "      <td>0</td>\n",
       "      <td>0</td>\n",
       "    </tr>\n",
       "  </tbody>\n",
       "</table>\n",
       "<p>432 rows × 12 columns</p>\n",
       "</div>"
      ],
      "text/plain": [
       "            Date  Hour  Temperature  Humidity  Wind speed  Rainfall  Snowfall  \\\n",
       "504   22/12/2017     0         -1.7        79         0.5       0.0       0.8   \n",
       "505   22/12/2017     1         -1.6        79         0.6       0.0       0.8   \n",
       "506   22/12/2017     2         -1.1        79         0.7       0.0       0.8   \n",
       "507   22/12/2017     3         -0.6        76         0.5       0.0       0.7   \n",
       "508   22/12/2017     4         -0.3        76         0.9       0.0       0.7   \n",
       "...          ...   ...          ...       ...         ...       ...       ...   \n",
       "7507  09/10/2018    19         17.3        47         2.2       0.0       0.0   \n",
       "7508  09/10/2018    20         17.0        49         1.4       0.0       0.0   \n",
       "7509  09/10/2018    21         16.8        52         1.6       0.0       0.0   \n",
       "7510  09/10/2018    22         16.7        55         1.9       0.0       0.0   \n",
       "7511  09/10/2018    23         16.6        53         1.1       0.0       0.0   \n",
       "\n",
       "     Seasons  Holiday Functioning Day  Partner 1  Partner 2  \n",
       "504   Winter  Holiday             Yes         58         38  \n",
       "505   Winter  Holiday             Yes        205        203  \n",
       "506   Winter  Holiday             Yes         46         86  \n",
       "507   Winter  Holiday             Yes         94         41  \n",
       "508   Winter  Holiday             Yes         12         27  \n",
       "...      ...      ...             ...        ...        ...  \n",
       "7507  Autumn  Holiday              No          0          0  \n",
       "7508  Autumn  Holiday              No          0          0  \n",
       "7509  Autumn  Holiday              No          0          0  \n",
       "7510  Autumn  Holiday              No          0          0  \n",
       "7511  Autumn  Holiday              No          0          0  \n",
       "\n",
       "[432 rows x 12 columns]"
      ]
     },
     "execution_count": 16,
     "metadata": {},
     "output_type": "execute_result"
    }
   ],
   "source": [
    "# Сколько выходных часов?\n",
    "bikes[bikes['Holiday'] == 'Holiday']"
   ]
  },
  {
   "cell_type": "code",
   "execution_count": 12,
   "id": "108aa82b-f873-4018-9527-f7d3f75d0801",
   "metadata": {},
   "outputs": [
    {
     "data": {
      "text/plain": [
       "(179, 12)"
      ]
     },
     "execution_count": 12,
     "metadata": {},
     "output_type": "execute_result"
    }
   ],
   "source": [
    "# Сколько выходных часов с температурой > 15?\n",
    "bikes[(bikes['Holiday'] == 'Holiday') & \n",
    "      (bikes['Temperature'] > 15)].shape"
   ]
  },
  {
   "cell_type": "code",
   "execution_count": 16,
   "id": "e1051261-9bb0-434f-abf3-d015736a264f",
   "metadata": {},
   "outputs": [
    {
     "data": {
      "text/html": [
       "<div>\n",
       "<style scoped>\n",
       "    .dataframe tbody tr th:only-of-type {\n",
       "        vertical-align: middle;\n",
       "    }\n",
       "\n",
       "    .dataframe tbody tr th {\n",
       "        vertical-align: top;\n",
       "    }\n",
       "\n",
       "    .dataframe thead th {\n",
       "        text-align: right;\n",
       "    }\n",
       "</style>\n",
       "<table border=\"1\" class=\"dataframe\">\n",
       "  <thead>\n",
       "    <tr style=\"text-align: right;\">\n",
       "      <th></th>\n",
       "      <th>Date</th>\n",
       "      <th>Hour</th>\n",
       "      <th>Temperature</th>\n",
       "      <th>Humidity</th>\n",
       "      <th>Wind speed</th>\n",
       "      <th>Rainfall</th>\n",
       "      <th>Snowfall</th>\n",
       "      <th>Seasons</th>\n",
       "      <th>Holiday</th>\n",
       "      <th>Functioning Day</th>\n",
       "      <th>Partner 1</th>\n",
       "      <th>Partner 2</th>\n",
       "    </tr>\n",
       "  </thead>\n",
       "  <tbody>\n",
       "    <tr>\n",
       "      <th>3624</th>\n",
       "      <td>01/05/2018</td>\n",
       "      <td>0</td>\n",
       "      <td>18.3</td>\n",
       "      <td>78</td>\n",
       "      <td>0.8</td>\n",
       "      <td>0.0</td>\n",
       "      <td>0.0</td>\n",
       "      <td>Spring</td>\n",
       "      <td>Holiday</td>\n",
       "      <td>Yes</td>\n",
       "      <td>624</td>\n",
       "      <td>109</td>\n",
       "    </tr>\n",
       "    <tr>\n",
       "      <th>3625</th>\n",
       "      <td>01/05/2018</td>\n",
       "      <td>1</td>\n",
       "      <td>18.3</td>\n",
       "      <td>83</td>\n",
       "      <td>1.1</td>\n",
       "      <td>0.0</td>\n",
       "      <td>0.0</td>\n",
       "      <td>Spring</td>\n",
       "      <td>Holiday</td>\n",
       "      <td>Yes</td>\n",
       "      <td>554</td>\n",
       "      <td>555</td>\n",
       "    </tr>\n",
       "    <tr>\n",
       "      <th>3626</th>\n",
       "      <td>01/05/2018</td>\n",
       "      <td>2</td>\n",
       "      <td>18.2</td>\n",
       "      <td>85</td>\n",
       "      <td>0.8</td>\n",
       "      <td>0.0</td>\n",
       "      <td>0.0</td>\n",
       "      <td>Spring</td>\n",
       "      <td>Holiday</td>\n",
       "      <td>Yes</td>\n",
       "      <td>11</td>\n",
       "      <td>442</td>\n",
       "    </tr>\n",
       "    <tr>\n",
       "      <th>3627</th>\n",
       "      <td>01/05/2018</td>\n",
       "      <td>3</td>\n",
       "      <td>18.1</td>\n",
       "      <td>85</td>\n",
       "      <td>1.0</td>\n",
       "      <td>0.0</td>\n",
       "      <td>0.0</td>\n",
       "      <td>Spring</td>\n",
       "      <td>Holiday</td>\n",
       "      <td>Yes</td>\n",
       "      <td>3</td>\n",
       "      <td>340</td>\n",
       "    </tr>\n",
       "    <tr>\n",
       "      <th>3628</th>\n",
       "      <td>01/05/2018</td>\n",
       "      <td>4</td>\n",
       "      <td>18.0</td>\n",
       "      <td>85</td>\n",
       "      <td>0.3</td>\n",
       "      <td>0.0</td>\n",
       "      <td>0.0</td>\n",
       "      <td>Spring</td>\n",
       "      <td>Holiday</td>\n",
       "      <td>Yes</td>\n",
       "      <td>144</td>\n",
       "      <td>2</td>\n",
       "    </tr>\n",
       "    <tr>\n",
       "      <th>...</th>\n",
       "      <td>...</td>\n",
       "      <td>...</td>\n",
       "      <td>...</td>\n",
       "      <td>...</td>\n",
       "      <td>...</td>\n",
       "      <td>...</td>\n",
       "      <td>...</td>\n",
       "      <td>...</td>\n",
       "      <td>...</td>\n",
       "      <td>...</td>\n",
       "      <td>...</td>\n",
       "      <td>...</td>\n",
       "    </tr>\n",
       "    <tr>\n",
       "      <th>7507</th>\n",
       "      <td>09/10/2018</td>\n",
       "      <td>19</td>\n",
       "      <td>17.3</td>\n",
       "      <td>47</td>\n",
       "      <td>2.2</td>\n",
       "      <td>0.0</td>\n",
       "      <td>0.0</td>\n",
       "      <td>Autumn</td>\n",
       "      <td>Holiday</td>\n",
       "      <td>No</td>\n",
       "      <td>0</td>\n",
       "      <td>0</td>\n",
       "    </tr>\n",
       "    <tr>\n",
       "      <th>7508</th>\n",
       "      <td>09/10/2018</td>\n",
       "      <td>20</td>\n",
       "      <td>17.0</td>\n",
       "      <td>49</td>\n",
       "      <td>1.4</td>\n",
       "      <td>0.0</td>\n",
       "      <td>0.0</td>\n",
       "      <td>Autumn</td>\n",
       "      <td>Holiday</td>\n",
       "      <td>No</td>\n",
       "      <td>0</td>\n",
       "      <td>0</td>\n",
       "    </tr>\n",
       "    <tr>\n",
       "      <th>7509</th>\n",
       "      <td>09/10/2018</td>\n",
       "      <td>21</td>\n",
       "      <td>16.8</td>\n",
       "      <td>52</td>\n",
       "      <td>1.6</td>\n",
       "      <td>0.0</td>\n",
       "      <td>0.0</td>\n",
       "      <td>Autumn</td>\n",
       "      <td>Holiday</td>\n",
       "      <td>No</td>\n",
       "      <td>0</td>\n",
       "      <td>0</td>\n",
       "    </tr>\n",
       "    <tr>\n",
       "      <th>7510</th>\n",
       "      <td>09/10/2018</td>\n",
       "      <td>22</td>\n",
       "      <td>16.7</td>\n",
       "      <td>55</td>\n",
       "      <td>1.9</td>\n",
       "      <td>0.0</td>\n",
       "      <td>0.0</td>\n",
       "      <td>Autumn</td>\n",
       "      <td>Holiday</td>\n",
       "      <td>No</td>\n",
       "      <td>0</td>\n",
       "      <td>0</td>\n",
       "    </tr>\n",
       "    <tr>\n",
       "      <th>7511</th>\n",
       "      <td>09/10/2018</td>\n",
       "      <td>23</td>\n",
       "      <td>16.6</td>\n",
       "      <td>53</td>\n",
       "      <td>1.1</td>\n",
       "      <td>0.0</td>\n",
       "      <td>0.0</td>\n",
       "      <td>Autumn</td>\n",
       "      <td>Holiday</td>\n",
       "      <td>No</td>\n",
       "      <td>0</td>\n",
       "      <td>0</td>\n",
       "    </tr>\n",
       "  </tbody>\n",
       "</table>\n",
       "<p>179 rows × 12 columns</p>\n",
       "</div>"
      ],
      "text/plain": [
       "            Date  Hour  Temperature  Humidity  Wind speed  Rainfall  Snowfall  \\\n",
       "3624  01/05/2018     0         18.3        78         0.8       0.0       0.0   \n",
       "3625  01/05/2018     1         18.3        83         1.1       0.0       0.0   \n",
       "3626  01/05/2018     2         18.2        85         0.8       0.0       0.0   \n",
       "3627  01/05/2018     3         18.1        85         1.0       0.0       0.0   \n",
       "3628  01/05/2018     4         18.0        85         0.3       0.0       0.0   \n",
       "...          ...   ...          ...       ...         ...       ...       ...   \n",
       "7507  09/10/2018    19         17.3        47         2.2       0.0       0.0   \n",
       "7508  09/10/2018    20         17.0        49         1.4       0.0       0.0   \n",
       "7509  09/10/2018    21         16.8        52         1.6       0.0       0.0   \n",
       "7510  09/10/2018    22         16.7        55         1.9       0.0       0.0   \n",
       "7511  09/10/2018    23         16.6        53         1.1       0.0       0.0   \n",
       "\n",
       "     Seasons  Holiday Functioning Day  Partner 1  Partner 2  \n",
       "3624  Spring  Holiday             Yes        624        109  \n",
       "3625  Spring  Holiday             Yes        554        555  \n",
       "3626  Spring  Holiday             Yes         11        442  \n",
       "3627  Spring  Holiday             Yes          3        340  \n",
       "3628  Spring  Holiday             Yes        144          2  \n",
       "...      ...      ...             ...        ...        ...  \n",
       "7507  Autumn  Holiday              No          0          0  \n",
       "7508  Autumn  Holiday              No          0          0  \n",
       "7509  Autumn  Holiday              No          0          0  \n",
       "7510  Autumn  Holiday              No          0          0  \n",
       "7511  Autumn  Holiday              No          0          0  \n",
       "\n",
       "[179 rows x 12 columns]"
      ]
     },
     "execution_count": 16,
     "metadata": {},
     "output_type": "execute_result"
    }
   ],
   "source": [
    "bikes[(bikes['Holiday'] == 'Holiday') & \n",
    "      (bikes['Temperature'] > 15)]"
   ]
  },
  {
   "cell_type": "code",
   "execution_count": 15,
   "id": "6338f65d-f5f8-49cb-94b2-5cf852c38a38",
   "metadata": {},
   "outputs": [
    {
     "data": {
      "text/plain": [
       "(4293, 12)"
      ]
     },
     "execution_count": 15,
     "metadata": {},
     "output_type": "execute_result"
    }
   ],
   "source": [
    "# Сколько выходных часов или/и тех, когда температура > 15?\n",
    "bikes[(bikes['Holiday'] == 'Holiday') | \n",
    "      (bikes['Temperature'] > 15)].shape"
   ]
  },
  {
   "cell_type": "code",
   "execution_count": 55,
   "id": "afc14823-21eb-407f-89bf-e1df0385f93f",
   "metadata": {},
   "outputs": [
    {
     "data": {
      "text/plain": [
       "(8760, 12)"
      ]
     },
     "execution_count": 55,
     "metadata": {},
     "output_type": "execute_result"
    }
   ],
   "source": [
    "bikes.shape"
   ]
  },
  {
   "cell_type": "code",
   "execution_count": 57,
   "id": "c02c05aa-eb23-4eb7-a5bd-c84bc15cc96c",
   "metadata": {},
   "outputs": [
    {
     "data": {
      "text/plain": [
       "4467"
      ]
     },
     "execution_count": 57,
     "metadata": {},
     "output_type": "execute_result"
    }
   ],
   "source": [
    "(~((bikes['Holiday'] == 'Holiday') | \n",
    "        (bikes['Temperature'] > 15)\n",
    ")).sum()"
   ]
  },
  {
   "cell_type": "code",
   "execution_count": 17,
   "id": "e4e17e40-e222-410a-bcfa-3946e3aca6e5",
   "metadata": {},
   "outputs": [
    {
     "data": {
      "text/plain": [
       "(4467, 12)"
      ]
     },
     "execution_count": 17,
     "metadata": {},
     "output_type": "execute_result"
    }
   ],
   "source": [
    "# Сколько остальных часов? (в которых невыходные и при этом неправда, что температура > 15)\n",
    "bikes[~((bikes['Holiday'] == 'Holiday') | \n",
    "        (bikes['Temperature'] > 15)\n",
    "       )].shape"
   ]
  },
  {
   "cell_type": "code",
   "execution_count": 58,
   "id": "b3730d58-2368-4675-8d16-5ba0630fedb4",
   "metadata": {},
   "outputs": [
    {
     "data": {
      "text/plain": [
       "8760"
      ]
     },
     "execution_count": 58,
     "metadata": {},
     "output_type": "execute_result"
    }
   ],
   "source": [
    "# Проверка, что посчитали все часы из таблицы. Всего строк в таблице 8760 \n",
    "4293 + 4467"
   ]
  },
  {
   "cell_type": "markdown",
   "id": "fdc20d4c-9eba-4d38-b955-d7bbf1159ec1",
   "metadata": {},
   "source": [
    "(ВЫХОДНОЙ) или (Темп > 15) - 4293\n",
    "\n",
    "НЕ [(ВЫХОДНОЙ) или (Темп > 15)] - 4467\n",
    "\n",
    "4293 + 4467 = 8760 (вся табличка)\n",
    "\n",
    "(НЕ ВЫХОДНОЙ) И (Темп <= 15) - 4299"
   ]
  },
  {
   "cell_type": "markdown",
   "id": "d4c5fddb-9ccc-408b-a484-41a0e70bd5d2",
   "metadata": {},
   "source": [
    "Почему тут выдаётся другое количество часов?"
   ]
  },
  {
   "cell_type": "code",
   "execution_count": 17,
   "id": "01085086-6e70-4162-8a59-6aec7b71e271",
   "metadata": {},
   "outputs": [
    {
     "data": {
      "text/plain": [
       "(4299, 12)"
      ]
     },
     "execution_count": 17,
     "metadata": {},
     "output_type": "execute_result"
    }
   ],
   "source": [
    "bikes[(bikes['Holiday'] == 'No Holiday') &  # подумать\n",
    "      (bikes['Temperature'] <= 15)].shape"
   ]
  },
  {
   "cell_type": "code",
   "execution_count": 18,
   "id": "931c18ea-eaab-4c69-b178-b5840be20dbe",
   "metadata": {},
   "outputs": [
    {
     "data": {
      "text/plain": [
       "168"
      ]
     },
     "execution_count": 18,
     "metadata": {},
     "output_type": "execute_result"
    }
   ],
   "source": [
    "4467 - 4299"
   ]
  },
  {
   "cell_type": "markdown",
   "id": "82e873f9-7ea8-47cd-8c05-0c3fc5b6b13e",
   "metadata": {},
   "source": [
    "Потому что сюда не входят часы, когда не выходные и при этом `bikes['Temperature']` имеет нулевое значение `NaN`.\n",
    "\n",
    "Мы узнали про часы с температурой >15, про часы с температурой <=15, а часы с `NaN` не входят не в первую группу, ни во вторую."
   ]
  },
  {
   "cell_type": "code",
   "execution_count": 20,
   "id": "8b162624-d6f8-466a-8c45-a34a208d955f",
   "metadata": {},
   "outputs": [
    {
     "data": {
      "text/plain": [
       "0       False\n",
       "1       False\n",
       "2       False\n",
       "3       False\n",
       "4       False\n",
       "        ...  \n",
       "8755    False\n",
       "8756    False\n",
       "8757    False\n",
       "8758    False\n",
       "8759    False\n",
       "Name: Temperature, Length: 8760, dtype: bool"
      ]
     },
     "execution_count": 20,
     "metadata": {},
     "output_type": "execute_result"
    }
   ],
   "source": [
    "bikes['Temperature'].isna()"
   ]
  },
  {
   "cell_type": "code",
   "execution_count": 19,
   "id": "26baf3c8-aa81-4f70-a845-c5de3935d31e",
   "metadata": {},
   "outputs": [
    {
     "data": {
      "text/plain": [
       "179"
      ]
     },
     "execution_count": 19,
     "metadata": {},
     "output_type": "execute_result"
    }
   ],
   "source": [
    "bikes['Temperature'].isna().sum()"
   ]
  },
  {
   "cell_type": "code",
   "execution_count": 61,
   "id": "6bec556e-460b-4bf5-b282-273d5088ba7b",
   "metadata": {},
   "outputs": [
    {
     "data": {
      "text/html": [
       "<div>\n",
       "<style scoped>\n",
       "    .dataframe tbody tr th:only-of-type {\n",
       "        vertical-align: middle;\n",
       "    }\n",
       "\n",
       "    .dataframe tbody tr th {\n",
       "        vertical-align: top;\n",
       "    }\n",
       "\n",
       "    .dataframe thead th {\n",
       "        text-align: right;\n",
       "    }\n",
       "</style>\n",
       "<table border=\"1\" class=\"dataframe\">\n",
       "  <thead>\n",
       "    <tr style=\"text-align: right;\">\n",
       "      <th></th>\n",
       "      <th>Date</th>\n",
       "      <th>Hour</th>\n",
       "      <th>Temperature</th>\n",
       "      <th>Humidity</th>\n",
       "      <th>Wind speed</th>\n",
       "      <th>Rainfall</th>\n",
       "      <th>Snowfall</th>\n",
       "      <th>Seasons</th>\n",
       "      <th>Holiday</th>\n",
       "      <th>Functioning Day</th>\n",
       "      <th>Partner 1</th>\n",
       "      <th>Partner 2</th>\n",
       "    </tr>\n",
       "  </thead>\n",
       "  <tbody>\n",
       "    <tr>\n",
       "      <th>39</th>\n",
       "      <td>02/12/2017</td>\n",
       "      <td>15</td>\n",
       "      <td>NaN</td>\n",
       "      <td>41</td>\n",
       "      <td>2.3</td>\n",
       "      <td>0.0</td>\n",
       "      <td>0.0</td>\n",
       "      <td>Winter</td>\n",
       "      <td>No Holiday</td>\n",
       "      <td>Yes</td>\n",
       "      <td>490</td>\n",
       "      <td>198</td>\n",
       "    </tr>\n",
       "    <tr>\n",
       "      <th>50</th>\n",
       "      <td>03/12/2017</td>\n",
       "      <td>2</td>\n",
       "      <td>NaN</td>\n",
       "      <td>79</td>\n",
       "      <td>1.4</td>\n",
       "      <td>0.0</td>\n",
       "      <td>0.0</td>\n",
       "      <td>Winter</td>\n",
       "      <td>No Holiday</td>\n",
       "      <td>Yes</td>\n",
       "      <td>208</td>\n",
       "      <td>54</td>\n",
       "    </tr>\n",
       "    <tr>\n",
       "      <th>64</th>\n",
       "      <td>03/12/2017</td>\n",
       "      <td>16</td>\n",
       "      <td>NaN</td>\n",
       "      <td>77</td>\n",
       "      <td>1.6</td>\n",
       "      <td>0.0</td>\n",
       "      <td>0.0</td>\n",
       "      <td>Winter</td>\n",
       "      <td>No Holiday</td>\n",
       "      <td>Yes</td>\n",
       "      <td>49</td>\n",
       "      <td>528</td>\n",
       "    </tr>\n",
       "    <tr>\n",
       "      <th>105</th>\n",
       "      <td>05/12/2017</td>\n",
       "      <td>9</td>\n",
       "      <td>NaN</td>\n",
       "      <td>31</td>\n",
       "      <td>1.3</td>\n",
       "      <td>0.0</td>\n",
       "      <td>0.0</td>\n",
       "      <td>Winter</td>\n",
       "      <td>No Holiday</td>\n",
       "      <td>Yes</td>\n",
       "      <td>78</td>\n",
       "      <td>235</td>\n",
       "    </tr>\n",
       "    <tr>\n",
       "      <th>151</th>\n",
       "      <td>07/12/2017</td>\n",
       "      <td>7</td>\n",
       "      <td>NaN</td>\n",
       "      <td>93</td>\n",
       "      <td>0.5</td>\n",
       "      <td>0.0</td>\n",
       "      <td>0.9</td>\n",
       "      <td>Winter</td>\n",
       "      <td>No Holiday</td>\n",
       "      <td>Yes</td>\n",
       "      <td>140</td>\n",
       "      <td>129</td>\n",
       "    </tr>\n",
       "    <tr>\n",
       "      <th>...</th>\n",
       "      <td>...</td>\n",
       "      <td>...</td>\n",
       "      <td>...</td>\n",
       "      <td>...</td>\n",
       "      <td>...</td>\n",
       "      <td>...</td>\n",
       "      <td>...</td>\n",
       "      <td>...</td>\n",
       "      <td>...</td>\n",
       "      <td>...</td>\n",
       "      <td>...</td>\n",
       "      <td>...</td>\n",
       "    </tr>\n",
       "    <tr>\n",
       "      <th>8669</th>\n",
       "      <td>27/11/2018</td>\n",
       "      <td>5</td>\n",
       "      <td>NaN</td>\n",
       "      <td>84</td>\n",
       "      <td>0.6</td>\n",
       "      <td>0.0</td>\n",
       "      <td>0.0</td>\n",
       "      <td>Autumn</td>\n",
       "      <td>No Holiday</td>\n",
       "      <td>Yes</td>\n",
       "      <td>118</td>\n",
       "      <td>58</td>\n",
       "    </tr>\n",
       "    <tr>\n",
       "      <th>8679</th>\n",
       "      <td>27/11/2018</td>\n",
       "      <td>15</td>\n",
       "      <td>NaN</td>\n",
       "      <td>70</td>\n",
       "      <td>2.1</td>\n",
       "      <td>0.0</td>\n",
       "      <td>0.0</td>\n",
       "      <td>Autumn</td>\n",
       "      <td>No Holiday</td>\n",
       "      <td>Yes</td>\n",
       "      <td>391</td>\n",
       "      <td>279</td>\n",
       "    </tr>\n",
       "    <tr>\n",
       "      <th>8710</th>\n",
       "      <td>28/11/2018</td>\n",
       "      <td>22</td>\n",
       "      <td>NaN</td>\n",
       "      <td>34</td>\n",
       "      <td>1.3</td>\n",
       "      <td>0.0</td>\n",
       "      <td>0.0</td>\n",
       "      <td>Autumn</td>\n",
       "      <td>No Holiday</td>\n",
       "      <td>Yes</td>\n",
       "      <td>476</td>\n",
       "      <td>558</td>\n",
       "    </tr>\n",
       "    <tr>\n",
       "      <th>8717</th>\n",
       "      <td>29/11/2018</td>\n",
       "      <td>5</td>\n",
       "      <td>NaN</td>\n",
       "      <td>34</td>\n",
       "      <td>0.9</td>\n",
       "      <td>0.0</td>\n",
       "      <td>0.0</td>\n",
       "      <td>Autumn</td>\n",
       "      <td>No Holiday</td>\n",
       "      <td>Yes</td>\n",
       "      <td>17</td>\n",
       "      <td>13</td>\n",
       "    </tr>\n",
       "    <tr>\n",
       "      <th>8742</th>\n",
       "      <td>30/11/2018</td>\n",
       "      <td>6</td>\n",
       "      <td>NaN</td>\n",
       "      <td>68</td>\n",
       "      <td>0.8</td>\n",
       "      <td>0.0</td>\n",
       "      <td>0.0</td>\n",
       "      <td>Autumn</td>\n",
       "      <td>No Holiday</td>\n",
       "      <td>Yes</td>\n",
       "      <td>11</td>\n",
       "      <td>155</td>\n",
       "    </tr>\n",
       "  </tbody>\n",
       "</table>\n",
       "<p>179 rows × 12 columns</p>\n",
       "</div>"
      ],
      "text/plain": [
       "            Date  Hour  Temperature  Humidity  Wind speed  Rainfall  Snowfall  \\\n",
       "39    02/12/2017    15          NaN        41         2.3       0.0       0.0   \n",
       "50    03/12/2017     2          NaN        79         1.4       0.0       0.0   \n",
       "64    03/12/2017    16          NaN        77         1.6       0.0       0.0   \n",
       "105   05/12/2017     9          NaN        31         1.3       0.0       0.0   \n",
       "151   07/12/2017     7          NaN        93         0.5       0.0       0.9   \n",
       "...          ...   ...          ...       ...         ...       ...       ...   \n",
       "8669  27/11/2018     5          NaN        84         0.6       0.0       0.0   \n",
       "8679  27/11/2018    15          NaN        70         2.1       0.0       0.0   \n",
       "8710  28/11/2018    22          NaN        34         1.3       0.0       0.0   \n",
       "8717  29/11/2018     5          NaN        34         0.9       0.0       0.0   \n",
       "8742  30/11/2018     6          NaN        68         0.8       0.0       0.0   \n",
       "\n",
       "     Seasons     Holiday Functioning Day  Partner 1  Partner 2  \n",
       "39    Winter  No Holiday             Yes        490        198  \n",
       "50    Winter  No Holiday             Yes        208         54  \n",
       "64    Winter  No Holiday             Yes         49        528  \n",
       "105   Winter  No Holiday             Yes         78        235  \n",
       "151   Winter  No Holiday             Yes        140        129  \n",
       "...      ...         ...             ...        ...        ...  \n",
       "8669  Autumn  No Holiday             Yes        118         58  \n",
       "8679  Autumn  No Holiday             Yes        391        279  \n",
       "8710  Autumn  No Holiday             Yes        476        558  \n",
       "8717  Autumn  No Holiday             Yes         17         13  \n",
       "8742  Autumn  No Holiday             Yes         11        155  \n",
       "\n",
       "[179 rows x 12 columns]"
      ]
     },
     "execution_count": 61,
     "metadata": {},
     "output_type": "execute_result"
    }
   ],
   "source": [
    "# Что это за значения?\n",
    "bikes[bikes['Temperature'].isna()]"
   ]
  },
  {
   "cell_type": "code",
   "execution_count": 22,
   "id": "6198f54c-0027-4f36-949b-9bdd152c2f21",
   "metadata": {},
   "outputs": [
    {
     "data": {
      "text/plain": [
       "(179, 12)"
      ]
     },
     "execution_count": 22,
     "metadata": {},
     "output_type": "execute_result"
    }
   ],
   "source": [
    "# Сколько всего нулевых значений?\n",
    "bikes[bikes['Temperature'].isna()].shape"
   ]
  },
  {
   "cell_type": "code",
   "execution_count": 20,
   "id": "c1deacea-35a8-4f37-b3c1-78879d4a1c2a",
   "metadata": {},
   "outputs": [
    {
     "data": {
      "text/plain": [
       "(168, 12)"
      ]
     },
     "execution_count": 20,
     "metadata": {},
     "output_type": "execute_result"
    }
   ],
   "source": [
    "# Сколько невыходных часов с температурой NaN?\n",
    "bikes[(bikes['Holiday'] == 'No Holiday') & (bikes['Temperature'].isna())].shape"
   ]
  },
  {
   "cell_type": "code",
   "execution_count": 24,
   "id": "54ee7156-093e-4fd5-a465-1764939d55b6",
   "metadata": {},
   "outputs": [
    {
     "data": {
      "text/plain": [
       "8760"
      ]
     },
     "execution_count": 24,
     "metadata": {},
     "output_type": "execute_result"
    }
   ],
   "source": [
    "# Проверка, что теперь мы учитываем все часы из таблицы. Всего строк в таблице 8760 \n",
    "4293 + 4299 + 168"
   ]
  },
  {
   "cell_type": "markdown",
   "id": "ad902b91-a5ed-4150-94db-698405b8aac0",
   "metadata": {},
   "source": [
    "**Вывод:**\n",
    "1. Для отрицания условия используйте `~`\n",
    "2. Помните, что нулевые значения могут не удовлетворять ни одному из написанных вами условий"
   ]
  },
  {
   "cell_type": "markdown",
   "id": "486d9e64-2b23-415e-aa14-bc9db997987d",
   "metadata": {},
   "source": [
    "До этого мы проверяли соответствие ячейки определённому значению.\n",
    "\n",
    "Как проверить, что значение в ячейке есть в списке подходящих?"
   ]
  },
  {
   "cell_type": "code",
   "execution_count": 63,
   "id": "f1f450f8-2cfe-4faa-9367-364892f6d211",
   "metadata": {},
   "outputs": [
    {
     "data": {
      "text/plain": [
       "array(['Winter', 'Spring', 'Summer', 'Autumn'], dtype=object)"
      ]
     },
     "execution_count": 63,
     "metadata": {},
     "output_type": "execute_result"
    }
   ],
   "source": [
    "bikes[\"Seasons\"].unique()"
   ]
  },
  {
   "cell_type": "code",
   "execution_count": 28,
   "id": "2eea9c42-ca52-44ab-9a9e-0eda653b035b",
   "metadata": {},
   "outputs": [
    {
     "data": {
      "text/plain": [
       "(4344, 12)"
      ]
     },
     "execution_count": 28,
     "metadata": {},
     "output_type": "execute_result"
    }
   ],
   "source": [
    "# Вот мы хотим данные только за осень и зиму\n",
    "bikes[(bikes['Seasons'] == 'Autumn') | (bikes['Seasons'] == 'Winter')].shape"
   ]
  },
  {
   "cell_type": "code",
   "execution_count": 25,
   "id": "188f5f7d-f0d6-4e71-b823-6dca9074c02d",
   "metadata": {},
   "outputs": [
    {
     "data": {
      "text/plain": [
       "0       True\n",
       "1       True\n",
       "2       True\n",
       "3       True\n",
       "4       True\n",
       "        ... \n",
       "8755    True\n",
       "8756    True\n",
       "8757    True\n",
       "8758    True\n",
       "8759    True\n",
       "Name: Seasons, Length: 8760, dtype: bool"
      ]
     },
     "execution_count": 25,
     "metadata": {},
     "output_type": "execute_result"
    }
   ],
   "source": [
    "bikes['Seasons'].isin(['Winter', 'Autumn'])"
   ]
  },
  {
   "cell_type": "code",
   "execution_count": 64,
   "id": "6715ba53-bf21-4551-8fae-f58ccfd2c520",
   "metadata": {},
   "outputs": [
    {
     "data": {
      "text/plain": [
       "(4344, 12)"
      ]
     },
     "execution_count": 64,
     "metadata": {},
     "output_type": "execute_result"
    }
   ],
   "source": [
    "# Можно записать проще:\n",
    "bikes[bikes['Seasons'].isin(['Winter', 'Autumn'])].shape"
   ]
  },
  {
   "cell_type": "markdown",
   "id": "434b6326-a604-495c-9e7c-3380defad4d5",
   "metadata": {},
   "source": [
    "Можно использовать не список, а `range()`"
   ]
  },
  {
   "cell_type": "code",
   "execution_count": 65,
   "id": "c45394cd-4dc0-4169-bc79-0d8cce49ba8c",
   "metadata": {},
   "outputs": [
    {
     "data": {
      "text/plain": [
       "True"
      ]
     },
     "execution_count": 65,
     "metadata": {},
     "output_type": "execute_result"
    }
   ],
   "source": [
    "5 in range(-10, 10)"
   ]
  },
  {
   "cell_type": "code",
   "execution_count": 66,
   "id": "22bb4f00-74ed-4c7b-9a5c-b948adbfae3d",
   "metadata": {},
   "outputs": [
    {
     "data": {
      "text/plain": [
       "False"
      ]
     },
     "execution_count": 66,
     "metadata": {},
     "output_type": "execute_result"
    }
   ],
   "source": [
    "100 in range(-10, 10)"
   ]
  },
  {
   "cell_type": "code",
   "execution_count": 68,
   "id": "5b05dc2e-1a7e-4dc1-94c3-da6acc9f5c06",
   "metadata": {},
   "outputs": [
    {
     "data": {
      "text/plain": [
       "[-10, -9, -8, -7, -6, -5, -4, -3, -2, -1, 0, 1, 2, 3, 4, 5, 6, 7, 8, 9]"
      ]
     },
     "execution_count": 68,
     "metadata": {},
     "output_type": "execute_result"
    }
   ],
   "source": [
    "list(range(-10, 10))"
   ]
  },
  {
   "cell_type": "code",
   "execution_count": 67,
   "id": "2df6f54d-b583-410b-b5e1-65e198a91bea",
   "metadata": {},
   "outputs": [
    {
     "data": {
      "text/plain": [
       "False"
      ]
     },
     "execution_count": 67,
     "metadata": {},
     "output_type": "execute_result"
    }
   ],
   "source": [
    "5.5 in range(-10, 10)"
   ]
  },
  {
   "cell_type": "code",
   "execution_count": 29,
   "id": "778b7bba-cf30-437a-a4d5-3a87b326957b",
   "metadata": {},
   "outputs": [
    {
     "data": {
      "text/html": [
       "<div>\n",
       "<style scoped>\n",
       "    .dataframe tbody tr th:only-of-type {\n",
       "        vertical-align: middle;\n",
       "    }\n",
       "\n",
       "    .dataframe tbody tr th {\n",
       "        vertical-align: top;\n",
       "    }\n",
       "\n",
       "    .dataframe thead th {\n",
       "        text-align: right;\n",
       "    }\n",
       "</style>\n",
       "<table border=\"1\" class=\"dataframe\">\n",
       "  <thead>\n",
       "    <tr style=\"text-align: right;\">\n",
       "      <th></th>\n",
       "      <th>Date</th>\n",
       "      <th>Hour</th>\n",
       "      <th>Temperature</th>\n",
       "      <th>Humidity</th>\n",
       "      <th>Wind speed</th>\n",
       "      <th>Rainfall</th>\n",
       "      <th>Snowfall</th>\n",
       "      <th>Seasons</th>\n",
       "      <th>Holiday</th>\n",
       "      <th>Functioning Day</th>\n",
       "      <th>Partner 1</th>\n",
       "      <th>Partner 2</th>\n",
       "    </tr>\n",
       "  </thead>\n",
       "  <tbody>\n",
       "    <tr>\n",
       "      <th>0</th>\n",
       "      <td>01/12/2017</td>\n",
       "      <td>0</td>\n",
       "      <td>-5.2</td>\n",
       "      <td>37</td>\n",
       "      <td>2.2</td>\n",
       "      <td>0.0</td>\n",
       "      <td>0.0</td>\n",
       "      <td>Winter</td>\n",
       "      <td>No Holiday</td>\n",
       "      <td>Yes</td>\n",
       "      <td>207</td>\n",
       "      <td>50</td>\n",
       "    </tr>\n",
       "    <tr>\n",
       "      <th>1</th>\n",
       "      <td>01/12/2017</td>\n",
       "      <td>1</td>\n",
       "      <td>-5.5</td>\n",
       "      <td>38</td>\n",
       "      <td>0.8</td>\n",
       "      <td>0.0</td>\n",
       "      <td>0.0</td>\n",
       "      <td>Winter</td>\n",
       "      <td>No Holiday</td>\n",
       "      <td>Yes</td>\n",
       "      <td>139</td>\n",
       "      <td>80</td>\n",
       "    </tr>\n",
       "    <tr>\n",
       "      <th>2</th>\n",
       "      <td>01/12/2017</td>\n",
       "      <td>2</td>\n",
       "      <td>-6.0</td>\n",
       "      <td>39</td>\n",
       "      <td>1.0</td>\n",
       "      <td>0.0</td>\n",
       "      <td>0.0</td>\n",
       "      <td>Winter</td>\n",
       "      <td>No Holiday</td>\n",
       "      <td>Yes</td>\n",
       "      <td>22</td>\n",
       "      <td>140</td>\n",
       "    </tr>\n",
       "    <tr>\n",
       "      <th>3</th>\n",
       "      <td>01/12/2017</td>\n",
       "      <td>3</td>\n",
       "      <td>-6.2</td>\n",
       "      <td>40</td>\n",
       "      <td>0.9</td>\n",
       "      <td>0.0</td>\n",
       "      <td>0.0</td>\n",
       "      <td>Winter</td>\n",
       "      <td>No Holiday</td>\n",
       "      <td>Yes</td>\n",
       "      <td>43</td>\n",
       "      <td>105</td>\n",
       "    </tr>\n",
       "    <tr>\n",
       "      <th>4</th>\n",
       "      <td>01/12/2017</td>\n",
       "      <td>4</td>\n",
       "      <td>-6.0</td>\n",
       "      <td>36</td>\n",
       "      <td>2.3</td>\n",
       "      <td>0.0</td>\n",
       "      <td>0.0</td>\n",
       "      <td>Winter</td>\n",
       "      <td>No Holiday</td>\n",
       "      <td>Yes</td>\n",
       "      <td>59</td>\n",
       "      <td>38</td>\n",
       "    </tr>\n",
       "    <tr>\n",
       "      <th>...</th>\n",
       "      <td>...</td>\n",
       "      <td>...</td>\n",
       "      <td>...</td>\n",
       "      <td>...</td>\n",
       "      <td>...</td>\n",
       "      <td>...</td>\n",
       "      <td>...</td>\n",
       "      <td>...</td>\n",
       "      <td>...</td>\n",
       "      <td>...</td>\n",
       "      <td>...</td>\n",
       "      <td>...</td>\n",
       "    </tr>\n",
       "    <tr>\n",
       "      <th>8736</th>\n",
       "      <td>30/11/2018</td>\n",
       "      <td>0</td>\n",
       "      <td>1.8</td>\n",
       "      <td>62</td>\n",
       "      <td>1.6</td>\n",
       "      <td>0.0</td>\n",
       "      <td>0.0</td>\n",
       "      <td>Autumn</td>\n",
       "      <td>No Holiday</td>\n",
       "      <td>Yes</td>\n",
       "      <td>224</td>\n",
       "      <td>109</td>\n",
       "    </tr>\n",
       "    <tr>\n",
       "      <th>8737</th>\n",
       "      <td>30/11/2018</td>\n",
       "      <td>1</td>\n",
       "      <td>1.3</td>\n",
       "      <td>63</td>\n",
       "      <td>2.0</td>\n",
       "      <td>0.0</td>\n",
       "      <td>0.0</td>\n",
       "      <td>Autumn</td>\n",
       "      <td>No Holiday</td>\n",
       "      <td>Yes</td>\n",
       "      <td>110</td>\n",
       "      <td>392</td>\n",
       "    </tr>\n",
       "    <tr>\n",
       "      <th>8738</th>\n",
       "      <td>30/11/2018</td>\n",
       "      <td>2</td>\n",
       "      <td>0.6</td>\n",
       "      <td>66</td>\n",
       "      <td>0.5</td>\n",
       "      <td>0.0</td>\n",
       "      <td>0.0</td>\n",
       "      <td>Autumn</td>\n",
       "      <td>No Holiday</td>\n",
       "      <td>Yes</td>\n",
       "      <td>274</td>\n",
       "      <td>52</td>\n",
       "    </tr>\n",
       "    <tr>\n",
       "      <th>8739</th>\n",
       "      <td>30/11/2018</td>\n",
       "      <td>3</td>\n",
       "      <td>-0.1</td>\n",
       "      <td>69</td>\n",
       "      <td>0.9</td>\n",
       "      <td>0.0</td>\n",
       "      <td>0.0</td>\n",
       "      <td>Autumn</td>\n",
       "      <td>No Holiday</td>\n",
       "      <td>Yes</td>\n",
       "      <td>32</td>\n",
       "      <td>84</td>\n",
       "    </tr>\n",
       "    <tr>\n",
       "      <th>8740</th>\n",
       "      <td>30/11/2018</td>\n",
       "      <td>4</td>\n",
       "      <td>-0.5</td>\n",
       "      <td>71</td>\n",
       "      <td>0.4</td>\n",
       "      <td>0.0</td>\n",
       "      <td>0.0</td>\n",
       "      <td>Autumn</td>\n",
       "      <td>No Holiday</td>\n",
       "      <td>Yes</td>\n",
       "      <td>48</td>\n",
       "      <td>28</td>\n",
       "    </tr>\n",
       "  </tbody>\n",
       "</table>\n",
       "<p>1825 rows × 12 columns</p>\n",
       "</div>"
      ],
      "text/plain": [
       "            Date  Hour  Temperature  Humidity  Wind speed  Rainfall  Snowfall  \\\n",
       "0     01/12/2017     0         -5.2        37         2.2       0.0       0.0   \n",
       "1     01/12/2017     1         -5.5        38         0.8       0.0       0.0   \n",
       "2     01/12/2017     2         -6.0        39         1.0       0.0       0.0   \n",
       "3     01/12/2017     3         -6.2        40         0.9       0.0       0.0   \n",
       "4     01/12/2017     4         -6.0        36         2.3       0.0       0.0   \n",
       "...          ...   ...          ...       ...         ...       ...       ...   \n",
       "8736  30/11/2018     0          1.8        62         1.6       0.0       0.0   \n",
       "8737  30/11/2018     1          1.3        63         2.0       0.0       0.0   \n",
       "8738  30/11/2018     2          0.6        66         0.5       0.0       0.0   \n",
       "8739  30/11/2018     3         -0.1        69         0.9       0.0       0.0   \n",
       "8740  30/11/2018     4         -0.5        71         0.4       0.0       0.0   \n",
       "\n",
       "     Seasons     Holiday Functioning Day  Partner 1  Partner 2  \n",
       "0     Winter  No Holiday             Yes        207         50  \n",
       "1     Winter  No Holiday             Yes        139         80  \n",
       "2     Winter  No Holiday             Yes         22        140  \n",
       "3     Winter  No Holiday             Yes         43        105  \n",
       "4     Winter  No Holiday             Yes         59         38  \n",
       "...      ...         ...             ...        ...        ...  \n",
       "8736  Autumn  No Holiday             Yes        224        109  \n",
       "8737  Autumn  No Holiday             Yes        110        392  \n",
       "8738  Autumn  No Holiday             Yes        274         52  \n",
       "8739  Autumn  No Holiday             Yes         32         84  \n",
       "8740  Autumn  No Holiday             Yes         48         28  \n",
       "\n",
       "[1825 rows x 12 columns]"
      ]
     },
     "execution_count": 29,
     "metadata": {},
     "output_type": "execute_result"
    }
   ],
   "source": [
    "# Таблица только про ночные часы (с полуночи до пяти утра)\n",
    "bikes[bikes['Hour'].isin(range(0,5))]"
   ]
  },
  {
   "cell_type": "markdown",
   "id": "e27803a9-5d61-4837-be11-883cc8909014",
   "metadata": {},
   "source": [
    "Будьте осторожны, `range()` работает с целыми числами.\n",
    "\n",
    "То есть, если вы смотрите температуру в `range(10, 15)`, вы находите часы с температурой `10`, `11`, `12`, `13`, `14`, но не `10.5`, например."
   ]
  },
  {
   "cell_type": "code",
   "execution_count": 33,
   "id": "fefa07da-5a8f-4e3d-a549-feade56fe1ed",
   "metadata": {},
   "outputs": [
    {
     "data": {
      "text/plain": [
       "True"
      ]
     },
     "execution_count": 33,
     "metadata": {},
     "output_type": "execute_result"
    }
   ],
   "source": [
    "-6.0 in range(-10, 15)"
   ]
  },
  {
   "cell_type": "code",
   "execution_count": 29,
   "id": "5196f5ec-aafc-4383-816e-6d141a6c8707",
   "metadata": {},
   "outputs": [
    {
     "data": {
      "text/plain": [
       "(100, 12)"
      ]
     },
     "execution_count": 29,
     "metadata": {},
     "output_type": "execute_result"
    }
   ],
   "source": [
    "bikes[bikes['Temperature'].isin(range(10, 15))].shape  # это для целых чисел"
   ]
  },
  {
   "cell_type": "markdown",
   "id": "7d934c38-04e9-44d8-bf27-b298a2dd7df0",
   "metadata": {},
   "source": [
    "### Сортировка"
   ]
  },
  {
   "cell_type": "code",
   "execution_count": 21,
   "id": "16bbe78d-2764-4c94-aa73-89b8e7dd0aa9",
   "metadata": {},
   "outputs": [
    {
     "data": {
      "text/plain": [
       "[-1, 1, 414, 515]"
      ]
     },
     "execution_count": 21,
     "metadata": {},
     "output_type": "execute_result"
    }
   ],
   "source": [
    "sorted([1, -1, 515, 414, ])"
   ]
  },
  {
   "cell_type": "code",
   "execution_count": 33,
   "id": "a65084c5-512d-4f07-a173-2a73e071b879",
   "metadata": {},
   "outputs": [
    {
     "data": {
      "text/plain": [
       "1352   -17.8\n",
       "1353   -17.5\n",
       "1351   -17.5\n",
       "1350   -17.4\n",
       "1349   -16.9\n",
       "        ... \n",
       "8669     NaN\n",
       "8679     NaN\n",
       "8710     NaN\n",
       "8717     NaN\n",
       "8742     NaN\n",
       "Name: Temperature, Length: 8760, dtype: float64"
      ]
     },
     "execution_count": 33,
     "metadata": {},
     "output_type": "execute_result"
    }
   ],
   "source": [
    "# Отсортируем температуру\n",
    "bikes['Temperature'].sort_values()"
   ]
  },
  {
   "cell_type": "code",
   "execution_count": 34,
   "id": "3f6429e9-c5ba-4d3f-a993-9c2869b1c494",
   "metadata": {},
   "outputs": [
    {
     "data": {
      "text/plain": [
       "5848    39.4\n",
       "5847    39.3\n",
       "5849    39.0\n",
       "5846    38.7\n",
       "5825    38.0\n",
       "        ... \n",
       "8669     NaN\n",
       "8679     NaN\n",
       "8710     NaN\n",
       "8717     NaN\n",
       "8742     NaN\n",
       "Name: Temperature, Length: 8760, dtype: float64"
      ]
     },
     "execution_count": 34,
     "metadata": {},
     "output_type": "execute_result"
    }
   ],
   "source": [
    "# Отсортируем температуру по убывающей\n",
    "bikes['Temperature'].sort_values(ascending=False)"
   ]
  },
  {
   "cell_type": "markdown",
   "id": "efc355e7-c6b1-41ac-9abe-3cc55b9ea42a",
   "metadata": {},
   "source": [
    "Заметим, что `NaN` всегда в конце."
   ]
  },
  {
   "cell_type": "markdown",
   "id": "f475f571-d734-4ec7-894b-adf98590fcea",
   "metadata": {},
   "source": [
    "Как отсортировать всю таблицу по столбцу с температурой?"
   ]
  },
  {
   "cell_type": "code",
   "execution_count": 36,
   "id": "a84e7de9-8461-40aa-85ff-aa03c1e9e5aa",
   "metadata": {},
   "outputs": [
    {
     "data": {
      "text/html": [
       "<div>\n",
       "<style scoped>\n",
       "    .dataframe tbody tr th:only-of-type {\n",
       "        vertical-align: middle;\n",
       "    }\n",
       "\n",
       "    .dataframe tbody tr th {\n",
       "        vertical-align: top;\n",
       "    }\n",
       "\n",
       "    .dataframe thead th {\n",
       "        text-align: right;\n",
       "    }\n",
       "</style>\n",
       "<table border=\"1\" class=\"dataframe\">\n",
       "  <thead>\n",
       "    <tr style=\"text-align: right;\">\n",
       "      <th></th>\n",
       "      <th>Date</th>\n",
       "      <th>Hour</th>\n",
       "      <th>Temperature</th>\n",
       "      <th>Humidity</th>\n",
       "      <th>Wind speed</th>\n",
       "      <th>Rainfall</th>\n",
       "      <th>Snowfall</th>\n",
       "      <th>Seasons</th>\n",
       "      <th>Holiday</th>\n",
       "      <th>Functioning Day</th>\n",
       "      <th>Partner 1</th>\n",
       "      <th>Partner 2</th>\n",
       "    </tr>\n",
       "  </thead>\n",
       "  <tbody>\n",
       "    <tr>\n",
       "      <th>1352</th>\n",
       "      <td>26/01/2018</td>\n",
       "      <td>8</td>\n",
       "      <td>-17.8</td>\n",
       "      <td>40</td>\n",
       "      <td>2.5</td>\n",
       "      <td>0.0</td>\n",
       "      <td>0.5</td>\n",
       "      <td>Winter</td>\n",
       "      <td>No Holiday</td>\n",
       "      <td>Yes</td>\n",
       "      <td>235</td>\n",
       "      <td>288</td>\n",
       "    </tr>\n",
       "    <tr>\n",
       "      <th>1353</th>\n",
       "      <td>26/01/2018</td>\n",
       "      <td>9</td>\n",
       "      <td>-17.5</td>\n",
       "      <td>37</td>\n",
       "      <td>3.8</td>\n",
       "      <td>0.0</td>\n",
       "      <td>0.5</td>\n",
       "      <td>Winter</td>\n",
       "      <td>No Holiday</td>\n",
       "      <td>Yes</td>\n",
       "      <td>76</td>\n",
       "      <td>26</td>\n",
       "    </tr>\n",
       "    <tr>\n",
       "      <th>1351</th>\n",
       "      <td>26/01/2018</td>\n",
       "      <td>7</td>\n",
       "      <td>-17.5</td>\n",
       "      <td>38</td>\n",
       "      <td>3.4</td>\n",
       "      <td>0.0</td>\n",
       "      <td>0.5</td>\n",
       "      <td>Winter</td>\n",
       "      <td>No Holiday</td>\n",
       "      <td>Yes</td>\n",
       "      <td>93</td>\n",
       "      <td>31</td>\n",
       "    </tr>\n",
       "    <tr>\n",
       "      <th>1350</th>\n",
       "      <td>26/01/2018</td>\n",
       "      <td>6</td>\n",
       "      <td>-17.4</td>\n",
       "      <td>40</td>\n",
       "      <td>1.6</td>\n",
       "      <td>0.0</td>\n",
       "      <td>0.5</td>\n",
       "      <td>Winter</td>\n",
       "      <td>No Holiday</td>\n",
       "      <td>Yes</td>\n",
       "      <td>33</td>\n",
       "      <td>18</td>\n",
       "    </tr>\n",
       "    <tr>\n",
       "      <th>1349</th>\n",
       "      <td>26/01/2018</td>\n",
       "      <td>5</td>\n",
       "      <td>-16.9</td>\n",
       "      <td>38</td>\n",
       "      <td>2.3</td>\n",
       "      <td>0.0</td>\n",
       "      <td>0.5</td>\n",
       "      <td>Winter</td>\n",
       "      <td>No Holiday</td>\n",
       "      <td>Yes</td>\n",
       "      <td>35</td>\n",
       "      <td>21</td>\n",
       "    </tr>\n",
       "    <tr>\n",
       "      <th>...</th>\n",
       "      <td>...</td>\n",
       "      <td>...</td>\n",
       "      <td>...</td>\n",
       "      <td>...</td>\n",
       "      <td>...</td>\n",
       "      <td>...</td>\n",
       "      <td>...</td>\n",
       "      <td>...</td>\n",
       "      <td>...</td>\n",
       "      <td>...</td>\n",
       "      <td>...</td>\n",
       "      <td>...</td>\n",
       "    </tr>\n",
       "    <tr>\n",
       "      <th>8669</th>\n",
       "      <td>27/11/2018</td>\n",
       "      <td>5</td>\n",
       "      <td>NaN</td>\n",
       "      <td>84</td>\n",
       "      <td>0.6</td>\n",
       "      <td>0.0</td>\n",
       "      <td>0.0</td>\n",
       "      <td>Autumn</td>\n",
       "      <td>No Holiday</td>\n",
       "      <td>Yes</td>\n",
       "      <td>118</td>\n",
       "      <td>58</td>\n",
       "    </tr>\n",
       "    <tr>\n",
       "      <th>8679</th>\n",
       "      <td>27/11/2018</td>\n",
       "      <td>15</td>\n",
       "      <td>NaN</td>\n",
       "      <td>70</td>\n",
       "      <td>2.1</td>\n",
       "      <td>0.0</td>\n",
       "      <td>0.0</td>\n",
       "      <td>Autumn</td>\n",
       "      <td>No Holiday</td>\n",
       "      <td>Yes</td>\n",
       "      <td>391</td>\n",
       "      <td>279</td>\n",
       "    </tr>\n",
       "    <tr>\n",
       "      <th>8710</th>\n",
       "      <td>28/11/2018</td>\n",
       "      <td>22</td>\n",
       "      <td>NaN</td>\n",
       "      <td>34</td>\n",
       "      <td>1.3</td>\n",
       "      <td>0.0</td>\n",
       "      <td>0.0</td>\n",
       "      <td>Autumn</td>\n",
       "      <td>No Holiday</td>\n",
       "      <td>Yes</td>\n",
       "      <td>476</td>\n",
       "      <td>558</td>\n",
       "    </tr>\n",
       "    <tr>\n",
       "      <th>8717</th>\n",
       "      <td>29/11/2018</td>\n",
       "      <td>5</td>\n",
       "      <td>NaN</td>\n",
       "      <td>34</td>\n",
       "      <td>0.9</td>\n",
       "      <td>0.0</td>\n",
       "      <td>0.0</td>\n",
       "      <td>Autumn</td>\n",
       "      <td>No Holiday</td>\n",
       "      <td>Yes</td>\n",
       "      <td>17</td>\n",
       "      <td>13</td>\n",
       "    </tr>\n",
       "    <tr>\n",
       "      <th>8742</th>\n",
       "      <td>30/11/2018</td>\n",
       "      <td>6</td>\n",
       "      <td>NaN</td>\n",
       "      <td>68</td>\n",
       "      <td>0.8</td>\n",
       "      <td>0.0</td>\n",
       "      <td>0.0</td>\n",
       "      <td>Autumn</td>\n",
       "      <td>No Holiday</td>\n",
       "      <td>Yes</td>\n",
       "      <td>11</td>\n",
       "      <td>155</td>\n",
       "    </tr>\n",
       "  </tbody>\n",
       "</table>\n",
       "<p>8760 rows × 12 columns</p>\n",
       "</div>"
      ],
      "text/plain": [
       "            Date  Hour  Temperature  Humidity  Wind speed  Rainfall  Snowfall  \\\n",
       "1352  26/01/2018     8        -17.8        40         2.5       0.0       0.5   \n",
       "1353  26/01/2018     9        -17.5        37         3.8       0.0       0.5   \n",
       "1351  26/01/2018     7        -17.5        38         3.4       0.0       0.5   \n",
       "1350  26/01/2018     6        -17.4        40         1.6       0.0       0.5   \n",
       "1349  26/01/2018     5        -16.9        38         2.3       0.0       0.5   \n",
       "...          ...   ...          ...       ...         ...       ...       ...   \n",
       "8669  27/11/2018     5          NaN        84         0.6       0.0       0.0   \n",
       "8679  27/11/2018    15          NaN        70         2.1       0.0       0.0   \n",
       "8710  28/11/2018    22          NaN        34         1.3       0.0       0.0   \n",
       "8717  29/11/2018     5          NaN        34         0.9       0.0       0.0   \n",
       "8742  30/11/2018     6          NaN        68         0.8       0.0       0.0   \n",
       "\n",
       "     Seasons     Holiday Functioning Day  Partner 1  Partner 2  \n",
       "1352  Winter  No Holiday             Yes        235        288  \n",
       "1353  Winter  No Holiday             Yes         76         26  \n",
       "1351  Winter  No Holiday             Yes         93         31  \n",
       "1350  Winter  No Holiday             Yes         33         18  \n",
       "1349  Winter  No Holiday             Yes         35         21  \n",
       "...      ...         ...             ...        ...        ...  \n",
       "8669  Autumn  No Holiday             Yes        118         58  \n",
       "8679  Autumn  No Holiday             Yes        391        279  \n",
       "8710  Autumn  No Holiday             Yes        476        558  \n",
       "8717  Autumn  No Holiday             Yes         17         13  \n",
       "8742  Autumn  No Holiday             Yes         11        155  \n",
       "\n",
       "[8760 rows x 12 columns]"
      ]
     },
     "execution_count": 36,
     "metadata": {},
     "output_type": "execute_result"
    }
   ],
   "source": [
    "bikes.sort_values(by=['Temperature'])"
   ]
  },
  {
   "cell_type": "code",
   "execution_count": 37,
   "id": "89177179-acb5-4430-957a-4443c6ba42ae",
   "metadata": {},
   "outputs": [
    {
     "data": {
      "text/html": [
       "<div>\n",
       "<style scoped>\n",
       "    .dataframe tbody tr th:only-of-type {\n",
       "        vertical-align: middle;\n",
       "    }\n",
       "\n",
       "    .dataframe tbody tr th {\n",
       "        vertical-align: top;\n",
       "    }\n",
       "\n",
       "    .dataframe thead th {\n",
       "        text-align: right;\n",
       "    }\n",
       "</style>\n",
       "<table border=\"1\" class=\"dataframe\">\n",
       "  <thead>\n",
       "    <tr style=\"text-align: right;\">\n",
       "      <th></th>\n",
       "      <th>Date</th>\n",
       "      <th>Hour</th>\n",
       "      <th>Temperature</th>\n",
       "      <th>Humidity</th>\n",
       "      <th>Wind speed</th>\n",
       "      <th>Rainfall</th>\n",
       "      <th>Snowfall</th>\n",
       "      <th>Seasons</th>\n",
       "      <th>Holiday</th>\n",
       "      <th>Functioning Day</th>\n",
       "      <th>Partner 1</th>\n",
       "      <th>Partner 2</th>\n",
       "    </tr>\n",
       "  </thead>\n",
       "  <tbody>\n",
       "    <tr>\n",
       "      <th>1352</th>\n",
       "      <td>26/01/2018</td>\n",
       "      <td>8</td>\n",
       "      <td>-17.8</td>\n",
       "      <td>40</td>\n",
       "      <td>2.5</td>\n",
       "      <td>0.0</td>\n",
       "      <td>0.5</td>\n",
       "      <td>Winter</td>\n",
       "      <td>No Holiday</td>\n",
       "      <td>Yes</td>\n",
       "      <td>235</td>\n",
       "      <td>288</td>\n",
       "    </tr>\n",
       "    <tr>\n",
       "      <th>1353</th>\n",
       "      <td>26/01/2018</td>\n",
       "      <td>9</td>\n",
       "      <td>-17.5</td>\n",
       "      <td>37</td>\n",
       "      <td>3.8</td>\n",
       "      <td>0.0</td>\n",
       "      <td>0.5</td>\n",
       "      <td>Winter</td>\n",
       "      <td>No Holiday</td>\n",
       "      <td>Yes</td>\n",
       "      <td>76</td>\n",
       "      <td>26</td>\n",
       "    </tr>\n",
       "    <tr>\n",
       "      <th>1351</th>\n",
       "      <td>26/01/2018</td>\n",
       "      <td>7</td>\n",
       "      <td>-17.5</td>\n",
       "      <td>38</td>\n",
       "      <td>3.4</td>\n",
       "      <td>0.0</td>\n",
       "      <td>0.5</td>\n",
       "      <td>Winter</td>\n",
       "      <td>No Holiday</td>\n",
       "      <td>Yes</td>\n",
       "      <td>93</td>\n",
       "      <td>31</td>\n",
       "    </tr>\n",
       "    <tr>\n",
       "      <th>1350</th>\n",
       "      <td>26/01/2018</td>\n",
       "      <td>6</td>\n",
       "      <td>-17.4</td>\n",
       "      <td>40</td>\n",
       "      <td>1.6</td>\n",
       "      <td>0.0</td>\n",
       "      <td>0.5</td>\n",
       "      <td>Winter</td>\n",
       "      <td>No Holiday</td>\n",
       "      <td>Yes</td>\n",
       "      <td>33</td>\n",
       "      <td>18</td>\n",
       "    </tr>\n",
       "    <tr>\n",
       "      <th>1349</th>\n",
       "      <td>26/01/2018</td>\n",
       "      <td>5</td>\n",
       "      <td>-16.9</td>\n",
       "      <td>38</td>\n",
       "      <td>2.3</td>\n",
       "      <td>0.0</td>\n",
       "      <td>0.5</td>\n",
       "      <td>Winter</td>\n",
       "      <td>No Holiday</td>\n",
       "      <td>Yes</td>\n",
       "      <td>35</td>\n",
       "      <td>21</td>\n",
       "    </tr>\n",
       "    <tr>\n",
       "      <th>...</th>\n",
       "      <td>...</td>\n",
       "      <td>...</td>\n",
       "      <td>...</td>\n",
       "      <td>...</td>\n",
       "      <td>...</td>\n",
       "      <td>...</td>\n",
       "      <td>...</td>\n",
       "      <td>...</td>\n",
       "      <td>...</td>\n",
       "      <td>...</td>\n",
       "      <td>...</td>\n",
       "      <td>...</td>\n",
       "    </tr>\n",
       "    <tr>\n",
       "      <th>5114</th>\n",
       "      <td>02/07/2018</td>\n",
       "      <td>2</td>\n",
       "      <td>NaN</td>\n",
       "      <td>97</td>\n",
       "      <td>0.8</td>\n",
       "      <td>2.0</td>\n",
       "      <td>0.0</td>\n",
       "      <td>Summer</td>\n",
       "      <td>No Holiday</td>\n",
       "      <td>Yes</td>\n",
       "      <td>9</td>\n",
       "      <td>14</td>\n",
       "    </tr>\n",
       "    <tr>\n",
       "      <th>5336</th>\n",
       "      <td>11/07/2018</td>\n",
       "      <td>8</td>\n",
       "      <td>NaN</td>\n",
       "      <td>97</td>\n",
       "      <td>0.8</td>\n",
       "      <td>0.0</td>\n",
       "      <td>0.0</td>\n",
       "      <td>Summer</td>\n",
       "      <td>No Holiday</td>\n",
       "      <td>Yes</td>\n",
       "      <td>537</td>\n",
       "      <td>384</td>\n",
       "    </tr>\n",
       "    <tr>\n",
       "      <th>6526</th>\n",
       "      <td>29/08/2018</td>\n",
       "      <td>22</td>\n",
       "      <td>NaN</td>\n",
       "      <td>97</td>\n",
       "      <td>2.1</td>\n",
       "      <td>4.5</td>\n",
       "      <td>0.0</td>\n",
       "      <td>Summer</td>\n",
       "      <td>No Holiday</td>\n",
       "      <td>Yes</td>\n",
       "      <td>0</td>\n",
       "      <td>17</td>\n",
       "    </tr>\n",
       "    <tr>\n",
       "      <th>2506</th>\n",
       "      <td>15/03/2018</td>\n",
       "      <td>10</td>\n",
       "      <td>NaN</td>\n",
       "      <td>98</td>\n",
       "      <td>1.2</td>\n",
       "      <td>0.0</td>\n",
       "      <td>0.0</td>\n",
       "      <td>Spring</td>\n",
       "      <td>No Holiday</td>\n",
       "      <td>Yes</td>\n",
       "      <td>27</td>\n",
       "      <td>19</td>\n",
       "    </tr>\n",
       "    <tr>\n",
       "      <th>6463</th>\n",
       "      <td>27/08/2018</td>\n",
       "      <td>7</td>\n",
       "      <td>NaN</td>\n",
       "      <td>98</td>\n",
       "      <td>0.5</td>\n",
       "      <td>2.0</td>\n",
       "      <td>0.0</td>\n",
       "      <td>Summer</td>\n",
       "      <td>No Holiday</td>\n",
       "      <td>Yes</td>\n",
       "      <td>73</td>\n",
       "      <td>103</td>\n",
       "    </tr>\n",
       "  </tbody>\n",
       "</table>\n",
       "<p>8760 rows × 12 columns</p>\n",
       "</div>"
      ],
      "text/plain": [
       "            Date  Hour  Temperature  Humidity  Wind speed  Rainfall  Snowfall  \\\n",
       "1352  26/01/2018     8        -17.8        40         2.5       0.0       0.5   \n",
       "1353  26/01/2018     9        -17.5        37         3.8       0.0       0.5   \n",
       "1351  26/01/2018     7        -17.5        38         3.4       0.0       0.5   \n",
       "1350  26/01/2018     6        -17.4        40         1.6       0.0       0.5   \n",
       "1349  26/01/2018     5        -16.9        38         2.3       0.0       0.5   \n",
       "...          ...   ...          ...       ...         ...       ...       ...   \n",
       "5114  02/07/2018     2          NaN        97         0.8       2.0       0.0   \n",
       "5336  11/07/2018     8          NaN        97         0.8       0.0       0.0   \n",
       "6526  29/08/2018    22          NaN        97         2.1       4.5       0.0   \n",
       "2506  15/03/2018    10          NaN        98         1.2       0.0       0.0   \n",
       "6463  27/08/2018     7          NaN        98         0.5       2.0       0.0   \n",
       "\n",
       "     Seasons     Holiday Functioning Day  Partner 1  Partner 2  \n",
       "1352  Winter  No Holiday             Yes        235        288  \n",
       "1353  Winter  No Holiday             Yes         76         26  \n",
       "1351  Winter  No Holiday             Yes         93         31  \n",
       "1350  Winter  No Holiday             Yes         33         18  \n",
       "1349  Winter  No Holiday             Yes         35         21  \n",
       "...      ...         ...             ...        ...        ...  \n",
       "5114  Summer  No Holiday             Yes          9         14  \n",
       "5336  Summer  No Holiday             Yes        537        384  \n",
       "6526  Summer  No Holiday             Yes          0         17  \n",
       "2506  Spring  No Holiday             Yes         27         19  \n",
       "6463  Summer  No Holiday             Yes         73        103  \n",
       "\n",
       "[8760 rows x 12 columns]"
      ]
     },
     "execution_count": 37,
     "metadata": {},
     "output_type": "execute_result"
    }
   ],
   "source": [
    "# А теперь по нескольким столбцам\n",
    "bikes.sort_values(by=['Temperature', 'Humidity'])"
   ]
  },
  {
   "cell_type": "code",
   "execution_count": 38,
   "id": "ad057822-94ff-40f1-a7ac-971ffb48087d",
   "metadata": {},
   "outputs": [
    {
     "data": {
      "text/html": [
       "<div>\n",
       "<style scoped>\n",
       "    .dataframe tbody tr th:only-of-type {\n",
       "        vertical-align: middle;\n",
       "    }\n",
       "\n",
       "    .dataframe tbody tr th {\n",
       "        vertical-align: top;\n",
       "    }\n",
       "\n",
       "    .dataframe thead th {\n",
       "        text-align: right;\n",
       "    }\n",
       "</style>\n",
       "<table border=\"1\" class=\"dataframe\">\n",
       "  <thead>\n",
       "    <tr style=\"text-align: right;\">\n",
       "      <th></th>\n",
       "      <th>Date</th>\n",
       "      <th>Hour</th>\n",
       "      <th>Temperature</th>\n",
       "      <th>Humidity</th>\n",
       "      <th>Wind speed</th>\n",
       "      <th>Rainfall</th>\n",
       "      <th>Snowfall</th>\n",
       "      <th>Seasons</th>\n",
       "      <th>Holiday</th>\n",
       "      <th>Functioning Day</th>\n",
       "      <th>Partner 1</th>\n",
       "      <th>Partner 2</th>\n",
       "    </tr>\n",
       "  </thead>\n",
       "  <tbody>\n",
       "    <tr>\n",
       "      <th>1352</th>\n",
       "      <td>26/01/2018</td>\n",
       "      <td>8</td>\n",
       "      <td>-17.8</td>\n",
       "      <td>40</td>\n",
       "      <td>2.5</td>\n",
       "      <td>0.0</td>\n",
       "      <td>0.5</td>\n",
       "      <td>Winter</td>\n",
       "      <td>No Holiday</td>\n",
       "      <td>Yes</td>\n",
       "      <td>235</td>\n",
       "      <td>288</td>\n",
       "    </tr>\n",
       "    <tr>\n",
       "      <th>1351</th>\n",
       "      <td>26/01/2018</td>\n",
       "      <td>7</td>\n",
       "      <td>-17.5</td>\n",
       "      <td>38</td>\n",
       "      <td>3.4</td>\n",
       "      <td>0.0</td>\n",
       "      <td>0.5</td>\n",
       "      <td>Winter</td>\n",
       "      <td>No Holiday</td>\n",
       "      <td>Yes</td>\n",
       "      <td>93</td>\n",
       "      <td>31</td>\n",
       "    </tr>\n",
       "    <tr>\n",
       "      <th>1353</th>\n",
       "      <td>26/01/2018</td>\n",
       "      <td>9</td>\n",
       "      <td>-17.5</td>\n",
       "      <td>37</td>\n",
       "      <td>3.8</td>\n",
       "      <td>0.0</td>\n",
       "      <td>0.5</td>\n",
       "      <td>Winter</td>\n",
       "      <td>No Holiday</td>\n",
       "      <td>Yes</td>\n",
       "      <td>76</td>\n",
       "      <td>26</td>\n",
       "    </tr>\n",
       "    <tr>\n",
       "      <th>1350</th>\n",
       "      <td>26/01/2018</td>\n",
       "      <td>6</td>\n",
       "      <td>-17.4</td>\n",
       "      <td>40</td>\n",
       "      <td>1.6</td>\n",
       "      <td>0.0</td>\n",
       "      <td>0.5</td>\n",
       "      <td>Winter</td>\n",
       "      <td>No Holiday</td>\n",
       "      <td>Yes</td>\n",
       "      <td>33</td>\n",
       "      <td>18</td>\n",
       "    </tr>\n",
       "    <tr>\n",
       "      <th>1349</th>\n",
       "      <td>26/01/2018</td>\n",
       "      <td>5</td>\n",
       "      <td>-16.9</td>\n",
       "      <td>38</td>\n",
       "      <td>2.3</td>\n",
       "      <td>0.0</td>\n",
       "      <td>0.5</td>\n",
       "      <td>Winter</td>\n",
       "      <td>No Holiday</td>\n",
       "      <td>Yes</td>\n",
       "      <td>35</td>\n",
       "      <td>21</td>\n",
       "    </tr>\n",
       "    <tr>\n",
       "      <th>...</th>\n",
       "      <td>...</td>\n",
       "      <td>...</td>\n",
       "      <td>...</td>\n",
       "      <td>...</td>\n",
       "      <td>...</td>\n",
       "      <td>...</td>\n",
       "      <td>...</td>\n",
       "      <td>...</td>\n",
       "      <td>...</td>\n",
       "      <td>...</td>\n",
       "      <td>...</td>\n",
       "      <td>...</td>\n",
       "    </tr>\n",
       "    <tr>\n",
       "      <th>1238</th>\n",
       "      <td>21/01/2018</td>\n",
       "      <td>14</td>\n",
       "      <td>NaN</td>\n",
       "      <td>18</td>\n",
       "      <td>1.2</td>\n",
       "      <td>0.0</td>\n",
       "      <td>0.0</td>\n",
       "      <td>Winter</td>\n",
       "      <td>No Holiday</td>\n",
       "      <td>Yes</td>\n",
       "      <td>119</td>\n",
       "      <td>100</td>\n",
       "    </tr>\n",
       "    <tr>\n",
       "      <th>1910</th>\n",
       "      <td>18/02/2018</td>\n",
       "      <td>14</td>\n",
       "      <td>NaN</td>\n",
       "      <td>17</td>\n",
       "      <td>1.8</td>\n",
       "      <td>0.0</td>\n",
       "      <td>0.0</td>\n",
       "      <td>Winter</td>\n",
       "      <td>No Holiday</td>\n",
       "      <td>Yes</td>\n",
       "      <td>7</td>\n",
       "      <td>162</td>\n",
       "    </tr>\n",
       "    <tr>\n",
       "      <th>1886</th>\n",
       "      <td>17/02/2018</td>\n",
       "      <td>14</td>\n",
       "      <td>NaN</td>\n",
       "      <td>15</td>\n",
       "      <td>4.0</td>\n",
       "      <td>0.0</td>\n",
       "      <td>0.0</td>\n",
       "      <td>Winter</td>\n",
       "      <td>Holiday</td>\n",
       "      <td>Yes</td>\n",
       "      <td>0</td>\n",
       "      <td>58</td>\n",
       "    </tr>\n",
       "    <tr>\n",
       "      <th>3400</th>\n",
       "      <td>21/04/2018</td>\n",
       "      <td>16</td>\n",
       "      <td>NaN</td>\n",
       "      <td>13</td>\n",
       "      <td>3.3</td>\n",
       "      <td>0.0</td>\n",
       "      <td>0.0</td>\n",
       "      <td>Spring</td>\n",
       "      <td>No Holiday</td>\n",
       "      <td>Yes</td>\n",
       "      <td>1649</td>\n",
       "      <td>560</td>\n",
       "    </tr>\n",
       "    <tr>\n",
       "      <th>4276</th>\n",
       "      <td>28/05/2018</td>\n",
       "      <td>4</td>\n",
       "      <td>NaN</td>\n",
       "      <td>0</td>\n",
       "      <td>0.4</td>\n",
       "      <td>0.0</td>\n",
       "      <td>0.0</td>\n",
       "      <td>Spring</td>\n",
       "      <td>No Holiday</td>\n",
       "      <td>Yes</td>\n",
       "      <td>51</td>\n",
       "      <td>58</td>\n",
       "    </tr>\n",
       "  </tbody>\n",
       "</table>\n",
       "<p>8760 rows × 12 columns</p>\n",
       "</div>"
      ],
      "text/plain": [
       "            Date  Hour  Temperature  Humidity  Wind speed  Rainfall  Snowfall  \\\n",
       "1352  26/01/2018     8        -17.8        40         2.5       0.0       0.5   \n",
       "1351  26/01/2018     7        -17.5        38         3.4       0.0       0.5   \n",
       "1353  26/01/2018     9        -17.5        37         3.8       0.0       0.5   \n",
       "1350  26/01/2018     6        -17.4        40         1.6       0.0       0.5   \n",
       "1349  26/01/2018     5        -16.9        38         2.3       0.0       0.5   \n",
       "...          ...   ...          ...       ...         ...       ...       ...   \n",
       "1238  21/01/2018    14          NaN        18         1.2       0.0       0.0   \n",
       "1910  18/02/2018    14          NaN        17         1.8       0.0       0.0   \n",
       "1886  17/02/2018    14          NaN        15         4.0       0.0       0.0   \n",
       "3400  21/04/2018    16          NaN        13         3.3       0.0       0.0   \n",
       "4276  28/05/2018     4          NaN         0         0.4       0.0       0.0   \n",
       "\n",
       "     Seasons     Holiday Functioning Day  Partner 1  Partner 2  \n",
       "1352  Winter  No Holiday             Yes        235        288  \n",
       "1351  Winter  No Holiday             Yes         93         31  \n",
       "1353  Winter  No Holiday             Yes         76         26  \n",
       "1350  Winter  No Holiday             Yes         33         18  \n",
       "1349  Winter  No Holiday             Yes         35         21  \n",
       "...      ...         ...             ...        ...        ...  \n",
       "1238  Winter  No Holiday             Yes        119        100  \n",
       "1910  Winter  No Holiday             Yes          7        162  \n",
       "1886  Winter     Holiday             Yes          0         58  \n",
       "3400  Spring  No Holiday             Yes       1649        560  \n",
       "4276  Spring  No Holiday             Yes         51         58  \n",
       "\n",
       "[8760 rows x 12 columns]"
      ]
     },
     "execution_count": 38,
     "metadata": {},
     "output_type": "execute_result"
    }
   ],
   "source": [
    "# Температуру по возрастанию, а влажность по убыванию\n",
    "bikes.sort_values(by=['Temperature', 'Humidity'], ascending=[True, False])"
   ]
  },
  {
   "cell_type": "markdown",
   "id": "9cedf5a8-1a03-4b71-9add-3e213d06fda6",
   "metadata": {},
   "source": [
    "Что влияет на количество взятых велосипедов? Наличие осадков? Температура воздуха? Выходной ли день? Это всё можно узнать.\n",
    "\n",
    "Для удобства подсчётов создадим новый столбик с общим количеством арендованных велосипедов."
   ]
  },
  {
   "cell_type": "code",
   "execution_count": 23,
   "id": "be33a376-e4fa-4747-83bc-a42bfa68ff58",
   "metadata": {},
   "outputs": [],
   "source": [
    "bikes['Rental Count'] = bikes['Partner 1'] + bikes['Partner 2']"
   ]
  },
  {
   "cell_type": "code",
   "execution_count": 24,
   "id": "9596870f-e398-41b6-9339-fd57d12a9914",
   "metadata": {},
   "outputs": [
    {
     "data": {
      "text/html": [
       "<div>\n",
       "<style scoped>\n",
       "    .dataframe tbody tr th:only-of-type {\n",
       "        vertical-align: middle;\n",
       "    }\n",
       "\n",
       "    .dataframe tbody tr th {\n",
       "        vertical-align: top;\n",
       "    }\n",
       "\n",
       "    .dataframe thead th {\n",
       "        text-align: right;\n",
       "    }\n",
       "</style>\n",
       "<table border=\"1\" class=\"dataframe\">\n",
       "  <thead>\n",
       "    <tr style=\"text-align: right;\">\n",
       "      <th></th>\n",
       "      <th>Date</th>\n",
       "      <th>Hour</th>\n",
       "      <th>Temperature</th>\n",
       "      <th>Humidity</th>\n",
       "      <th>Wind speed</th>\n",
       "      <th>Rainfall</th>\n",
       "      <th>Snowfall</th>\n",
       "      <th>Seasons</th>\n",
       "      <th>Holiday</th>\n",
       "      <th>Functioning Day</th>\n",
       "      <th>Partner 1</th>\n",
       "      <th>Partner 2</th>\n",
       "      <th>Rental Count</th>\n",
       "    </tr>\n",
       "  </thead>\n",
       "  <tbody>\n",
       "    <tr>\n",
       "      <th>0</th>\n",
       "      <td>01/12/2017</td>\n",
       "      <td>0</td>\n",
       "      <td>-5.2</td>\n",
       "      <td>37</td>\n",
       "      <td>2.2</td>\n",
       "      <td>0.0</td>\n",
       "      <td>0.0</td>\n",
       "      <td>Winter</td>\n",
       "      <td>No Holiday</td>\n",
       "      <td>Yes</td>\n",
       "      <td>207</td>\n",
       "      <td>50</td>\n",
       "      <td>257</td>\n",
       "    </tr>\n",
       "    <tr>\n",
       "      <th>1</th>\n",
       "      <td>01/12/2017</td>\n",
       "      <td>1</td>\n",
       "      <td>-5.5</td>\n",
       "      <td>38</td>\n",
       "      <td>0.8</td>\n",
       "      <td>0.0</td>\n",
       "      <td>0.0</td>\n",
       "      <td>Winter</td>\n",
       "      <td>No Holiday</td>\n",
       "      <td>Yes</td>\n",
       "      <td>139</td>\n",
       "      <td>80</td>\n",
       "      <td>219</td>\n",
       "    </tr>\n",
       "    <tr>\n",
       "      <th>2</th>\n",
       "      <td>01/12/2017</td>\n",
       "      <td>2</td>\n",
       "      <td>-6.0</td>\n",
       "      <td>39</td>\n",
       "      <td>1.0</td>\n",
       "      <td>0.0</td>\n",
       "      <td>0.0</td>\n",
       "      <td>Winter</td>\n",
       "      <td>No Holiday</td>\n",
       "      <td>Yes</td>\n",
       "      <td>22</td>\n",
       "      <td>140</td>\n",
       "      <td>162</td>\n",
       "    </tr>\n",
       "    <tr>\n",
       "      <th>3</th>\n",
       "      <td>01/12/2017</td>\n",
       "      <td>3</td>\n",
       "      <td>-6.2</td>\n",
       "      <td>40</td>\n",
       "      <td>0.9</td>\n",
       "      <td>0.0</td>\n",
       "      <td>0.0</td>\n",
       "      <td>Winter</td>\n",
       "      <td>No Holiday</td>\n",
       "      <td>Yes</td>\n",
       "      <td>43</td>\n",
       "      <td>105</td>\n",
       "      <td>148</td>\n",
       "    </tr>\n",
       "    <tr>\n",
       "      <th>4</th>\n",
       "      <td>01/12/2017</td>\n",
       "      <td>4</td>\n",
       "      <td>-6.0</td>\n",
       "      <td>36</td>\n",
       "      <td>2.3</td>\n",
       "      <td>0.0</td>\n",
       "      <td>0.0</td>\n",
       "      <td>Winter</td>\n",
       "      <td>No Holiday</td>\n",
       "      <td>Yes</td>\n",
       "      <td>59</td>\n",
       "      <td>38</td>\n",
       "      <td>97</td>\n",
       "    </tr>\n",
       "  </tbody>\n",
       "</table>\n",
       "</div>"
      ],
      "text/plain": [
       "         Date  Hour  Temperature  Humidity  Wind speed  Rainfall  Snowfall  \\\n",
       "0  01/12/2017     0         -5.2        37         2.2       0.0       0.0   \n",
       "1  01/12/2017     1         -5.5        38         0.8       0.0       0.0   \n",
       "2  01/12/2017     2         -6.0        39         1.0       0.0       0.0   \n",
       "3  01/12/2017     3         -6.2        40         0.9       0.0       0.0   \n",
       "4  01/12/2017     4         -6.0        36         2.3       0.0       0.0   \n",
       "\n",
       "  Seasons     Holiday Functioning Day  Partner 1  Partner 2  Rental Count  \n",
       "0  Winter  No Holiday             Yes        207         50           257  \n",
       "1  Winter  No Holiday             Yes        139         80           219  \n",
       "2  Winter  No Holiday             Yes         22        140           162  \n",
       "3  Winter  No Holiday             Yes         43        105           148  \n",
       "4  Winter  No Holiday             Yes         59         38            97  "
      ]
     },
     "execution_count": 24,
     "metadata": {},
     "output_type": "execute_result"
    }
   ],
   "source": [
    "bikes.head()"
   ]
  },
  {
   "cell_type": "code",
   "execution_count": 75,
   "id": "faff243b-054f-4736-bddf-7772ccf70427",
   "metadata": {},
   "outputs": [
    {
     "name": "stdout",
     "output_type": "stream",
     "text": [
      "[ 3  4 -2  3 -1]\n",
      "[ 9 16  4  9  1]\n",
      "7.8\n"
     ]
    }
   ],
   "source": [
    "import numpy as np\n",
    "\n",
    "Y = [12, 40, 8, 60, 61]\n",
    "\n",
    "Z = [9, 36, 10, 57, 62]\n",
    "\n",
    "Y = np.array(Y)\n",
    "Z = np.array(Z)\n",
    "\n",
    "print(Y-Z)\n",
    "\n",
    "print((Y-Z)**2)\n",
    "\n",
    "print(((Y-Z)**2).mean())"
   ]
  },
  {
   "cell_type": "code",
   "execution_count": 74,
   "id": "bf2bc4a0-e2bf-4af1-aac1-56df3524ec4b",
   "metadata": {},
   "outputs": [
    {
     "data": {
      "text/plain": [
       "7.8"
      ]
     },
     "execution_count": 74,
     "metadata": {},
     "output_type": "execute_result"
    }
   ],
   "source": [
    "((Y-Z)**2).mean()"
   ]
  },
  {
   "cell_type": "markdown",
   "id": "ab8468ee-c312-43e0-8864-1966e2d39bd9",
   "metadata": {
    "tags": []
   },
   "source": [
    "### Тренировка"
   ]
  },
  {
   "cell_type": "markdown",
   "id": "1439e7aa-9fc6-4acc-bbe5-4b69fbb9ca84",
   "metadata": {},
   "source": [
    "Когда больше берут велосипедов? Осенью и зимой или весной и летом?"
   ]
  },
  {
   "cell_type": "code",
   "execution_count": 25,
   "id": "ea4f05b0-6836-4146-8492-70e2717cd341",
   "metadata": {},
   "outputs": [
    {
     "data": {
      "text/plain": [
       "2253228"
      ]
     },
     "execution_count": 25,
     "metadata": {},
     "output_type": "execute_result"
    }
   ],
   "source": [
    "bikes[bikes['Seasons'].isin(['Winter', 'Autumn'])]['Rental Count'].sum()"
   ]
  },
  {
   "cell_type": "code",
   "execution_count": 26,
   "id": "3db19822-b082-4173-ab50-fdb008985091",
   "metadata": {},
   "outputs": [
    {
     "data": {
      "text/plain": [
       "3848831"
      ]
     },
     "execution_count": 26,
     "metadata": {},
     "output_type": "execute_result"
    }
   ],
   "source": [
    "bikes[bikes['Seasons'].isin(['Spring', 'Summer'])]['Rental Count'].sum()"
   ]
  },
  {
   "cell_type": "markdown",
   "id": "c256194b-54de-482e-8497-16dc01fc4244",
   "metadata": {},
   "source": [
    "Что это значит?\n",
    "\n",
    "За все летние и весенние дни велосипедов взяли больше, чем за все осенние и зимние."
   ]
  },
  {
   "cell_type": "code",
   "execution_count": null,
   "id": "39d37cce-e1a1-4ef5-b5cf-4a711beda367",
   "metadata": {},
   "outputs": [],
   "source": [
    "bikes[bikes['Seasons'].isin(['Winter', 'Autumn'])]['Rental Count'].mean()"
   ]
  },
  {
   "cell_type": "code",
   "execution_count": null,
   "id": "9e91c0b6-5958-4695-8ac3-7e0ac8cb96d7",
   "metadata": {},
   "outputs": [],
   "source": [
    "bikes[bikes['Seasons'].isin(['Spring', 'Summer'])]['Rental Count'].mean()"
   ]
  },
  {
   "cell_type": "markdown",
   "id": "4da05161-3e87-4a06-97ba-cf2568375590",
   "metadata": {},
   "source": [
    "Что это значит?\n",
    "\n",
    "Осенью и зимой в среднем берут 518.7 велосипедов в час, а весной и летом 871.6 велосипедов в час. То есть весной и летом чаще."
   ]
  },
  {
   "cell_type": "markdown",
   "id": "76688906-0fe3-4524-99ae-ae3c0030bccf",
   "metadata": {},
   "source": [
    "**Почему стоит в такой задаче использовать `.mean()`, а не `.sum()`?**\n",
    "\n",
    "Представьте, что у нас иформация про 100 зимних дней и про 1 летний. Летом гораздо чаще берут велосипеды. Но суммарно за 100 дней зимы велосипедов могут взять гораздо больше, чем за один летний.\n",
    "\n",
    "```\n",
    "Например: 50 человек в городе. Зимой берут велосипеды два человека в день. Летом берут все 50 человек.\n",
    "- за все летние дни (у нас данные про один): 50 велосипедов (50 велосипедов * 1 день)\n",
    "- за все зимние дни (у нас данные про сто): 200 велосипедов (2 велосипеда * 100 дней)\n",
    "\n",
    "Средние арифметические показывают, что летом берут чаще, чем зимой: 50>2. А общие суммы не показывают.\n",
    "```"
   ]
  },
  {
   "cell_type": "markdown",
   "id": "be718257-d5d1-4b5a-b605-ec2b9c008696",
   "metadata": {},
   "source": [
    "### Тренировка"
   ]
  },
  {
   "cell_type": "markdown",
   "id": "fc87937d-6ad1-4ac8-b015-05f9930ca815",
   "metadata": {},
   "source": [
    "Что больше влияет на то, берут ли велосипеды: температура или выходной-не_выходной?"
   ]
  },
  {
   "cell_type": "markdown",
   "id": "51740d8c-4e28-4d2c-9598-f437e2e70dcb",
   "metadata": {},
   "source": [
    "**Про температуру:**"
   ]
  },
  {
   "cell_type": "code",
   "execution_count": null,
   "id": "1bbf997d-874b-4877-b986-050988e7b774",
   "metadata": {},
   "outputs": [],
   "source": [
    "bikes[bikes['Temperature'] > 15]['Rental Count'].mean()"
   ]
  },
  {
   "cell_type": "code",
   "execution_count": null,
   "id": "63adb445-aad5-43d5-b200-199d47311121",
   "metadata": {},
   "outputs": [],
   "source": [
    "bikes[bikes['Temperature'] <= 15]['Rental Count'].mean()"
   ]
  },
  {
   "cell_type": "markdown",
   "id": "0a8ef0f4-f64c-43b3-9bf1-860d31829aa0",
   "metadata": {},
   "source": [
    "Получается, что чаще берут велосипеды в теплые часы."
   ]
  },
  {
   "cell_type": "markdown",
   "id": "0e03acb4-25a5-4651-bc71-1006db768de7",
   "metadata": {},
   "source": [
    "**Про выходные:**"
   ]
  },
  {
   "cell_type": "code",
   "execution_count": null,
   "id": "377b7be5-bfbc-4b13-bfc0-09cfdc584fe9",
   "metadata": {},
   "outputs": [],
   "source": [
    "bikes[bikes['Holiday'] == 'No Holiday']['Rental Count'].mean()"
   ]
  },
  {
   "cell_type": "code",
   "execution_count": null,
   "id": "cfc13667-65bc-47e3-afb4-fa3ba3368efa",
   "metadata": {},
   "outputs": [],
   "source": [
    "bikes[bikes['Holiday'] == 'Holiday']['Rental Count'].mean()"
   ]
  },
  {
   "cell_type": "markdown",
   "id": "930516e7-4c2e-4368-8365-024e5a6f76a3",
   "metadata": {},
   "source": [
    "Получается, что чаще берут велосипеды в будни, а не в выходные."
   ]
  },
  {
   "cell_type": "markdown",
   "id": "4e07f29b-82f9-42c6-b983-c9bfd71035df",
   "metadata": {},
   "source": [
    "**Итог:** поскольку разница между 1021 и 410 больше, чем между 708 и 470, получается, что при выборе брать ли велосипед температура важнее, чем тип дня (выходной или нет)."
   ]
  },
  {
   "cell_type": "markdown",
   "id": "76ab3bd8-4001-4da7-ae91-a59c3d16aa30",
   "metadata": {},
   "source": [
    "## Группировка данных &mdash; `.groupby()`, `.value_counts()`"
   ]
  },
  {
   "cell_type": "markdown",
   "id": "fef5dd39-1092-4712-bb0e-2f11b98e9ede",
   "metadata": {},
   "source": [
    "Когда у нас есть информация про какие-то виды, сорта или категории, это получаются строки, но разных строк совсем немного, несколько штук.\n",
    "\n",
    "Например, породы собак, часть города, цвета фонтанов в парках и т.д.\n",
    "\n",
    "С такими *категориальными* данными работают путём группировки наблюдений по категориям, подсчёта количества и сравнения.\n",
    "\n",
    "Кроме того, можно эти категории использовать для группировки, а потом считать среднее или медианы или что-то ещё по другим переменным (столбцам), по числовым."
   ]
  },
  {
   "cell_type": "code",
   "execution_count": 4,
   "id": "6ca66aa2-7faf-42be-b99d-382d7542f1e0",
   "metadata": {},
   "outputs": [
    {
     "data": {
      "text/plain": [
       "No Holiday    8328\n",
       "Holiday        432\n",
       "Name: Holiday, dtype: int64"
      ]
     },
     "execution_count": 4,
     "metadata": {},
     "output_type": "execute_result"
    }
   ],
   "source": [
    "bikes[\"Holiday\"].value_counts()"
   ]
  },
  {
   "cell_type": "code",
   "execution_count": 21,
   "id": "ff7d1494-f4ec-42ea-b93e-75673b977999",
   "metadata": {},
   "outputs": [
    {
     "data": {
      "text/html": [
       "<div>\n",
       "<style scoped>\n",
       "    .dataframe tbody tr th:only-of-type {\n",
       "        vertical-align: middle;\n",
       "    }\n",
       "\n",
       "    .dataframe tbody tr th {\n",
       "        vertical-align: top;\n",
       "    }\n",
       "\n",
       "    .dataframe thead th {\n",
       "        text-align: right;\n",
       "    }\n",
       "</style>\n",
       "<table border=\"1\" class=\"dataframe\">\n",
       "  <thead>\n",
       "    <tr style=\"text-align: right;\">\n",
       "      <th></th>\n",
       "      <th>Date</th>\n",
       "      <th>Hour</th>\n",
       "      <th>Temperature</th>\n",
       "      <th>Humidity</th>\n",
       "      <th>Wind speed</th>\n",
       "      <th>Rainfall</th>\n",
       "      <th>Snowfall</th>\n",
       "      <th>Seasons</th>\n",
       "      <th>Holiday</th>\n",
       "      <th>Functioning Day</th>\n",
       "      <th>Partner 1</th>\n",
       "      <th>Partner 2</th>\n",
       "    </tr>\n",
       "  </thead>\n",
       "  <tbody>\n",
       "    <tr>\n",
       "      <th>0</th>\n",
       "      <td>01/12/2017</td>\n",
       "      <td>0</td>\n",
       "      <td>-5.2</td>\n",
       "      <td>37</td>\n",
       "      <td>2.2</td>\n",
       "      <td>0.0</td>\n",
       "      <td>0.0</td>\n",
       "      <td>Winter</td>\n",
       "      <td>No Holiday</td>\n",
       "      <td>Yes</td>\n",
       "      <td>207</td>\n",
       "      <td>50</td>\n",
       "    </tr>\n",
       "    <tr>\n",
       "      <th>1</th>\n",
       "      <td>01/12/2017</td>\n",
       "      <td>1</td>\n",
       "      <td>-5.5</td>\n",
       "      <td>38</td>\n",
       "      <td>0.8</td>\n",
       "      <td>0.0</td>\n",
       "      <td>0.0</td>\n",
       "      <td>Winter</td>\n",
       "      <td>No Holiday</td>\n",
       "      <td>Yes</td>\n",
       "      <td>139</td>\n",
       "      <td>80</td>\n",
       "    </tr>\n",
       "    <tr>\n",
       "      <th>2</th>\n",
       "      <td>01/12/2017</td>\n",
       "      <td>2</td>\n",
       "      <td>-6.0</td>\n",
       "      <td>39</td>\n",
       "      <td>1.0</td>\n",
       "      <td>0.0</td>\n",
       "      <td>0.0</td>\n",
       "      <td>Winter</td>\n",
       "      <td>No Holiday</td>\n",
       "      <td>Yes</td>\n",
       "      <td>22</td>\n",
       "      <td>140</td>\n",
       "    </tr>\n",
       "    <tr>\n",
       "      <th>3</th>\n",
       "      <td>01/12/2017</td>\n",
       "      <td>3</td>\n",
       "      <td>-6.2</td>\n",
       "      <td>40</td>\n",
       "      <td>0.9</td>\n",
       "      <td>0.0</td>\n",
       "      <td>0.0</td>\n",
       "      <td>Winter</td>\n",
       "      <td>No Holiday</td>\n",
       "      <td>Yes</td>\n",
       "      <td>43</td>\n",
       "      <td>105</td>\n",
       "    </tr>\n",
       "    <tr>\n",
       "      <th>4</th>\n",
       "      <td>01/12/2017</td>\n",
       "      <td>4</td>\n",
       "      <td>-6.0</td>\n",
       "      <td>36</td>\n",
       "      <td>2.3</td>\n",
       "      <td>0.0</td>\n",
       "      <td>0.0</td>\n",
       "      <td>Winter</td>\n",
       "      <td>No Holiday</td>\n",
       "      <td>Yes</td>\n",
       "      <td>59</td>\n",
       "      <td>38</td>\n",
       "    </tr>\n",
       "    <tr>\n",
       "      <th>...</th>\n",
       "      <td>...</td>\n",
       "      <td>...</td>\n",
       "      <td>...</td>\n",
       "      <td>...</td>\n",
       "      <td>...</td>\n",
       "      <td>...</td>\n",
       "      <td>...</td>\n",
       "      <td>...</td>\n",
       "      <td>...</td>\n",
       "      <td>...</td>\n",
       "      <td>...</td>\n",
       "      <td>...</td>\n",
       "    </tr>\n",
       "    <tr>\n",
       "      <th>8755</th>\n",
       "      <td>30/11/2018</td>\n",
       "      <td>19</td>\n",
       "      <td>4.2</td>\n",
       "      <td>34</td>\n",
       "      <td>2.6</td>\n",
       "      <td>0.0</td>\n",
       "      <td>0.0</td>\n",
       "      <td>Autumn</td>\n",
       "      <td>No Holiday</td>\n",
       "      <td>Yes</td>\n",
       "      <td>467</td>\n",
       "      <td>177</td>\n",
       "    </tr>\n",
       "    <tr>\n",
       "      <th>8756</th>\n",
       "      <td>30/11/2018</td>\n",
       "      <td>20</td>\n",
       "      <td>3.4</td>\n",
       "      <td>37</td>\n",
       "      <td>2.3</td>\n",
       "      <td>0.0</td>\n",
       "      <td>0.0</td>\n",
       "      <td>Autumn</td>\n",
       "      <td>No Holiday</td>\n",
       "      <td>Yes</td>\n",
       "      <td>296</td>\n",
       "      <td>63</td>\n",
       "    </tr>\n",
       "    <tr>\n",
       "      <th>8757</th>\n",
       "      <td>30/11/2018</td>\n",
       "      <td>21</td>\n",
       "      <td>2.6</td>\n",
       "      <td>39</td>\n",
       "      <td>0.3</td>\n",
       "      <td>0.0</td>\n",
       "      <td>0.0</td>\n",
       "      <td>Autumn</td>\n",
       "      <td>No Holiday</td>\n",
       "      <td>Yes</td>\n",
       "      <td>571</td>\n",
       "      <td>665</td>\n",
       "    </tr>\n",
       "    <tr>\n",
       "      <th>8758</th>\n",
       "      <td>30/11/2018</td>\n",
       "      <td>22</td>\n",
       "      <td>2.1</td>\n",
       "      <td>41</td>\n",
       "      <td>1.0</td>\n",
       "      <td>0.0</td>\n",
       "      <td>0.0</td>\n",
       "      <td>Autumn</td>\n",
       "      <td>No Holiday</td>\n",
       "      <td>Yes</td>\n",
       "      <td>171</td>\n",
       "      <td>457</td>\n",
       "    </tr>\n",
       "    <tr>\n",
       "      <th>8759</th>\n",
       "      <td>30/11/2018</td>\n",
       "      <td>23</td>\n",
       "      <td>1.9</td>\n",
       "      <td>43</td>\n",
       "      <td>1.3</td>\n",
       "      <td>0.0</td>\n",
       "      <td>0.0</td>\n",
       "      <td>Autumn</td>\n",
       "      <td>No Holiday</td>\n",
       "      <td>Yes</td>\n",
       "      <td>442</td>\n",
       "      <td>401</td>\n",
       "    </tr>\n",
       "  </tbody>\n",
       "</table>\n",
       "<p>8760 rows × 12 columns</p>\n",
       "</div>"
      ],
      "text/plain": [
       "            Date  Hour  Temperature  Humidity  Wind speed  Rainfall  Snowfall  \\\n",
       "0     01/12/2017     0         -5.2        37         2.2       0.0       0.0   \n",
       "1     01/12/2017     1         -5.5        38         0.8       0.0       0.0   \n",
       "2     01/12/2017     2         -6.0        39         1.0       0.0       0.0   \n",
       "3     01/12/2017     3         -6.2        40         0.9       0.0       0.0   \n",
       "4     01/12/2017     4         -6.0        36         2.3       0.0       0.0   \n",
       "...          ...   ...          ...       ...         ...       ...       ...   \n",
       "8755  30/11/2018    19          4.2        34         2.6       0.0       0.0   \n",
       "8756  30/11/2018    20          3.4        37         2.3       0.0       0.0   \n",
       "8757  30/11/2018    21          2.6        39         0.3       0.0       0.0   \n",
       "8758  30/11/2018    22          2.1        41         1.0       0.0       0.0   \n",
       "8759  30/11/2018    23          1.9        43         1.3       0.0       0.0   \n",
       "\n",
       "     Seasons     Holiday Functioning Day  Partner 1  Partner 2  \n",
       "0     Winter  No Holiday             Yes        207         50  \n",
       "1     Winter  No Holiday             Yes        139         80  \n",
       "2     Winter  No Holiday             Yes         22        140  \n",
       "3     Winter  No Holiday             Yes         43        105  \n",
       "4     Winter  No Holiday             Yes         59         38  \n",
       "...      ...         ...             ...        ...        ...  \n",
       "8755  Autumn  No Holiday             Yes        467        177  \n",
       "8756  Autumn  No Holiday             Yes        296         63  \n",
       "8757  Autumn  No Holiday             Yes        571        665  \n",
       "8758  Autumn  No Holiday             Yes        171        457  \n",
       "8759  Autumn  No Holiday             Yes        442        401  \n",
       "\n",
       "[8760 rows x 12 columns]"
      ]
     },
     "execution_count": 21,
     "metadata": {},
     "output_type": "execute_result"
    }
   ],
   "source": [
    "bikes"
   ]
  },
  {
   "cell_type": "code",
   "execution_count": 22,
   "id": "f8177fc8-0e2e-4531-a5cc-6d1d012e4ca8",
   "metadata": {},
   "outputs": [
    {
     "data": {
      "text/plain": [
       "array(['Winter', 'Spring', 'Summer', 'Autumn'], dtype=object)"
      ]
     },
     "execution_count": 22,
     "metadata": {},
     "output_type": "execute_result"
    }
   ],
   "source": [
    "bikes[\"Seasons\"].unique()"
   ]
  },
  {
   "cell_type": "code",
   "execution_count": 23,
   "id": "5ebd6552-deaa-45b6-9227-c5315a7b122f",
   "metadata": {},
   "outputs": [
    {
     "data": {
      "text/plain": [
       "Spring    2208\n",
       "Summer    2208\n",
       "Autumn    2184\n",
       "Winter    2160\n",
       "Name: Seasons, dtype: int64"
      ]
     },
     "execution_count": 23,
     "metadata": {},
     "output_type": "execute_result"
    }
   ],
   "source": [
    "bikes[\"Seasons\"].value_counts()"
   ]
  },
  {
   "cell_type": "code",
   "execution_count": 24,
   "id": "1a961446-ac1d-4560-90e0-4e6e6cad0555",
   "metadata": {},
   "outputs": [
    {
     "data": {
      "text/plain": [
       "Seasons  Holiday   \n",
       "Summer   No Holiday    2160\n",
       "Spring   No Holiday    2136\n",
       "Autumn   No Holiday    2064\n",
       "Winter   No Holiday    1968\n",
       "         Holiday        192\n",
       "Autumn   Holiday        120\n",
       "Spring   Holiday         72\n",
       "Summer   Holiday         48\n",
       "dtype: int64"
      ]
     },
     "execution_count": 24,
     "metadata": {},
     "output_type": "execute_result"
    }
   ],
   "source": [
    "bikes[[\"Seasons\", \"Holiday\"]].value_counts()"
   ]
  },
  {
   "cell_type": "markdown",
   "id": "fdd378c8-6175-4212-b01f-f4d45f6467a4",
   "metadata": {},
   "source": [
    "Сколько в среднем брали велосипеды в разные сезоны праздничных и непраздниченых дней?"
   ]
  },
  {
   "cell_type": "code",
   "execution_count": 7,
   "id": "b1b2ae5a-2531-4b65-a2b1-9fe4e10a4be5",
   "metadata": {},
   "outputs": [
    {
     "data": {
      "text/html": [
       "<div>\n",
       "<style scoped>\n",
       "    .dataframe tbody tr th:only-of-type {\n",
       "        vertical-align: middle;\n",
       "    }\n",
       "\n",
       "    .dataframe tbody tr th {\n",
       "        vertical-align: top;\n",
       "    }\n",
       "\n",
       "    .dataframe thead th {\n",
       "        text-align: right;\n",
       "    }\n",
       "</style>\n",
       "<table border=\"1\" class=\"dataframe\">\n",
       "  <thead>\n",
       "    <tr style=\"text-align: right;\">\n",
       "      <th></th>\n",
       "      <th></th>\n",
       "      <th>Partner 1</th>\n",
       "      <th>Partner 2</th>\n",
       "    </tr>\n",
       "    <tr>\n",
       "      <th>Holiday</th>\n",
       "      <th>Seasons</th>\n",
       "      <th></th>\n",
       "      <th></th>\n",
       "    </tr>\n",
       "  </thead>\n",
       "  <tbody>\n",
       "    <tr>\n",
       "      <th rowspan=\"4\" valign=\"top\">Holiday</th>\n",
       "      <th>Autumn</th>\n",
       "      <td>353.091667</td>\n",
       "      <td>356.983333</td>\n",
       "    </tr>\n",
       "    <tr>\n",
       "      <th>Spring</th>\n",
       "      <td>301.680556</td>\n",
       "      <td>359.527778</td>\n",
       "    </tr>\n",
       "    <tr>\n",
       "      <th>Summer</th>\n",
       "      <td>458.125000</td>\n",
       "      <td>390.958333</td>\n",
       "    </tr>\n",
       "    <tr>\n",
       "      <th>Winter</th>\n",
       "      <td>77.203125</td>\n",
       "      <td>76.328125</td>\n",
       "    </tr>\n",
       "    <tr>\n",
       "      <th rowspan=\"4\" valign=\"top\">No Holiday</th>\n",
       "      <th>Autumn</th>\n",
       "      <td>401.429748</td>\n",
       "      <td>414.796996</td>\n",
       "    </tr>\n",
       "    <tr>\n",
       "      <th>Spring</th>\n",
       "      <td>360.782303</td>\n",
       "      <td>370.162453</td>\n",
       "    </tr>\n",
       "    <tr>\n",
       "      <th>Summer</th>\n",
       "      <td>509.267130</td>\n",
       "      <td>508.867130</td>\n",
       "    </tr>\n",
       "    <tr>\n",
       "      <th>Winter</th>\n",
       "      <td>115.775915</td>\n",
       "      <td>114.838415</td>\n",
       "    </tr>\n",
       "  </tbody>\n",
       "</table>\n",
       "</div>"
      ],
      "text/plain": [
       "                     Partner 1   Partner 2\n",
       "Holiday    Seasons                        \n",
       "Holiday    Autumn   353.091667  356.983333\n",
       "           Spring   301.680556  359.527778\n",
       "           Summer   458.125000  390.958333\n",
       "           Winter    77.203125   76.328125\n",
       "No Holiday Autumn   401.429748  414.796996\n",
       "           Spring   360.782303  370.162453\n",
       "           Summer   509.267130  508.867130\n",
       "           Winter   115.775915  114.838415"
      ]
     },
     "execution_count": 7,
     "metadata": {},
     "output_type": "execute_result"
    }
   ],
   "source": [
    "bikes.groupby([\"Holiday\", \"Seasons\"])[[\"Partner 1\", \"Partner 2\"]].mean()"
   ]
  },
  {
   "cell_type": "markdown",
   "id": "dca72b0d-92ba-428e-a7bb-f5a0b5e4e80e",
   "metadata": {},
   "source": [
    "`.count()` просто счёт значений в группе, а делим на 24, поскольку в таблице наблюдения это часы, а не дни"
   ]
  },
  {
   "cell_type": "code",
   "execution_count": 26,
   "id": "cf4d6595-b2ea-4f5e-a85e-889decd5bd1e",
   "metadata": {},
   "outputs": [
    {
     "data": {
      "text/html": [
       "<div>\n",
       "<style scoped>\n",
       "    .dataframe tbody tr th:only-of-type {\n",
       "        vertical-align: middle;\n",
       "    }\n",
       "\n",
       "    .dataframe tbody tr th {\n",
       "        vertical-align: top;\n",
       "    }\n",
       "\n",
       "    .dataframe thead th {\n",
       "        text-align: right;\n",
       "    }\n",
       "</style>\n",
       "<table border=\"1\" class=\"dataframe\">\n",
       "  <thead>\n",
       "    <tr style=\"text-align: right;\">\n",
       "      <th></th>\n",
       "      <th></th>\n",
       "      <th>Partner 1</th>\n",
       "      <th>Partner 2</th>\n",
       "    </tr>\n",
       "    <tr>\n",
       "      <th>Holiday</th>\n",
       "      <th>Seasons</th>\n",
       "      <th></th>\n",
       "      <th></th>\n",
       "    </tr>\n",
       "  </thead>\n",
       "  <tbody>\n",
       "    <tr>\n",
       "      <th rowspan=\"4\" valign=\"top\">Holiday</th>\n",
       "      <th>Autumn</th>\n",
       "      <td>5.0</td>\n",
       "      <td>5.0</td>\n",
       "    </tr>\n",
       "    <tr>\n",
       "      <th>Spring</th>\n",
       "      <td>3.0</td>\n",
       "      <td>3.0</td>\n",
       "    </tr>\n",
       "    <tr>\n",
       "      <th>Summer</th>\n",
       "      <td>2.0</td>\n",
       "      <td>2.0</td>\n",
       "    </tr>\n",
       "    <tr>\n",
       "      <th>Winter</th>\n",
       "      <td>8.0</td>\n",
       "      <td>8.0</td>\n",
       "    </tr>\n",
       "    <tr>\n",
       "      <th rowspan=\"4\" valign=\"top\">No Holiday</th>\n",
       "      <th>Autumn</th>\n",
       "      <td>86.0</td>\n",
       "      <td>86.0</td>\n",
       "    </tr>\n",
       "    <tr>\n",
       "      <th>Spring</th>\n",
       "      <td>89.0</td>\n",
       "      <td>89.0</td>\n",
       "    </tr>\n",
       "    <tr>\n",
       "      <th>Summer</th>\n",
       "      <td>90.0</td>\n",
       "      <td>90.0</td>\n",
       "    </tr>\n",
       "    <tr>\n",
       "      <th>Winter</th>\n",
       "      <td>82.0</td>\n",
       "      <td>82.0</td>\n",
       "    </tr>\n",
       "  </tbody>\n",
       "</table>\n",
       "</div>"
      ],
      "text/plain": [
       "                    Partner 1  Partner 2\n",
       "Holiday    Seasons                      \n",
       "Holiday    Autumn         5.0        5.0\n",
       "           Spring         3.0        3.0\n",
       "           Summer         2.0        2.0\n",
       "           Winter         8.0        8.0\n",
       "No Holiday Autumn        86.0       86.0\n",
       "           Spring        89.0       89.0\n",
       "           Summer        90.0       90.0\n",
       "           Winter        82.0       82.0"
      ]
     },
     "execution_count": 26,
     "metadata": {},
     "output_type": "execute_result"
    }
   ],
   "source": [
    "bikes.groupby([\"Holiday\", \"Seasons\"])[[\"Partner 1\", \"Partner 2\"]].count() / 24"
   ]
  },
  {
   "cell_type": "code",
   "execution_count": 32,
   "id": "0f9c5e05-77b8-4bf0-8cc9-a59ba5f227d4",
   "metadata": {},
   "outputs": [],
   "source": [
    "holiday_seasons_count = bikes.groupby([\"Holiday\", \"Seasons\"])[[\"Partner 1\", \"Partner 2\"]].sum()"
   ]
  },
  {
   "cell_type": "code",
   "execution_count": 33,
   "id": "5674a1a0-2d3d-4874-a6e0-63a40a04c1aa",
   "metadata": {},
   "outputs": [
    {
     "data": {
      "text/html": [
       "<div>\n",
       "<style scoped>\n",
       "    .dataframe tbody tr th:only-of-type {\n",
       "        vertical-align: middle;\n",
       "    }\n",
       "\n",
       "    .dataframe tbody tr th {\n",
       "        vertical-align: top;\n",
       "    }\n",
       "\n",
       "    .dataframe thead th {\n",
       "        text-align: right;\n",
       "    }\n",
       "</style>\n",
       "<table border=\"1\" class=\"dataframe\">\n",
       "  <thead>\n",
       "    <tr style=\"text-align: right;\">\n",
       "      <th></th>\n",
       "      <th></th>\n",
       "      <th>Partner 1</th>\n",
       "      <th>Partner 2</th>\n",
       "    </tr>\n",
       "    <tr>\n",
       "      <th>Holiday</th>\n",
       "      <th>Seasons</th>\n",
       "      <th></th>\n",
       "      <th></th>\n",
       "    </tr>\n",
       "  </thead>\n",
       "  <tbody>\n",
       "    <tr>\n",
       "      <th rowspan=\"4\" valign=\"top\">Holiday</th>\n",
       "      <th>Autumn</th>\n",
       "      <td>42371</td>\n",
       "      <td>42838</td>\n",
       "    </tr>\n",
       "    <tr>\n",
       "      <th>Spring</th>\n",
       "      <td>21721</td>\n",
       "      <td>25886</td>\n",
       "    </tr>\n",
       "    <tr>\n",
       "      <th>Summer</th>\n",
       "      <td>21990</td>\n",
       "      <td>18766</td>\n",
       "    </tr>\n",
       "    <tr>\n",
       "      <th>Winter</th>\n",
       "      <td>14823</td>\n",
       "      <td>14655</td>\n",
       "    </tr>\n",
       "    <tr>\n",
       "      <th rowspan=\"4\" valign=\"top\">No Holiday</th>\n",
       "      <th>Autumn</th>\n",
       "      <td>828551</td>\n",
       "      <td>856141</td>\n",
       "    </tr>\n",
       "    <tr>\n",
       "      <th>Spring</th>\n",
       "      <td>770631</td>\n",
       "      <td>790667</td>\n",
       "    </tr>\n",
       "    <tr>\n",
       "      <th>Summer</th>\n",
       "      <td>1100017</td>\n",
       "      <td>1099153</td>\n",
       "    </tr>\n",
       "    <tr>\n",
       "      <th>Winter</th>\n",
       "      <td>227847</td>\n",
       "      <td>226002</td>\n",
       "    </tr>\n",
       "  </tbody>\n",
       "</table>\n",
       "</div>"
      ],
      "text/plain": [
       "                    Partner 1  Partner 2\n",
       "Holiday    Seasons                      \n",
       "Holiday    Autumn       42371      42838\n",
       "           Spring       21721      25886\n",
       "           Summer       21990      18766\n",
       "           Winter       14823      14655\n",
       "No Holiday Autumn      828551     856141\n",
       "           Spring      770631     790667\n",
       "           Summer     1100017    1099153\n",
       "           Winter      227847     226002"
      ]
     },
     "execution_count": 33,
     "metadata": {},
     "output_type": "execute_result"
    }
   ],
   "source": [
    "holiday_seasons_count"
   ]
  },
  {
   "cell_type": "code",
   "execution_count": 14,
   "id": "063ccbc6-7233-48a1-96c7-3f2a723e931c",
   "metadata": {},
   "outputs": [
    {
     "data": {
      "text/plain": [
       "828551"
      ]
     },
     "execution_count": 14,
     "metadata": {},
     "output_type": "execute_result"
    }
   ],
   "source": [
    "bikes.loc[\n",
    "    (bikes[\"Holiday\"] == \"No Holiday\") & (bikes[\"Seasons\"] == \"Autumn\"),\n",
    "    \"Partner 1\"\n",
    "].sum()"
   ]
  },
  {
   "cell_type": "markdown",
   "id": "25e88562-fc48-4b4c-9993-e41346f08f21",
   "metadata": {
    "tags": []
   },
   "source": [
    "# Графики - `matplotlib`"
   ]
  },
  {
   "cell_type": "markdown",
   "id": "7425bcb3-2725-4dfd-9132-17cdb92b7f1c",
   "metadata": {},
   "source": [
    "В анализе данных крайне полезны визуализации &mdash; графики.\n",
    "\n",
    "Часто они позволяют заметить то, что сложно заметить числовыми методами.\n",
    "\n",
    "См. [https://ru.wikipedia.org/wiki/Квартет_Энскомба](https://ru.wikipedia.org/wiki/%D0%9A%D0%B2%D0%B0%D1%80%D1%82%D0%B5%D1%82_%D0%AD%D0%BD%D1%81%D0%BA%D0%BE%D0%BC%D0%B1%D0%B0)"
   ]
  },
  {
   "cell_type": "markdown",
   "id": "37475d8f-cdb2-4aee-bc36-4e9172d09e73",
   "metadata": {},
   "source": [
    "Это очень легко делается с библиотекой `matplotlib`"
   ]
  },
  {
   "cell_type": "code",
   "execution_count": 30,
   "id": "79330910-5d54-475a-b557-58c807249838",
   "metadata": {},
   "outputs": [],
   "source": [
    "import matplotlib.pyplot as plt "
   ]
  },
  {
   "cell_type": "markdown",
   "id": "d57d0629-2dfd-4160-8742-2a56fa373219",
   "metadata": {},
   "source": [
    "Столбчатая диаграмма (сперва $X$, потом $Y$)"
   ]
  },
  {
   "cell_type": "code",
   "execution_count": 34,
   "id": "0ace59f0-eebf-4401-9951-e9a1e8c33277",
   "metadata": {},
   "outputs": [
    {
     "data": {
      "text/plain": [
       "<BarContainer object of 8 artists>"
      ]
     },
     "execution_count": 34,
     "metadata": {},
     "output_type": "execute_result"
    },
    {
     "data": {
      "image/png": "[encoded data removed]",
      "text/plain": [
       "<Figure size 640x480 with 1 Axes>"
      ]
     },
     "metadata": {},
     "output_type": "display_data"
    }
   ],
   "source": [
    "holiday_dat = holiday_seasons_count.reset_index()\n",
    "\n",
    "\n",
    "plt.bar(holiday_dat[\"Seasons\"], holiday_dat[\"Partner 1\"])"
   ]
  },
  {
   "cell_type": "code",
   "execution_count": 27,
   "id": "0dff5078-0c4f-464d-aca6-8263f9449bcb",
   "metadata": {},
   "outputs": [
    {
     "data": {
      "text/html": [
       "<div>\n",
       "<style scoped>\n",
       "    .dataframe tbody tr th:only-of-type {\n",
       "        vertical-align: middle;\n",
       "    }\n",
       "\n",
       "    .dataframe tbody tr th {\n",
       "        vertical-align: top;\n",
       "    }\n",
       "\n",
       "    .dataframe thead th {\n",
       "        text-align: right;\n",
       "    }\n",
       "</style>\n",
       "<table border=\"1\" class=\"dataframe\">\n",
       "  <thead>\n",
       "    <tr style=\"text-align: right;\">\n",
       "      <th></th>\n",
       "      <th>Temperature</th>\n",
       "      <th>Partner 1</th>\n",
       "    </tr>\n",
       "  </thead>\n",
       "  <tbody>\n",
       "    <tr>\n",
       "      <th>0</th>\n",
       "      <td>-17.8</td>\n",
       "      <td>235.0</td>\n",
       "    </tr>\n",
       "    <tr>\n",
       "      <th>1</th>\n",
       "      <td>-17.5</td>\n",
       "      <td>84.5</td>\n",
       "    </tr>\n",
       "    <tr>\n",
       "      <th>2</th>\n",
       "      <td>-17.4</td>\n",
       "      <td>33.0</td>\n",
       "    </tr>\n",
       "    <tr>\n",
       "      <th>3</th>\n",
       "      <td>-16.9</td>\n",
       "      <td>35.0</td>\n",
       "    </tr>\n",
       "    <tr>\n",
       "      <th>4</th>\n",
       "      <td>-16.5</td>\n",
       "      <td>54.0</td>\n",
       "    </tr>\n",
       "    <tr>\n",
       "      <th>...</th>\n",
       "      <td>...</td>\n",
       "      <td>...</td>\n",
       "    </tr>\n",
       "    <tr>\n",
       "      <th>540</th>\n",
       "      <td>38.0</td>\n",
       "      <td>320.0</td>\n",
       "    </tr>\n",
       "    <tr>\n",
       "      <th>541</th>\n",
       "      <td>38.7</td>\n",
       "      <td>158.0</td>\n",
       "    </tr>\n",
       "    <tr>\n",
       "      <th>542</th>\n",
       "      <td>39.0</td>\n",
       "      <td>298.0</td>\n",
       "    </tr>\n",
       "    <tr>\n",
       "      <th>543</th>\n",
       "      <td>39.3</td>\n",
       "      <td>401.0</td>\n",
       "    </tr>\n",
       "    <tr>\n",
       "      <th>544</th>\n",
       "      <td>39.4</td>\n",
       "      <td>76.0</td>\n",
       "    </tr>\n",
       "  </tbody>\n",
       "</table>\n",
       "<p>545 rows × 2 columns</p>\n",
       "</div>"
      ],
      "text/plain": [
       "     Temperature  Partner 1\n",
       "0          -17.8      235.0\n",
       "1          -17.5       84.5\n",
       "2          -17.4       33.0\n",
       "3          -16.9       35.0\n",
       "4          -16.5       54.0\n",
       "..           ...        ...\n",
       "540         38.0      320.0\n",
       "541         38.7      158.0\n",
       "542         39.0      298.0\n",
       "543         39.3      401.0\n",
       "544         39.4       76.0\n",
       "\n",
       "[545 rows x 2 columns]"
      ]
     },
     "execution_count": 27,
     "metadata": {},
     "output_type": "execute_result"
    }
   ],
   "source": [
    "temps_partner1 = bikes.groupby([\"Temperature\"], as_index=False)[\"Partner 1\"].mean()\n",
    "temps_partner1"
   ]
  },
  {
   "cell_type": "markdown",
   "id": "12e2f6e1-1ecf-46be-9ea0-08be4b0fb1b6",
   "metadata": {},
   "source": [
    "Линейный график &mdash; зависимость количества сданных в аренду велосипедов от температуры в этот час (сперва температура $X$ , потом количество $Y$)"
   ]
  },
  {
   "cell_type": "code",
   "execution_count": 28,
   "id": "3c8a86f9-eaf7-4b5d-9174-a0fcb7d0a21b",
   "metadata": {},
   "outputs": [
    {
     "data": {
      "text/plain": [
       "[<matplotlib.lines.Line2D at 0x2e7b9898460>]"
      ]
     },
     "execution_count": 28,
     "metadata": {},
     "output_type": "execute_result"
    },
    {
     "data": {
      "image/png": "[encoded data removed]",
      "text/plain": [
       "<Figure size 640x480 with 1 Axes>"
      ]
     },
     "metadata": {},
     "output_type": "display_data"
    }
   ],
   "source": [
    "plt.plot(temps_partner1[\"Temperature\"], temps_partner1[\"Partner 1\"])"
   ]
  },
  {
   "cell_type": "markdown",
   "id": "01cbc1a4-e0eb-41fa-8260-63efe6a47826",
   "metadata": {},
   "source": [
    "# Создаем новые переменные"
   ]
  },
  {
   "cell_type": "markdown",
   "id": "388e1dd8-811a-475e-957d-02174bf8405d",
   "metadata": {},
   "source": [
    "Часто при анализе данных полезно создавать новые, вторичные столбцы, на основе имеющихся.  \n",
    "\n",
    "Здесь мы создаём столбец с общим количеством взятых в прокат велосипедов."
   ]
  },
  {
   "cell_type": "code",
   "execution_count": 3,
   "id": "7e602666-e7f0-4809-b357-1dc3b6ce9769",
   "metadata": {},
   "outputs": [],
   "source": [
    "bikes['Rental Count'] = bikes['Partner 1'] + bikes['Partner 2']"
   ]
  },
  {
   "cell_type": "code",
   "execution_count": 4,
   "id": "71ee33a1-9138-4520-a016-d9dc8ee2036f",
   "metadata": {},
   "outputs": [
    {
     "data": {
      "text/html": [
       "<div>\n",
       "<style scoped>\n",
       "    .dataframe tbody tr th:only-of-type {\n",
       "        vertical-align: middle;\n",
       "    }\n",
       "\n",
       "    .dataframe tbody tr th {\n",
       "        vertical-align: top;\n",
       "    }\n",
       "\n",
       "    .dataframe thead th {\n",
       "        text-align: right;\n",
       "    }\n",
       "</style>\n",
       "<table border=\"1\" class=\"dataframe\">\n",
       "  <thead>\n",
       "    <tr style=\"text-align: right;\">\n",
       "      <th></th>\n",
       "      <th>Date</th>\n",
       "      <th>Hour</th>\n",
       "      <th>Temperature</th>\n",
       "      <th>Humidity</th>\n",
       "      <th>Wind speed</th>\n",
       "      <th>Rainfall</th>\n",
       "      <th>Snowfall</th>\n",
       "      <th>Seasons</th>\n",
       "      <th>Holiday</th>\n",
       "      <th>Functioning Day</th>\n",
       "      <th>Partner 1</th>\n",
       "      <th>Partner 2</th>\n",
       "      <th>Rental Count</th>\n",
       "    </tr>\n",
       "  </thead>\n",
       "  <tbody>\n",
       "    <tr>\n",
       "      <th>8755</th>\n",
       "      <td>30/11/2018</td>\n",
       "      <td>19</td>\n",
       "      <td>4.2</td>\n",
       "      <td>34</td>\n",
       "      <td>2.6</td>\n",
       "      <td>0.0</td>\n",
       "      <td>0.0</td>\n",
       "      <td>Autumn</td>\n",
       "      <td>No Holiday</td>\n",
       "      <td>Yes</td>\n",
       "      <td>467</td>\n",
       "      <td>177</td>\n",
       "      <td>644</td>\n",
       "    </tr>\n",
       "    <tr>\n",
       "      <th>8756</th>\n",
       "      <td>30/11/2018</td>\n",
       "      <td>20</td>\n",
       "      <td>3.4</td>\n",
       "      <td>37</td>\n",
       "      <td>2.3</td>\n",
       "      <td>0.0</td>\n",
       "      <td>0.0</td>\n",
       "      <td>Autumn</td>\n",
       "      <td>No Holiday</td>\n",
       "      <td>Yes</td>\n",
       "      <td>296</td>\n",
       "      <td>63</td>\n",
       "      <td>359</td>\n",
       "    </tr>\n",
       "    <tr>\n",
       "      <th>8757</th>\n",
       "      <td>30/11/2018</td>\n",
       "      <td>21</td>\n",
       "      <td>2.6</td>\n",
       "      <td>39</td>\n",
       "      <td>0.3</td>\n",
       "      <td>0.0</td>\n",
       "      <td>0.0</td>\n",
       "      <td>Autumn</td>\n",
       "      <td>No Holiday</td>\n",
       "      <td>Yes</td>\n",
       "      <td>571</td>\n",
       "      <td>665</td>\n",
       "      <td>1236</td>\n",
       "    </tr>\n",
       "    <tr>\n",
       "      <th>8758</th>\n",
       "      <td>30/11/2018</td>\n",
       "      <td>22</td>\n",
       "      <td>2.1</td>\n",
       "      <td>41</td>\n",
       "      <td>1.0</td>\n",
       "      <td>0.0</td>\n",
       "      <td>0.0</td>\n",
       "      <td>Autumn</td>\n",
       "      <td>No Holiday</td>\n",
       "      <td>Yes</td>\n",
       "      <td>171</td>\n",
       "      <td>457</td>\n",
       "      <td>628</td>\n",
       "    </tr>\n",
       "    <tr>\n",
       "      <th>8759</th>\n",
       "      <td>30/11/2018</td>\n",
       "      <td>23</td>\n",
       "      <td>1.9</td>\n",
       "      <td>43</td>\n",
       "      <td>1.3</td>\n",
       "      <td>0.0</td>\n",
       "      <td>0.0</td>\n",
       "      <td>Autumn</td>\n",
       "      <td>No Holiday</td>\n",
       "      <td>Yes</td>\n",
       "      <td>442</td>\n",
       "      <td>401</td>\n",
       "      <td>843</td>\n",
       "    </tr>\n",
       "  </tbody>\n",
       "</table>\n",
       "</div>"
      ],
      "text/plain": [
       "            Date  Hour  Temperature  Humidity  Wind speed  Rainfall  Snowfall  \\\n",
       "8755  30/11/2018    19          4.2        34         2.6       0.0       0.0   \n",
       "8756  30/11/2018    20          3.4        37         2.3       0.0       0.0   \n",
       "8757  30/11/2018    21          2.6        39         0.3       0.0       0.0   \n",
       "8758  30/11/2018    22          2.1        41         1.0       0.0       0.0   \n",
       "8759  30/11/2018    23          1.9        43         1.3       0.0       0.0   \n",
       "\n",
       "     Seasons     Holiday Functioning Day  Partner 1  Partner 2  Rental Count  \n",
       "8755  Autumn  No Holiday             Yes        467        177           644  \n",
       "8756  Autumn  No Holiday             Yes        296         63           359  \n",
       "8757  Autumn  No Holiday             Yes        571        665          1236  \n",
       "8758  Autumn  No Holiday             Yes        171        457           628  \n",
       "8759  Autumn  No Holiday             Yes        442        401           843  "
      ]
     },
     "execution_count": 4,
     "metadata": {},
     "output_type": "execute_result"
    }
   ],
   "source": [
    "bikes.tail()"
   ]
  },
  {
   "cell_type": "code",
   "execution_count": 114,
   "id": "fb90d818-a6db-4681-aa73-a88d5f4f35e1",
   "metadata": {},
   "outputs": [
    {
     "data": {
      "text/plain": [
       "array(['Yes', 'No'], dtype=object)"
      ]
     },
     "execution_count": 114,
     "metadata": {},
     "output_type": "execute_result"
    }
   ],
   "source": [
    "bikes[\"Functioning Day\"].unique()"
   ]
  },
  {
   "cell_type": "code",
   "execution_count": 112,
   "id": "c68a8be0-3917-432b-95e0-8494d3e06863",
   "metadata": {},
   "outputs": [
    {
     "data": {
      "text/plain": [
       "Spring    2208\n",
       "Summer    2208\n",
       "Autumn    2184\n",
       "Winter    2160\n",
       "Name: Seasons, dtype: int64"
      ]
     },
     "execution_count": 112,
     "metadata": {},
     "output_type": "execute_result"
    }
   ],
   "source": [
    "bikes[\"Seasons\"].value_counts()"
   ]
  },
  {
   "cell_type": "markdown",
   "id": "6810c066-082a-4433-ae37-807aa14c23c4",
   "metadata": {},
   "source": [
    "**Формат дат**"
   ]
  },
  {
   "cell_type": "markdown",
   "id": "63118226-fee3-40d7-97ce-8175d8a103e6",
   "metadata": {},
   "source": [
    "Нередко в датасетах нам оказываются доступны даты.\n",
    "    В программировании такой тип данных, предусматривающий ещё и время, часто назван `datetime`.\n",
    "\n",
    "Работа с датами может быть удобной, если использовать специальные методы pandas."
   ]
  },
  {
   "cell_type": "markdown",
   "id": "9d3fefd2-0c44-476e-b665-3ce8070f0c07",
   "metadata": {},
   "source": [
    "Чтобы перевести значения в колонке в специальный тип `datetime`, с которым потом удобнее работать, нужно из библиотеки `pandas` вызвать функцию `datetime`.\n",
    "\n",
    "Но если запустить код ниже, то получим много предупреждений от библиотеки. \n",
    "     Формат, в котором в столбце была записана дата, мы не указали и она пытается разобраться сама.\n",
    "     \n",
    "Укажем, что наша дата в формате `DD/MM/YYYY` аргументом `dayfirst=True`"
   ]
  },
  {
   "cell_type": "code",
   "execution_count": null,
   "id": "ffd20c9d-805f-4268-b5ea-d23be4219009",
   "metadata": {},
   "outputs": [],
   "source": [
    "pd.to_datetime(bikes['Date'])"
   ]
  },
  {
   "cell_type": "code",
   "execution_count": 118,
   "id": "419be11d-1293-4a5f-bdb6-5810d3da2738",
   "metadata": {},
   "outputs": [
    {
     "data": {
      "text/plain": [
       "0       01/12/2017\n",
       "1       01/12/2017\n",
       "2       01/12/2017\n",
       "3       01/12/2017\n",
       "4       01/12/2017\n",
       "           ...    \n",
       "8755    30/11/2018\n",
       "8756    30/11/2018\n",
       "8757    30/11/2018\n",
       "8758    30/11/2018\n",
       "8759    30/11/2018\n",
       "Name: Date, Length: 8760, dtype: object"
      ]
     },
     "execution_count": 118,
     "metadata": {},
     "output_type": "execute_result"
    }
   ],
   "source": [
    "bikes['Date']"
   ]
  },
  {
   "cell_type": "code",
   "execution_count": 4,
   "id": "7316b8bb-645b-462d-b077-0c9b2c602b28",
   "metadata": {},
   "outputs": [
    {
     "name": "stderr",
     "output_type": "stream",
     "text": [
      "C:\\Users\\Олег Бажуков\\AppData\\Local\\Temp\\ipykernel_25044\\116589132.py:1: UserWarning: Parsing '23/12/2023' in DD/MM/YYYY format. Provide format or specify infer_datetime_format=True for consistent parsing.\n",
      "  pd.to_datetime(\"23/12/2023\")\n"
     ]
    },
    {
     "data": {
      "text/plain": [
       "Timestamp('2023-12-23 00:00:00')"
      ]
     },
     "execution_count": 4,
     "metadata": {},
     "output_type": "execute_result"
    }
   ],
   "source": [
    "pd.to_datetime(\"23/12/2023\")"
   ]
  },
  {
   "cell_type": "code",
   "execution_count": 5,
   "id": "ec807851-eb6d-45c0-9d99-de7afeb53ba2",
   "metadata": {},
   "outputs": [
    {
     "data": {
      "text/plain": [
       "Timestamp('2023-12-23 00:00:00')"
      ]
     },
     "execution_count": 5,
     "metadata": {},
     "output_type": "execute_result"
    }
   ],
   "source": [
    "pd.to_datetime(\"23/12/2023\", dayfirst=True)"
   ]
  },
  {
   "cell_type": "code",
   "execution_count": 6,
   "id": "bc658196-8713-4cfe-aeca-2f3f9e156d5e",
   "metadata": {},
   "outputs": [
    {
     "data": {
      "text/plain": [
       "0      2017-12-01\n",
       "1      2017-12-01\n",
       "2      2017-12-01\n",
       "3      2017-12-01\n",
       "4      2017-12-01\n",
       "          ...    \n",
       "8755   2018-11-30\n",
       "8756   2018-11-30\n",
       "8757   2018-11-30\n",
       "8758   2018-11-30\n",
       "8759   2018-11-30\n",
       "Name: Date, Length: 8760, dtype: datetime64[ns]"
      ]
     },
     "execution_count": 6,
     "metadata": {},
     "output_type": "execute_result"
    }
   ],
   "source": [
    "pd.to_datetime(bikes['Date'], dayfirst=True)"
   ]
  },
  {
   "cell_type": "markdown",
   "id": "57c99b29-f469-428e-9b09-c1b60e40af8c",
   "metadata": {},
   "source": [
    "Обратите внимание на тип данных, это `datetime`.\n",
    "    Из такой колонки теперь можно получать полезные вещи (будет техническая тонкость, сперва понадобится написать `.dt`).\n",
    "    Например, **месяц**:"
   ]
  },
  {
   "cell_type": "code",
   "execution_count": 23,
   "id": "746577d8-4db5-4f47-8cc3-2f35c0ba9355",
   "metadata": {},
   "outputs": [
    {
     "data": {
      "text/plain": [
       "0       12\n",
       "1       12\n",
       "2       12\n",
       "3       12\n",
       "4       12\n",
       "        ..\n",
       "8755    11\n",
       "8756    11\n",
       "8757    11\n",
       "8758    11\n",
       "8759    11\n",
       "Name: Date, Length: 8760, dtype: int64"
      ]
     },
     "execution_count": 23,
     "metadata": {},
     "output_type": "execute_result"
    }
   ],
   "source": [
    "pd.to_datetime(bikes['Date'], dayfirst=True).dt.month"
   ]
  },
  {
   "cell_type": "markdown",
   "id": "7a19b1c7-6d9a-49a5-8aa6-2a6a1c7bcd14",
   "metadata": {},
   "source": [
    "**Год**:"
   ]
  },
  {
   "cell_type": "code",
   "execution_count": 11,
   "id": "46dc4801-45ca-4bd5-af34-b5a7ecb599da",
   "metadata": {},
   "outputs": [
    {
     "data": {
      "text/plain": [
       "0       2017\n",
       "1       2017\n",
       "2       2017\n",
       "3       2017\n",
       "4       2017\n",
       "        ... \n",
       "8755    2018\n",
       "8756    2018\n",
       "8757    2018\n",
       "8758    2018\n",
       "8759    2018\n",
       "Name: Date, Length: 8760, dtype: int64"
      ]
     },
     "execution_count": 11,
     "metadata": {},
     "output_type": "execute_result"
    }
   ],
   "source": [
    "pd.to_datetime(bikes['Date'], dayfirst=True).dt.year"
   ]
  },
  {
   "cell_type": "markdown",
   "id": "3433c0fe-d275-4cf4-beb8-dc85925d6d1d",
   "metadata": {},
   "source": [
    "**День**:"
   ]
  },
  {
   "cell_type": "code",
   "execution_count": 122,
   "id": "1dbbcbe6-1cf3-4103-9522-94771970c894",
   "metadata": {},
   "outputs": [
    {
     "data": {
      "text/plain": [
       "0        1\n",
       "1        1\n",
       "2        1\n",
       "3        1\n",
       "4        1\n",
       "        ..\n",
       "8755    30\n",
       "8756    30\n",
       "8757    30\n",
       "8758    30\n",
       "8759    30\n",
       "Name: Date, Length: 8760, dtype: int64"
      ]
     },
     "execution_count": 122,
     "metadata": {},
     "output_type": "execute_result"
    }
   ],
   "source": [
    "pd.to_datetime(bikes['Date'], dayfirst=True).dt.day"
   ]
  },
  {
   "cell_type": "markdown",
   "id": "20c5cab5-9527-4ba4-91a7-17e5534c269a",
   "metadata": {},
   "source": [
    "**День недели** в эту дату!"
   ]
  },
  {
   "cell_type": "code",
   "execution_count": 123,
   "id": "22dbcc2f-a3bb-4a59-bade-373002739f3b",
   "metadata": {},
   "outputs": [
    {
     "data": {
      "text/plain": [
       "0       Friday\n",
       "1       Friday\n",
       "2       Friday\n",
       "3       Friday\n",
       "4       Friday\n",
       "         ...  \n",
       "8755    Friday\n",
       "8756    Friday\n",
       "8757    Friday\n",
       "8758    Friday\n",
       "8759    Friday\n",
       "Name: Date, Length: 8760, dtype: object"
      ]
     },
     "execution_count": 123,
     "metadata": {},
     "output_type": "execute_result"
    }
   ],
   "source": [
    "pd.to_datetime(bikes['Date'], dayfirst=True).dt.day_name()"
   ]
  },
  {
   "cell_type": "markdown",
   "id": "f5b8bb5d-1636-422d-8492-1542f5aa0757",
   "metadata": {},
   "source": [
    "(это случайность, тут не всё пятницы...)"
   ]
  },
  {
   "cell_type": "markdown",
   "id": "63153540-75d0-49c6-b3b8-1dca3c4ae9d9",
   "metadata": {},
   "source": [
    "Обновим, наконец, эту колонку в таблице"
   ]
  },
  {
   "cell_type": "code",
   "execution_count": 58,
   "id": "2783ba1d-d884-4505-84a9-a2b25e1bfa88",
   "metadata": {},
   "outputs": [],
   "source": [
    "bikes['Date'] = pd.to_datetime(bikes['Date'], dayfirst=True)"
   ]
  },
  {
   "cell_type": "code",
   "execution_count": 8,
   "id": "76fc4fa2-2872-4431-afcb-62597d3fa1e7",
   "metadata": {},
   "outputs": [
    {
     "data": {
      "text/html": [
       "<div>\n",
       "<style scoped>\n",
       "    .dataframe tbody tr th:only-of-type {\n",
       "        vertical-align: middle;\n",
       "    }\n",
       "\n",
       "    .dataframe tbody tr th {\n",
       "        vertical-align: top;\n",
       "    }\n",
       "\n",
       "    .dataframe thead th {\n",
       "        text-align: right;\n",
       "    }\n",
       "</style>\n",
       "<table border=\"1\" class=\"dataframe\">\n",
       "  <thead>\n",
       "    <tr style=\"text-align: right;\">\n",
       "      <th></th>\n",
       "      <th>Date</th>\n",
       "      <th>Hour</th>\n",
       "      <th>Temperature</th>\n",
       "      <th>Humidity</th>\n",
       "      <th>Wind speed</th>\n",
       "      <th>Rainfall</th>\n",
       "      <th>Snowfall</th>\n",
       "      <th>Seasons</th>\n",
       "      <th>Holiday</th>\n",
       "      <th>Functioning Day</th>\n",
       "      <th>Partner 1</th>\n",
       "      <th>Partner 2</th>\n",
       "    </tr>\n",
       "  </thead>\n",
       "  <tbody>\n",
       "    <tr>\n",
       "      <th>0</th>\n",
       "      <td>2017-12-01</td>\n",
       "      <td>0</td>\n",
       "      <td>-5.2</td>\n",
       "      <td>37</td>\n",
       "      <td>2.2</td>\n",
       "      <td>0.0</td>\n",
       "      <td>0.0</td>\n",
       "      <td>Winter</td>\n",
       "      <td>No Holiday</td>\n",
       "      <td>Yes</td>\n",
       "      <td>207</td>\n",
       "      <td>50</td>\n",
       "    </tr>\n",
       "    <tr>\n",
       "      <th>1</th>\n",
       "      <td>2017-12-01</td>\n",
       "      <td>1</td>\n",
       "      <td>-5.5</td>\n",
       "      <td>38</td>\n",
       "      <td>0.8</td>\n",
       "      <td>0.0</td>\n",
       "      <td>0.0</td>\n",
       "      <td>Winter</td>\n",
       "      <td>No Holiday</td>\n",
       "      <td>Yes</td>\n",
       "      <td>139</td>\n",
       "      <td>80</td>\n",
       "    </tr>\n",
       "    <tr>\n",
       "      <th>2</th>\n",
       "      <td>2017-12-01</td>\n",
       "      <td>2</td>\n",
       "      <td>-6.0</td>\n",
       "      <td>39</td>\n",
       "      <td>1.0</td>\n",
       "      <td>0.0</td>\n",
       "      <td>0.0</td>\n",
       "      <td>Winter</td>\n",
       "      <td>No Holiday</td>\n",
       "      <td>Yes</td>\n",
       "      <td>22</td>\n",
       "      <td>140</td>\n",
       "    </tr>\n",
       "    <tr>\n",
       "      <th>3</th>\n",
       "      <td>2017-12-01</td>\n",
       "      <td>3</td>\n",
       "      <td>-6.2</td>\n",
       "      <td>40</td>\n",
       "      <td>0.9</td>\n",
       "      <td>0.0</td>\n",
       "      <td>0.0</td>\n",
       "      <td>Winter</td>\n",
       "      <td>No Holiday</td>\n",
       "      <td>Yes</td>\n",
       "      <td>43</td>\n",
       "      <td>105</td>\n",
       "    </tr>\n",
       "    <tr>\n",
       "      <th>4</th>\n",
       "      <td>2017-12-01</td>\n",
       "      <td>4</td>\n",
       "      <td>-6.0</td>\n",
       "      <td>36</td>\n",
       "      <td>2.3</td>\n",
       "      <td>0.0</td>\n",
       "      <td>0.0</td>\n",
       "      <td>Winter</td>\n",
       "      <td>No Holiday</td>\n",
       "      <td>Yes</td>\n",
       "      <td>59</td>\n",
       "      <td>38</td>\n",
       "    </tr>\n",
       "    <tr>\n",
       "      <th>...</th>\n",
       "      <td>...</td>\n",
       "      <td>...</td>\n",
       "      <td>...</td>\n",
       "      <td>...</td>\n",
       "      <td>...</td>\n",
       "      <td>...</td>\n",
       "      <td>...</td>\n",
       "      <td>...</td>\n",
       "      <td>...</td>\n",
       "      <td>...</td>\n",
       "      <td>...</td>\n",
       "      <td>...</td>\n",
       "    </tr>\n",
       "    <tr>\n",
       "      <th>8755</th>\n",
       "      <td>2018-11-30</td>\n",
       "      <td>19</td>\n",
       "      <td>4.2</td>\n",
       "      <td>34</td>\n",
       "      <td>2.6</td>\n",
       "      <td>0.0</td>\n",
       "      <td>0.0</td>\n",
       "      <td>Autumn</td>\n",
       "      <td>No Holiday</td>\n",
       "      <td>Yes</td>\n",
       "      <td>467</td>\n",
       "      <td>177</td>\n",
       "    </tr>\n",
       "    <tr>\n",
       "      <th>8756</th>\n",
       "      <td>2018-11-30</td>\n",
       "      <td>20</td>\n",
       "      <td>3.4</td>\n",
       "      <td>37</td>\n",
       "      <td>2.3</td>\n",
       "      <td>0.0</td>\n",
       "      <td>0.0</td>\n",
       "      <td>Autumn</td>\n",
       "      <td>No Holiday</td>\n",
       "      <td>Yes</td>\n",
       "      <td>296</td>\n",
       "      <td>63</td>\n",
       "    </tr>\n",
       "    <tr>\n",
       "      <th>8757</th>\n",
       "      <td>2018-11-30</td>\n",
       "      <td>21</td>\n",
       "      <td>2.6</td>\n",
       "      <td>39</td>\n",
       "      <td>0.3</td>\n",
       "      <td>0.0</td>\n",
       "      <td>0.0</td>\n",
       "      <td>Autumn</td>\n",
       "      <td>No Holiday</td>\n",
       "      <td>Yes</td>\n",
       "      <td>571</td>\n",
       "      <td>665</td>\n",
       "    </tr>\n",
       "    <tr>\n",
       "      <th>8758</th>\n",
       "      <td>2018-11-30</td>\n",
       "      <td>22</td>\n",
       "      <td>2.1</td>\n",
       "      <td>41</td>\n",
       "      <td>1.0</td>\n",
       "      <td>0.0</td>\n",
       "      <td>0.0</td>\n",
       "      <td>Autumn</td>\n",
       "      <td>No Holiday</td>\n",
       "      <td>Yes</td>\n",
       "      <td>171</td>\n",
       "      <td>457</td>\n",
       "    </tr>\n",
       "    <tr>\n",
       "      <th>8759</th>\n",
       "      <td>2018-11-30</td>\n",
       "      <td>23</td>\n",
       "      <td>1.9</td>\n",
       "      <td>43</td>\n",
       "      <td>1.3</td>\n",
       "      <td>0.0</td>\n",
       "      <td>0.0</td>\n",
       "      <td>Autumn</td>\n",
       "      <td>No Holiday</td>\n",
       "      <td>Yes</td>\n",
       "      <td>442</td>\n",
       "      <td>401</td>\n",
       "    </tr>\n",
       "  </tbody>\n",
       "</table>\n",
       "<p>8760 rows × 12 columns</p>\n",
       "</div>"
      ],
      "text/plain": [
       "           Date  Hour  Temperature  Humidity  Wind speed  Rainfall  Snowfall  \\\n",
       "0    2017-12-01     0         -5.2        37         2.2       0.0       0.0   \n",
       "1    2017-12-01     1         -5.5        38         0.8       0.0       0.0   \n",
       "2    2017-12-01     2         -6.0        39         1.0       0.0       0.0   \n",
       "3    2017-12-01     3         -6.2        40         0.9       0.0       0.0   \n",
       "4    2017-12-01     4         -6.0        36         2.3       0.0       0.0   \n",
       "...         ...   ...          ...       ...         ...       ...       ...   \n",
       "8755 2018-11-30    19          4.2        34         2.6       0.0       0.0   \n",
       "8756 2018-11-30    20          3.4        37         2.3       0.0       0.0   \n",
       "8757 2018-11-30    21          2.6        39         0.3       0.0       0.0   \n",
       "8758 2018-11-30    22          2.1        41         1.0       0.0       0.0   \n",
       "8759 2018-11-30    23          1.9        43         1.3       0.0       0.0   \n",
       "\n",
       "     Seasons     Holiday Functioning Day  Partner 1  Partner 2  \n",
       "0     Winter  No Holiday             Yes        207         50  \n",
       "1     Winter  No Holiday             Yes        139         80  \n",
       "2     Winter  No Holiday             Yes         22        140  \n",
       "3     Winter  No Holiday             Yes         43        105  \n",
       "4     Winter  No Holiday             Yes         59         38  \n",
       "...      ...         ...             ...        ...        ...  \n",
       "8755  Autumn  No Holiday             Yes        467        177  \n",
       "8756  Autumn  No Holiday             Yes        296         63  \n",
       "8757  Autumn  No Holiday             Yes        571        665  \n",
       "8758  Autumn  No Holiday             Yes        171        457  \n",
       "8759  Autumn  No Holiday             Yes        442        401  \n",
       "\n",
       "[8760 rows x 12 columns]"
      ]
     },
     "execution_count": 8,
     "metadata": {},
     "output_type": "execute_result"
    }
   ],
   "source": [
    "bikes"
   ]
  },
  {
   "cell_type": "markdown",
   "id": "4c295426-ace8-4a2e-a9e4-79c41ea2375d",
   "metadata": {},
   "source": [
    "Тип данных теперь `datetime`:"
   ]
  },
  {
   "cell_type": "code",
   "execution_count": 9,
   "id": "a99ea292-dd04-4043-9e03-7c49d3ce530e",
   "metadata": {},
   "outputs": [
    {
     "name": "stdout",
     "output_type": "stream",
     "text": [
      "<class 'pandas.core.frame.DataFrame'>\n",
      "RangeIndex: 8760 entries, 0 to 8759\n",
      "Data columns (total 12 columns):\n",
      " #   Column           Non-Null Count  Dtype         \n",
      "---  ------           --------------  -----         \n",
      " 0   Date             8760 non-null   datetime64[ns]\n",
      " 1   Hour             8760 non-null   int64         \n",
      " 2   Temperature      8581 non-null   float64       \n",
      " 3   Humidity         8760 non-null   int64         \n",
      " 4   Wind speed       8760 non-null   float64       \n",
      " 5   Rainfall         8760 non-null   float64       \n",
      " 6   Snowfall         8760 non-null   float64       \n",
      " 7   Seasons          8760 non-null   object        \n",
      " 8   Holiday          8760 non-null   object        \n",
      " 9   Functioning Day  8760 non-null   object        \n",
      " 10  Partner 1        8760 non-null   int64         \n",
      " 11  Partner 2        8760 non-null   int64         \n",
      "dtypes: datetime64[ns](1), float64(4), int64(4), object(3)\n",
      "memory usage: 821.4+ KB\n"
     ]
    }
   ],
   "source": [
    "bikes.info()"
   ]
  },
  {
   "cell_type": "code",
   "execution_count": 10,
   "id": "a66eff9e-555c-4a8d-898b-b3ee0c1a1c37",
   "metadata": {},
   "outputs": [
    {
     "data": {
      "text/html": [
       "<div>\n",
       "<style scoped>\n",
       "    .dataframe tbody tr th:only-of-type {\n",
       "        vertical-align: middle;\n",
       "    }\n",
       "\n",
       "    .dataframe tbody tr th {\n",
       "        vertical-align: top;\n",
       "    }\n",
       "\n",
       "    .dataframe thead th {\n",
       "        text-align: right;\n",
       "    }\n",
       "</style>\n",
       "<table border=\"1\" class=\"dataframe\">\n",
       "  <thead>\n",
       "    <tr style=\"text-align: right;\">\n",
       "      <th></th>\n",
       "      <th>Date</th>\n",
       "      <th>Hour</th>\n",
       "      <th>Temperature</th>\n",
       "      <th>Humidity</th>\n",
       "      <th>Wind speed</th>\n",
       "      <th>Rainfall</th>\n",
       "      <th>Snowfall</th>\n",
       "      <th>Seasons</th>\n",
       "      <th>Holiday</th>\n",
       "      <th>Functioning Day</th>\n",
       "      <th>Partner 1</th>\n",
       "      <th>Partner 2</th>\n",
       "    </tr>\n",
       "  </thead>\n",
       "  <tbody>\n",
       "    <tr>\n",
       "      <th>0</th>\n",
       "      <td>2017-12-01</td>\n",
       "      <td>0</td>\n",
       "      <td>-5.2</td>\n",
       "      <td>37</td>\n",
       "      <td>2.2</td>\n",
       "      <td>0.0</td>\n",
       "      <td>0.0</td>\n",
       "      <td>Winter</td>\n",
       "      <td>No Holiday</td>\n",
       "      <td>Yes</td>\n",
       "      <td>207</td>\n",
       "      <td>50</td>\n",
       "    </tr>\n",
       "    <tr>\n",
       "      <th>1</th>\n",
       "      <td>2017-12-01</td>\n",
       "      <td>1</td>\n",
       "      <td>-5.5</td>\n",
       "      <td>38</td>\n",
       "      <td>0.8</td>\n",
       "      <td>0.0</td>\n",
       "      <td>0.0</td>\n",
       "      <td>Winter</td>\n",
       "      <td>No Holiday</td>\n",
       "      <td>Yes</td>\n",
       "      <td>139</td>\n",
       "      <td>80</td>\n",
       "    </tr>\n",
       "    <tr>\n",
       "      <th>2</th>\n",
       "      <td>2017-12-01</td>\n",
       "      <td>2</td>\n",
       "      <td>-6.0</td>\n",
       "      <td>39</td>\n",
       "      <td>1.0</td>\n",
       "      <td>0.0</td>\n",
       "      <td>0.0</td>\n",
       "      <td>Winter</td>\n",
       "      <td>No Holiday</td>\n",
       "      <td>Yes</td>\n",
       "      <td>22</td>\n",
       "      <td>140</td>\n",
       "    </tr>\n",
       "    <tr>\n",
       "      <th>3</th>\n",
       "      <td>2017-12-01</td>\n",
       "      <td>3</td>\n",
       "      <td>-6.2</td>\n",
       "      <td>40</td>\n",
       "      <td>0.9</td>\n",
       "      <td>0.0</td>\n",
       "      <td>0.0</td>\n",
       "      <td>Winter</td>\n",
       "      <td>No Holiday</td>\n",
       "      <td>Yes</td>\n",
       "      <td>43</td>\n",
       "      <td>105</td>\n",
       "    </tr>\n",
       "    <tr>\n",
       "      <th>4</th>\n",
       "      <td>2017-12-01</td>\n",
       "      <td>4</td>\n",
       "      <td>-6.0</td>\n",
       "      <td>36</td>\n",
       "      <td>2.3</td>\n",
       "      <td>0.0</td>\n",
       "      <td>0.0</td>\n",
       "      <td>Winter</td>\n",
       "      <td>No Holiday</td>\n",
       "      <td>Yes</td>\n",
       "      <td>59</td>\n",
       "      <td>38</td>\n",
       "    </tr>\n",
       "    <tr>\n",
       "      <th>...</th>\n",
       "      <td>...</td>\n",
       "      <td>...</td>\n",
       "      <td>...</td>\n",
       "      <td>...</td>\n",
       "      <td>...</td>\n",
       "      <td>...</td>\n",
       "      <td>...</td>\n",
       "      <td>...</td>\n",
       "      <td>...</td>\n",
       "      <td>...</td>\n",
       "      <td>...</td>\n",
       "      <td>...</td>\n",
       "    </tr>\n",
       "    <tr>\n",
       "      <th>739</th>\n",
       "      <td>2017-12-31</td>\n",
       "      <td>19</td>\n",
       "      <td>0.0</td>\n",
       "      <td>31</td>\n",
       "      <td>2.2</td>\n",
       "      <td>0.0</td>\n",
       "      <td>0.0</td>\n",
       "      <td>Winter</td>\n",
       "      <td>Holiday</td>\n",
       "      <td>Yes</td>\n",
       "      <td>82</td>\n",
       "      <td>105</td>\n",
       "    </tr>\n",
       "    <tr>\n",
       "      <th>740</th>\n",
       "      <td>2017-12-31</td>\n",
       "      <td>20</td>\n",
       "      <td>-1.0</td>\n",
       "      <td>32</td>\n",
       "      <td>0.9</td>\n",
       "      <td>0.0</td>\n",
       "      <td>0.0</td>\n",
       "      <td>Winter</td>\n",
       "      <td>Holiday</td>\n",
       "      <td>Yes</td>\n",
       "      <td>93</td>\n",
       "      <td>91</td>\n",
       "    </tr>\n",
       "    <tr>\n",
       "      <th>741</th>\n",
       "      <td>2017-12-31</td>\n",
       "      <td>21</td>\n",
       "      <td>-1.6</td>\n",
       "      <td>35</td>\n",
       "      <td>1.0</td>\n",
       "      <td>0.0</td>\n",
       "      <td>0.0</td>\n",
       "      <td>Winter</td>\n",
       "      <td>Holiday</td>\n",
       "      <td>Yes</td>\n",
       "      <td>47</td>\n",
       "      <td>67</td>\n",
       "    </tr>\n",
       "    <tr>\n",
       "      <th>742</th>\n",
       "      <td>2017-12-31</td>\n",
       "      <td>22</td>\n",
       "      <td>-2.1</td>\n",
       "      <td>36</td>\n",
       "      <td>1.7</td>\n",
       "      <td>0.0</td>\n",
       "      <td>0.0</td>\n",
       "      <td>Winter</td>\n",
       "      <td>Holiday</td>\n",
       "      <td>Yes</td>\n",
       "      <td>108</td>\n",
       "      <td>143</td>\n",
       "    </tr>\n",
       "    <tr>\n",
       "      <th>743</th>\n",
       "      <td>2017-12-31</td>\n",
       "      <td>23</td>\n",
       "      <td>-2.6</td>\n",
       "      <td>40</td>\n",
       "      <td>0.6</td>\n",
       "      <td>0.0</td>\n",
       "      <td>0.0</td>\n",
       "      <td>Winter</td>\n",
       "      <td>Holiday</td>\n",
       "      <td>Yes</td>\n",
       "      <td>110</td>\n",
       "      <td>38</td>\n",
       "    </tr>\n",
       "  </tbody>\n",
       "</table>\n",
       "<p>744 rows × 12 columns</p>\n",
       "</div>"
      ],
      "text/plain": [
       "          Date  Hour  Temperature  Humidity  Wind speed  Rainfall  Snowfall  \\\n",
       "0   2017-12-01     0         -5.2        37         2.2       0.0       0.0   \n",
       "1   2017-12-01     1         -5.5        38         0.8       0.0       0.0   \n",
       "2   2017-12-01     2         -6.0        39         1.0       0.0       0.0   \n",
       "3   2017-12-01     3         -6.2        40         0.9       0.0       0.0   \n",
       "4   2017-12-01     4         -6.0        36         2.3       0.0       0.0   \n",
       "..         ...   ...          ...       ...         ...       ...       ...   \n",
       "739 2017-12-31    19          0.0        31         2.2       0.0       0.0   \n",
       "740 2017-12-31    20         -1.0        32         0.9       0.0       0.0   \n",
       "741 2017-12-31    21         -1.6        35         1.0       0.0       0.0   \n",
       "742 2017-12-31    22         -2.1        36         1.7       0.0       0.0   \n",
       "743 2017-12-31    23         -2.6        40         0.6       0.0       0.0   \n",
       "\n",
       "    Seasons     Holiday Functioning Day  Partner 1  Partner 2  \n",
       "0    Winter  No Holiday             Yes        207         50  \n",
       "1    Winter  No Holiday             Yes        139         80  \n",
       "2    Winter  No Holiday             Yes         22        140  \n",
       "3    Winter  No Holiday             Yes         43        105  \n",
       "4    Winter  No Holiday             Yes         59         38  \n",
       "..      ...         ...             ...        ...        ...  \n",
       "739  Winter     Holiday             Yes         82        105  \n",
       "740  Winter     Holiday             Yes         93         91  \n",
       "741  Winter     Holiday             Yes         47         67  \n",
       "742  Winter     Holiday             Yes        108        143  \n",
       "743  Winter     Holiday             Yes        110         38  \n",
       "\n",
       "[744 rows x 12 columns]"
      ]
     },
     "execution_count": 10,
     "metadata": {},
     "output_type": "execute_result"
    }
   ],
   "source": [
    "bikes[bikes['Date'].dt.year == 2017]"
   ]
  },
  {
   "cell_type": "markdown",
   "id": "6180ff79-e663-4963-8e22-86f00cc70159",
   "metadata": {},
   "source": [
    "Большинство наблюдений за часы и дни 2018 года:"
   ]
  },
  {
   "cell_type": "code",
   "execution_count": 12,
   "id": "e21ae36e-0af0-49e4-9d65-c80115fc8aa9",
   "metadata": {},
   "outputs": [
    {
     "data": {
      "text/plain": [
       "(8016, 12)"
      ]
     },
     "execution_count": 12,
     "metadata": {},
     "output_type": "execute_result"
    }
   ],
   "source": [
    "bikes[bikes['Date'].dt.year == 2018].shape"
   ]
  },
  {
   "cell_type": "code",
   "execution_count": 18,
   "id": "2e237835-247e-4508-ae84-82d84a81891f",
   "metadata": {},
   "outputs": [
    {
     "data": {
      "text/plain": [
       "(0, 12)"
      ]
     },
     "execution_count": 18,
     "metadata": {},
     "output_type": "execute_result"
    }
   ],
   "source": [
    "bikes[bikes['Date'].dt.year == 2019].shape"
   ]
  },
  {
   "cell_type": "markdown",
   "id": "d3a24b75-033a-40de-b8bb-784b02f71fc0",
   "metadata": {},
   "source": [
    "Засчёт даты можем понимать день недели и фильтровать и анализировать данные по нему (хотя в таблице отдельно его не было!):"
   ]
  },
  {
   "cell_type": "code",
   "execution_count": 129,
   "id": "9dc40e54-e24f-4c2a-a904-90823bcaeb75",
   "metadata": {},
   "outputs": [
    {
     "data": {
      "text/html": [
       "<div>\n",
       "<style scoped>\n",
       "    .dataframe tbody tr th:only-of-type {\n",
       "        vertical-align: middle;\n",
       "    }\n",
       "\n",
       "    .dataframe tbody tr th {\n",
       "        vertical-align: top;\n",
       "    }\n",
       "\n",
       "    .dataframe thead th {\n",
       "        text-align: right;\n",
       "    }\n",
       "</style>\n",
       "<table border=\"1\" class=\"dataframe\">\n",
       "  <thead>\n",
       "    <tr style=\"text-align: right;\">\n",
       "      <th></th>\n",
       "      <th>Date</th>\n",
       "      <th>Hour</th>\n",
       "      <th>Temperature</th>\n",
       "      <th>Humidity</th>\n",
       "      <th>Wind speed</th>\n",
       "      <th>Rainfall</th>\n",
       "      <th>Snowfall</th>\n",
       "      <th>Seasons</th>\n",
       "      <th>Holiday</th>\n",
       "      <th>Functioning Day</th>\n",
       "      <th>Partner 1</th>\n",
       "      <th>Partner 2</th>\n",
       "      <th>Rental Count</th>\n",
       "    </tr>\n",
       "  </thead>\n",
       "  <tbody>\n",
       "    <tr>\n",
       "      <th>96</th>\n",
       "      <td>2017-12-05</td>\n",
       "      <td>0</td>\n",
       "      <td>-6.1</td>\n",
       "      <td>42</td>\n",
       "      <td>2.6</td>\n",
       "      <td>0.0</td>\n",
       "      <td>0.0</td>\n",
       "      <td>Winter</td>\n",
       "      <td>No Holiday</td>\n",
       "      <td>Yes</td>\n",
       "      <td>46</td>\n",
       "      <td>170</td>\n",
       "      <td>216</td>\n",
       "    </tr>\n",
       "    <tr>\n",
       "      <th>97</th>\n",
       "      <td>2017-12-05</td>\n",
       "      <td>1</td>\n",
       "      <td>-6.5</td>\n",
       "      <td>41</td>\n",
       "      <td>2.8</td>\n",
       "      <td>0.0</td>\n",
       "      <td>0.0</td>\n",
       "      <td>Winter</td>\n",
       "      <td>No Holiday</td>\n",
       "      <td>Yes</td>\n",
       "      <td>50</td>\n",
       "      <td>85</td>\n",
       "      <td>135</td>\n",
       "    </tr>\n",
       "    <tr>\n",
       "      <th>98</th>\n",
       "      <td>2017-12-05</td>\n",
       "      <td>2</td>\n",
       "      <td>-6.8</td>\n",
       "      <td>41</td>\n",
       "      <td>2.5</td>\n",
       "      <td>0.0</td>\n",
       "      <td>0.0</td>\n",
       "      <td>Winter</td>\n",
       "      <td>No Holiday</td>\n",
       "      <td>Yes</td>\n",
       "      <td>29</td>\n",
       "      <td>104</td>\n",
       "      <td>133</td>\n",
       "    </tr>\n",
       "    <tr>\n",
       "      <th>99</th>\n",
       "      <td>2017-12-05</td>\n",
       "      <td>3</td>\n",
       "      <td>-6.9</td>\n",
       "      <td>39</td>\n",
       "      <td>2.0</td>\n",
       "      <td>0.0</td>\n",
       "      <td>0.0</td>\n",
       "      <td>Winter</td>\n",
       "      <td>No Holiday</td>\n",
       "      <td>Yes</td>\n",
       "      <td>39</td>\n",
       "      <td>8</td>\n",
       "      <td>47</td>\n",
       "    </tr>\n",
       "    <tr>\n",
       "      <th>100</th>\n",
       "      <td>2017-12-05</td>\n",
       "      <td>4</td>\n",
       "      <td>-7.2</td>\n",
       "      <td>34</td>\n",
       "      <td>3.0</td>\n",
       "      <td>0.0</td>\n",
       "      <td>0.0</td>\n",
       "      <td>Winter</td>\n",
       "      <td>No Holiday</td>\n",
       "      <td>Yes</td>\n",
       "      <td>18</td>\n",
       "      <td>22</td>\n",
       "      <td>40</td>\n",
       "    </tr>\n",
       "    <tr>\n",
       "      <th>...</th>\n",
       "      <td>...</td>\n",
       "      <td>...</td>\n",
       "      <td>...</td>\n",
       "      <td>...</td>\n",
       "      <td>...</td>\n",
       "      <td>...</td>\n",
       "      <td>...</td>\n",
       "      <td>...</td>\n",
       "      <td>...</td>\n",
       "      <td>...</td>\n",
       "      <td>...</td>\n",
       "      <td>...</td>\n",
       "      <td>...</td>\n",
       "    </tr>\n",
       "    <tr>\n",
       "      <th>8683</th>\n",
       "      <td>2018-11-27</td>\n",
       "      <td>19</td>\n",
       "      <td>9.3</td>\n",
       "      <td>52</td>\n",
       "      <td>2.7</td>\n",
       "      <td>0.0</td>\n",
       "      <td>0.0</td>\n",
       "      <td>Autumn</td>\n",
       "      <td>No Holiday</td>\n",
       "      <td>Yes</td>\n",
       "      <td>49</td>\n",
       "      <td>666</td>\n",
       "      <td>715</td>\n",
       "    </tr>\n",
       "    <tr>\n",
       "      <th>8684</th>\n",
       "      <td>2018-11-27</td>\n",
       "      <td>20</td>\n",
       "      <td>8.3</td>\n",
       "      <td>39</td>\n",
       "      <td>1.6</td>\n",
       "      <td>0.0</td>\n",
       "      <td>0.0</td>\n",
       "      <td>Autumn</td>\n",
       "      <td>No Holiday</td>\n",
       "      <td>Yes</td>\n",
       "      <td>492</td>\n",
       "      <td>413</td>\n",
       "      <td>905</td>\n",
       "    </tr>\n",
       "    <tr>\n",
       "      <th>8685</th>\n",
       "      <td>2018-11-27</td>\n",
       "      <td>21</td>\n",
       "      <td>7.5</td>\n",
       "      <td>35</td>\n",
       "      <td>1.8</td>\n",
       "      <td>0.0</td>\n",
       "      <td>0.0</td>\n",
       "      <td>Autumn</td>\n",
       "      <td>No Holiday</td>\n",
       "      <td>Yes</td>\n",
       "      <td>529</td>\n",
       "      <td>529</td>\n",
       "      <td>1058</td>\n",
       "    </tr>\n",
       "    <tr>\n",
       "      <th>8686</th>\n",
       "      <td>2018-11-27</td>\n",
       "      <td>22</td>\n",
       "      <td>6.6</td>\n",
       "      <td>33</td>\n",
       "      <td>2.1</td>\n",
       "      <td>0.0</td>\n",
       "      <td>0.0</td>\n",
       "      <td>Autumn</td>\n",
       "      <td>No Holiday</td>\n",
       "      <td>Yes</td>\n",
       "      <td>18</td>\n",
       "      <td>629</td>\n",
       "      <td>647</td>\n",
       "    </tr>\n",
       "    <tr>\n",
       "      <th>8687</th>\n",
       "      <td>2018-11-27</td>\n",
       "      <td>23</td>\n",
       "      <td>5.8</td>\n",
       "      <td>34</td>\n",
       "      <td>2.6</td>\n",
       "      <td>0.0</td>\n",
       "      <td>0.0</td>\n",
       "      <td>Autumn</td>\n",
       "      <td>No Holiday</td>\n",
       "      <td>Yes</td>\n",
       "      <td>396</td>\n",
       "      <td>376</td>\n",
       "      <td>772</td>\n",
       "    </tr>\n",
       "  </tbody>\n",
       "</table>\n",
       "<p>1248 rows × 13 columns</p>\n",
       "</div>"
      ],
      "text/plain": [
       "           Date  Hour  Temperature  Humidity  Wind speed  Rainfall  Snowfall  \\\n",
       "96   2017-12-05     0         -6.1        42         2.6       0.0       0.0   \n",
       "97   2017-12-05     1         -6.5        41         2.8       0.0       0.0   \n",
       "98   2017-12-05     2         -6.8        41         2.5       0.0       0.0   \n",
       "99   2017-12-05     3         -6.9        39         2.0       0.0       0.0   \n",
       "100  2017-12-05     4         -7.2        34         3.0       0.0       0.0   \n",
       "...         ...   ...          ...       ...         ...       ...       ...   \n",
       "8683 2018-11-27    19          9.3        52         2.7       0.0       0.0   \n",
       "8684 2018-11-27    20          8.3        39         1.6       0.0       0.0   \n",
       "8685 2018-11-27    21          7.5        35         1.8       0.0       0.0   \n",
       "8686 2018-11-27    22          6.6        33         2.1       0.0       0.0   \n",
       "8687 2018-11-27    23          5.8        34         2.6       0.0       0.0   \n",
       "\n",
       "     Seasons     Holiday Functioning Day  Partner 1  Partner 2  Rental Count  \n",
       "96    Winter  No Holiday             Yes         46        170           216  \n",
       "97    Winter  No Holiday             Yes         50         85           135  \n",
       "98    Winter  No Holiday             Yes         29        104           133  \n",
       "99    Winter  No Holiday             Yes         39          8            47  \n",
       "100   Winter  No Holiday             Yes         18         22            40  \n",
       "...      ...         ...             ...        ...        ...           ...  \n",
       "8683  Autumn  No Holiday             Yes         49        666           715  \n",
       "8684  Autumn  No Holiday             Yes        492        413           905  \n",
       "8685  Autumn  No Holiday             Yes        529        529          1058  \n",
       "8686  Autumn  No Holiday             Yes         18        629           647  \n",
       "8687  Autumn  No Holiday             Yes        396        376           772  \n",
       "\n",
       "[1248 rows x 13 columns]"
      ]
     },
     "execution_count": 129,
     "metadata": {},
     "output_type": "execute_result"
    }
   ],
   "source": [
    "bikes[bikes['Date'].dt.day_name() == 'Tuesday']"
   ]
  },
  {
   "cell_type": "code",
   "execution_count": 130,
   "id": "3cc11747-eca5-46ec-b9df-d4fe8fcdf72e",
   "metadata": {},
   "outputs": [
    {
     "data": {
      "text/plain": [
       "52"
      ]
     },
     "execution_count": 130,
     "metadata": {},
     "output_type": "execute_result"
    }
   ],
   "source": [
    "1248 // 24"
   ]
  },
  {
   "cell_type": "markdown",
   "id": "4bc982e4-ccaa-4e47-a5fc-f1798a9282e8",
   "metadata": {},
   "source": [
    "Знает ли он какой день был 32 июня? А 29 февраля 2018 года?"
   ]
  },
  {
   "cell_type": "code",
   "execution_count": 13,
   "id": "d3ca2a02-995a-4e39-876b-60779af15815",
   "metadata": {},
   "outputs": [
    {
     "data": {
      "text/html": [
       "<div>\n",
       "<style scoped>\n",
       "    .dataframe tbody tr th:only-of-type {\n",
       "        vertical-align: middle;\n",
       "    }\n",
       "\n",
       "    .dataframe tbody tr th {\n",
       "        vertical-align: top;\n",
       "    }\n",
       "\n",
       "    .dataframe thead th {\n",
       "        text-align: right;\n",
       "    }\n",
       "</style>\n",
       "<table border=\"1\" class=\"dataframe\">\n",
       "  <thead>\n",
       "    <tr style=\"text-align: right;\">\n",
       "      <th></th>\n",
       "      <th>dates</th>\n",
       "    </tr>\n",
       "  </thead>\n",
       "  <tbody>\n",
       "    <tr>\n",
       "      <th>0</th>\n",
       "      <td>32/06/2020</td>\n",
       "    </tr>\n",
       "    <tr>\n",
       "      <th>1</th>\n",
       "      <td>29/02/2018</td>\n",
       "    </tr>\n",
       "  </tbody>\n",
       "</table>\n",
       "</div>"
      ],
      "text/plain": [
       "        dates\n",
       "0  32/06/2020\n",
       "1  29/02/2018"
      ]
     },
     "execution_count": 13,
     "metadata": {},
     "output_type": "execute_result"
    }
   ],
   "source": [
    "df_dates = pd.DataFrame()\n",
    "df_dates['dates'] = ['32/06/2020', '29/02/2018']\n",
    "df_dates"
   ]
  },
  {
   "cell_type": "code",
   "execution_count": 14,
   "id": "81a20556-bae8-4f9e-b1ea-90401f37da6a",
   "metadata": {},
   "outputs": [
    {
     "ename": "DateParseError",
     "evalue": "Invalid date specified (32/6)",
     "output_type": "error",
     "traceback": [
      "\u001b[1;31m---------------------------------------------------------------------------\u001b[0m",
      "\u001b[1;31mTypeError\u001b[0m                                 Traceback (most recent call last)",
      "File \u001b[1;32m~\\AppData\\Roaming\\Python\\Python39\\site-packages\\pandas\\core\\arrays\\datetimes.py:2211\u001b[0m, in \u001b[0;36mobjects_to_datetime64ns\u001b[1;34m(data, dayfirst, yearfirst, utc, errors, require_iso8601, allow_object, allow_mixed)\u001b[0m\n\u001b[0;32m   2210\u001b[0m \u001b[38;5;28;01mtry\u001b[39;00m:\n\u001b[1;32m-> 2211\u001b[0m     values, tz_parsed \u001b[38;5;241m=\u001b[39m \u001b[43mconversion\u001b[49m\u001b[38;5;241;43m.\u001b[39;49m\u001b[43mdatetime_to_datetime64\u001b[49m\u001b[43m(\u001b[49m\u001b[43mdata\u001b[49m\u001b[38;5;241;43m.\u001b[39;49m\u001b[43mravel\u001b[49m\u001b[43m(\u001b[49m\u001b[38;5;124;43m\"\u001b[39;49m\u001b[38;5;124;43mK\u001b[39;49m\u001b[38;5;124;43m\"\u001b[39;49m\u001b[43m)\u001b[49m\u001b[43m)\u001b[49m\n\u001b[0;32m   2212\u001b[0m     \u001b[38;5;66;03m# If tzaware, these values represent unix timestamps, so we\u001b[39;00m\n\u001b[0;32m   2213\u001b[0m     \u001b[38;5;66;03m#  return them as i8 to distinguish from wall times\u001b[39;00m\n",
      "File \u001b[1;32m~\\AppData\\Roaming\\Python\\Python39\\site-packages\\pandas\\_libs\\tslibs\\conversion.pyx:360\u001b[0m, in \u001b[0;36mpandas._libs.tslibs.conversion.datetime_to_datetime64\u001b[1;34m()\u001b[0m\n",
      "\u001b[1;31mTypeError\u001b[0m: Unrecognized value type: <class 'str'>",
      "\nDuring handling of the above exception, another exception occurred:\n",
      "\u001b[1;31mDateParseError\u001b[0m                            Traceback (most recent call last)",
      "Cell \u001b[1;32mIn [14], line 1\u001b[0m\n\u001b[1;32m----> 1\u001b[0m \u001b[43mpd\u001b[49m\u001b[38;5;241;43m.\u001b[39;49m\u001b[43mto_datetime\u001b[49m\u001b[43m(\u001b[49m\u001b[43mdf_dates\u001b[49m\u001b[43m[\u001b[49m\u001b[38;5;124;43m'\u001b[39;49m\u001b[38;5;124;43mdates\u001b[39;49m\u001b[38;5;124;43m'\u001b[39;49m\u001b[43m]\u001b[49m\u001b[43m,\u001b[49m\u001b[43m \u001b[49m\u001b[43mdayfirst\u001b[49m\u001b[38;5;241;43m=\u001b[39;49m\u001b[38;5;28;43;01mTrue\u001b[39;49;00m\u001b[43m)\u001b[49m\u001b[38;5;241m.\u001b[39mdt\u001b[38;5;241m.\u001b[39mday_name()\n",
      "File \u001b[1;32m~\\AppData\\Roaming\\Python\\Python39\\site-packages\\pandas\\core\\tools\\datetimes.py:1051\u001b[0m, in \u001b[0;36mto_datetime\u001b[1;34m(arg, errors, dayfirst, yearfirst, utc, format, exact, unit, infer_datetime_format, origin, cache)\u001b[0m\n\u001b[0;32m   1049\u001b[0m         result \u001b[38;5;241m=\u001b[39m arg\u001b[38;5;241m.\u001b[39mmap(cache_array)\n\u001b[0;32m   1050\u001b[0m     \u001b[38;5;28;01melse\u001b[39;00m:\n\u001b[1;32m-> 1051\u001b[0m         values \u001b[38;5;241m=\u001b[39m \u001b[43mconvert_listlike\u001b[49m\u001b[43m(\u001b[49m\u001b[43marg\u001b[49m\u001b[38;5;241;43m.\u001b[39;49m\u001b[43m_values\u001b[49m\u001b[43m,\u001b[49m\u001b[43m \u001b[49m\u001b[38;5;28;43mformat\u001b[39;49m\u001b[43m)\u001b[49m\n\u001b[0;32m   1052\u001b[0m         result \u001b[38;5;241m=\u001b[39m arg\u001b[38;5;241m.\u001b[39m_constructor(values, index\u001b[38;5;241m=\u001b[39marg\u001b[38;5;241m.\u001b[39mindex, name\u001b[38;5;241m=\u001b[39marg\u001b[38;5;241m.\u001b[39mname)\n\u001b[0;32m   1053\u001b[0m \u001b[38;5;28;01melif\u001b[39;00m \u001b[38;5;28misinstance\u001b[39m(arg, (ABCDataFrame, abc\u001b[38;5;241m.\u001b[39mMutableMapping)):\n",
      "File \u001b[1;32m~\\AppData\\Roaming\\Python\\Python39\\site-packages\\pandas\\core\\tools\\datetimes.py:402\u001b[0m, in \u001b[0;36m_convert_listlike_datetimes\u001b[1;34m(arg, format, name, tz, unit, errors, infer_datetime_format, dayfirst, yearfirst, exact)\u001b[0m\n\u001b[0;32m    400\u001b[0m \u001b[38;5;28;01massert\u001b[39;00m \u001b[38;5;28mformat\u001b[39m \u001b[38;5;129;01mis\u001b[39;00m \u001b[38;5;28;01mNone\u001b[39;00m \u001b[38;5;129;01mor\u001b[39;00m infer_datetime_format\n\u001b[0;32m    401\u001b[0m utc \u001b[38;5;241m=\u001b[39m tz \u001b[38;5;241m==\u001b[39m \u001b[38;5;124m\"\u001b[39m\u001b[38;5;124mutc\u001b[39m\u001b[38;5;124m\"\u001b[39m\n\u001b[1;32m--> 402\u001b[0m result, tz_parsed \u001b[38;5;241m=\u001b[39m \u001b[43mobjects_to_datetime64ns\u001b[49m\u001b[43m(\u001b[49m\n\u001b[0;32m    403\u001b[0m \u001b[43m    \u001b[49m\u001b[43marg\u001b[49m\u001b[43m,\u001b[49m\n\u001b[0;32m    404\u001b[0m \u001b[43m    \u001b[49m\u001b[43mdayfirst\u001b[49m\u001b[38;5;241;43m=\u001b[39;49m\u001b[43mdayfirst\u001b[49m\u001b[43m,\u001b[49m\n\u001b[0;32m    405\u001b[0m \u001b[43m    \u001b[49m\u001b[43myearfirst\u001b[49m\u001b[38;5;241;43m=\u001b[39;49m\u001b[43myearfirst\u001b[49m\u001b[43m,\u001b[49m\n\u001b[0;32m    406\u001b[0m \u001b[43m    \u001b[49m\u001b[43mutc\u001b[49m\u001b[38;5;241;43m=\u001b[39;49m\u001b[43mutc\u001b[49m\u001b[43m,\u001b[49m\n\u001b[0;32m    407\u001b[0m \u001b[43m    \u001b[49m\u001b[43merrors\u001b[49m\u001b[38;5;241;43m=\u001b[39;49m\u001b[43merrors\u001b[49m\u001b[43m,\u001b[49m\n\u001b[0;32m    408\u001b[0m \u001b[43m    \u001b[49m\u001b[43mrequire_iso8601\u001b[49m\u001b[38;5;241;43m=\u001b[39;49m\u001b[43mrequire_iso8601\u001b[49m\u001b[43m,\u001b[49m\n\u001b[0;32m    409\u001b[0m \u001b[43m    \u001b[49m\u001b[43mallow_object\u001b[49m\u001b[38;5;241;43m=\u001b[39;49m\u001b[38;5;28;43;01mTrue\u001b[39;49;00m\u001b[43m,\u001b[49m\n\u001b[0;32m    410\u001b[0m \u001b[43m\u001b[49m\u001b[43m)\u001b[49m\n\u001b[0;32m    412\u001b[0m \u001b[38;5;28;01mif\u001b[39;00m tz_parsed \u001b[38;5;129;01mis\u001b[39;00m \u001b[38;5;129;01mnot\u001b[39;00m \u001b[38;5;28;01mNone\u001b[39;00m:\n\u001b[0;32m    413\u001b[0m     \u001b[38;5;66;03m# We can take a shortcut since the datetime64 numpy array\u001b[39;00m\n\u001b[0;32m    414\u001b[0m     \u001b[38;5;66;03m# is in UTC\u001b[39;00m\n\u001b[0;32m    415\u001b[0m     dta \u001b[38;5;241m=\u001b[39m DatetimeArray(result, dtype\u001b[38;5;241m=\u001b[39mtz_to_dtype(tz_parsed))\n",
      "File \u001b[1;32m~\\AppData\\Roaming\\Python\\Python39\\site-packages\\pandas\\core\\arrays\\datetimes.py:2217\u001b[0m, in \u001b[0;36mobjects_to_datetime64ns\u001b[1;34m(data, dayfirst, yearfirst, utc, errors, require_iso8601, allow_object, allow_mixed)\u001b[0m\n\u001b[0;32m   2215\u001b[0m         \u001b[38;5;28;01mreturn\u001b[39;00m values\u001b[38;5;241m.\u001b[39mview(\u001b[38;5;124m\"\u001b[39m\u001b[38;5;124mi8\u001b[39m\u001b[38;5;124m\"\u001b[39m), tz_parsed\n\u001b[0;32m   2216\u001b[0m     \u001b[38;5;28;01mexcept\u001b[39;00m (\u001b[38;5;167;01mValueError\u001b[39;00m, \u001b[38;5;167;01mTypeError\u001b[39;00m):\n\u001b[1;32m-> 2217\u001b[0m         \u001b[38;5;28;01mraise\u001b[39;00m err\n\u001b[0;32m   2219\u001b[0m \u001b[38;5;28;01mif\u001b[39;00m tz_parsed \u001b[38;5;129;01mis\u001b[39;00m \u001b[38;5;129;01mnot\u001b[39;00m \u001b[38;5;28;01mNone\u001b[39;00m:\n\u001b[0;32m   2220\u001b[0m     \u001b[38;5;66;03m# We can take a shortcut since the datetime64 numpy array\u001b[39;00m\n\u001b[0;32m   2221\u001b[0m     \u001b[38;5;66;03m#  is in UTC\u001b[39;00m\n\u001b[0;32m   2222\u001b[0m     \u001b[38;5;66;03m# Return i8 values to denote unix timestamps\u001b[39;00m\n\u001b[0;32m   2223\u001b[0m     \u001b[38;5;28;01mreturn\u001b[39;00m result\u001b[38;5;241m.\u001b[39mview(\u001b[38;5;124m\"\u001b[39m\u001b[38;5;124mi8\u001b[39m\u001b[38;5;124m\"\u001b[39m), tz_parsed\n",
      "File \u001b[1;32m~\\AppData\\Roaming\\Python\\Python39\\site-packages\\pandas\\core\\arrays\\datetimes.py:2199\u001b[0m, in \u001b[0;36mobjects_to_datetime64ns\u001b[1;34m(data, dayfirst, yearfirst, utc, errors, require_iso8601, allow_object, allow_mixed)\u001b[0m\n\u001b[0;32m   2197\u001b[0m order: Literal[\u001b[38;5;124m\"\u001b[39m\u001b[38;5;124mF\u001b[39m\u001b[38;5;124m\"\u001b[39m, \u001b[38;5;124m\"\u001b[39m\u001b[38;5;124mC\u001b[39m\u001b[38;5;124m\"\u001b[39m] \u001b[38;5;241m=\u001b[39m \u001b[38;5;124m\"\u001b[39m\u001b[38;5;124mF\u001b[39m\u001b[38;5;124m\"\u001b[39m \u001b[38;5;28;01mif\u001b[39;00m flags\u001b[38;5;241m.\u001b[39mf_contiguous \u001b[38;5;28;01melse\u001b[39;00m \u001b[38;5;124m\"\u001b[39m\u001b[38;5;124mC\u001b[39m\u001b[38;5;124m\"\u001b[39m\n\u001b[0;32m   2198\u001b[0m \u001b[38;5;28;01mtry\u001b[39;00m:\n\u001b[1;32m-> 2199\u001b[0m     result, tz_parsed \u001b[38;5;241m=\u001b[39m \u001b[43mtslib\u001b[49m\u001b[38;5;241;43m.\u001b[39;49m\u001b[43marray_to_datetime\u001b[49m\u001b[43m(\u001b[49m\n\u001b[0;32m   2200\u001b[0m \u001b[43m        \u001b[49m\u001b[43mdata\u001b[49m\u001b[38;5;241;43m.\u001b[39;49m\u001b[43mravel\u001b[49m\u001b[43m(\u001b[49m\u001b[38;5;124;43m\"\u001b[39;49m\u001b[38;5;124;43mK\u001b[39;49m\u001b[38;5;124;43m\"\u001b[39;49m\u001b[43m)\u001b[49m\u001b[43m,\u001b[49m\n\u001b[0;32m   2201\u001b[0m \u001b[43m        \u001b[49m\u001b[43merrors\u001b[49m\u001b[38;5;241;43m=\u001b[39;49m\u001b[43merrors\u001b[49m\u001b[43m,\u001b[49m\n\u001b[0;32m   2202\u001b[0m \u001b[43m        \u001b[49m\u001b[43mutc\u001b[49m\u001b[38;5;241;43m=\u001b[39;49m\u001b[43mutc\u001b[49m\u001b[43m,\u001b[49m\n\u001b[0;32m   2203\u001b[0m \u001b[43m        \u001b[49m\u001b[43mdayfirst\u001b[49m\u001b[38;5;241;43m=\u001b[39;49m\u001b[43mdayfirst\u001b[49m\u001b[43m,\u001b[49m\n\u001b[0;32m   2204\u001b[0m \u001b[43m        \u001b[49m\u001b[43myearfirst\u001b[49m\u001b[38;5;241;43m=\u001b[39;49m\u001b[43myearfirst\u001b[49m\u001b[43m,\u001b[49m\n\u001b[0;32m   2205\u001b[0m \u001b[43m        \u001b[49m\u001b[43mrequire_iso8601\u001b[49m\u001b[38;5;241;43m=\u001b[39;49m\u001b[43mrequire_iso8601\u001b[49m\u001b[43m,\u001b[49m\n\u001b[0;32m   2206\u001b[0m \u001b[43m        \u001b[49m\u001b[43mallow_mixed\u001b[49m\u001b[38;5;241;43m=\u001b[39;49m\u001b[43mallow_mixed\u001b[49m\u001b[43m,\u001b[49m\n\u001b[0;32m   2207\u001b[0m \u001b[43m    \u001b[49m\u001b[43m)\u001b[49m\n\u001b[0;32m   2208\u001b[0m     result \u001b[38;5;241m=\u001b[39m result\u001b[38;5;241m.\u001b[39mreshape(data\u001b[38;5;241m.\u001b[39mshape, order\u001b[38;5;241m=\u001b[39morder)\n\u001b[0;32m   2209\u001b[0m \u001b[38;5;28;01mexcept\u001b[39;00m \u001b[38;5;167;01mValueError\u001b[39;00m \u001b[38;5;28;01mas\u001b[39;00m err:\n",
      "File \u001b[1;32m~\\AppData\\Roaming\\Python\\Python39\\site-packages\\pandas\\_libs\\tslib.pyx:381\u001b[0m, in \u001b[0;36mpandas._libs.tslib.array_to_datetime\u001b[1;34m()\u001b[0m\n",
      "File \u001b[1;32m~\\AppData\\Roaming\\Python\\Python39\\site-packages\\pandas\\_libs\\tslib.pyx:613\u001b[0m, in \u001b[0;36mpandas._libs.tslib.array_to_datetime\u001b[1;34m()\u001b[0m\n",
      "File \u001b[1;32m~\\AppData\\Roaming\\Python\\Python39\\site-packages\\pandas\\_libs\\tslib.pyx:751\u001b[0m, in \u001b[0;36mpandas._libs.tslib._array_to_datetime_object\u001b[1;34m()\u001b[0m\n",
      "File \u001b[1;32m~\\AppData\\Roaming\\Python\\Python39\\site-packages\\pandas\\_libs\\tslib.pyx:742\u001b[0m, in \u001b[0;36mpandas._libs.tslib._array_to_datetime_object\u001b[1;34m()\u001b[0m\n",
      "File \u001b[1;32m~\\AppData\\Roaming\\Python\\Python39\\site-packages\\pandas\\_libs\\tslibs\\parsing.pyx:268\u001b[0m, in \u001b[0;36mpandas._libs.tslibs.parsing.parse_datetime_string\u001b[1;34m()\u001b[0m\n",
      "File \u001b[1;32m~\\AppData\\Roaming\\Python\\Python39\\site-packages\\pandas\\_libs\\tslibs\\parsing.pyx:205\u001b[0m, in \u001b[0;36mpandas._libs.tslibs.parsing._parse_delimited_date\u001b[1;34m()\u001b[0m\n",
      "\u001b[1;31mDateParseError\u001b[0m: Invalid date specified (32/6)"
     ]
    }
   ],
   "source": [
    "pd.to_datetime(df_dates['dates'], dayfirst=True).dt.day_name()"
   ]
  },
  {
   "cell_type": "markdown",
   "id": "fea27a27-6f31-44fb-8220-3bde65b3a934",
   "metadata": {},
   "source": [
    "Нет, не допускает некорректных дат."
   ]
  },
  {
   "cell_type": "markdown",
   "id": "ec5f5712-5526-4ebf-92bc-f078d10971d3",
   "metadata": {},
   "source": [
    "Отфильтруем данные и поймём, сколько в среднем брали велосипедов в воскресенье:"
   ]
  },
  {
   "cell_type": "code",
   "execution_count": 15,
   "id": "23c31bb3-6054-4292-ad57-28b4046ae0a6",
   "metadata": {},
   "outputs": [
    {
     "data": {
      "text/plain": [
       "0       False\n",
       "1       False\n",
       "2       False\n",
       "3       False\n",
       "4       False\n",
       "        ...  \n",
       "8755    False\n",
       "8756    False\n",
       "8757    False\n",
       "8758    False\n",
       "8759    False\n",
       "Name: Date, Length: 8760, dtype: bool"
      ]
     },
     "execution_count": 15,
     "metadata": {},
     "output_type": "execute_result"
    }
   ],
   "source": [
    "bikes['Date'].dt.day_name() == 'Sunday'"
   ]
  },
  {
   "cell_type": "code",
   "execution_count": 16,
   "id": "214d47fb-3170-4faf-9bd0-73c730575910",
   "metadata": {},
   "outputs": [
    {
     "data": {
      "text/plain": [
       "1248"
      ]
     },
     "execution_count": 16,
     "metadata": {},
     "output_type": "execute_result"
    }
   ],
   "source": [
    "(bikes['Date'].dt.day_name() == 'Sunday').sum()"
   ]
  },
  {
   "cell_type": "code",
   "execution_count": 17,
   "id": "025bb339-0bb9-48ad-ba6c-22dcb04a377d",
   "metadata": {},
   "outputs": [
    {
     "data": {
      "text/plain": [
       "52.0"
      ]
     },
     "execution_count": 17,
     "metadata": {},
     "output_type": "execute_result"
    }
   ],
   "source": [
    "1248 / 24"
   ]
  },
  {
   "cell_type": "code",
   "execution_count": 26,
   "id": "9ff3e9f3-92de-463f-b641-bde58b4d1f60",
   "metadata": {
    "collapsed": true,
    "jupyter": {
     "outputs_hidden": true
    },
    "tags": []
   },
   "outputs": [
    {
     "data": {
      "text/html": [
       "<div>\n",
       "<style scoped>\n",
       "    .dataframe tbody tr th:only-of-type {\n",
       "        vertical-align: middle;\n",
       "    }\n",
       "\n",
       "    .dataframe tbody tr th {\n",
       "        vertical-align: top;\n",
       "    }\n",
       "\n",
       "    .dataframe thead th {\n",
       "        text-align: right;\n",
       "    }\n",
       "</style>\n",
       "<table border=\"1\" class=\"dataframe\">\n",
       "  <thead>\n",
       "    <tr style=\"text-align: right;\">\n",
       "      <th></th>\n",
       "      <th>Date</th>\n",
       "      <th>Hour</th>\n",
       "      <th>Temperature</th>\n",
       "      <th>Humidity</th>\n",
       "      <th>Wind speed</th>\n",
       "      <th>Rainfall</th>\n",
       "      <th>Snowfall</th>\n",
       "      <th>Seasons</th>\n",
       "      <th>Holiday</th>\n",
       "      <th>Functioning Day</th>\n",
       "      <th>Partner 1</th>\n",
       "      <th>Partner 2</th>\n",
       "      <th>Rental Count</th>\n",
       "    </tr>\n",
       "  </thead>\n",
       "  <tbody>\n",
       "    <tr>\n",
       "      <th>48</th>\n",
       "      <td>2017-12-03</td>\n",
       "      <td>0</td>\n",
       "      <td>4.0</td>\n",
       "      <td>58</td>\n",
       "      <td>1.4</td>\n",
       "      <td>0.0</td>\n",
       "      <td>0.0</td>\n",
       "      <td>Winter</td>\n",
       "      <td>No Holiday</td>\n",
       "      <td>Yes</td>\n",
       "      <td>208</td>\n",
       "      <td>69</td>\n",
       "      <td>277</td>\n",
       "    </tr>\n",
       "    <tr>\n",
       "      <th>49</th>\n",
       "      <td>2017-12-03</td>\n",
       "      <td>1</td>\n",
       "      <td>3.9</td>\n",
       "      <td>69</td>\n",
       "      <td>1.7</td>\n",
       "      <td>0.0</td>\n",
       "      <td>0.0</td>\n",
       "      <td>Winter</td>\n",
       "      <td>No Holiday</td>\n",
       "      <td>Yes</td>\n",
       "      <td>100</td>\n",
       "      <td>165</td>\n",
       "      <td>265</td>\n",
       "    </tr>\n",
       "    <tr>\n",
       "      <th>50</th>\n",
       "      <td>2017-12-03</td>\n",
       "      <td>2</td>\n",
       "      <td>NaN</td>\n",
       "      <td>79</td>\n",
       "      <td>1.4</td>\n",
       "      <td>0.0</td>\n",
       "      <td>0.0</td>\n",
       "      <td>Winter</td>\n",
       "      <td>No Holiday</td>\n",
       "      <td>Yes</td>\n",
       "      <td>208</td>\n",
       "      <td>54</td>\n",
       "      <td>262</td>\n",
       "    </tr>\n",
       "    <tr>\n",
       "      <th>51</th>\n",
       "      <td>2017-12-03</td>\n",
       "      <td>3</td>\n",
       "      <td>3.4</td>\n",
       "      <td>71</td>\n",
       "      <td>1.6</td>\n",
       "      <td>0.5</td>\n",
       "      <td>0.0</td>\n",
       "      <td>Winter</td>\n",
       "      <td>No Holiday</td>\n",
       "      <td>Yes</td>\n",
       "      <td>39</td>\n",
       "      <td>39</td>\n",
       "      <td>78</td>\n",
       "    </tr>\n",
       "    <tr>\n",
       "      <th>52</th>\n",
       "      <td>2017-12-03</td>\n",
       "      <td>4</td>\n",
       "      <td>3.5</td>\n",
       "      <td>73</td>\n",
       "      <td>1.0</td>\n",
       "      <td>0.0</td>\n",
       "      <td>0.0</td>\n",
       "      <td>Winter</td>\n",
       "      <td>No Holiday</td>\n",
       "      <td>Yes</td>\n",
       "      <td>74</td>\n",
       "      <td>21</td>\n",
       "      <td>95</td>\n",
       "    </tr>\n",
       "    <tr>\n",
       "      <th>...</th>\n",
       "      <td>...</td>\n",
       "      <td>...</td>\n",
       "      <td>...</td>\n",
       "      <td>...</td>\n",
       "      <td>...</td>\n",
       "      <td>...</td>\n",
       "      <td>...</td>\n",
       "      <td>...</td>\n",
       "      <td>...</td>\n",
       "      <td>...</td>\n",
       "      <td>...</td>\n",
       "      <td>...</td>\n",
       "      <td>...</td>\n",
       "    </tr>\n",
       "    <tr>\n",
       "      <th>8635</th>\n",
       "      <td>2018-11-25</td>\n",
       "      <td>19</td>\n",
       "      <td>6.3</td>\n",
       "      <td>73</td>\n",
       "      <td>1.1</td>\n",
       "      <td>0.0</td>\n",
       "      <td>0.4</td>\n",
       "      <td>Autumn</td>\n",
       "      <td>No Holiday</td>\n",
       "      <td>Yes</td>\n",
       "      <td>317</td>\n",
       "      <td>271</td>\n",
       "      <td>588</td>\n",
       "    </tr>\n",
       "    <tr>\n",
       "      <th>8636</th>\n",
       "      <td>2018-11-25</td>\n",
       "      <td>20</td>\n",
       "      <td>5.5</td>\n",
       "      <td>77</td>\n",
       "      <td>0.7</td>\n",
       "      <td>0.0</td>\n",
       "      <td>0.4</td>\n",
       "      <td>Autumn</td>\n",
       "      <td>No Holiday</td>\n",
       "      <td>Yes</td>\n",
       "      <td>252</td>\n",
       "      <td>105</td>\n",
       "      <td>357</td>\n",
       "    </tr>\n",
       "    <tr>\n",
       "      <th>8637</th>\n",
       "      <td>2018-11-25</td>\n",
       "      <td>21</td>\n",
       "      <td>4.7</td>\n",
       "      <td>81</td>\n",
       "      <td>1.0</td>\n",
       "      <td>0.0</td>\n",
       "      <td>0.4</td>\n",
       "      <td>Autumn</td>\n",
       "      <td>No Holiday</td>\n",
       "      <td>Yes</td>\n",
       "      <td>114</td>\n",
       "      <td>305</td>\n",
       "      <td>419</td>\n",
       "    </tr>\n",
       "    <tr>\n",
       "      <th>8638</th>\n",
       "      <td>2018-11-25</td>\n",
       "      <td>22</td>\n",
       "      <td>4.2</td>\n",
       "      <td>82</td>\n",
       "      <td>0.9</td>\n",
       "      <td>0.0</td>\n",
       "      <td>0.4</td>\n",
       "      <td>Autumn</td>\n",
       "      <td>No Holiday</td>\n",
       "      <td>Yes</td>\n",
       "      <td>283</td>\n",
       "      <td>405</td>\n",
       "      <td>688</td>\n",
       "    </tr>\n",
       "    <tr>\n",
       "      <th>8639</th>\n",
       "      <td>2018-11-25</td>\n",
       "      <td>23</td>\n",
       "      <td>3.8</td>\n",
       "      <td>83</td>\n",
       "      <td>1.1</td>\n",
       "      <td>0.0</td>\n",
       "      <td>0.4</td>\n",
       "      <td>Autumn</td>\n",
       "      <td>No Holiday</td>\n",
       "      <td>Yes</td>\n",
       "      <td>167</td>\n",
       "      <td>51</td>\n",
       "      <td>218</td>\n",
       "    </tr>\n",
       "  </tbody>\n",
       "</table>\n",
       "<p>1248 rows × 13 columns</p>\n",
       "</div>"
      ],
      "text/plain": [
       "           Date  Hour  Temperature  Humidity  Wind speed  Rainfall  Snowfall  \\\n",
       "48   2017-12-03     0          4.0        58         1.4       0.0       0.0   \n",
       "49   2017-12-03     1          3.9        69         1.7       0.0       0.0   \n",
       "50   2017-12-03     2          NaN        79         1.4       0.0       0.0   \n",
       "51   2017-12-03     3          3.4        71         1.6       0.5       0.0   \n",
       "52   2017-12-03     4          3.5        73         1.0       0.0       0.0   \n",
       "...         ...   ...          ...       ...         ...       ...       ...   \n",
       "8635 2018-11-25    19          6.3        73         1.1       0.0       0.4   \n",
       "8636 2018-11-25    20          5.5        77         0.7       0.0       0.4   \n",
       "8637 2018-11-25    21          4.7        81         1.0       0.0       0.4   \n",
       "8638 2018-11-25    22          4.2        82         0.9       0.0       0.4   \n",
       "8639 2018-11-25    23          3.8        83         1.1       0.0       0.4   \n",
       "\n",
       "     Seasons     Holiday Functioning Day  Partner 1  Partner 2  Rental Count  \n",
       "48    Winter  No Holiday             Yes        208         69           277  \n",
       "49    Winter  No Holiday             Yes        100        165           265  \n",
       "50    Winter  No Holiday             Yes        208         54           262  \n",
       "51    Winter  No Holiday             Yes         39         39            78  \n",
       "52    Winter  No Holiday             Yes         74         21            95  \n",
       "...      ...         ...             ...        ...        ...           ...  \n",
       "8635  Autumn  No Holiday             Yes        317        271           588  \n",
       "8636  Autumn  No Holiday             Yes        252        105           357  \n",
       "8637  Autumn  No Holiday             Yes        114        305           419  \n",
       "8638  Autumn  No Holiday             Yes        283        405           688  \n",
       "8639  Autumn  No Holiday             Yes        167         51           218  \n",
       "\n",
       "[1248 rows x 13 columns]"
      ]
     },
     "execution_count": 26,
     "metadata": {},
     "output_type": "execute_result"
    }
   ],
   "source": [
    "bikes[bikes['Date'].dt.day_name() == 'Sunday']"
   ]
  },
  {
   "cell_type": "code",
   "execution_count": 25,
   "id": "e8d843c6-796a-41e3-a0d1-d6d8afbeca5c",
   "metadata": {},
   "outputs": [],
   "source": [
    "filter_condition = bikes['Date'].dt.day_name() == 'Sunday'"
   ]
  },
  {
   "cell_type": "code",
   "execution_count": 27,
   "id": "23fa9f87-4a63-4533-a89e-854181f5736f",
   "metadata": {},
   "outputs": [
    {
     "data": {
      "text/html": [
       "<div>\n",
       "<style scoped>\n",
       "    .dataframe tbody tr th:only-of-type {\n",
       "        vertical-align: middle;\n",
       "    }\n",
       "\n",
       "    .dataframe tbody tr th {\n",
       "        vertical-align: top;\n",
       "    }\n",
       "\n",
       "    .dataframe thead th {\n",
       "        text-align: right;\n",
       "    }\n",
       "</style>\n",
       "<table border=\"1\" class=\"dataframe\">\n",
       "  <thead>\n",
       "    <tr style=\"text-align: right;\">\n",
       "      <th></th>\n",
       "      <th>Date</th>\n",
       "      <th>Hour</th>\n",
       "      <th>Temperature</th>\n",
       "      <th>Humidity</th>\n",
       "      <th>Wind speed</th>\n",
       "      <th>Rainfall</th>\n",
       "      <th>Snowfall</th>\n",
       "      <th>Seasons</th>\n",
       "      <th>Holiday</th>\n",
       "      <th>Functioning Day</th>\n",
       "      <th>Partner 1</th>\n",
       "      <th>Partner 2</th>\n",
       "      <th>Rental Count</th>\n",
       "    </tr>\n",
       "  </thead>\n",
       "  <tbody>\n",
       "    <tr>\n",
       "      <th>48</th>\n",
       "      <td>2017-12-03</td>\n",
       "      <td>0</td>\n",
       "      <td>4.0</td>\n",
       "      <td>58</td>\n",
       "      <td>1.4</td>\n",
       "      <td>0.0</td>\n",
       "      <td>0.0</td>\n",
       "      <td>Winter</td>\n",
       "      <td>No Holiday</td>\n",
       "      <td>Yes</td>\n",
       "      <td>208</td>\n",
       "      <td>69</td>\n",
       "      <td>277</td>\n",
       "    </tr>\n",
       "    <tr>\n",
       "      <th>49</th>\n",
       "      <td>2017-12-03</td>\n",
       "      <td>1</td>\n",
       "      <td>3.9</td>\n",
       "      <td>69</td>\n",
       "      <td>1.7</td>\n",
       "      <td>0.0</td>\n",
       "      <td>0.0</td>\n",
       "      <td>Winter</td>\n",
       "      <td>No Holiday</td>\n",
       "      <td>Yes</td>\n",
       "      <td>100</td>\n",
       "      <td>165</td>\n",
       "      <td>265</td>\n",
       "    </tr>\n",
       "    <tr>\n",
       "      <th>50</th>\n",
       "      <td>2017-12-03</td>\n",
       "      <td>2</td>\n",
       "      <td>NaN</td>\n",
       "      <td>79</td>\n",
       "      <td>1.4</td>\n",
       "      <td>0.0</td>\n",
       "      <td>0.0</td>\n",
       "      <td>Winter</td>\n",
       "      <td>No Holiday</td>\n",
       "      <td>Yes</td>\n",
       "      <td>208</td>\n",
       "      <td>54</td>\n",
       "      <td>262</td>\n",
       "    </tr>\n",
       "    <tr>\n",
       "      <th>51</th>\n",
       "      <td>2017-12-03</td>\n",
       "      <td>3</td>\n",
       "      <td>3.4</td>\n",
       "      <td>71</td>\n",
       "      <td>1.6</td>\n",
       "      <td>0.5</td>\n",
       "      <td>0.0</td>\n",
       "      <td>Winter</td>\n",
       "      <td>No Holiday</td>\n",
       "      <td>Yes</td>\n",
       "      <td>39</td>\n",
       "      <td>39</td>\n",
       "      <td>78</td>\n",
       "    </tr>\n",
       "    <tr>\n",
       "      <th>52</th>\n",
       "      <td>2017-12-03</td>\n",
       "      <td>4</td>\n",
       "      <td>3.5</td>\n",
       "      <td>73</td>\n",
       "      <td>1.0</td>\n",
       "      <td>0.0</td>\n",
       "      <td>0.0</td>\n",
       "      <td>Winter</td>\n",
       "      <td>No Holiday</td>\n",
       "      <td>Yes</td>\n",
       "      <td>74</td>\n",
       "      <td>21</td>\n",
       "      <td>95</td>\n",
       "    </tr>\n",
       "    <tr>\n",
       "      <th>...</th>\n",
       "      <td>...</td>\n",
       "      <td>...</td>\n",
       "      <td>...</td>\n",
       "      <td>...</td>\n",
       "      <td>...</td>\n",
       "      <td>...</td>\n",
       "      <td>...</td>\n",
       "      <td>...</td>\n",
       "      <td>...</td>\n",
       "      <td>...</td>\n",
       "      <td>...</td>\n",
       "      <td>...</td>\n",
       "      <td>...</td>\n",
       "    </tr>\n",
       "    <tr>\n",
       "      <th>8635</th>\n",
       "      <td>2018-11-25</td>\n",
       "      <td>19</td>\n",
       "      <td>6.3</td>\n",
       "      <td>73</td>\n",
       "      <td>1.1</td>\n",
       "      <td>0.0</td>\n",
       "      <td>0.4</td>\n",
       "      <td>Autumn</td>\n",
       "      <td>No Holiday</td>\n",
       "      <td>Yes</td>\n",
       "      <td>317</td>\n",
       "      <td>271</td>\n",
       "      <td>588</td>\n",
       "    </tr>\n",
       "    <tr>\n",
       "      <th>8636</th>\n",
       "      <td>2018-11-25</td>\n",
       "      <td>20</td>\n",
       "      <td>5.5</td>\n",
       "      <td>77</td>\n",
       "      <td>0.7</td>\n",
       "      <td>0.0</td>\n",
       "      <td>0.4</td>\n",
       "      <td>Autumn</td>\n",
       "      <td>No Holiday</td>\n",
       "      <td>Yes</td>\n",
       "      <td>252</td>\n",
       "      <td>105</td>\n",
       "      <td>357</td>\n",
       "    </tr>\n",
       "    <tr>\n",
       "      <th>8637</th>\n",
       "      <td>2018-11-25</td>\n",
       "      <td>21</td>\n",
       "      <td>4.7</td>\n",
       "      <td>81</td>\n",
       "      <td>1.0</td>\n",
       "      <td>0.0</td>\n",
       "      <td>0.4</td>\n",
       "      <td>Autumn</td>\n",
       "      <td>No Holiday</td>\n",
       "      <td>Yes</td>\n",
       "      <td>114</td>\n",
       "      <td>305</td>\n",
       "      <td>419</td>\n",
       "    </tr>\n",
       "    <tr>\n",
       "      <th>8638</th>\n",
       "      <td>2018-11-25</td>\n",
       "      <td>22</td>\n",
       "      <td>4.2</td>\n",
       "      <td>82</td>\n",
       "      <td>0.9</td>\n",
       "      <td>0.0</td>\n",
       "      <td>0.4</td>\n",
       "      <td>Autumn</td>\n",
       "      <td>No Holiday</td>\n",
       "      <td>Yes</td>\n",
       "      <td>283</td>\n",
       "      <td>405</td>\n",
       "      <td>688</td>\n",
       "    </tr>\n",
       "    <tr>\n",
       "      <th>8639</th>\n",
       "      <td>2018-11-25</td>\n",
       "      <td>23</td>\n",
       "      <td>3.8</td>\n",
       "      <td>83</td>\n",
       "      <td>1.1</td>\n",
       "      <td>0.0</td>\n",
       "      <td>0.4</td>\n",
       "      <td>Autumn</td>\n",
       "      <td>No Holiday</td>\n",
       "      <td>Yes</td>\n",
       "      <td>167</td>\n",
       "      <td>51</td>\n",
       "      <td>218</td>\n",
       "    </tr>\n",
       "  </tbody>\n",
       "</table>\n",
       "<p>1248 rows × 13 columns</p>\n",
       "</div>"
      ],
      "text/plain": [
       "           Date  Hour  Temperature  Humidity  Wind speed  Rainfall  Snowfall  \\\n",
       "48   2017-12-03     0          4.0        58         1.4       0.0       0.0   \n",
       "49   2017-12-03     1          3.9        69         1.7       0.0       0.0   \n",
       "50   2017-12-03     2          NaN        79         1.4       0.0       0.0   \n",
       "51   2017-12-03     3          3.4        71         1.6       0.5       0.0   \n",
       "52   2017-12-03     4          3.5        73         1.0       0.0       0.0   \n",
       "...         ...   ...          ...       ...         ...       ...       ...   \n",
       "8635 2018-11-25    19          6.3        73         1.1       0.0       0.4   \n",
       "8636 2018-11-25    20          5.5        77         0.7       0.0       0.4   \n",
       "8637 2018-11-25    21          4.7        81         1.0       0.0       0.4   \n",
       "8638 2018-11-25    22          4.2        82         0.9       0.0       0.4   \n",
       "8639 2018-11-25    23          3.8        83         1.1       0.0       0.4   \n",
       "\n",
       "     Seasons     Holiday Functioning Day  Partner 1  Partner 2  Rental Count  \n",
       "48    Winter  No Holiday             Yes        208         69           277  \n",
       "49    Winter  No Holiday             Yes        100        165           265  \n",
       "50    Winter  No Holiday             Yes        208         54           262  \n",
       "51    Winter  No Holiday             Yes         39         39            78  \n",
       "52    Winter  No Holiday             Yes         74         21            95  \n",
       "...      ...         ...             ...        ...        ...           ...  \n",
       "8635  Autumn  No Holiday             Yes        317        271           588  \n",
       "8636  Autumn  No Holiday             Yes        252        105           357  \n",
       "8637  Autumn  No Holiday             Yes        114        305           419  \n",
       "8638  Autumn  No Holiday             Yes        283        405           688  \n",
       "8639  Autumn  No Holiday             Yes        167         51           218  \n",
       "\n",
       "[1248 rows x 13 columns]"
      ]
     },
     "execution_count": 27,
     "metadata": {},
     "output_type": "execute_result"
    }
   ],
   "source": [
    "bikes[filter_condition]"
   ]
  },
  {
   "cell_type": "code",
   "execution_count": 28,
   "id": "17408334-8894-4ab1-b1c9-520184ab77bc",
   "metadata": {},
   "outputs": [
    {
     "data": {
      "text/plain": [
       "623.9647435897435"
      ]
     },
     "execution_count": 28,
     "metadata": {},
     "output_type": "execute_result"
    }
   ],
   "source": [
    "bikes[bikes['Date'].dt.day_name() == 'Sunday']['Rental Count'].mean()"
   ]
  },
  {
   "cell_type": "markdown",
   "id": "a6af6ca0-8672-47f5-8810-ddc6c085f5a1",
   "metadata": {},
   "source": [
    "Сколько в среднем берут велосипедов в час в какой день недели?"
   ]
  },
  {
   "cell_type": "code",
   "execution_count": 142,
   "id": "e846a03e-caf1-4b03-aff9-ee4d50e1ca0a",
   "metadata": {},
   "outputs": [
    {
     "name": "stdout",
     "output_type": "stream",
     "text": [
      "Monday: 720.7219551282051\n",
      "Friday: 745.1517295597484\n",
      "Saturday: 706.8357371794872\n"
     ]
    }
   ],
   "source": [
    "# ваш код\n",
    "print(\"Monday:\", bikes[bikes['Date'].dt.day_name() == 'Monday']['Rental Count'].mean())\n",
    "print(\"Friday:\", bikes[bikes['Date'].dt.day_name() == 'Friday']['Rental Count'].mean())\n",
    "print(\"Saturday:\", bikes[bikes['Date'].dt.day_name() == 'Saturday']['Rental Count'].mean())\n"
   ]
  },
  {
   "cell_type": "markdown",
   "id": "c3e179cd-f668-4181-980f-f74067a925a8",
   "metadata": {},
   "source": [
    "Пусть `'Functioning Day'` будет `True` / `False`"
   ]
  },
  {
   "cell_type": "code",
   "execution_count": 31,
   "id": "fcd7fb54-20f3-486b-af2d-912926114f83",
   "metadata": {},
   "outputs": [
    {
     "data": {
      "text/plain": [
       "(295, 13)"
      ]
     },
     "execution_count": 31,
     "metadata": {},
     "output_type": "execute_result"
    }
   ],
   "source": [
    "bikes[bikes['Functioning Day'] == 'No'].shape"
   ]
  },
  {
   "cell_type": "code",
   "execution_count": 32,
   "id": "9188c5f9-ab1c-4b95-bdee-440c0cada9a9",
   "metadata": {},
   "outputs": [
    {
     "data": {
      "text/plain": [
       "array(['Yes', 'No'], dtype=object)"
      ]
     },
     "execution_count": 32,
     "metadata": {},
     "output_type": "execute_result"
    }
   ],
   "source": [
    "bikes['Functioning Day'].unique()"
   ]
  },
  {
   "cell_type": "markdown",
   "id": "6d912a07-39f5-48b8-881b-062724b4e764",
   "metadata": {},
   "source": [
    "Чтобы `Yes` стало `True`, а всё остальное (по сути лишь `No`) стало False, можно просто сделать условие `== \"Yes\"`:"
   ]
  },
  {
   "cell_type": "code",
   "execution_count": 34,
   "id": "7defadcd-12ac-4942-8206-a29e46093dd7",
   "metadata": {},
   "outputs": [],
   "source": [
    "bikes['Functioning Day'] = (bikes['Functioning Day'] == 'Yes')"
   ]
  },
  {
   "cell_type": "code",
   "execution_count": 35,
   "id": "b17c5bfc-d015-4dc9-8e5e-3132ba6b0080",
   "metadata": {},
   "outputs": [
    {
     "data": {
      "text/plain": [
       "0       True\n",
       "1       True\n",
       "2       True\n",
       "3       True\n",
       "4       True\n",
       "        ... \n",
       "8755    True\n",
       "8756    True\n",
       "8757    True\n",
       "8758    True\n",
       "8759    True\n",
       "Name: Functioning Day, Length: 8760, dtype: bool"
      ]
     },
     "execution_count": 35,
     "metadata": {},
     "output_type": "execute_result"
    }
   ],
   "source": [
    "bikes[\"Functioning Day\"]"
   ]
  },
  {
   "cell_type": "markdown",
   "id": "a369cb48-ff25-43b0-96dd-e35fbb2db64f",
   "metadata": {},
   "source": [
    "Количество рабочих дней:"
   ]
  },
  {
   "cell_type": "code",
   "execution_count": 36,
   "id": "54bdcb5e-3815-4aa7-b959-5a58d0cfbac5",
   "metadata": {},
   "outputs": [
    {
     "data": {
      "text/plain": [
       "8465"
      ]
     },
     "execution_count": 36,
     "metadata": {},
     "output_type": "execute_result"
    }
   ],
   "source": [
    "bikes[\"Functioning Day\"].sum()"
   ]
  },
  {
   "cell_type": "markdown",
   "id": "2416b4fd-8788-4f01-9bf6-d38e4753a964",
   "metadata": {},
   "source": [
    "Доля рабочих дней:"
   ]
  },
  {
   "cell_type": "code",
   "execution_count": 37,
   "id": "c4030528-5be5-4b48-8d39-44ea0ef38f8b",
   "metadata": {},
   "outputs": [
    {
     "data": {
      "text/plain": [
       "0.966324200913242"
      ]
     },
     "execution_count": 37,
     "metadata": {},
     "output_type": "execute_result"
    }
   ],
   "source": [
    "bikes[\"Functioning Day\"].mean()"
   ]
  },
  {
   "cell_type": "markdown",
   "id": "3f41bf3b-4cc0-4606-9b79-edbc7b1bd88a",
   "metadata": {},
   "source": [
    "Доля и количество могут быть так посчитаны только потому, что колонка содержит лишь `True` (1) и `False` (0). "
   ]
  },
  {
   "cell_type": "code",
   "execution_count": 36,
   "id": "6be6c919-16f8-4d5b-a6d5-d423bbf9bd82",
   "metadata": {},
   "outputs": [
    {
     "data": {
      "text/plain": [
       "0       True\n",
       "1       True\n",
       "2       True\n",
       "3       True\n",
       "4       True\n",
       "        ... \n",
       "8755    True\n",
       "8756    True\n",
       "8757    True\n",
       "8758    True\n",
       "8759    True\n",
       "Name: Functioning Day, Length: 8760, dtype: bool"
      ]
     },
     "execution_count": 36,
     "metadata": {},
     "output_type": "execute_result"
    }
   ],
   "source": [
    "bikes[\"Functioning Day\"]"
   ]
  },
  {
   "cell_type": "markdown",
   "id": "fa1966e5-68e0-493d-84cd-687f9876360b",
   "metadata": {},
   "source": [
    "Количество, наоборот, нерабочих дней, можно посчитать с отрицанием: "
   ]
  },
  {
   "cell_type": "code",
   "execution_count": 38,
   "id": "6683b6df-a9c9-4777-8b8b-1d58b54b6320",
   "metadata": {},
   "outputs": [
    {
     "data": {
      "text/plain": [
       "295"
      ]
     },
     "execution_count": 38,
     "metadata": {},
     "output_type": "execute_result"
    }
   ],
   "source": [
    "(~bikes[\"Functioning Day\"]).sum()"
   ]
  },
  {
   "cell_type": "markdown",
   "id": "75ea6bef-b96e-40fb-8c9e-40b556d37ebb",
   "metadata": {},
   "source": [
    "или вычтя из общего количество рабочих:"
   ]
  },
  {
   "cell_type": "code",
   "execution_count": 39,
   "id": "a8a6120d-cb70-4af4-9e9d-d868e77cf9fb",
   "metadata": {},
   "outputs": [
    {
     "data": {
      "text/plain": [
       "295"
      ]
     },
     "execution_count": 39,
     "metadata": {},
     "output_type": "execute_result"
    }
   ],
   "source": [
    "len(bikes) - bikes[\"Functioning Day\"].sum()"
   ]
  },
  {
   "cell_type": "markdown",
   "id": "2c682d50-0e7b-4fff-ae18-d1eeac9dc71b",
   "metadata": {},
   "source": [
    "----\n",
    "\n",
    "То же сделаем с переменной `Holiday` &mdash; праздничный день или нет:"
   ]
  },
  {
   "cell_type": "code",
   "execution_count": 55,
   "id": "8c1fcfa1-67da-4a88-80f7-699d71d774e8",
   "metadata": {},
   "outputs": [
    {
     "data": {
      "text/plain": [
       "array([False])"
      ]
     },
     "execution_count": 55,
     "metadata": {},
     "output_type": "execute_result"
    }
   ],
   "source": [
    "bikes['Holiday'].unique()"
   ]
  },
  {
   "cell_type": "code",
   "execution_count": 46,
   "id": "d89bf8c9-d6e6-426d-8703-677a9290eaae",
   "metadata": {},
   "outputs": [],
   "source": [
    "bikes['Holiday'] = (bikes['Holiday'] == 'Holiday')"
   ]
  },
  {
   "cell_type": "code",
   "execution_count": 47,
   "id": "13015101-6101-4a3d-a3bc-11cedf034063",
   "metadata": {},
   "outputs": [
    {
     "data": {
      "text/html": [
       "<div>\n",
       "<style scoped>\n",
       "    .dataframe tbody tr th:only-of-type {\n",
       "        vertical-align: middle;\n",
       "    }\n",
       "\n",
       "    .dataframe tbody tr th {\n",
       "        vertical-align: top;\n",
       "    }\n",
       "\n",
       "    .dataframe thead th {\n",
       "        text-align: right;\n",
       "    }\n",
       "</style>\n",
       "<table border=\"1\" class=\"dataframe\">\n",
       "  <thead>\n",
       "    <tr style=\"text-align: right;\">\n",
       "      <th></th>\n",
       "      <th>Date</th>\n",
       "      <th>Hour</th>\n",
       "      <th>Temperature</th>\n",
       "      <th>Humidity</th>\n",
       "      <th>Wind speed</th>\n",
       "      <th>Rainfall</th>\n",
       "      <th>Snowfall</th>\n",
       "      <th>Seasons</th>\n",
       "      <th>Holiday</th>\n",
       "      <th>Functioning Day</th>\n",
       "      <th>Partner 1</th>\n",
       "      <th>Partner 2</th>\n",
       "      <th>Rental Count</th>\n",
       "    </tr>\n",
       "  </thead>\n",
       "  <tbody>\n",
       "    <tr>\n",
       "      <th>0</th>\n",
       "      <td>2017-12-01</td>\n",
       "      <td>0</td>\n",
       "      <td>-5.2</td>\n",
       "      <td>37</td>\n",
       "      <td>2.2</td>\n",
       "      <td>0.0</td>\n",
       "      <td>0.0</td>\n",
       "      <td>Winter</td>\n",
       "      <td>False</td>\n",
       "      <td>True</td>\n",
       "      <td>207</td>\n",
       "      <td>50</td>\n",
       "      <td>257</td>\n",
       "    </tr>\n",
       "    <tr>\n",
       "      <th>1</th>\n",
       "      <td>2017-12-01</td>\n",
       "      <td>1</td>\n",
       "      <td>-5.5</td>\n",
       "      <td>38</td>\n",
       "      <td>0.8</td>\n",
       "      <td>0.0</td>\n",
       "      <td>0.0</td>\n",
       "      <td>Winter</td>\n",
       "      <td>False</td>\n",
       "      <td>True</td>\n",
       "      <td>139</td>\n",
       "      <td>80</td>\n",
       "      <td>219</td>\n",
       "    </tr>\n",
       "    <tr>\n",
       "      <th>2</th>\n",
       "      <td>2017-12-01</td>\n",
       "      <td>2</td>\n",
       "      <td>-6.0</td>\n",
       "      <td>39</td>\n",
       "      <td>1.0</td>\n",
       "      <td>0.0</td>\n",
       "      <td>0.0</td>\n",
       "      <td>Winter</td>\n",
       "      <td>False</td>\n",
       "      <td>True</td>\n",
       "      <td>22</td>\n",
       "      <td>140</td>\n",
       "      <td>162</td>\n",
       "    </tr>\n",
       "    <tr>\n",
       "      <th>3</th>\n",
       "      <td>2017-12-01</td>\n",
       "      <td>3</td>\n",
       "      <td>-6.2</td>\n",
       "      <td>40</td>\n",
       "      <td>0.9</td>\n",
       "      <td>0.0</td>\n",
       "      <td>0.0</td>\n",
       "      <td>Winter</td>\n",
       "      <td>False</td>\n",
       "      <td>True</td>\n",
       "      <td>43</td>\n",
       "      <td>105</td>\n",
       "      <td>148</td>\n",
       "    </tr>\n",
       "    <tr>\n",
       "      <th>4</th>\n",
       "      <td>2017-12-01</td>\n",
       "      <td>4</td>\n",
       "      <td>-6.0</td>\n",
       "      <td>36</td>\n",
       "      <td>2.3</td>\n",
       "      <td>0.0</td>\n",
       "      <td>0.0</td>\n",
       "      <td>Winter</td>\n",
       "      <td>False</td>\n",
       "      <td>True</td>\n",
       "      <td>59</td>\n",
       "      <td>38</td>\n",
       "      <td>97</td>\n",
       "    </tr>\n",
       "    <tr>\n",
       "      <th>...</th>\n",
       "      <td>...</td>\n",
       "      <td>...</td>\n",
       "      <td>...</td>\n",
       "      <td>...</td>\n",
       "      <td>...</td>\n",
       "      <td>...</td>\n",
       "      <td>...</td>\n",
       "      <td>...</td>\n",
       "      <td>...</td>\n",
       "      <td>...</td>\n",
       "      <td>...</td>\n",
       "      <td>...</td>\n",
       "      <td>...</td>\n",
       "    </tr>\n",
       "    <tr>\n",
       "      <th>8755</th>\n",
       "      <td>2018-11-30</td>\n",
       "      <td>19</td>\n",
       "      <td>4.2</td>\n",
       "      <td>34</td>\n",
       "      <td>2.6</td>\n",
       "      <td>0.0</td>\n",
       "      <td>0.0</td>\n",
       "      <td>Autumn</td>\n",
       "      <td>False</td>\n",
       "      <td>True</td>\n",
       "      <td>467</td>\n",
       "      <td>177</td>\n",
       "      <td>644</td>\n",
       "    </tr>\n",
       "    <tr>\n",
       "      <th>8756</th>\n",
       "      <td>2018-11-30</td>\n",
       "      <td>20</td>\n",
       "      <td>3.4</td>\n",
       "      <td>37</td>\n",
       "      <td>2.3</td>\n",
       "      <td>0.0</td>\n",
       "      <td>0.0</td>\n",
       "      <td>Autumn</td>\n",
       "      <td>False</td>\n",
       "      <td>True</td>\n",
       "      <td>296</td>\n",
       "      <td>63</td>\n",
       "      <td>359</td>\n",
       "    </tr>\n",
       "    <tr>\n",
       "      <th>8757</th>\n",
       "      <td>2018-11-30</td>\n",
       "      <td>21</td>\n",
       "      <td>2.6</td>\n",
       "      <td>39</td>\n",
       "      <td>0.3</td>\n",
       "      <td>0.0</td>\n",
       "      <td>0.0</td>\n",
       "      <td>Autumn</td>\n",
       "      <td>False</td>\n",
       "      <td>True</td>\n",
       "      <td>571</td>\n",
       "      <td>665</td>\n",
       "      <td>1236</td>\n",
       "    </tr>\n",
       "    <tr>\n",
       "      <th>8758</th>\n",
       "      <td>2018-11-30</td>\n",
       "      <td>22</td>\n",
       "      <td>2.1</td>\n",
       "      <td>41</td>\n",
       "      <td>1.0</td>\n",
       "      <td>0.0</td>\n",
       "      <td>0.0</td>\n",
       "      <td>Autumn</td>\n",
       "      <td>False</td>\n",
       "      <td>True</td>\n",
       "      <td>171</td>\n",
       "      <td>457</td>\n",
       "      <td>628</td>\n",
       "    </tr>\n",
       "    <tr>\n",
       "      <th>8759</th>\n",
       "      <td>2018-11-30</td>\n",
       "      <td>23</td>\n",
       "      <td>1.9</td>\n",
       "      <td>43</td>\n",
       "      <td>1.3</td>\n",
       "      <td>0.0</td>\n",
       "      <td>0.0</td>\n",
       "      <td>Autumn</td>\n",
       "      <td>False</td>\n",
       "      <td>True</td>\n",
       "      <td>442</td>\n",
       "      <td>401</td>\n",
       "      <td>843</td>\n",
       "    </tr>\n",
       "  </tbody>\n",
       "</table>\n",
       "<p>8760 rows × 13 columns</p>\n",
       "</div>"
      ],
      "text/plain": [
       "           Date  Hour  Temperature  Humidity  Wind speed  Rainfall  Snowfall  \\\n",
       "0    2017-12-01     0         -5.2        37         2.2       0.0       0.0   \n",
       "1    2017-12-01     1         -5.5        38         0.8       0.0       0.0   \n",
       "2    2017-12-01     2         -6.0        39         1.0       0.0       0.0   \n",
       "3    2017-12-01     3         -6.2        40         0.9       0.0       0.0   \n",
       "4    2017-12-01     4         -6.0        36         2.3       0.0       0.0   \n",
       "...         ...   ...          ...       ...         ...       ...       ...   \n",
       "8755 2018-11-30    19          4.2        34         2.6       0.0       0.0   \n",
       "8756 2018-11-30    20          3.4        37         2.3       0.0       0.0   \n",
       "8757 2018-11-30    21          2.6        39         0.3       0.0       0.0   \n",
       "8758 2018-11-30    22          2.1        41         1.0       0.0       0.0   \n",
       "8759 2018-11-30    23          1.9        43         1.3       0.0       0.0   \n",
       "\n",
       "     Seasons  Holiday  Functioning Day  Partner 1  Partner 2  Rental Count  \n",
       "0     Winter    False             True        207         50           257  \n",
       "1     Winter    False             True        139         80           219  \n",
       "2     Winter    False             True         22        140           162  \n",
       "3     Winter    False             True         43        105           148  \n",
       "4     Winter    False             True         59         38            97  \n",
       "...      ...      ...              ...        ...        ...           ...  \n",
       "8755  Autumn    False             True        467        177           644  \n",
       "8756  Autumn    False             True        296         63           359  \n",
       "8757  Autumn    False             True        571        665          1236  \n",
       "8758  Autumn    False             True        171        457           628  \n",
       "8759  Autumn    False             True        442        401           843  \n",
       "\n",
       "[8760 rows x 13 columns]"
      ]
     },
     "execution_count": 47,
     "metadata": {},
     "output_type": "execute_result"
    }
   ],
   "source": [
    "bikes"
   ]
  },
  {
   "cell_type": "markdown",
   "id": "6ceba711-165a-4ab4-a7ad-1db70a8355b8",
   "metadata": {},
   "source": [
    "Когда прокаты не работали, велосипеды брали?"
   ]
  },
  {
   "cell_type": "code",
   "execution_count": 39,
   "id": "9b812eb3-5815-4a03-a9d6-9246a5a1636b",
   "metadata": {},
   "outputs": [
    {
     "data": {
      "text/html": [
       "<div>\n",
       "<style scoped>\n",
       "    .dataframe tbody tr th:only-of-type {\n",
       "        vertical-align: middle;\n",
       "    }\n",
       "\n",
       "    .dataframe tbody tr th {\n",
       "        vertical-align: top;\n",
       "    }\n",
       "\n",
       "    .dataframe thead th {\n",
       "        text-align: right;\n",
       "    }\n",
       "</style>\n",
       "<table border=\"1\" class=\"dataframe\">\n",
       "  <thead>\n",
       "    <tr style=\"text-align: right;\">\n",
       "      <th></th>\n",
       "      <th>Date</th>\n",
       "      <th>Hour</th>\n",
       "      <th>Temperature</th>\n",
       "      <th>Humidity</th>\n",
       "      <th>Wind speed</th>\n",
       "      <th>Rainfall</th>\n",
       "      <th>Snowfall</th>\n",
       "      <th>Seasons</th>\n",
       "      <th>Holiday</th>\n",
       "      <th>Functioning Day</th>\n",
       "      <th>Partner 1</th>\n",
       "      <th>Partner 2</th>\n",
       "      <th>Rental Count</th>\n",
       "    </tr>\n",
       "  </thead>\n",
       "  <tbody>\n",
       "    <tr>\n",
       "      <th>3144</th>\n",
       "      <td>2018-04-11</td>\n",
       "      <td>0</td>\n",
       "      <td>14.4</td>\n",
       "      <td>82</td>\n",
       "      <td>4.6</td>\n",
       "      <td>0.0</td>\n",
       "      <td>0.0</td>\n",
       "      <td>Spring</td>\n",
       "      <td>No Holiday</td>\n",
       "      <td>False</td>\n",
       "      <td>0</td>\n",
       "      <td>0</td>\n",
       "      <td>0</td>\n",
       "    </tr>\n",
       "    <tr>\n",
       "      <th>3145</th>\n",
       "      <td>2018-04-11</td>\n",
       "      <td>1</td>\n",
       "      <td>13.6</td>\n",
       "      <td>81</td>\n",
       "      <td>3.6</td>\n",
       "      <td>0.0</td>\n",
       "      <td>0.0</td>\n",
       "      <td>Spring</td>\n",
       "      <td>No Holiday</td>\n",
       "      <td>False</td>\n",
       "      <td>0</td>\n",
       "      <td>0</td>\n",
       "      <td>0</td>\n",
       "    </tr>\n",
       "    <tr>\n",
       "      <th>3146</th>\n",
       "      <td>2018-04-11</td>\n",
       "      <td>2</td>\n",
       "      <td>NaN</td>\n",
       "      <td>80</td>\n",
       "      <td>3.9</td>\n",
       "      <td>0.0</td>\n",
       "      <td>0.0</td>\n",
       "      <td>Spring</td>\n",
       "      <td>No Holiday</td>\n",
       "      <td>False</td>\n",
       "      <td>0</td>\n",
       "      <td>0</td>\n",
       "      <td>0</td>\n",
       "    </tr>\n",
       "    <tr>\n",
       "      <th>3147</th>\n",
       "      <td>2018-04-11</td>\n",
       "      <td>3</td>\n",
       "      <td>11.6</td>\n",
       "      <td>81</td>\n",
       "      <td>3.1</td>\n",
       "      <td>0.0</td>\n",
       "      <td>0.0</td>\n",
       "      <td>Spring</td>\n",
       "      <td>No Holiday</td>\n",
       "      <td>False</td>\n",
       "      <td>0</td>\n",
       "      <td>0</td>\n",
       "      <td>0</td>\n",
       "    </tr>\n",
       "    <tr>\n",
       "      <th>3148</th>\n",
       "      <td>2018-04-11</td>\n",
       "      <td>4</td>\n",
       "      <td>10.2</td>\n",
       "      <td>83</td>\n",
       "      <td>3.5</td>\n",
       "      <td>0.0</td>\n",
       "      <td>0.0</td>\n",
       "      <td>Spring</td>\n",
       "      <td>No Holiday</td>\n",
       "      <td>False</td>\n",
       "      <td>0</td>\n",
       "      <td>0</td>\n",
       "      <td>0</td>\n",
       "    </tr>\n",
       "    <tr>\n",
       "      <th>...</th>\n",
       "      <td>...</td>\n",
       "      <td>...</td>\n",
       "      <td>...</td>\n",
       "      <td>...</td>\n",
       "      <td>...</td>\n",
       "      <td>...</td>\n",
       "      <td>...</td>\n",
       "      <td>...</td>\n",
       "      <td>...</td>\n",
       "      <td>...</td>\n",
       "      <td>...</td>\n",
       "      <td>...</td>\n",
       "      <td>...</td>\n",
       "    </tr>\n",
       "    <tr>\n",
       "      <th>8251</th>\n",
       "      <td>2018-11-09</td>\n",
       "      <td>19</td>\n",
       "      <td>11.9</td>\n",
       "      <td>71</td>\n",
       "      <td>2.7</td>\n",
       "      <td>0.0</td>\n",
       "      <td>0.0</td>\n",
       "      <td>Autumn</td>\n",
       "      <td>No Holiday</td>\n",
       "      <td>False</td>\n",
       "      <td>0</td>\n",
       "      <td>0</td>\n",
       "      <td>0</td>\n",
       "    </tr>\n",
       "    <tr>\n",
       "      <th>8252</th>\n",
       "      <td>2018-11-09</td>\n",
       "      <td>20</td>\n",
       "      <td>11.9</td>\n",
       "      <td>72</td>\n",
       "      <td>2.5</td>\n",
       "      <td>0.0</td>\n",
       "      <td>0.0</td>\n",
       "      <td>Autumn</td>\n",
       "      <td>No Holiday</td>\n",
       "      <td>False</td>\n",
       "      <td>0</td>\n",
       "      <td>0</td>\n",
       "      <td>0</td>\n",
       "    </tr>\n",
       "    <tr>\n",
       "      <th>8253</th>\n",
       "      <td>2018-11-09</td>\n",
       "      <td>21</td>\n",
       "      <td>11.4</td>\n",
       "      <td>74</td>\n",
       "      <td>1.9</td>\n",
       "      <td>0.0</td>\n",
       "      <td>0.0</td>\n",
       "      <td>Autumn</td>\n",
       "      <td>No Holiday</td>\n",
       "      <td>False</td>\n",
       "      <td>0</td>\n",
       "      <td>0</td>\n",
       "      <td>0</td>\n",
       "    </tr>\n",
       "    <tr>\n",
       "      <th>8254</th>\n",
       "      <td>2018-11-09</td>\n",
       "      <td>22</td>\n",
       "      <td>11.2</td>\n",
       "      <td>75</td>\n",
       "      <td>1.7</td>\n",
       "      <td>0.0</td>\n",
       "      <td>0.0</td>\n",
       "      <td>Autumn</td>\n",
       "      <td>No Holiday</td>\n",
       "      <td>False</td>\n",
       "      <td>0</td>\n",
       "      <td>0</td>\n",
       "      <td>0</td>\n",
       "    </tr>\n",
       "    <tr>\n",
       "      <th>8255</th>\n",
       "      <td>2018-11-09</td>\n",
       "      <td>23</td>\n",
       "      <td>10.9</td>\n",
       "      <td>76</td>\n",
       "      <td>1.2</td>\n",
       "      <td>0.0</td>\n",
       "      <td>0.0</td>\n",
       "      <td>Autumn</td>\n",
       "      <td>No Holiday</td>\n",
       "      <td>False</td>\n",
       "      <td>0</td>\n",
       "      <td>0</td>\n",
       "      <td>0</td>\n",
       "    </tr>\n",
       "  </tbody>\n",
       "</table>\n",
       "<p>295 rows × 13 columns</p>\n",
       "</div>"
      ],
      "text/plain": [
       "           Date  Hour  Temperature  Humidity  Wind speed  Rainfall  Snowfall  \\\n",
       "3144 2018-04-11     0         14.4        82         4.6       0.0       0.0   \n",
       "3145 2018-04-11     1         13.6        81         3.6       0.0       0.0   \n",
       "3146 2018-04-11     2          NaN        80         3.9       0.0       0.0   \n",
       "3147 2018-04-11     3         11.6        81         3.1       0.0       0.0   \n",
       "3148 2018-04-11     4         10.2        83         3.5       0.0       0.0   \n",
       "...         ...   ...          ...       ...         ...       ...       ...   \n",
       "8251 2018-11-09    19         11.9        71         2.7       0.0       0.0   \n",
       "8252 2018-11-09    20         11.9        72         2.5       0.0       0.0   \n",
       "8253 2018-11-09    21         11.4        74         1.9       0.0       0.0   \n",
       "8254 2018-11-09    22         11.2        75         1.7       0.0       0.0   \n",
       "8255 2018-11-09    23         10.9        76         1.2       0.0       0.0   \n",
       "\n",
       "     Seasons     Holiday  Functioning Day  Partner 1  Partner 2  Rental Count  \n",
       "3144  Spring  No Holiday            False          0          0             0  \n",
       "3145  Spring  No Holiday            False          0          0             0  \n",
       "3146  Spring  No Holiday            False          0          0             0  \n",
       "3147  Spring  No Holiday            False          0          0             0  \n",
       "3148  Spring  No Holiday            False          0          0             0  \n",
       "...      ...         ...              ...        ...        ...           ...  \n",
       "8251  Autumn  No Holiday            False          0          0             0  \n",
       "8252  Autumn  No Holiday            False          0          0             0  \n",
       "8253  Autumn  No Holiday            False          0          0             0  \n",
       "8254  Autumn  No Holiday            False          0          0             0  \n",
       "8255  Autumn  No Holiday            False          0          0             0  \n",
       "\n",
       "[295 rows x 13 columns]"
      ]
     },
     "execution_count": 39,
     "metadata": {},
     "output_type": "execute_result"
    }
   ],
   "source": [
    "bikes[~bikes['Functioning Day']]"
   ]
  },
  {
   "cell_type": "code",
   "execution_count": 43,
   "id": "cdb1180f-5762-4956-afce-d5fe523553e5",
   "metadata": {},
   "outputs": [
    {
     "data": {
      "text/html": [
       "<div>\n",
       "<style scoped>\n",
       "    .dataframe tbody tr th:only-of-type {\n",
       "        vertical-align: middle;\n",
       "    }\n",
       "\n",
       "    .dataframe tbody tr th {\n",
       "        vertical-align: top;\n",
       "    }\n",
       "\n",
       "    .dataframe thead th {\n",
       "        text-align: right;\n",
       "    }\n",
       "</style>\n",
       "<table border=\"1\" class=\"dataframe\">\n",
       "  <thead>\n",
       "    <tr style=\"text-align: right;\">\n",
       "      <th></th>\n",
       "      <th>Date</th>\n",
       "      <th>Hour</th>\n",
       "      <th>Temperature</th>\n",
       "      <th>Humidity</th>\n",
       "      <th>Wind speed</th>\n",
       "      <th>Rainfall</th>\n",
       "      <th>Snowfall</th>\n",
       "      <th>Seasons</th>\n",
       "      <th>Holiday</th>\n",
       "      <th>Functioning Day</th>\n",
       "      <th>Partner 1</th>\n",
       "      <th>Partner 2</th>\n",
       "      <th>Rental Count</th>\n",
       "    </tr>\n",
       "  </thead>\n",
       "  <tbody>\n",
       "  </tbody>\n",
       "</table>\n",
       "</div>"
      ],
      "text/plain": [
       "Empty DataFrame\n",
       "Columns: [Date, Hour, Temperature, Humidity, Wind speed, Rainfall, Snowfall, Seasons, Holiday, Functioning Day, Partner 1, Partner 2, Rental Count]\n",
       "Index: []"
      ]
     },
     "execution_count": 43,
     "metadata": {},
     "output_type": "execute_result"
    }
   ],
   "source": [
    "bikes[(~bikes['Functioning Day'])\n",
    "      & (bikes['Rental Count'] > 0)]"
   ]
  },
  {
   "cell_type": "code",
   "execution_count": 41,
   "id": "4dbfb37f-b2e8-4eeb-82d2-7532200879b2",
   "metadata": {},
   "outputs": [
    {
     "data": {
      "text/plain": [
       "0.0"
      ]
     },
     "execution_count": 41,
     "metadata": {},
     "output_type": "execute_result"
    }
   ],
   "source": [
    "bikes[~bikes['Functioning Day']][\"Rental Count\"].mean()"
   ]
  },
  {
   "cell_type": "markdown",
   "id": "f1f9d275-4e89-4335-8313-c962ef516484",
   "metadata": {},
   "source": [
    "Нет, не брали, прокат же не работал...\n",
    "\n",
    "Может выглядеть странно, но так мы проверили, что правильно поняли данные и что они корректны. "
   ]
  },
  {
   "cell_type": "code",
   "execution_count": 48,
   "id": "d4601f01-19ba-4f5f-8ead-b01b1edf133c",
   "metadata": {},
   "outputs": [
    {
     "data": {
      "text/html": [
       "<div>\n",
       "<style scoped>\n",
       "    .dataframe tbody tr th:only-of-type {\n",
       "        vertical-align: middle;\n",
       "    }\n",
       "\n",
       "    .dataframe tbody tr th {\n",
       "        vertical-align: top;\n",
       "    }\n",
       "\n",
       "    .dataframe thead th {\n",
       "        text-align: right;\n",
       "    }\n",
       "</style>\n",
       "<table border=\"1\" class=\"dataframe\">\n",
       "  <thead>\n",
       "    <tr style=\"text-align: right;\">\n",
       "      <th></th>\n",
       "      <th>Date</th>\n",
       "      <th>Hour</th>\n",
       "      <th>Temperature</th>\n",
       "      <th>Humidity</th>\n",
       "      <th>Wind speed</th>\n",
       "      <th>Rainfall</th>\n",
       "      <th>Snowfall</th>\n",
       "      <th>Seasons</th>\n",
       "      <th>Holiday</th>\n",
       "      <th>Functioning Day</th>\n",
       "      <th>Partner 1</th>\n",
       "      <th>Partner 2</th>\n",
       "      <th>Rental Count</th>\n",
       "    </tr>\n",
       "  </thead>\n",
       "  <tbody>\n",
       "    <tr>\n",
       "      <th>0</th>\n",
       "      <td>2017-12-01</td>\n",
       "      <td>0</td>\n",
       "      <td>-5.2</td>\n",
       "      <td>37</td>\n",
       "      <td>2.2</td>\n",
       "      <td>0.0</td>\n",
       "      <td>0.0</td>\n",
       "      <td>Winter</td>\n",
       "      <td>False</td>\n",
       "      <td>True</td>\n",
       "      <td>207</td>\n",
       "      <td>50</td>\n",
       "      <td>257</td>\n",
       "    </tr>\n",
       "    <tr>\n",
       "      <th>1</th>\n",
       "      <td>2017-12-01</td>\n",
       "      <td>1</td>\n",
       "      <td>-5.5</td>\n",
       "      <td>38</td>\n",
       "      <td>0.8</td>\n",
       "      <td>0.0</td>\n",
       "      <td>0.0</td>\n",
       "      <td>Winter</td>\n",
       "      <td>False</td>\n",
       "      <td>True</td>\n",
       "      <td>139</td>\n",
       "      <td>80</td>\n",
       "      <td>219</td>\n",
       "    </tr>\n",
       "    <tr>\n",
       "      <th>2</th>\n",
       "      <td>2017-12-01</td>\n",
       "      <td>2</td>\n",
       "      <td>-6.0</td>\n",
       "      <td>39</td>\n",
       "      <td>1.0</td>\n",
       "      <td>0.0</td>\n",
       "      <td>0.0</td>\n",
       "      <td>Winter</td>\n",
       "      <td>False</td>\n",
       "      <td>True</td>\n",
       "      <td>22</td>\n",
       "      <td>140</td>\n",
       "      <td>162</td>\n",
       "    </tr>\n",
       "    <tr>\n",
       "      <th>3</th>\n",
       "      <td>2017-12-01</td>\n",
       "      <td>3</td>\n",
       "      <td>-6.2</td>\n",
       "      <td>40</td>\n",
       "      <td>0.9</td>\n",
       "      <td>0.0</td>\n",
       "      <td>0.0</td>\n",
       "      <td>Winter</td>\n",
       "      <td>False</td>\n",
       "      <td>True</td>\n",
       "      <td>43</td>\n",
       "      <td>105</td>\n",
       "      <td>148</td>\n",
       "    </tr>\n",
       "    <tr>\n",
       "      <th>4</th>\n",
       "      <td>2017-12-01</td>\n",
       "      <td>4</td>\n",
       "      <td>-6.0</td>\n",
       "      <td>36</td>\n",
       "      <td>2.3</td>\n",
       "      <td>0.0</td>\n",
       "      <td>0.0</td>\n",
       "      <td>Winter</td>\n",
       "      <td>False</td>\n",
       "      <td>True</td>\n",
       "      <td>59</td>\n",
       "      <td>38</td>\n",
       "      <td>97</td>\n",
       "    </tr>\n",
       "    <tr>\n",
       "      <th>...</th>\n",
       "      <td>...</td>\n",
       "      <td>...</td>\n",
       "      <td>...</td>\n",
       "      <td>...</td>\n",
       "      <td>...</td>\n",
       "      <td>...</td>\n",
       "      <td>...</td>\n",
       "      <td>...</td>\n",
       "      <td>...</td>\n",
       "      <td>...</td>\n",
       "      <td>...</td>\n",
       "      <td>...</td>\n",
       "      <td>...</td>\n",
       "    </tr>\n",
       "    <tr>\n",
       "      <th>8755</th>\n",
       "      <td>2018-11-30</td>\n",
       "      <td>19</td>\n",
       "      <td>4.2</td>\n",
       "      <td>34</td>\n",
       "      <td>2.6</td>\n",
       "      <td>0.0</td>\n",
       "      <td>0.0</td>\n",
       "      <td>Autumn</td>\n",
       "      <td>False</td>\n",
       "      <td>True</td>\n",
       "      <td>467</td>\n",
       "      <td>177</td>\n",
       "      <td>644</td>\n",
       "    </tr>\n",
       "    <tr>\n",
       "      <th>8756</th>\n",
       "      <td>2018-11-30</td>\n",
       "      <td>20</td>\n",
       "      <td>3.4</td>\n",
       "      <td>37</td>\n",
       "      <td>2.3</td>\n",
       "      <td>0.0</td>\n",
       "      <td>0.0</td>\n",
       "      <td>Autumn</td>\n",
       "      <td>False</td>\n",
       "      <td>True</td>\n",
       "      <td>296</td>\n",
       "      <td>63</td>\n",
       "      <td>359</td>\n",
       "    </tr>\n",
       "    <tr>\n",
       "      <th>8757</th>\n",
       "      <td>2018-11-30</td>\n",
       "      <td>21</td>\n",
       "      <td>2.6</td>\n",
       "      <td>39</td>\n",
       "      <td>0.3</td>\n",
       "      <td>0.0</td>\n",
       "      <td>0.0</td>\n",
       "      <td>Autumn</td>\n",
       "      <td>False</td>\n",
       "      <td>True</td>\n",
       "      <td>571</td>\n",
       "      <td>665</td>\n",
       "      <td>1236</td>\n",
       "    </tr>\n",
       "    <tr>\n",
       "      <th>8758</th>\n",
       "      <td>2018-11-30</td>\n",
       "      <td>22</td>\n",
       "      <td>2.1</td>\n",
       "      <td>41</td>\n",
       "      <td>1.0</td>\n",
       "      <td>0.0</td>\n",
       "      <td>0.0</td>\n",
       "      <td>Autumn</td>\n",
       "      <td>False</td>\n",
       "      <td>True</td>\n",
       "      <td>171</td>\n",
       "      <td>457</td>\n",
       "      <td>628</td>\n",
       "    </tr>\n",
       "    <tr>\n",
       "      <th>8759</th>\n",
       "      <td>2018-11-30</td>\n",
       "      <td>23</td>\n",
       "      <td>1.9</td>\n",
       "      <td>43</td>\n",
       "      <td>1.3</td>\n",
       "      <td>0.0</td>\n",
       "      <td>0.0</td>\n",
       "      <td>Autumn</td>\n",
       "      <td>False</td>\n",
       "      <td>True</td>\n",
       "      <td>442</td>\n",
       "      <td>401</td>\n",
       "      <td>843</td>\n",
       "    </tr>\n",
       "  </tbody>\n",
       "</table>\n",
       "<p>4720 rows × 13 columns</p>\n",
       "</div>"
      ],
      "text/plain": [
       "           Date  Hour  Temperature  Humidity  Wind speed  Rainfall  Snowfall  \\\n",
       "0    2017-12-01     0         -5.2        37         2.2       0.0       0.0   \n",
       "1    2017-12-01     1         -5.5        38         0.8       0.0       0.0   \n",
       "2    2017-12-01     2         -6.0        39         1.0       0.0       0.0   \n",
       "3    2017-12-01     3         -6.2        40         0.9       0.0       0.0   \n",
       "4    2017-12-01     4         -6.0        36         2.3       0.0       0.0   \n",
       "...         ...   ...          ...       ...         ...       ...       ...   \n",
       "8755 2018-11-30    19          4.2        34         2.6       0.0       0.0   \n",
       "8756 2018-11-30    20          3.4        37         2.3       0.0       0.0   \n",
       "8757 2018-11-30    21          2.6        39         0.3       0.0       0.0   \n",
       "8758 2018-11-30    22          2.1        41         1.0       0.0       0.0   \n",
       "8759 2018-11-30    23          1.9        43         1.3       0.0       0.0   \n",
       "\n",
       "     Seasons  Holiday  Functioning Day  Partner 1  Partner 2  Rental Count  \n",
       "0     Winter    False             True        207         50           257  \n",
       "1     Winter    False             True        139         80           219  \n",
       "2     Winter    False             True         22        140           162  \n",
       "3     Winter    False             True         43        105           148  \n",
       "4     Winter    False             True         59         38            97  \n",
       "...      ...      ...              ...        ...        ...           ...  \n",
       "8755  Autumn    False             True        467        177           644  \n",
       "8756  Autumn    False             True        296         63           359  \n",
       "8757  Autumn    False             True        571        665          1236  \n",
       "8758  Autumn    False             True        171        457           628  \n",
       "8759  Autumn    False             True        442        401           843  \n",
       "\n",
       "[4720 rows x 13 columns]"
      ]
     },
     "execution_count": 48,
     "metadata": {},
     "output_type": "execute_result"
    }
   ],
   "source": [
    "bikes[~(bikes['Temperature'] > 15)]"
   ]
  },
  {
   "cell_type": "code",
   "execution_count": 53,
   "id": "a6d58e08-1e1c-450a-8795-4cb3eaabcd40",
   "metadata": {},
   "outputs": [
    {
     "data": {
      "text/plain": [
       "array(['Winter', 'Spring', 'Summer', 'Autumn'], dtype=object)"
      ]
     },
     "execution_count": 53,
     "metadata": {},
     "output_type": "execute_result"
    }
   ],
   "source": [
    "bikes[\"Seasons\"].unique()"
   ]
  },
  {
   "cell_type": "markdown",
   "id": "c37445fe-16be-4e83-a777-8417dd5df217",
   "metadata": {},
   "source": [
    "Включает отсутствующие:"
   ]
  },
  {
   "cell_type": "code",
   "execution_count": 51,
   "id": "e00c0a83-932f-4f0d-8aff-563748305217",
   "metadata": {},
   "outputs": [
    {
     "data": {
      "text/plain": [
       "179"
      ]
     },
     "execution_count": 51,
     "metadata": {},
     "output_type": "execute_result"
    }
   ],
   "source": [
    "bikes[~(bikes['Temperature'] > 15)][\"Temperature\"].isna().sum()"
   ]
  },
  {
   "cell_type": "markdown",
   "id": "b1234fff-4a7f-441b-a87b-002d2c7d334f",
   "metadata": {},
   "source": [
    "# Графики 2 - `seaborn`\n",
    "\n",
    "Вообще-то для более интересных графиков matplotlib оказывается уже слишком сложен.\n",
    "    Много настроек, много дополнительных преобразований надо делать самому.\n",
    "    Мы можем скрыть все эти тонкости и хитрости за простыми командами, *абстрагироваться* от деталей.\n",
    "    Такой абстракцией над `matplotlib` будет `seaborn`.\n",
    "\n",
    "https://habr.com/ru/companies/otus/articles/540526/"
   ]
  },
  {
   "cell_type": "code",
   "execution_count": null,
   "id": "cd8daa9d-be55-42fc-912b-edade042be13",
   "metadata": {},
   "outputs": [],
   "source": [
    "!pip install -m seaborn"
   ]
  },
  {
   "cell_type": "code",
   "execution_count": 8,
   "id": "40d71a37-46c2-4851-893e-6efe9306a1ae",
   "metadata": {},
   "outputs": [],
   "source": [
    "import seaborn as sns"
   ]
  },
  {
   "cell_type": "code",
   "execution_count": 12,
   "id": "ba8d8a5b-4ade-48a3-b1f7-3d9e8bd25eb2",
   "metadata": {},
   "outputs": [
    {
     "data": {
      "text/plain": [
       "<AxesSubplot: xlabel='Temperature', ylabel='Count'>"
      ]
     },
     "execution_count": 12,
     "metadata": {},
     "output_type": "execute_result"
    },
    {
     "data": {
      "image/png": "[encoded data removed]",
      "text/plain": [
       "<Figure size 640x480 with 1 Axes>"
      ]
     },
     "metadata": {},
     "output_type": "display_data"
    }
   ],
   "source": [
    "sns.histplot(data=bikes, x=\"Temperature\", hue=\"Seasons\")"
   ]
  },
  {
   "cell_type": "code",
   "execution_count": 14,
   "id": "35d01c0d-58e9-4915-9602-af4dec17dc7e",
   "metadata": {},
   "outputs": [
    {
     "data": {
      "text/html": [
       "<div>\n",
       "<style scoped>\n",
       "    .dataframe tbody tr th:only-of-type {\n",
       "        vertical-align: middle;\n",
       "    }\n",
       "\n",
       "    .dataframe tbody tr th {\n",
       "        vertical-align: top;\n",
       "    }\n",
       "\n",
       "    .dataframe thead th {\n",
       "        text-align: right;\n",
       "    }\n",
       "</style>\n",
       "<table border=\"1\" class=\"dataframe\">\n",
       "  <thead>\n",
       "    <tr style=\"text-align: right;\">\n",
       "      <th></th>\n",
       "      <th>Holiday</th>\n",
       "      <th>Seasons</th>\n",
       "      <th>Partner 1</th>\n",
       "      <th>Partner 2</th>\n",
       "    </tr>\n",
       "  </thead>\n",
       "  <tbody>\n",
       "    <tr>\n",
       "      <th>0</th>\n",
       "      <td>Holiday</td>\n",
       "      <td>Autumn</td>\n",
       "      <td>353.091667</td>\n",
       "      <td>356.983333</td>\n",
       "    </tr>\n",
       "    <tr>\n",
       "      <th>1</th>\n",
       "      <td>Holiday</td>\n",
       "      <td>Spring</td>\n",
       "      <td>301.680556</td>\n",
       "      <td>359.527778</td>\n",
       "    </tr>\n",
       "    <tr>\n",
       "      <th>2</th>\n",
       "      <td>Holiday</td>\n",
       "      <td>Summer</td>\n",
       "      <td>458.125000</td>\n",
       "      <td>390.958333</td>\n",
       "    </tr>\n",
       "    <tr>\n",
       "      <th>3</th>\n",
       "      <td>Holiday</td>\n",
       "      <td>Winter</td>\n",
       "      <td>77.203125</td>\n",
       "      <td>76.328125</td>\n",
       "    </tr>\n",
       "    <tr>\n",
       "      <th>4</th>\n",
       "      <td>No Holiday</td>\n",
       "      <td>Autumn</td>\n",
       "      <td>401.429748</td>\n",
       "      <td>414.796996</td>\n",
       "    </tr>\n",
       "    <tr>\n",
       "      <th>5</th>\n",
       "      <td>No Holiday</td>\n",
       "      <td>Spring</td>\n",
       "      <td>360.782303</td>\n",
       "      <td>370.162453</td>\n",
       "    </tr>\n",
       "    <tr>\n",
       "      <th>6</th>\n",
       "      <td>No Holiday</td>\n",
       "      <td>Summer</td>\n",
       "      <td>509.267130</td>\n",
       "      <td>508.867130</td>\n",
       "    </tr>\n",
       "    <tr>\n",
       "      <th>7</th>\n",
       "      <td>No Holiday</td>\n",
       "      <td>Winter</td>\n",
       "      <td>115.775915</td>\n",
       "      <td>114.838415</td>\n",
       "    </tr>\n",
       "  </tbody>\n",
       "</table>\n",
       "</div>"
      ],
      "text/plain": [
       "      Holiday Seasons   Partner 1   Partner 2\n",
       "0     Holiday  Autumn  353.091667  356.983333\n",
       "1     Holiday  Spring  301.680556  359.527778\n",
       "2     Holiday  Summer  458.125000  390.958333\n",
       "3     Holiday  Winter   77.203125   76.328125\n",
       "4  No Holiday  Autumn  401.429748  414.796996\n",
       "5  No Holiday  Spring  360.782303  370.162453\n",
       "6  No Holiday  Summer  509.267130  508.867130\n",
       "7  No Holiday  Winter  115.775915  114.838415"
      ]
     },
     "execution_count": 14,
     "metadata": {},
     "output_type": "execute_result"
    }
   ],
   "source": [
    "hol_season_means = bikes.groupby([\"Holiday\", \"Seasons\"], as_index=False)[[\"Partner 1\", \"Partner 2\"]].mean()\n",
    "hol_season_means"
   ]
  },
  {
   "cell_type": "code",
   "execution_count": 20,
   "id": "a497aa90-08c3-4c77-aa8b-16165cacb87d",
   "metadata": {},
   "outputs": [
    {
     "data": {
      "text/plain": [
       "<AxesSubplot: xlabel='Seasons', ylabel='Partner 1'>"
      ]
     },
     "execution_count": 20,
     "metadata": {},
     "output_type": "execute_result"
    },
    {
     "data": {
      "image/png": "[encoded data removed]",
      "text/plain": [
       "<Figure size 640x480 with 1 Axes>"
      ]
     },
     "metadata": {},
     "output_type": "display_data"
    }
   ],
   "source": [
    "sns.barplot(data=hol_season_means, x=\"Seasons\", y=\"Partner 1\", hue=\"Holiday\",)"
   ]
  },
  {
   "cell_type": "markdown",
   "id": "489fbfa0-7fa7-4c9a-809b-a386eb8124c9",
   "metadata": {},
   "source": [
    "Рассмотрим некоторые интересные примеры с сайта, используя встроенный в библиотеку набор данных:"
   ]
  },
  {
   "cell_type": "code",
   "execution_count": 37,
   "id": "d08513bb-04e1-4e9b-8b6d-bf63c772ea70",
   "metadata": {},
   "outputs": [
    {
     "data": {
      "text/html": [
       "<div>\n",
       "<style scoped>\n",
       "    .dataframe tbody tr th:only-of-type {\n",
       "        vertical-align: middle;\n",
       "    }\n",
       "\n",
       "    .dataframe tbody tr th {\n",
       "        vertical-align: top;\n",
       "    }\n",
       "\n",
       "    .dataframe thead th {\n",
       "        text-align: right;\n",
       "    }\n",
       "</style>\n",
       "<table border=\"1\" class=\"dataframe\">\n",
       "  <thead>\n",
       "    <tr style=\"text-align: right;\">\n",
       "      <th></th>\n",
       "      <th>year</th>\n",
       "      <th>month</th>\n",
       "      <th>passengers</th>\n",
       "    </tr>\n",
       "  </thead>\n",
       "  <tbody>\n",
       "    <tr>\n",
       "      <th>0</th>\n",
       "      <td>1949</td>\n",
       "      <td>Jan</td>\n",
       "      <td>112</td>\n",
       "    </tr>\n",
       "    <tr>\n",
       "      <th>1</th>\n",
       "      <td>1949</td>\n",
       "      <td>Feb</td>\n",
       "      <td>118</td>\n",
       "    </tr>\n",
       "    <tr>\n",
       "      <th>2</th>\n",
       "      <td>1949</td>\n",
       "      <td>Mar</td>\n",
       "      <td>132</td>\n",
       "    </tr>\n",
       "    <tr>\n",
       "      <th>3</th>\n",
       "      <td>1949</td>\n",
       "      <td>Apr</td>\n",
       "      <td>129</td>\n",
       "    </tr>\n",
       "    <tr>\n",
       "      <th>4</th>\n",
       "      <td>1949</td>\n",
       "      <td>May</td>\n",
       "      <td>121</td>\n",
       "    </tr>\n",
       "  </tbody>\n",
       "</table>\n",
       "</div>"
      ],
      "text/plain": [
       "   year month  passengers\n",
       "0  1949   Jan         112\n",
       "1  1949   Feb         118\n",
       "2  1949   Mar         132\n",
       "3  1949   Apr         129\n",
       "4  1949   May         121"
      ]
     },
     "execution_count": 37,
     "metadata": {},
     "output_type": "execute_result"
    }
   ],
   "source": [
    "flights_data = sns.load_dataset(\"flights\")\n",
    "flights_data.head()"
   ]
  },
  {
   "cell_type": "code",
   "execution_count": 41,
   "id": "67332b03-32c8-42aa-9d56-807031b49cbe",
   "metadata": {},
   "outputs": [
    {
     "data": {
      "text/plain": [
       "<AxesSubplot: xlabel='year', ylabel='passengers'>"
      ]
     },
     "execution_count": 41,
     "metadata": {},
     "output_type": "execute_result"
    },
    {
     "data": {
      "image/png": "[encoded data removed]",
      "text/plain": [
       "<Figure size 640x480 with 1 Axes>"
      ]
     },
     "metadata": {},
     "output_type": "display_data"
    }
   ],
   "source": [
    "sns.scatterplot(data=flights_data, x=\"year\", y=\"passengers\", hue=\"month\")"
   ]
  },
  {
   "cell_type": "code",
   "execution_count": 42,
   "id": "9b5e17db-881e-4323-8a92-34b06fed7c48",
   "metadata": {},
   "outputs": [
    {
     "data": {
      "image/png": "[encoded data removed]",
      "text/plain": [
       "<Figure size 640x480 with 1 Axes>"
      ]
     },
     "metadata": {},
     "output_type": "display_data"
    }
   ],
   "source": [
    "graph = sns.scatterplot(data=flights_data, x=\"year\", y=\"passengers\", hue=\"month\")\n",
    "\n",
    "plt.savefig(\"scatter_flights.pdf\")"
   ]
  }
 ],
 "metadata": {
  "kernelspec": {
   "display_name": "Python 3 (ipykernel)",
   "language": "python",
   "name": "python3"
  },
  "language_info": {
   "codemirror_mode": {
    "name": "ipython",
    "version": 3
   },
   "file_extension": ".py",
   "mimetype": "text/x-python",
   "name": "python",
   "nbconvert_exporter": "python",
   "pygments_lexer": "ipython3",
   "version": "3.9.7"
  }
 },
 "nbformat": 4,
 "nbformat_minor": 5
}
